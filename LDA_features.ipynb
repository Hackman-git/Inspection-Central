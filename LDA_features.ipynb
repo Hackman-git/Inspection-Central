{
  "nbformat": 4,
  "nbformat_minor": 0,
  "metadata": {
    "colab": {
      "name": "LDA_features.ipynb",
      "provenance": [],
      "collapsed_sections": [],
      "machine_shape": "hm",
      "authorship_tag": "ABX9TyO1QE54aby8y5AGQ+vax0tj",
      "include_colab_link": true
    },
    "kernelspec": {
      "name": "python3",
      "display_name": "Python 3"
    },
    "accelerator": "TPU"
  },
  "cells": [
    {
      "cell_type": "markdown",
      "metadata": {
        "id": "view-in-github",
        "colab_type": "text"
      },
      "source": [
        "<a href=\"https://colab.research.google.com/github/RahulReady/DPA-Final-Project/blob/master/LDA_features.ipynb\" target=\"_parent\"><img src=\"https://colab.research.google.com/assets/colab-badge.svg\" alt=\"Open In Colab\"/></a>"
      ]
    },
    {
      "cell_type": "code",
      "metadata": {
        "id": "3LLVMPL72JHt",
        "colab_type": "code",
        "colab": {
          "base_uri": "https://localhost:8080/",
          "height": 453
        },
        "outputId": "741742ae-5b1b-49b7-93ba-0c88b482e650"
      },
      "source": [
        "pip install gensim==3.4.0"
      ],
      "execution_count": 2,
      "outputs": [
        {
          "output_type": "stream",
          "text": [
            "Collecting gensim==3.4.0\n",
            "\u001b[?25l  Downloading https://files.pythonhosted.org/packages/33/33/df6cb7acdcec5677ed130f4800f67509d24dbec74a03c329fcbf6b0864f0/gensim-3.4.0-cp36-cp36m-manylinux1_x86_64.whl (22.6MB)\n",
            "\u001b[K     |████████████████████████████████| 22.6MB 1.6MB/s \n",
            "\u001b[?25hRequirement already satisfied: numpy>=1.11.3 in /usr/local/lib/python3.6/dist-packages (from gensim==3.4.0) (1.18.2)\n",
            "Requirement already satisfied: smart-open>=1.2.1 in /usr/local/lib/python3.6/dist-packages (from gensim==3.4.0) (1.11.1)\n",
            "Requirement already satisfied: scipy>=0.18.1 in /usr/local/lib/python3.6/dist-packages (from gensim==3.4.0) (1.4.1)\n",
            "Requirement already satisfied: six>=1.5.0 in /usr/local/lib/python3.6/dist-packages (from gensim==3.4.0) (1.12.0)\n",
            "Requirement already satisfied: boto in /usr/local/lib/python3.6/dist-packages (from smart-open>=1.2.1->gensim==3.4.0) (2.49.0)\n",
            "Requirement already satisfied: boto3 in /usr/local/lib/python3.6/dist-packages (from smart-open>=1.2.1->gensim==3.4.0) (1.12.40)\n",
            "Requirement already satisfied: requests in /usr/local/lib/python3.6/dist-packages (from smart-open>=1.2.1->gensim==3.4.0) (2.21.0)\n",
            "Requirement already satisfied: botocore<1.16.0,>=1.15.40 in /usr/local/lib/python3.6/dist-packages (from boto3->smart-open>=1.2.1->gensim==3.4.0) (1.15.40)\n",
            "Requirement already satisfied: s3transfer<0.4.0,>=0.3.0 in /usr/local/lib/python3.6/dist-packages (from boto3->smart-open>=1.2.1->gensim==3.4.0) (0.3.3)\n",
            "Requirement already satisfied: jmespath<1.0.0,>=0.7.1 in /usr/local/lib/python3.6/dist-packages (from boto3->smart-open>=1.2.1->gensim==3.4.0) (0.9.5)\n",
            "Requirement already satisfied: urllib3<1.25,>=1.21.1 in /usr/local/lib/python3.6/dist-packages (from requests->smart-open>=1.2.1->gensim==3.4.0) (1.24.3)\n",
            "Requirement already satisfied: idna<2.9,>=2.5 in /usr/local/lib/python3.6/dist-packages (from requests->smart-open>=1.2.1->gensim==3.4.0) (2.8)\n",
            "Requirement already satisfied: certifi>=2017.4.17 in /usr/local/lib/python3.6/dist-packages (from requests->smart-open>=1.2.1->gensim==3.4.0) (2020.4.5.1)\n",
            "Requirement already satisfied: chardet<3.1.0,>=3.0.2 in /usr/local/lib/python3.6/dist-packages (from requests->smart-open>=1.2.1->gensim==3.4.0) (3.0.4)\n",
            "Requirement already satisfied: python-dateutil<3.0.0,>=2.1 in /usr/local/lib/python3.6/dist-packages (from botocore<1.16.0,>=1.15.40->boto3->smart-open>=1.2.1->gensim==3.4.0) (2.8.1)\n",
            "Requirement already satisfied: docutils<0.16,>=0.10 in /usr/local/lib/python3.6/dist-packages (from botocore<1.16.0,>=1.15.40->boto3->smart-open>=1.2.1->gensim==3.4.0) (0.15.2)\n",
            "Installing collected packages: gensim\n",
            "  Found existing installation: gensim 3.6.0\n",
            "    Uninstalling gensim-3.6.0:\n",
            "      Successfully uninstalled gensim-3.6.0\n",
            "Successfully installed gensim-3.4.0\n"
          ],
          "name": "stdout"
        }
      ]
    },
    {
      "cell_type": "code",
      "metadata": {
        "id": "-KoGMGrmXF85",
        "colab_type": "code",
        "colab": {
          "base_uri": "https://localhost:8080/",
          "height": 35
        },
        "outputId": "18600c31-da11-4b17-e9cd-eaced68b7441"
      },
      "source": [
        "!pip install vaderSentiment\n",
        "from vaderSentiment.vaderSentiment import SentimentIntensityAnalyzer \n",
        "sid_obj = SentimentIntensityAnalyzer() "
      ],
      "execution_count": 151,
      "outputs": [
        {
          "output_type": "stream",
          "text": [
            "Requirement already satisfied: vaderSentiment in /usr/local/lib/python3.6/dist-packages (3.3.1)\n"
          ],
          "name": "stdout"
        }
      ]
    },
    {
      "cell_type": "code",
      "metadata": {
        "id": "9P75aht9IxN1",
        "colab_type": "code",
        "colab": {
          "base_uri": "https://localhost:8080/",
          "height": 121
        },
        "outputId": "8b968df5-09e3-4e84-f35a-6e7242fb3165"
      },
      "source": [
        "!pip install imblearn\n",
        "from imblearn.under_sampling import RandomUnderSampler"
      ],
      "execution_count": 94,
      "outputs": [
        {
          "output_type": "stream",
          "text": [
            "Requirement already satisfied: imblearn in /usr/local/lib/python3.6/dist-packages (0.0)\n",
            "Requirement already satisfied: imbalanced-learn in /usr/local/lib/python3.6/dist-packages (from imblearn) (0.4.3)\n",
            "Requirement already satisfied: scipy>=0.13.3 in /usr/local/lib/python3.6/dist-packages (from imbalanced-learn->imblearn) (1.4.1)\n",
            "Requirement already satisfied: numpy>=1.8.2 in /usr/local/lib/python3.6/dist-packages (from imbalanced-learn->imblearn) (1.18.2)\n",
            "Requirement already satisfied: scikit-learn>=0.20 in /usr/local/lib/python3.6/dist-packages (from imbalanced-learn->imblearn) (0.22.2.post1)\n",
            "Requirement already satisfied: joblib>=0.11 in /usr/local/lib/python3.6/dist-packages (from scikit-learn>=0.20->imbalanced-learn->imblearn) (0.14.1)\n"
          ],
          "name": "stdout"
        }
      ]
    },
    {
      "cell_type": "code",
      "metadata": {
        "id": "nqY55Bxy6zEy",
        "colab_type": "code",
        "colab": {
          "base_uri": "https://localhost:8080/",
          "height": 540
        },
        "outputId": "4a140bcc-4f0e-4e4d-9960-bba5bd8a7a25"
      },
      "source": [
        "!sudo apt-get install python3-dev default-libmysqlclient-dev"
      ],
      "execution_count": 3,
      "outputs": [
        {
          "output_type": "stream",
          "text": [
            "Reading package lists... Done\n",
            "Building dependency tree       \n",
            "Reading state information... Done\n",
            "python3-dev is already the newest version (3.6.7-1~18.04).\n",
            "The following NEW packages will be installed:\n",
            "  default-libmysqlclient-dev libmysqlclient-dev\n",
            "0 upgraded, 2 newly installed, 0 to remove and 25 not upgraded.\n",
            "Need to get 996 kB of archives.\n",
            "After this operation, 6,022 kB of additional disk space will be used.\n",
            "Get:1 http://archive.ubuntu.com/ubuntu bionic-updates/main amd64 libmysqlclient-dev amd64 5.7.29-0ubuntu0.18.04.1 [992 kB]\n",
            "Get:2 http://archive.ubuntu.com/ubuntu bionic/main amd64 default-libmysqlclient-dev amd64 1.0.4 [3,736 B]\n",
            "Fetched 996 kB in 1s (835 kB/s)\n",
            "debconf: unable to initialize frontend: Dialog\n",
            "debconf: (No usable dialog-like program is installed, so the dialog based frontend cannot be used. at /usr/share/perl5/Debconf/FrontEnd/Dialog.pm line 76, <> line 2.)\n",
            "debconf: falling back to frontend: Readline\n",
            "debconf: unable to initialize frontend: Readline\n",
            "debconf: (This frontend requires a controlling tty.)\n",
            "debconf: falling back to frontend: Teletype\n",
            "dpkg-preconfigure: unable to re-open stdin: \n",
            "Selecting previously unselected package libmysqlclient-dev.\n",
            "(Reading database ... 144568 files and directories currently installed.)\n",
            "Preparing to unpack .../libmysqlclient-dev_5.7.29-0ubuntu0.18.04.1_amd64.deb ...\n",
            "Unpacking libmysqlclient-dev (5.7.29-0ubuntu0.18.04.1) ...\n",
            "Selecting previously unselected package default-libmysqlclient-dev:amd64.\n",
            "Preparing to unpack .../default-libmysqlclient-dev_1.0.4_amd64.deb ...\n",
            "Unpacking default-libmysqlclient-dev:amd64 (1.0.4) ...\n",
            "Setting up libmysqlclient-dev (5.7.29-0ubuntu0.18.04.1) ...\n",
            "Setting up default-libmysqlclient-dev:amd64 (1.0.4) ...\n",
            "Processing triggers for man-db (2.8.3-2ubuntu0.1) ...\n"
          ],
          "name": "stdout"
        }
      ]
    },
    {
      "cell_type": "code",
      "metadata": {
        "id": "sBFl5CUz61gb",
        "colab_type": "code",
        "colab": {
          "base_uri": "https://localhost:8080/",
          "height": 280
        },
        "outputId": "90719f61-e158-40e2-d78e-9cefb68a33ad"
      },
      "source": [
        "pip install PyDrive"
      ],
      "execution_count": 4,
      "outputs": [
        {
          "output_type": "stream",
          "text": [
            "Requirement already satisfied: PyDrive in /usr/local/lib/python3.6/dist-packages (1.3.1)\n",
            "Requirement already satisfied: google-api-python-client>=1.2 in /usr/local/lib/python3.6/dist-packages (from PyDrive) (1.7.12)\n",
            "Requirement already satisfied: PyYAML>=3.0 in /usr/local/lib/python3.6/dist-packages (from PyDrive) (3.13)\n",
            "Requirement already satisfied: oauth2client>=4.0.0 in /usr/local/lib/python3.6/dist-packages (from PyDrive) (4.1.3)\n",
            "Requirement already satisfied: httplib2<1dev,>=0.17.0 in /usr/local/lib/python3.6/dist-packages (from google-api-python-client>=1.2->PyDrive) (0.17.2)\n",
            "Requirement already satisfied: six<2dev,>=1.6.1 in /usr/local/lib/python3.6/dist-packages (from google-api-python-client>=1.2->PyDrive) (1.12.0)\n",
            "Requirement already satisfied: uritemplate<4dev,>=3.0.0 in /usr/local/lib/python3.6/dist-packages (from google-api-python-client>=1.2->PyDrive) (3.0.1)\n",
            "Requirement already satisfied: google-auth-httplib2>=0.0.3 in /usr/local/lib/python3.6/dist-packages (from google-api-python-client>=1.2->PyDrive) (0.0.3)\n",
            "Requirement already satisfied: google-auth>=1.4.1 in /usr/local/lib/python3.6/dist-packages (from google-api-python-client>=1.2->PyDrive) (1.7.2)\n",
            "Requirement already satisfied: pyasn1>=0.1.7 in /usr/local/lib/python3.6/dist-packages (from oauth2client>=4.0.0->PyDrive) (0.4.8)\n",
            "Requirement already satisfied: pyasn1-modules>=0.0.5 in /usr/local/lib/python3.6/dist-packages (from oauth2client>=4.0.0->PyDrive) (0.2.8)\n",
            "Requirement already satisfied: rsa>=3.1.4 in /usr/local/lib/python3.6/dist-packages (from oauth2client>=4.0.0->PyDrive) (4.0)\n",
            "Requirement already satisfied: setuptools>=40.3.0 in /usr/local/lib/python3.6/dist-packages (from google-auth>=1.4.1->google-api-python-client>=1.2->PyDrive) (46.1.3)\n",
            "Requirement already satisfied: cachetools<3.2,>=2.0.0 in /usr/local/lib/python3.6/dist-packages (from google-auth>=1.4.1->google-api-python-client>=1.2->PyDrive) (3.1.1)\n"
          ],
          "name": "stdout"
        }
      ]
    },
    {
      "cell_type": "code",
      "metadata": {
        "id": "v5M6-YPk63oH",
        "colab_type": "code",
        "colab": {
          "base_uri": "https://localhost:8080/",
          "height": 1000
        },
        "outputId": "365b7b62-dc04-40d2-befe-3056efb09c1e"
      },
      "source": [
        "\n",
        "!pip install --upgrade setuptools\n",
        "!pip install wheel\n",
        "!pip install pattern\n",
        "!pip install mysqlclient"
      ],
      "execution_count": 5,
      "outputs": [
        {
          "output_type": "stream",
          "text": [
            "Requirement already up-to-date: setuptools in /usr/local/lib/python3.6/dist-packages (46.1.3)\n",
            "Requirement already satisfied: wheel in /usr/local/lib/python3.6/dist-packages (0.34.2)\n",
            "Collecting pattern\n",
            "\u001b[?25l  Downloading https://files.pythonhosted.org/packages/1e/07/b0e61b6c818ed4b6145fe01d1c341223aa6cfbc3928538ad1f2b890924a3/Pattern-3.6.0.tar.gz (22.2MB)\n",
            "\u001b[K     |████████████████████████████████| 22.3MB 1.3MB/s \n",
            "\u001b[?25hRequirement already satisfied: future in /usr/local/lib/python3.6/dist-packages (from pattern) (0.16.0)\n",
            "Collecting backports.csv\n",
            "  Downloading https://files.pythonhosted.org/packages/8e/26/a6bd68f13e0f38fbb643d6e497fc3462be83a0b6c4d43425c78bb51a7291/backports.csv-1.0.7-py2.py3-none-any.whl\n",
            "Collecting mysqlclient\n",
            "\u001b[?25l  Downloading https://files.pythonhosted.org/packages/d0/97/7326248ac8d5049968bf4ec708a5d3d4806e412a42e74160d7f266a3e03a/mysqlclient-1.4.6.tar.gz (85kB)\n",
            "\u001b[K     |████████████████████████████████| 92kB 11.5MB/s \n",
            "\u001b[?25hRequirement already satisfied: beautifulsoup4 in /usr/local/lib/python3.6/dist-packages (from pattern) (4.6.3)\n",
            "Requirement already satisfied: lxml in /usr/local/lib/python3.6/dist-packages (from pattern) (4.2.6)\n",
            "Collecting feedparser\n",
            "\u001b[?25l  Downloading https://files.pythonhosted.org/packages/91/d8/7d37fec71ff7c9dbcdd80d2b48bcdd86d6af502156fc93846fb0102cb2c4/feedparser-5.2.1.tar.bz2 (192kB)\n",
            "\u001b[K     |████████████████████████████████| 194kB 60.7MB/s \n",
            "\u001b[?25hCollecting pdfminer.six\n",
            "\u001b[?25l  Downloading https://files.pythonhosted.org/packages/0b/04/f62d5834c2bdf90afcaeb23bb5241033c44e27000de64ad8472253daa4a8/pdfminer.six-20200402-py3-none-any.whl (5.6MB)\n",
            "\u001b[K     |████████████████████████████████| 5.6MB 32.0MB/s \n",
            "\u001b[?25hRequirement already satisfied: numpy in /usr/local/lib/python3.6/dist-packages (from pattern) (1.18.2)\n",
            "Requirement already satisfied: scipy in /usr/local/lib/python3.6/dist-packages (from pattern) (1.4.1)\n",
            "Requirement already satisfied: nltk in /usr/local/lib/python3.6/dist-packages (from pattern) (3.2.5)\n",
            "Collecting python-docx\n",
            "\u001b[?25l  Downloading https://files.pythonhosted.org/packages/e4/83/c66a1934ed5ed8ab1dbb9931f1779079f8bca0f6bbc5793c06c4b5e7d671/python-docx-0.8.10.tar.gz (5.5MB)\n",
            "\u001b[K     |████████████████████████████████| 5.5MB 56.5MB/s \n",
            "\u001b[?25hCollecting cherrypy\n",
            "\u001b[?25l  Downloading https://files.pythonhosted.org/packages/a8/f9/e11f893dcabe6bc222a1442bf5e14f0322a2d363c92910ed41947078a35a/CherryPy-18.6.0-py2.py3-none-any.whl (419kB)\n",
            "\u001b[K     |████████████████████████████████| 419kB 58.7MB/s \n",
            "\u001b[?25hRequirement already satisfied: requests in /usr/local/lib/python3.6/dist-packages (from pattern) (2.21.0)\n",
            "Collecting pycryptodome\n",
            "\u001b[?25l  Downloading https://files.pythonhosted.org/packages/af/16/da16a22d47bac9bf9db39f3b9af74e8eeed8855c0df96be20b580ef92fff/pycryptodome-3.9.7-cp36-cp36m-manylinux1_x86_64.whl (13.7MB)\n",
            "\u001b[K     |████████████████████████████████| 13.7MB 8.9MB/s \n",
            "\u001b[?25hRequirement already satisfied: sortedcontainers in /usr/local/lib/python3.6/dist-packages (from pdfminer.six->pattern) (2.1.0)\n",
            "Requirement already satisfied: chardet; python_version > \"3.0\" in /usr/local/lib/python3.6/dist-packages (from pdfminer.six->pattern) (3.0.4)\n",
            "Requirement already satisfied: six in /usr/local/lib/python3.6/dist-packages (from nltk->pattern) (1.12.0)\n",
            "Collecting jaraco.collections\n",
            "  Downloading https://files.pythonhosted.org/packages/fe/06/a89652069f0a13a33701714c0c8e0cc8656bf6d21b7c6b85fde86cf06ff6/jaraco.collections-3.0.0-py2.py3-none-any.whl\n",
            "Collecting zc.lockfile\n",
            "  Downloading https://files.pythonhosted.org/packages/6c/2a/268389776288f0f26c7272c70c36c96dcc0bdb88ab6216ea18e19df1fadd/zc.lockfile-2.0-py2.py3-none-any.whl\n",
            "Collecting cheroot>=8.2.1\n",
            "\u001b[?25l  Downloading https://files.pythonhosted.org/packages/20/b0/4e156a205a624bc929673dfa6bcebe4aa6fa00b080dca4dc7b6b50850277/cheroot-8.3.0-py2.py3-none-any.whl (86kB)\n",
            "\u001b[K     |████████████████████████████████| 92kB 12.3MB/s \n",
            "\u001b[?25hRequirement already satisfied: more-itertools in /usr/local/lib/python3.6/dist-packages (from cherrypy->pattern) (8.2.0)\n",
            "Collecting portend>=2.1.1\n",
            "  Downloading https://files.pythonhosted.org/packages/d7/79/eee70a512bffe5ceb5008f8e3326581948f50ca393c3bcb4d557e4818bd1/portend-2.6-py2.py3-none-any.whl\n",
            "Requirement already satisfied: idna<2.9,>=2.5 in /usr/local/lib/python3.6/dist-packages (from requests->pattern) (2.8)\n",
            "Requirement already satisfied: certifi>=2017.4.17 in /usr/local/lib/python3.6/dist-packages (from requests->pattern) (2020.4.5.1)\n",
            "Requirement already satisfied: urllib3<1.25,>=1.21.1 in /usr/local/lib/python3.6/dist-packages (from requests->pattern) (1.24.3)\n",
            "Collecting jaraco.classes\n",
            "  Downloading https://files.pythonhosted.org/packages/68/ce/8f43aa0d0f18120e687ae0192fe3168630040841a3e87bed93c5fe024dbe/jaraco.classes-3.1.0-py2.py3-none-any.whl\n",
            "Collecting jaraco.text\n",
            "  Downloading https://files.pythonhosted.org/packages/50/cd/6eda44738065e844bed8fae60a229b6c46f42d0ba8d48205e9fb57e254cd/jaraco.text-3.2.0-py2.py3-none-any.whl\n",
            "Requirement already satisfied: setuptools in /usr/local/lib/python3.6/dist-packages (from zc.lockfile->cherrypy->pattern) (46.1.3)\n",
            "Collecting jaraco.functools\n",
            "  Downloading https://files.pythonhosted.org/packages/ba/7a/ae51d7605dc471d29345c4ef1e5c0894f392b14beaf813cd7b43ec1ee1b6/jaraco.functools-3.0.0-py2.py3-none-any.whl\n",
            "Collecting tempora>=1.8\n",
            "  Downloading https://files.pythonhosted.org/packages/df/da/b30f8af8b4aa63fed8d4979daf209494823a666235111e292c89256e91fb/tempora-3.0.0-py2.py3-none-any.whl\n",
            "Collecting importlib-resources; python_version < \"3.7\"\n",
            "  Downloading https://files.pythonhosted.org/packages/8f/36/e678bc02cad98e566fbd7e6711ab2f389fc9adfb1edbb9f553eae41f9f97/importlib_resources-1.4.0-py2.py3-none-any.whl\n",
            "Requirement already satisfied: pytz in /usr/local/lib/python3.6/dist-packages (from tempora>=1.8->portend>=2.1.1->cherrypy->pattern) (2018.9)\n",
            "Requirement already satisfied: zipp>=0.4; python_version < \"3.8\" in /usr/local/lib/python3.6/dist-packages (from importlib-resources; python_version < \"3.7\"->jaraco.text->jaraco.collections->cherrypy->pattern) (3.1.0)\n",
            "Requirement already satisfied: importlib-metadata; python_version < \"3.8\" in /usr/local/lib/python3.6/dist-packages (from importlib-resources; python_version < \"3.7\"->jaraco.text->jaraco.collections->cherrypy->pattern) (1.6.0)\n",
            "Building wheels for collected packages: pattern, mysqlclient, feedparser, python-docx\n",
            "  Building wheel for pattern (setup.py) ... \u001b[?25l\u001b[?25hdone\n",
            "  Created wheel for pattern: filename=Pattern-3.6-cp36-none-any.whl size=22332723 sha256=4dcdc2217e97ba76afd363d9aa169b405a166a91a5715bda42212892dfdce31d\n",
            "  Stored in directory: /root/.cache/pip/wheels/dc/9a/0e/5fb1a603ed4e3aa8722a88e9cf4a82da7d1b63e3d2cc34bee5\n",
            "  Building wheel for mysqlclient (setup.py) ... \u001b[?25l\u001b[?25hdone\n",
            "  Created wheel for mysqlclient: filename=mysqlclient-1.4.6-cp36-cp36m-linux_x86_64.whl size=98418 sha256=917ee2c087c04f58e8cbf0f05fed023c8e1376451cfcfae908cdefecb195fd0f\n",
            "  Stored in directory: /root/.cache/pip/wheels/37/3d/24/5327fa50817a65ed0ee4dc8809e5c39962b0dd5e078ebf4dc1\n",
            "  Building wheel for feedparser (setup.py) ... \u001b[?25l\u001b[?25hdone\n",
            "  Created wheel for feedparser: filename=feedparser-5.2.1-cp36-none-any.whl size=44940 sha256=e21fb09ac47de14b07a7118549bd8f0a2cb86035178d48f41b48ef39e73a3d24\n",
            "  Stored in directory: /root/.cache/pip/wheels/8c/69/b7/f52763c41c5471df57703a0ef718a32a5e81ee35dcf6d4f97f\n",
            "  Building wheel for python-docx (setup.py) ... \u001b[?25l\u001b[?25hdone\n",
            "  Created wheel for python-docx: filename=python_docx-0.8.10-cp36-none-any.whl size=184491 sha256=21e887d586b2fc1769f232c40036cf7af074b516b0fa1ad4964c327b4f0a02f6\n",
            "  Stored in directory: /root/.cache/pip/wheels/18/0b/a0/1dd62ff812c857c9e487f27d80d53d2b40531bec1acecfa47b\n",
            "Successfully built pattern mysqlclient feedparser python-docx\n",
            "Installing collected packages: backports.csv, mysqlclient, feedparser, pycryptodome, pdfminer.six, python-docx, jaraco.classes, importlib-resources, jaraco.functools, jaraco.text, jaraco.collections, zc.lockfile, cheroot, tempora, portend, cherrypy, pattern\n",
            "Successfully installed backports.csv-1.0.7 cheroot-8.3.0 cherrypy-18.6.0 feedparser-5.2.1 importlib-resources-1.4.0 jaraco.classes-3.1.0 jaraco.collections-3.0.0 jaraco.functools-3.0.0 jaraco.text-3.2.0 mysqlclient-1.4.6 pattern-3.6 pdfminer.six-20200402 portend-2.6 pycryptodome-3.9.7 python-docx-0.8.10 tempora-3.0.0 zc.lockfile-2.0\n",
            "Requirement already satisfied: mysqlclient in /usr/local/lib/python3.6/dist-packages (1.4.6)\n"
          ],
          "name": "stdout"
        }
      ]
    },
    {
      "cell_type": "code",
      "metadata": {
        "id": "msbnB5ey675Y",
        "colab_type": "code",
        "colab": {
          "base_uri": "https://localhost:8080/",
          "height": 87
        },
        "outputId": "ceaf30a9-5ee1-4a4e-b681-4a3c4fa39008"
      },
      "source": [
        "!pip install pandarallel\n",
        "from pandarallel import pandarallel\n",
        "pandarallel.initialize()"
      ],
      "execution_count": 6,
      "outputs": [
        {
          "output_type": "stream",
          "text": [
            "Requirement already satisfied: pandarallel in /usr/local/lib/python3.6/dist-packages (1.4.8)\n",
            "Requirement already satisfied: dill in /usr/local/lib/python3.6/dist-packages (from pandarallel) (0.3.1.1)\n",
            "INFO: Pandarallel will run on 40 workers.\n",
            "INFO: Pandarallel will use Memory file system to transfer data between the main process and workers.\n"
          ],
          "name": "stdout"
        }
      ]
    },
    {
      "cell_type": "code",
      "metadata": {
        "id": "alPyjgGG7Ebd",
        "colab_type": "code",
        "colab": {
          "base_uri": "https://localhost:8080/",
          "height": 87
        },
        "outputId": "07a40f57-103c-40b0-e3a1-14d7c405a0ea"
      },
      "source": [
        "import numpy as np\n",
        "import re\n",
        "import pandas as pd\n",
        "import gensim\n",
        "import nltk\n",
        "nltk.download('stopwords')\n",
        "from nltk.corpus import stopwords\n",
        "from nltk import word_tokenize\n",
        "stop_words = set(stopwords.words('english'))\n",
        "from gensim.models import LdaModel, LdaMulticore\n",
        "import gensim.downloader as api\n",
        "from gensim.utils import  lemmatize\n",
        "from gensim import corpora\n",
        "from nltk.corpus import stopwords\n",
        "import re\n",
        "import logging\n",
        "nltk.download('punkt')\n",
        "logging.basicConfig(format='%(asctime)s : %(levelname)s : %(message)s')\n",
        "logging.root.setLevel(level=logging.INFO)\n",
        "stop_words = stopwords.words('english')\n",
        "stop_words.extend(['restaurant','food','place','las','vegas','hotel'])"
      ],
      "execution_count": 7,
      "outputs": [
        {
          "output_type": "stream",
          "text": [
            "[nltk_data] Downloading package stopwords to /root/nltk_data...\n",
            "[nltk_data]   Unzipping corpora/stopwords.zip.\n",
            "[nltk_data] Downloading package punkt to /root/nltk_data...\n",
            "[nltk_data]   Unzipping tokenizers/punkt.zip.\n"
          ],
          "name": "stdout"
        }
      ]
    },
    {
      "cell_type": "code",
      "metadata": {
        "id": "eOeCl8Ls7Gtc",
        "colab_type": "code",
        "colab": {}
      },
      "source": [
        "from gensim.models.phrases import Phrases, Phraser\n",
        "import multiprocessing\n",
        "import tqdm\n",
        "from sklearn import utils\n",
        "from sklearn.linear_model import LogisticRegression\n",
        "from sklearn.metrics import accuracy_score, f1_score,confusion_matrix,precision_recall_fscore_support,classification_report\n",
        "import ast\n",
        "from sklearn.preprocessing import  StandardScaler\n",
        "from sklearn.model_selection import train_test_split\n",
        "from sklearn.ensemble import RandomForestClassifier\n",
        "from sklearn.naive_bayes import GaussianNB\n",
        "from sklearn.metrics import precision_recall_fscore_support"
      ],
      "execution_count": 0,
      "outputs": []
    },
    {
      "cell_type": "code",
      "metadata": {
        "id": "eerPCTmVCl8Z",
        "colab_type": "code",
        "colab": {}
      },
      "source": [
        ""
      ],
      "execution_count": 0,
      "outputs": []
    },
    {
      "cell_type": "code",
      "metadata": {
        "id": "FLaSk-f17MG_",
        "colab_type": "code",
        "colab": {}
      },
      "source": [
        "from pydrive.auth import GoogleAuth\n",
        "from pydrive.drive import GoogleDrive\n",
        "from google.colab import auth\n",
        "from oauth2client.client import GoogleCredentials\n",
        "from google.colab import drive"
      ],
      "execution_count": 0,
      "outputs": []
    },
    {
      "cell_type": "code",
      "metadata": {
        "id": "KbkhzPii7Tv2",
        "colab_type": "code",
        "colab": {
          "base_uri": "https://localhost:8080/",
          "height": 124
        },
        "outputId": "43c4f3d3-9198-4bb9-c79d-468c716dce91"
      },
      "source": [
        "drive.mount('/content/drive')"
      ],
      "execution_count": 10,
      "outputs": [
        {
          "output_type": "stream",
          "text": [
            "Go to this URL in a browser: https://accounts.google.com/o/oauth2/auth?client_id=947318989803-6bn6qk8qdgf4n4g3pfee6491hc0brc4i.apps.googleusercontent.com&redirect_uri=urn%3aietf%3awg%3aoauth%3a2.0%3aoob&response_type=code&scope=email%20https%3a%2f%2fwww.googleapis.com%2fauth%2fdocs.test%20https%3a%2f%2fwww.googleapis.com%2fauth%2fdrive%20https%3a%2f%2fwww.googleapis.com%2fauth%2fdrive.photos.readonly%20https%3a%2f%2fwww.googleapis.com%2fauth%2fpeopleapi.readonly\n",
            "\n",
            "Enter your authorization code:\n",
            "··········\n",
            "Mounted at /content/drive\n"
          ],
          "name": "stdout"
        }
      ]
    },
    {
      "cell_type": "code",
      "metadata": {
        "id": "9rxFa_cZ7YQ6",
        "colab_type": "code",
        "colab": {}
      },
      "source": [
        "review_Dataset = pd.read_csv('/content/drive/Shared drives/DPA Final Project/review_dataset_features.csv')"
      ],
      "execution_count": 0,
      "outputs": []
    },
    {
      "cell_type": "code",
      "metadata": {
        "id": "4dLeG8z2-xnE",
        "colab_type": "code",
        "colab": {}
      },
      "source": [
        "review_Dataset =review_Dataset.drop(columns= 'Unnamed: 0')"
      ],
      "execution_count": 0,
      "outputs": []
    },
    {
      "cell_type": "code",
      "metadata": {
        "id": "xonv-jdI74fz",
        "colab_type": "code",
        "colab": {}
      },
      "source": [
        "Dataset = pd.read_csv('/content/drive/Shared drives/DPA Final Project/y_file.csv')"
      ],
      "execution_count": 0,
      "outputs": []
    },
    {
      "cell_type": "code",
      "metadata": {
        "id": "uwC_Fp6ODCj1",
        "colab_type": "code",
        "colab": {}
      },
      "source": [
        "y_file = pd.read_csv('/content/drive/Shared drives/DPA Final Project/y_file.csv')"
      ],
      "execution_count": 0,
      "outputs": []
    },
    {
      "cell_type": "code",
      "metadata": {
        "id": "cAP-EwVUNI_Y",
        "colab_type": "code",
        "colab": {}
      },
      "source": [
        "def inspection_grade(x):\n",
        "  if x <= 10:\n",
        "    return 'A'\n",
        "  elif x<=20:\n",
        "    return 'B'\n",
        "  else :\n",
        "    return 'C'    "
      ],
      "execution_count": 0,
      "outputs": []
    },
    {
      "cell_type": "code",
      "metadata": {
        "id": "egozFk1I8Mqd",
        "colab_type": "code",
        "colab": {}
      },
      "source": [
        "Dataset['inspection_grade'] = Dataset.average_demerits.apply(lambda x : inspection_grade(x))"
      ],
      "execution_count": 0,
      "outputs": []
    },
    {
      "cell_type": "code",
      "metadata": {
        "id": "Xo-Y1Mzt-gXL",
        "colab_type": "code",
        "colab": {}
      },
      "source": [
        "Dataset =Dataset.drop(columns= 'Unnamed: 0')"
      ],
      "execution_count": 0,
      "outputs": []
    },
    {
      "cell_type": "code",
      "metadata": {
        "id": "mvZIcz4v8QTo",
        "colab_type": "code",
        "colab": {}
      },
      "source": [
        " Dataset['Date'] =  pd.to_datetime(Dataset.inspection_date)"
      ],
      "execution_count": 0,
      "outputs": []
    },
    {
      "cell_type": "code",
      "metadata": {
        "id": "7z983l938TA4",
        "colab_type": "code",
        "colab": {}
      },
      "source": [
        "Dataset['previous_grade']=Dataset.groupby('business_id')['inspection_grade'].apply(lambda x : x.shift(1))"
      ],
      "execution_count": 0,
      "outputs": []
    },
    {
      "cell_type": "code",
      "metadata": {
        "id": "Yz-5xoy78XUP",
        "colab_type": "code",
        "colab": {}
      },
      "source": [
        "Dataset.loc[Dataset.previous_grade.isna(),'previous_grade'] = 'NA'"
      ],
      "execution_count": 0,
      "outputs": []
    },
    {
      "cell_type": "code",
      "metadata": {
        "id": "eIsFZNm38aYl",
        "colab_type": "code",
        "colab": {
          "base_uri": "https://localhost:8080/",
          "height": 104
        },
        "outputId": "b79967b2-9d16-46e1-b98e-b822ed1adc5f"
      },
      "source": [
        "Dataset.previous_grade.value_counts()"
      ],
      "execution_count": 18,
      "outputs": [
        {
          "output_type": "execute_result",
          "data": {
            "text/plain": [
              "A     86923\n",
              "B     16344\n",
              "NA     5540\n",
              "C      4583\n",
              "Name: previous_grade, dtype: int64"
            ]
          },
          "metadata": {
            "tags": []
          },
          "execution_count": 18
        }
      ]
    },
    {
      "cell_type": "code",
      "metadata": {
        "id": "Rdz7NIIx8cuW",
        "colab_type": "code",
        "colab": {}
      },
      "source": [
        "Dataset= Dataset[Dataset.Date.dt.year >2012].reset_index(drop=True)"
      ],
      "execution_count": 0,
      "outputs": []
    },
    {
      "cell_type": "code",
      "metadata": {
        "id": "inafAwd78fP0",
        "colab_type": "code",
        "colab": {}
      },
      "source": [
        "def get_rows(df,time_period,b_id,date_input):\n",
        "    temp_df = df[df.business_id == b_id]\n",
        "    date_min = date_input - \\\n",
        "       pd.offsets.DateOffset(months=time_period)\n",
        "    temp_df = temp_df[(temp_df['date'] < date_input) & (temp_df['date']>=date_min)].reset_index(drop = True)\n",
        "    return temp_df[[str(i) for i in range(100)]].mean()\n",
        "   "
      ],
      "execution_count": 0,
      "outputs": []
    },
    {
      "cell_type": "code",
      "metadata": {
        "id": "q2NgsqqWHNZb",
        "colab_type": "code",
        "colab": {}
      },
      "source": [
        "def get_ratings(df,time_period,b_id,date_input):\n",
        "    temp_df = df[df.business_id == b_id]\n",
        "    date_min = date_input - \\\n",
        "       pd.offsets.DateOffset(months=time_period)\n",
        "    temp_df = temp_df[(temp_df['date'] < date_input) & (temp_df['date']>=date_min)].reset_index(drop = True)\n",
        "    return temp_df['stars'].mean()"
      ],
      "execution_count": 0,
      "outputs": []
    },
    {
      "cell_type": "code",
      "metadata": {
        "id": "W6GAfaLHYTnC",
        "colab_type": "code",
        "colab": {}
      },
      "source": [
        "def get_sentimnet_Score(df,time_period,b_id,date_input):\n",
        "    temp_df = df[df.business_id == b_id]\n",
        "    date_min = date_input - \\\n",
        "       pd.offsets.DateOffset(months=time_period)\n",
        "    temp_df = temp_df[(temp_df['date'] < date_input) & (temp_df['date']>=date_min)].reset_index(drop = True)\n",
        "    temp_df['polarity_scores'] = temp_df.text.apply(lambda x:sid_obj.polarity_scores(x).get('compound'))\n",
        "    return temp_df['polarity_scores'].mean()"
      ],
      "execution_count": 0,
      "outputs": []
    },
    {
      "cell_type": "code",
      "metadata": {
        "id": "QOhGmkpnXdoD",
        "colab_type": "code",
        "colab": {
          "base_uri": "https://localhost:8080/",
          "height": 35
        },
        "outputId": "cfe771cb-b9d5-4931-ea37-61698a897509"
      },
      "source": [
        "get_sentimnet_Score(review_Dataset,12,Dataset.business_id[0],Dataset.Date[0])"
      ],
      "execution_count": 185,
      "outputs": [
        {
          "output_type": "execute_result",
          "data": {
            "text/plain": [
              "0.72482"
            ]
          },
          "metadata": {
            "tags": []
          },
          "execution_count": 185
        }
      ]
    },
    {
      "cell_type": "code",
      "metadata": {
        "id": "3r7baRtH8fUF",
        "colab_type": "code",
        "colab": {}
      },
      "source": [
        "review_Dataset.date = pd.to_datetime(review_Dataset.date)"
      ],
      "execution_count": 0,
      "outputs": []
    },
    {
      "cell_type": "code",
      "metadata": {
        "id": "OroWql1GdglU",
        "colab_type": "code",
        "colab": {}
      },
      "source": [
        "review_Dataset = review_Dataset[~review_Dataset.text.isna()]"
      ],
      "execution_count": 0,
      "outputs": []
    },
    {
      "cell_type": "code",
      "metadata": {
        "id": "PYcbWVGVDQZU",
        "colab_type": "code",
        "colab": {}
      },
      "source": [
        "def get_features(b_id,date,y_file):\n",
        "    temp_df= y_file[y_file.business_id == b_id]\n",
        "    temp_df = temp_df[temp_df.inspection_date < date]\n",
        "    if(temp_df.empty):\n",
        "      return [None,0]\n",
        "    else:\n",
        "      return [temp_df.average_demerits.mean(),temp_df.average_demerits.count()]"
      ],
      "execution_count": 0,
      "outputs": []
    },
    {
      "cell_type": "code",
      "metadata": {
        "id": "zUof-JSu_vDe",
        "colab_type": "code",
        "colab": {}
      },
      "source": [
        "Dataset[list(range(100))] = Dataset.parallel_apply(lambda x : get_rows(review_Dataset,12,x['business_id'],x['Date']),axis=1,result_type ='expand')"
      ],
      "execution_count": 0,
      "outputs": []
    },
    {
      "cell_type": "code",
      "metadata": {
        "id": "aaL_eyXsHnMe",
        "colab_type": "code",
        "colab": {}
      },
      "source": [
        "Dataset['ratings'] = Dataset.parallel_apply(lambda x : get_ratings(review_Dataset,12,x['business_id'],x['Date']),axis=1)"
      ],
      "execution_count": 0,
      "outputs": []
    },
    {
      "cell_type": "code",
      "metadata": {
        "id": "YM2nMYmaao3g",
        "colab_type": "code",
        "colab": {
          "base_uri": "https://localhost:8080/",
          "height": 121
        },
        "outputId": "ba3fdc36-d290-4558-8b90-18c4781213ef"
      },
      "source": [
        "Dataset['sentiment_score'] = Dataset.parallel_apply(lambda x : get_sentimnet_Score(review_Dataset,12,x['business_id'],x['Date']),axis=1)"
      ],
      "execution_count": 188,
      "outputs": [
        {
          "output_type": "stream",
          "text": [
            "/usr/local/lib/python3.6/dist-packages/ipykernel_launcher.py:1: SettingWithCopyWarning: \n",
            "A value is trying to be set on a copy of a slice from a DataFrame.\n",
            "Try using .loc[row_indexer,col_indexer] = value instead\n",
            "\n",
            "See the caveats in the documentation: https://pandas.pydata.org/pandas-docs/stable/user_guide/indexing.html#returning-a-view-versus-a-copy\n",
            "  \"\"\"Entry point for launching an IPython kernel.\n"
          ],
          "name": "stderr"
        }
      ]
    },
    {
      "cell_type": "code",
      "metadata": {
        "id": "otJbFAJ4Jasp",
        "colab_type": "code",
        "colab": {}
      },
      "source": [
        "Dataset= Dataset[~Dataset.ratings.isna()]"
      ],
      "execution_count": 0,
      "outputs": []
    },
    {
      "cell_type": "code",
      "metadata": {
        "id": "maVDciCbBZyu",
        "colab_type": "code",
        "colab": {
          "base_uri": "https://localhost:8080/",
          "height": 1000
        },
        "outputId": "a79f7b1d-5b4f-43b1-b0e7-1d666a61458c"
      },
      "source": [
        "Dataset[['previous_demerits_avg','no_of_inspections']]=Dataset.parallel_apply(lambda x : get_features(x['business_id'],x['inspection_date'],y_file),axis =1,result_type ='expand')"
      ],
      "execution_count": 194,
      "outputs": [
        {
          "output_type": "stream",
          "text": [
            "Process ForkPoolWorker-296:\n",
            "Process ForkPoolWorker-323:\n",
            "Process ForkPoolWorker-307:\n",
            "Process ForkPoolWorker-303:\n",
            "Process ForkPoolWorker-299:\n",
            "Process ForkPoolWorker-300:\n",
            "Process ForkPoolWorker-297:\n",
            "Process ForkPoolWorker-326:\n",
            "Process ForkPoolWorker-291:\n",
            "Process ForkPoolWorker-313:\n",
            "Process ForkPoolWorker-325:\n"
          ],
          "name": "stderr"
        },
        {
          "output_type": "error",
          "ename": "KeyboardInterrupt",
          "evalue": "ignored",
          "traceback": [
            "\u001b[0;31m---------------------------------------------------------------------------\u001b[0m",
            "\u001b[0;31mKeyboardInterrupt\u001b[0m                         Traceback (most recent call last)",
            "\u001b[0;32m<ipython-input-194-5010ef6da3a9>\u001b[0m in \u001b[0;36m<module>\u001b[0;34m()\u001b[0m\n\u001b[0;32m----> 1\u001b[0;31m \u001b[0mDataset\u001b[0m\u001b[0;34m[\u001b[0m\u001b[0;34m[\u001b[0m\u001b[0;34m'previous_demerits_avg'\u001b[0m\u001b[0;34m,\u001b[0m\u001b[0;34m'no_of_inspections'\u001b[0m\u001b[0;34m]\u001b[0m\u001b[0;34m]\u001b[0m\u001b[0;34m=\u001b[0m\u001b[0mDataset\u001b[0m\u001b[0;34m.\u001b[0m\u001b[0mparallel_apply\u001b[0m\u001b[0;34m(\u001b[0m\u001b[0;32mlambda\u001b[0m \u001b[0mx\u001b[0m \u001b[0;34m:\u001b[0m \u001b[0mget_features\u001b[0m\u001b[0;34m(\u001b[0m\u001b[0mx\u001b[0m\u001b[0;34m[\u001b[0m\u001b[0;34m'business_id'\u001b[0m\u001b[0;34m]\u001b[0m\u001b[0;34m,\u001b[0m\u001b[0mx\u001b[0m\u001b[0;34m[\u001b[0m\u001b[0;34m'inspection_date'\u001b[0m\u001b[0;34m]\u001b[0m\u001b[0;34m,\u001b[0m\u001b[0my_file\u001b[0m\u001b[0;34m)\u001b[0m\u001b[0;34m,\u001b[0m\u001b[0maxis\u001b[0m \u001b[0;34m=\u001b[0m\u001b[0;36m1\u001b[0m\u001b[0;34m,\u001b[0m\u001b[0mresult_type\u001b[0m \u001b[0;34m=\u001b[0m\u001b[0;34m'expand'\u001b[0m\u001b[0;34m)\u001b[0m\u001b[0;34m\u001b[0m\u001b[0;34m\u001b[0m\u001b[0m\n\u001b[0m",
            "\u001b[0;32m/usr/local/lib/python3.6/dist-packages/pandarallel/pandarallel.py\u001b[0m in \u001b[0;36mclosure\u001b[0;34m(data, func, *args, **kwargs)\u001b[0m\n\u001b[1;32m    455\u001b[0m                 \u001b[0minput_files\u001b[0m\u001b[0;34m,\u001b[0m\u001b[0;34m\u001b[0m\u001b[0;34m\u001b[0m\u001b[0m\n\u001b[1;32m    456\u001b[0m                 \u001b[0moutput_files\u001b[0m\u001b[0;34m,\u001b[0m\u001b[0;34m\u001b[0m\u001b[0;34m\u001b[0m\u001b[0m\n\u001b[0;32m--> 457\u001b[0;31m                 \u001b[0mmap_result\u001b[0m\u001b[0;34m,\u001b[0m\u001b[0;34m\u001b[0m\u001b[0;34m\u001b[0m\u001b[0m\n\u001b[0m\u001b[1;32m    458\u001b[0m             )\n\u001b[1;32m    459\u001b[0m \u001b[0;34m\u001b[0m\u001b[0m\n",
            "\u001b[0;32m/usr/local/lib/python3.6/dist-packages/pandarallel/pandarallel.py\u001b[0m in \u001b[0;36mget_workers_result\u001b[0;34m(use_memory_fs, nb_workers, show_progress_bar, nb_columns, queue, chunk_lengths, input_files, output_files, map_result)\u001b[0m\n\u001b[1;32m    359\u001b[0m \u001b[0;34m\u001b[0m\u001b[0m\n\u001b[1;32m    360\u001b[0m     \u001b[0;32mwhile\u001b[0m \u001b[0;32mnot\u001b[0m \u001b[0mall\u001b[0m\u001b[0;34m(\u001b[0m\u001b[0mfinished_workers\u001b[0m\u001b[0;34m)\u001b[0m\u001b[0;34m:\u001b[0m\u001b[0;34m\u001b[0m\u001b[0;34m\u001b[0m\u001b[0m\n\u001b[0;32m--> 361\u001b[0;31m         \u001b[0mmessage_type\u001b[0m\u001b[0;34m,\u001b[0m \u001b[0mmessage\u001b[0m \u001b[0;34m=\u001b[0m \u001b[0mqueue\u001b[0m\u001b[0;34m.\u001b[0m\u001b[0mget\u001b[0m\u001b[0;34m(\u001b[0m\u001b[0;34m)\u001b[0m\u001b[0;34m\u001b[0m\u001b[0;34m\u001b[0m\u001b[0m\n\u001b[0m\u001b[1;32m    362\u001b[0m \u001b[0;34m\u001b[0m\u001b[0m\n\u001b[1;32m    363\u001b[0m         \u001b[0;32mif\u001b[0m \u001b[0mmessage_type\u001b[0m \u001b[0;32mis\u001b[0m \u001b[0mINPUT_FILE_READ\u001b[0m\u001b[0;34m:\u001b[0m\u001b[0;34m\u001b[0m\u001b[0;34m\u001b[0m\u001b[0m\n",
            "\u001b[0;32m<string>\u001b[0m in \u001b[0;36mget\u001b[0;34m(self, *args, **kwds)\u001b[0m\n",
            "\u001b[0;32m/usr/lib/python3.6/multiprocessing/managers.py\u001b[0m in \u001b[0;36m_callmethod\u001b[0;34m(self, methodname, args, kwds)\u001b[0m\n\u001b[1;32m    755\u001b[0m \u001b[0;34m\u001b[0m\u001b[0m\n\u001b[1;32m    756\u001b[0m         \u001b[0mconn\u001b[0m\u001b[0;34m.\u001b[0m\u001b[0msend\u001b[0m\u001b[0;34m(\u001b[0m\u001b[0;34m(\u001b[0m\u001b[0mself\u001b[0m\u001b[0;34m.\u001b[0m\u001b[0m_id\u001b[0m\u001b[0;34m,\u001b[0m \u001b[0mmethodname\u001b[0m\u001b[0;34m,\u001b[0m \u001b[0margs\u001b[0m\u001b[0;34m,\u001b[0m \u001b[0mkwds\u001b[0m\u001b[0;34m)\u001b[0m\u001b[0;34m)\u001b[0m\u001b[0;34m\u001b[0m\u001b[0;34m\u001b[0m\u001b[0m\n\u001b[0;32m--> 757\u001b[0;31m         \u001b[0mkind\u001b[0m\u001b[0;34m,\u001b[0m \u001b[0mresult\u001b[0m \u001b[0;34m=\u001b[0m \u001b[0mconn\u001b[0m\u001b[0;34m.\u001b[0m\u001b[0mrecv\u001b[0m\u001b[0;34m(\u001b[0m\u001b[0;34m)\u001b[0m\u001b[0;34m\u001b[0m\u001b[0;34m\u001b[0m\u001b[0m\n\u001b[0m\u001b[1;32m    758\u001b[0m \u001b[0;34m\u001b[0m\u001b[0m\n\u001b[1;32m    759\u001b[0m         \u001b[0;32mif\u001b[0m \u001b[0mkind\u001b[0m \u001b[0;34m==\u001b[0m \u001b[0;34m'#RETURN'\u001b[0m\u001b[0;34m:\u001b[0m\u001b[0;34m\u001b[0m\u001b[0;34m\u001b[0m\u001b[0m\n",
            "\u001b[0;32m/usr/lib/python3.6/multiprocessing/connection.py\u001b[0m in \u001b[0;36mrecv\u001b[0;34m(self)\u001b[0m\n\u001b[1;32m    248\u001b[0m         \u001b[0mself\u001b[0m\u001b[0;34m.\u001b[0m\u001b[0m_check_closed\u001b[0m\u001b[0;34m(\u001b[0m\u001b[0;34m)\u001b[0m\u001b[0;34m\u001b[0m\u001b[0;34m\u001b[0m\u001b[0m\n\u001b[1;32m    249\u001b[0m         \u001b[0mself\u001b[0m\u001b[0;34m.\u001b[0m\u001b[0m_check_readable\u001b[0m\u001b[0;34m(\u001b[0m\u001b[0;34m)\u001b[0m\u001b[0;34m\u001b[0m\u001b[0;34m\u001b[0m\u001b[0m\n\u001b[0;32m--> 250\u001b[0;31m         \u001b[0mbuf\u001b[0m \u001b[0;34m=\u001b[0m \u001b[0mself\u001b[0m\u001b[0;34m.\u001b[0m\u001b[0m_recv_bytes\u001b[0m\u001b[0;34m(\u001b[0m\u001b[0;34m)\u001b[0m\u001b[0;34m\u001b[0m\u001b[0;34m\u001b[0m\u001b[0m\n\u001b[0m\u001b[1;32m    251\u001b[0m         \u001b[0;32mreturn\u001b[0m \u001b[0m_ForkingPickler\u001b[0m\u001b[0;34m.\u001b[0m\u001b[0mloads\u001b[0m\u001b[0;34m(\u001b[0m\u001b[0mbuf\u001b[0m\u001b[0;34m.\u001b[0m\u001b[0mgetbuffer\u001b[0m\u001b[0;34m(\u001b[0m\u001b[0;34m)\u001b[0m\u001b[0;34m)\u001b[0m\u001b[0;34m\u001b[0m\u001b[0;34m\u001b[0m\u001b[0m\n\u001b[1;32m    252\u001b[0m \u001b[0;34m\u001b[0m\u001b[0m\n",
            "\u001b[0;32m/usr/lib/python3.6/multiprocessing/connection.py\u001b[0m in \u001b[0;36m_recv_bytes\u001b[0;34m(self, maxsize)\u001b[0m\n\u001b[1;32m    405\u001b[0m \u001b[0;34m\u001b[0m\u001b[0m\n\u001b[1;32m    406\u001b[0m     \u001b[0;32mdef\u001b[0m \u001b[0m_recv_bytes\u001b[0m\u001b[0;34m(\u001b[0m\u001b[0mself\u001b[0m\u001b[0;34m,\u001b[0m \u001b[0mmaxsize\u001b[0m\u001b[0;34m=\u001b[0m\u001b[0;32mNone\u001b[0m\u001b[0;34m)\u001b[0m\u001b[0;34m:\u001b[0m\u001b[0;34m\u001b[0m\u001b[0;34m\u001b[0m\u001b[0m\n\u001b[0;32m--> 407\u001b[0;31m         \u001b[0mbuf\u001b[0m \u001b[0;34m=\u001b[0m \u001b[0mself\u001b[0m\u001b[0;34m.\u001b[0m\u001b[0m_recv\u001b[0m\u001b[0;34m(\u001b[0m\u001b[0;36m4\u001b[0m\u001b[0;34m)\u001b[0m\u001b[0;34m\u001b[0m\u001b[0;34m\u001b[0m\u001b[0m\n\u001b[0m\u001b[1;32m    408\u001b[0m         \u001b[0msize\u001b[0m\u001b[0;34m,\u001b[0m \u001b[0;34m=\u001b[0m \u001b[0mstruct\u001b[0m\u001b[0;34m.\u001b[0m\u001b[0munpack\u001b[0m\u001b[0;34m(\u001b[0m\u001b[0;34m\"!i\"\u001b[0m\u001b[0;34m,\u001b[0m \u001b[0mbuf\u001b[0m\u001b[0;34m.\u001b[0m\u001b[0mgetvalue\u001b[0m\u001b[0;34m(\u001b[0m\u001b[0;34m)\u001b[0m\u001b[0;34m)\u001b[0m\u001b[0;34m\u001b[0m\u001b[0;34m\u001b[0m\u001b[0m\n\u001b[1;32m    409\u001b[0m         \u001b[0;32mif\u001b[0m \u001b[0mmaxsize\u001b[0m \u001b[0;32mis\u001b[0m \u001b[0;32mnot\u001b[0m \u001b[0;32mNone\u001b[0m \u001b[0;32mand\u001b[0m \u001b[0msize\u001b[0m \u001b[0;34m>\u001b[0m \u001b[0mmaxsize\u001b[0m\u001b[0;34m:\u001b[0m\u001b[0;34m\u001b[0m\u001b[0;34m\u001b[0m\u001b[0m\n",
            "\u001b[0;32m/usr/lib/python3.6/multiprocessing/connection.py\u001b[0m in \u001b[0;36m_recv\u001b[0;34m(self, size, read)\u001b[0m\n\u001b[1;32m    377\u001b[0m         \u001b[0mremaining\u001b[0m \u001b[0;34m=\u001b[0m \u001b[0msize\u001b[0m\u001b[0;34m\u001b[0m\u001b[0;34m\u001b[0m\u001b[0m\n\u001b[1;32m    378\u001b[0m         \u001b[0;32mwhile\u001b[0m \u001b[0mremaining\u001b[0m \u001b[0;34m>\u001b[0m \u001b[0;36m0\u001b[0m\u001b[0;34m:\u001b[0m\u001b[0;34m\u001b[0m\u001b[0;34m\u001b[0m\u001b[0m\n\u001b[0;32m--> 379\u001b[0;31m             \u001b[0mchunk\u001b[0m \u001b[0;34m=\u001b[0m \u001b[0mread\u001b[0m\u001b[0;34m(\u001b[0m\u001b[0mhandle\u001b[0m\u001b[0;34m,\u001b[0m \u001b[0mremaining\u001b[0m\u001b[0;34m)\u001b[0m\u001b[0;34m\u001b[0m\u001b[0;34m\u001b[0m\u001b[0m\n\u001b[0m\u001b[1;32m    380\u001b[0m             \u001b[0mn\u001b[0m \u001b[0;34m=\u001b[0m \u001b[0mlen\u001b[0m\u001b[0;34m(\u001b[0m\u001b[0mchunk\u001b[0m\u001b[0;34m)\u001b[0m\u001b[0;34m\u001b[0m\u001b[0;34m\u001b[0m\u001b[0m\n\u001b[1;32m    381\u001b[0m             \u001b[0;32mif\u001b[0m \u001b[0mn\u001b[0m \u001b[0;34m==\u001b[0m \u001b[0;36m0\u001b[0m\u001b[0;34m:\u001b[0m\u001b[0;34m\u001b[0m\u001b[0;34m\u001b[0m\u001b[0m\n",
            "\u001b[0;31mKeyboardInterrupt\u001b[0m: "
          ]
        },
        {
          "output_type": "stream",
          "text": [
            "Process ForkPoolWorker-328:\n",
            "Process ForkPoolWorker-308:\n",
            "Process ForkPoolWorker-292:\n",
            "Process ForkPoolWorker-304:\n",
            "Traceback (most recent call last):\n",
            "Traceback (most recent call last):\n",
            "Process ForkPoolWorker-305:\n",
            "Process ForkPoolWorker-314:\n",
            "Process ForkPoolWorker-320:\n",
            "Traceback (most recent call last):\n",
            "Traceback (most recent call last):\n",
            "Traceback (most recent call last):\n",
            "Traceback (most recent call last):\n",
            "Process ForkPoolWorker-311:\n",
            "Process ForkPoolWorker-324:\n",
            "Process ForkPoolWorker-315:\n",
            "Process ForkPoolWorker-310:\n",
            "Process ForkPoolWorker-322:\n",
            "Traceback (most recent call last):\n",
            "Traceback (most recent call last):\n",
            "Process ForkPoolWorker-309:\n",
            "Traceback (most recent call last):\n",
            "Process ForkPoolWorker-319:\n",
            "Process ForkPoolWorker-301:\n",
            "Traceback (most recent call last):\n",
            "  File \"/usr/lib/python3.6/multiprocessing/process.py\", line 258, in _bootstrap\n",
            "    self.run()\n",
            "Traceback (most recent call last):\n",
            "Process ForkPoolWorker-302:\n",
            "Process ForkPoolWorker-294:\n",
            "  File \"/usr/lib/python3.6/multiprocessing/process.py\", line 258, in _bootstrap\n",
            "    self.run()\n",
            "Traceback (most recent call last):\n",
            "Process ForkPoolWorker-293:\n",
            "Traceback (most recent call last):\n",
            "Process ForkPoolWorker-318:\n",
            "Process ForkPoolWorker-295:\n",
            "Traceback (most recent call last):\n",
            "  File \"/usr/lib/python3.6/multiprocessing/process.py\", line 258, in _bootstrap\n",
            "    self.run()\n",
            "Process ForkPoolWorker-317:\n",
            "Traceback (most recent call last):\n",
            "  File \"/usr/lib/python3.6/multiprocessing/process.py\", line 258, in _bootstrap\n",
            "    self.run()\n",
            "Process ForkPoolWorker-290:\n",
            "  File \"/usr/lib/python3.6/multiprocessing/process.py\", line 258, in _bootstrap\n",
            "    self.run()\n",
            "Process ForkPoolWorker-316:\n",
            "  File \"/usr/lib/python3.6/multiprocessing/process.py\", line 258, in _bootstrap\n",
            "    self.run()\n",
            "Traceback (most recent call last):\n",
            "Traceback (most recent call last):\n",
            "Traceback (most recent call last):\n",
            "  File \"/usr/lib/python3.6/multiprocessing/process.py\", line 258, in _bootstrap\n",
            "    self.run()\n",
            "Traceback (most recent call last):\n",
            "  File \"/usr/lib/python3.6/multiprocessing/process.py\", line 258, in _bootstrap\n",
            "    self.run()\n",
            "Traceback (most recent call last):\n",
            "Traceback (most recent call last):\n",
            "Traceback (most recent call last):\n",
            "Traceback (most recent call last):\n",
            "  File \"/usr/lib/python3.6/multiprocessing/process.py\", line 258, in _bootstrap\n",
            "    self.run()\n",
            "  File \"/usr/lib/python3.6/multiprocessing/process.py\", line 258, in _bootstrap\n",
            "    self.run()\n",
            "  File \"/usr/lib/python3.6/multiprocessing/process.py\", line 93, in run\n",
            "    self._target(*self._args, **self._kwargs)\n",
            "  File \"/usr/lib/python3.6/multiprocessing/process.py\", line 258, in _bootstrap\n",
            "    self.run()\n",
            "Traceback (most recent call last):\n",
            "Traceback (most recent call last):\n",
            "  File \"/usr/lib/python3.6/multiprocessing/process.py\", line 93, in run\n",
            "    self._target(*self._args, **self._kwargs)\n",
            "Traceback (most recent call last):\n",
            "  File \"/usr/lib/python3.6/multiprocessing/process.py\", line 258, in _bootstrap\n",
            "    self.run()\n",
            "  File \"/usr/lib/python3.6/multiprocessing/process.py\", line 258, in _bootstrap\n",
            "    self.run()\n",
            "  File \"/usr/lib/python3.6/multiprocessing/process.py\", line 93, in run\n",
            "    self._target(*self._args, **self._kwargs)\n",
            "Traceback (most recent call last):\n",
            "  File \"/usr/lib/python3.6/multiprocessing/process.py\", line 258, in _bootstrap\n",
            "    self.run()\n",
            "  File \"/usr/lib/python3.6/multiprocessing/process.py\", line 258, in _bootstrap\n",
            "    self.run()\n",
            "Traceback (most recent call last):\n",
            "  File \"/usr/lib/python3.6/multiprocessing/process.py\", line 93, in run\n",
            "    self._target(*self._args, **self._kwargs)\n",
            "  File \"/usr/lib/python3.6/multiprocessing/process.py\", line 93, in run\n",
            "    self._target(*self._args, **self._kwargs)\n",
            "Traceback (most recent call last):\n",
            "Traceback (most recent call last):\n",
            "Traceback (most recent call last):\n",
            "  File \"/usr/lib/python3.6/multiprocessing/process.py\", line 93, in run\n",
            "    self._target(*self._args, **self._kwargs)\n",
            "  File \"/usr/lib/python3.6/multiprocessing/process.py\", line 258, in _bootstrap\n",
            "    self.run()\n",
            "Traceback (most recent call last):\n",
            "  File \"/usr/lib/python3.6/multiprocessing/process.py\", line 258, in _bootstrap\n",
            "    self.run()\n",
            "  File \"/usr/lib/python3.6/multiprocessing/process.py\", line 258, in _bootstrap\n",
            "    self.run()\n",
            "Traceback (most recent call last):\n",
            "  File \"/usr/lib/python3.6/multiprocessing/process.py\", line 93, in run\n",
            "    self._target(*self._args, **self._kwargs)\n",
            "  File \"/usr/lib/python3.6/multiprocessing/process.py\", line 258, in _bootstrap\n",
            "    self.run()\n",
            "  File \"/usr/lib/python3.6/multiprocessing/process.py\", line 93, in run\n",
            "    self._target(*self._args, **self._kwargs)\n",
            "  File \"/usr/lib/python3.6/multiprocessing/process.py\", line 258, in _bootstrap\n",
            "    self.run()\n",
            "Traceback (most recent call last):\n",
            "  File \"/usr/lib/python3.6/multiprocessing/process.py\", line 258, in _bootstrap\n",
            "    self.run()\n",
            "  File \"/usr/lib/python3.6/multiprocessing/process.py\", line 258, in _bootstrap\n",
            "    self.run()\n",
            "  File \"/usr/lib/python3.6/multiprocessing/process.py\", line 258, in _bootstrap\n",
            "    self.run()\n",
            "  File \"/usr/lib/python3.6/multiprocessing/process.py\", line 93, in run\n",
            "    self._target(*self._args, **self._kwargs)\n",
            "  File \"/usr/lib/python3.6/multiprocessing/pool.py\", line 119, in worker\n",
            "    result = (True, func(*args, **kwds))\n",
            "  File \"/usr/lib/python3.6/multiprocessing/process.py\", line 93, in run\n",
            "    self._target(*self._args, **self._kwargs)\n",
            "  File \"/usr/lib/python3.6/multiprocessing/process.py\", line 258, in _bootstrap\n",
            "    self.run()\n",
            "  File \"/usr/lib/python3.6/multiprocessing/process.py\", line 93, in run\n",
            "    self._target(*self._args, **self._kwargs)\n",
            "  File \"/usr/lib/python3.6/multiprocessing/pool.py\", line 119, in worker\n",
            "    result = (True, func(*args, **kwds))\n",
            "  File \"/usr/lib/python3.6/multiprocessing/process.py\", line 258, in _bootstrap\n",
            "    self.run()\n",
            "  File \"/usr/lib/python3.6/multiprocessing/process.py\", line 258, in _bootstrap\n",
            "    self.run()\n",
            "  File \"/usr/lib/python3.6/multiprocessing/process.py\", line 93, in run\n",
            "    self._target(*self._args, **self._kwargs)\n",
            "  File \"/usr/lib/python3.6/multiprocessing/pool.py\", line 119, in worker\n",
            "    result = (True, func(*args, **kwds))\n",
            "  File \"/usr/lib/python3.6/multiprocessing/process.py\", line 93, in run\n",
            "    self._target(*self._args, **self._kwargs)\n",
            "  File \"/usr/lib/python3.6/multiprocessing/process.py\", line 258, in _bootstrap\n",
            "    self.run()\n",
            "  File \"/usr/lib/python3.6/multiprocessing/process.py\", line 93, in run\n",
            "    self._target(*self._args, **self._kwargs)\n",
            "  File \"/usr/lib/python3.6/multiprocessing/process.py\", line 93, in run\n",
            "    self._target(*self._args, **self._kwargs)\n",
            "  File \"/usr/lib/python3.6/multiprocessing/process.py\", line 258, in _bootstrap\n",
            "    self.run()\n",
            "  File \"/usr/lib/python3.6/multiprocessing/pool.py\", line 119, in worker\n",
            "    result = (True, func(*args, **kwds))\n",
            "  File \"/usr/lib/python3.6/multiprocessing/pool.py\", line 119, in worker\n",
            "    result = (True, func(*args, **kwds))\n",
            "  File \"/usr/lib/python3.6/multiprocessing/process.py\", line 258, in _bootstrap\n",
            "    self.run()\n",
            "  File \"/usr/lib/python3.6/multiprocessing/process.py\", line 258, in _bootstrap\n",
            "    self.run()\n",
            "  File \"/usr/lib/python3.6/multiprocessing/process.py\", line 258, in _bootstrap\n",
            "    self.run()\n",
            "  File \"/usr/lib/python3.6/multiprocessing/pool.py\", line 119, in worker\n",
            "    result = (True, func(*args, **kwds))\n",
            "  File \"/usr/lib/python3.6/multiprocessing/process.py\", line 93, in run\n",
            "    self._target(*self._args, **self._kwargs)\n",
            "  File \"/usr/lib/python3.6/multiprocessing/process.py\", line 258, in _bootstrap\n",
            "    self.run()\n",
            "  File \"/usr/lib/python3.6/multiprocessing/process.py\", line 93, in run\n",
            "    self._target(*self._args, **self._kwargs)\n",
            "  File \"/usr/lib/python3.6/multiprocessing/process.py\", line 93, in run\n",
            "    self._target(*self._args, **self._kwargs)\n",
            "  File \"/usr/lib/python3.6/multiprocessing/process.py\", line 258, in _bootstrap\n",
            "    self.run()\n",
            "  File \"/usr/lib/python3.6/multiprocessing/process.py\", line 93, in run\n",
            "    self._target(*self._args, **self._kwargs)\n",
            "  File \"/usr/lib/python3.6/multiprocessing/pool.py\", line 119, in worker\n",
            "    result = (True, func(*args, **kwds))\n",
            "  File \"/usr/lib/python3.6/multiprocessing/process.py\", line 93, in run\n",
            "    self._target(*self._args, **self._kwargs)\n",
            "  File \"/usr/lib/python3.6/multiprocessing/pool.py\", line 119, in worker\n",
            "    result = (True, func(*args, **kwds))\n",
            "  File \"/usr/lib/python3.6/multiprocessing/process.py\", line 258, in _bootstrap\n",
            "    self.run()\n",
            "  File \"/usr/lib/python3.6/multiprocessing/process.py\", line 93, in run\n",
            "    self._target(*self._args, **self._kwargs)\n",
            "  File \"/usr/lib/python3.6/multiprocessing/process.py\", line 93, in run\n",
            "    self._target(*self._args, **self._kwargs)\n",
            "  File \"/usr/lib/python3.6/multiprocessing/process.py\", line 93, in run\n",
            "    self._target(*self._args, **self._kwargs)\n",
            "  File \"/usr/lib/python3.6/multiprocessing/pool.py\", line 119, in worker\n",
            "    result = (True, func(*args, **kwds))\n",
            "  File \"/usr/lib/python3.6/multiprocessing/pool.py\", line 44, in mapstar\n",
            "    return list(map(*args))\n",
            "  File \"/usr/lib/python3.6/multiprocessing/pool.py\", line 119, in worker\n",
            "    result = (True, func(*args, **kwds))\n",
            "  File \"/usr/lib/python3.6/multiprocessing/pool.py\", line 119, in worker\n",
            "    result = (True, func(*args, **kwds))\n",
            "  File \"/usr/lib/python3.6/multiprocessing/process.py\", line 93, in run\n",
            "    self._target(*self._args, **self._kwargs)\n",
            "  File \"/usr/lib/python3.6/multiprocessing/pool.py\", line 44, in mapstar\n",
            "    return list(map(*args))\n",
            "  File \"/usr/lib/python3.6/multiprocessing/process.py\", line 93, in run\n",
            "    self._target(*self._args, **self._kwargs)\n",
            "  File \"/usr/lib/python3.6/multiprocessing/process.py\", line 93, in run\n",
            "    self._target(*self._args, **self._kwargs)\n",
            "  File \"/usr/lib/python3.6/multiprocessing/pool.py\", line 119, in worker\n",
            "    result = (True, func(*args, **kwds))\n",
            "  File \"/usr/lib/python3.6/multiprocessing/pool.py\", line 44, in mapstar\n",
            "    return list(map(*args))\n",
            "  File \"/usr/lib/python3.6/multiprocessing/pool.py\", line 119, in worker\n",
            "    result = (True, func(*args, **kwds))\n",
            "  File \"/usr/lib/python3.6/multiprocessing/process.py\", line 93, in run\n",
            "    self._target(*self._args, **self._kwargs)\n",
            "  File \"/usr/lib/python3.6/multiprocessing/pool.py\", line 119, in worker\n",
            "    result = (True, func(*args, **kwds))\n",
            "  File \"/usr/lib/python3.6/multiprocessing/pool.py\", line 119, in worker\n",
            "    result = (True, func(*args, **kwds))\n",
            "  File \"/usr/lib/python3.6/multiprocessing/process.py\", line 93, in run\n",
            "    self._target(*self._args, **self._kwargs)\n",
            "  File \"/usr/lib/python3.6/multiprocessing/pool.py\", line 44, in mapstar\n",
            "    return list(map(*args))\n",
            "  File \"/usr/lib/python3.6/multiprocessing/pool.py\", line 44, in mapstar\n",
            "    return list(map(*args))\n",
            "  File \"/usr/lib/python3.6/multiprocessing/process.py\", line 93, in run\n",
            "    self._target(*self._args, **self._kwargs)\n",
            "  File \"/usr/lib/python3.6/multiprocessing/process.py\", line 93, in run\n",
            "    self._target(*self._args, **self._kwargs)\n",
            "  File \"/usr/lib/python3.6/multiprocessing/process.py\", line 93, in run\n",
            "    self._target(*self._args, **self._kwargs)\n",
            "  File \"/usr/lib/python3.6/multiprocessing/pool.py\", line 44, in mapstar\n",
            "    return list(map(*args))\n",
            "  File \"/usr/lib/python3.6/multiprocessing/process.py\", line 93, in run\n",
            "    self._target(*self._args, **self._kwargs)\n",
            "  File \"/usr/lib/python3.6/multiprocessing/pool.py\", line 119, in worker\n",
            "    result = (True, func(*args, **kwds))\n",
            "  File \"/usr/lib/python3.6/multiprocessing/pool.py\", line 119, in worker\n",
            "    result = (True, func(*args, **kwds))\n",
            "  File \"/usr/lib/python3.6/multiprocessing/pool.py\", line 119, in worker\n",
            "    result = (True, func(*args, **kwds))\n",
            "  File \"/usr/lib/python3.6/multiprocessing/pool.py\", line 119, in worker\n",
            "    result = (True, func(*args, **kwds))\n",
            "  File \"/usr/lib/python3.6/multiprocessing/process.py\", line 93, in run\n",
            "    self._target(*self._args, **self._kwargs)\n",
            "  File \"/usr/lib/python3.6/multiprocessing/pool.py\", line 44, in mapstar\n",
            "    return list(map(*args))\n",
            "  File \"/usr/lib/python3.6/multiprocessing/pool.py\", line 119, in worker\n",
            "    result = (True, func(*args, **kwds))\n",
            "  File \"/usr/lib/python3.6/multiprocessing/pool.py\", line 44, in mapstar\n",
            "    return list(map(*args))\n",
            "  File \"/usr/lib/python3.6/multiprocessing/process.py\", line 93, in run\n",
            "    self._target(*self._args, **self._kwargs)\n",
            "  File \"/usr/lib/python3.6/multiprocessing/pool.py\", line 119, in worker\n",
            "    result = (True, func(*args, **kwds))\n",
            "  File \"/usr/lib/python3.6/multiprocessing/pool.py\", line 119, in worker\n",
            "    result = (True, func(*args, **kwds))\n",
            "  File \"/usr/lib/python3.6/multiprocessing/pool.py\", line 44, in mapstar\n",
            "    return list(map(*args))\n",
            "  File \"/usr/lib/python3.6/multiprocessing/pool.py\", line 119, in worker\n",
            "    result = (True, func(*args, **kwds))\n",
            "  File \"/usr/local/lib/python3.6/dist-packages/pandarallel/pandarallel.py\", line 59, in global_worker\n",
            "    return _func(x)\n",
            "  File \"/usr/lib/python3.6/multiprocessing/pool.py\", line 44, in mapstar\n",
            "    return list(map(*args))\n",
            "  File \"/usr/lib/python3.6/multiprocessing/pool.py\", line 44, in mapstar\n",
            "    return list(map(*args))\n",
            "  File \"/usr/lib/python3.6/multiprocessing/pool.py\", line 119, in worker\n",
            "    result = (True, func(*args, **kwds))\n",
            "  File \"/usr/lib/python3.6/multiprocessing/pool.py\", line 119, in worker\n",
            "    result = (True, func(*args, **kwds))\n",
            "  File \"/usr/local/lib/python3.6/dist-packages/pandarallel/pandarallel.py\", line 59, in global_worker\n",
            "    return _func(x)\n",
            "  File \"/usr/lib/python3.6/multiprocessing/pool.py\", line 119, in worker\n",
            "    result = (True, func(*args, **kwds))\n",
            "  File \"/usr/local/lib/python3.6/dist-packages/pandarallel/pandarallel.py\", line 59, in global_worker\n",
            "    return _func(x)\n",
            "  File \"/usr/lib/python3.6/multiprocessing/pool.py\", line 44, in mapstar\n",
            "    return list(map(*args))\n",
            "  File \"/usr/lib/python3.6/multiprocessing/pool.py\", line 44, in mapstar\n",
            "    return list(map(*args))\n",
            "  File \"/usr/lib/python3.6/multiprocessing/pool.py\", line 119, in worker\n",
            "    result = (True, func(*args, **kwds))\n",
            "  File \"/usr/lib/python3.6/multiprocessing/pool.py\", line 44, in mapstar\n",
            "    return list(map(*args))\n",
            "  File \"/usr/lib/python3.6/multiprocessing/pool.py\", line 44, in mapstar\n",
            "    return list(map(*args))\n",
            "  File \"/usr/lib/python3.6/multiprocessing/pool.py\", line 119, in worker\n",
            "    result = (True, func(*args, **kwds))\n",
            "  File \"/usr/local/lib/python3.6/dist-packages/pandarallel/pandarallel.py\", line 59, in global_worker\n",
            "    return _func(x)\n",
            "  File \"/usr/local/lib/python3.6/dist-packages/pandarallel/pandarallel.py\", line 59, in global_worker\n",
            "    return _func(x)\n",
            "  File \"/usr/lib/python3.6/multiprocessing/pool.py\", line 119, in worker\n",
            "    result = (True, func(*args, **kwds))\n",
            "  File \"/usr/lib/python3.6/multiprocessing/pool.py\", line 119, in worker\n",
            "    result = (True, func(*args, **kwds))\n",
            "  File \"/usr/lib/python3.6/multiprocessing/pool.py\", line 119, in worker\n",
            "    result = (True, func(*args, **kwds))\n",
            "  File \"/usr/local/lib/python3.6/dist-packages/pandarallel/pandarallel.py\", line 59, in global_worker\n",
            "    return _func(x)\n",
            "  File \"/usr/lib/python3.6/multiprocessing/pool.py\", line 119, in worker\n",
            "    result = (True, func(*args, **kwds))\n",
            "  File \"/usr/lib/python3.6/multiprocessing/pool.py\", line 44, in mapstar\n",
            "    return list(map(*args))\n",
            "  File \"/usr/lib/python3.6/multiprocessing/pool.py\", line 44, in mapstar\n",
            "    return list(map(*args))\n",
            "  File \"/usr/lib/python3.6/multiprocessing/pool.py\", line 44, in mapstar\n",
            "    return list(map(*args))\n",
            "  File \"/usr/lib/python3.6/multiprocessing/pool.py\", line 119, in worker\n",
            "    result = (True, func(*args, **kwds))\n",
            "  File \"/usr/lib/python3.6/multiprocessing/pool.py\", line 44, in mapstar\n",
            "    return list(map(*args))\n",
            "  File \"/usr/local/lib/python3.6/dist-packages/pandarallel/pandarallel.py\", line 59, in global_worker\n",
            "    return _func(x)\n",
            "  File \"/usr/lib/python3.6/multiprocessing/pool.py\", line 44, in mapstar\n",
            "    return list(map(*args))\n",
            "  File \"/usr/lib/python3.6/multiprocessing/pool.py\", line 119, in worker\n",
            "    result = (True, func(*args, **kwds))\n",
            "  File \"/usr/local/lib/python3.6/dist-packages/pandarallel/pandarallel.py\", line 59, in global_worker\n",
            "    return _func(x)\n",
            "  File \"/usr/lib/python3.6/multiprocessing/pool.py\", line 44, in mapstar\n",
            "    return list(map(*args))\n",
            "  File \"/usr/lib/python3.6/multiprocessing/pool.py\", line 44, in mapstar\n",
            "    return list(map(*args))\n",
            "  File \"/usr/lib/python3.6/multiprocessing/pool.py\", line 44, in mapstar\n",
            "    return list(map(*args))\n",
            "  File \"/usr/local/lib/python3.6/dist-packages/pandarallel/pandarallel.py\", line 111, in wrapper\n",
            "    **kwargs\n",
            "  File \"/usr/local/lib/python3.6/dist-packages/pandarallel/pandarallel.py\", line 59, in global_worker\n",
            "    return _func(x)\n",
            "  File \"/usr/local/lib/python3.6/dist-packages/pandarallel/pandarallel.py\", line 59, in global_worker\n",
            "    return _func(x)\n",
            "  File \"/usr/local/lib/python3.6/dist-packages/pandarallel/pandarallel.py\", line 59, in global_worker\n",
            "    return _func(x)\n",
            "  File \"/usr/lib/python3.6/multiprocessing/pool.py\", line 44, in mapstar\n",
            "    return list(map(*args))\n",
            "  File \"/usr/local/lib/python3.6/dist-packages/pandarallel/pandarallel.py\", line 111, in wrapper\n",
            "    **kwargs\n",
            "  File \"/usr/lib/python3.6/multiprocessing/pool.py\", line 44, in mapstar\n",
            "    return list(map(*args))\n",
            "  File \"/usr/lib/python3.6/multiprocessing/pool.py\", line 44, in mapstar\n",
            "    return list(map(*args))\n",
            "  File \"/usr/local/lib/python3.6/dist-packages/pandarallel/pandarallel.py\", line 111, in wrapper\n",
            "    **kwargs\n",
            "  File \"/usr/local/lib/python3.6/dist-packages/pandarallel/pandarallel.py\", line 59, in global_worker\n",
            "    return _func(x)\n",
            "  File \"/usr/local/lib/python3.6/dist-packages/pandarallel/pandarallel.py\", line 59, in global_worker\n",
            "    return _func(x)\n",
            "  File \"/usr/lib/python3.6/multiprocessing/pool.py\", line 44, in mapstar\n",
            "    return list(map(*args))\n",
            "  File \"/usr/local/lib/python3.6/dist-packages/pandarallel/pandarallel.py\", line 59, in global_worker\n",
            "    return _func(x)\n",
            "  File \"/usr/local/lib/python3.6/dist-packages/pandarallel/pandarallel.py\", line 59, in global_worker\n",
            "    return _func(x)\n",
            "  File \"/usr/lib/python3.6/multiprocessing/pool.py\", line 44, in mapstar\n",
            "    return list(map(*args))\n",
            "  File \"/usr/local/lib/python3.6/dist-packages/pandarallel/pandarallel.py\", line 111, in wrapper\n",
            "    **kwargs\n",
            "  File \"/usr/local/lib/python3.6/dist-packages/pandarallel/pandarallel.py\", line 111, in wrapper\n",
            "    **kwargs\n",
            "  File \"/usr/lib/python3.6/multiprocessing/pool.py\", line 44, in mapstar\n",
            "    return list(map(*args))\n",
            "  File \"/usr/lib/python3.6/multiprocessing/pool.py\", line 44, in mapstar\n",
            "    return list(map(*args))\n",
            "  File \"/usr/local/lib/python3.6/dist-packages/pandarallel/pandarallel.py\", line 111, in wrapper\n",
            "    **kwargs\n",
            "  File \"/usr/lib/python3.6/multiprocessing/pool.py\", line 44, in mapstar\n",
            "    return list(map(*args))\n",
            "  File \"/usr/local/lib/python3.6/dist-packages/pandarallel/pandarallel.py\", line 59, in global_worker\n",
            "    return _func(x)\n",
            "  File \"/usr/lib/python3.6/multiprocessing/pool.py\", line 44, in mapstar\n",
            "    return list(map(*args))\n",
            "  File \"/usr/local/lib/python3.6/dist-packages/pandarallel/pandarallel.py\", line 59, in global_worker\n",
            "    return _func(x)\n",
            "  File \"/usr/local/lib/python3.6/dist-packages/pandarallel/pandarallel.py\", line 59, in global_worker\n",
            "    return _func(x)\n",
            "  File \"/usr/local/lib/python3.6/dist-packages/pandarallel/pandarallel.py\", line 59, in global_worker\n",
            "    return _func(x)\n",
            "  File \"/usr/lib/python3.6/multiprocessing/pool.py\", line 44, in mapstar\n",
            "    return list(map(*args))\n",
            "  File \"/usr/local/lib/python3.6/dist-packages/pandarallel/pandarallel.py\", line 59, in global_worker\n",
            "    return _func(x)\n",
            "  File \"/usr/local/lib/python3.6/dist-packages/pandarallel/pandarallel.py\", line 111, in wrapper\n",
            "    **kwargs\n",
            "  File \"/usr/local/lib/python3.6/dist-packages/pandarallel/pandarallel.py\", line 111, in wrapper\n",
            "    **kwargs\n",
            "  File \"/usr/lib/python3.6/multiprocessing/pool.py\", line 44, in mapstar\n",
            "    return list(map(*args))\n",
            "  File \"/usr/local/lib/python3.6/dist-packages/pandarallel/pandarallel.py\", line 59, in global_worker\n",
            "    return _func(x)\n",
            "  File \"/usr/local/lib/python3.6/dist-packages/pandarallel/data_types/dataframe.py\", line 31, in worker\n",
            "    return df.apply(func, *args, **kwargs)\n",
            "  File \"/usr/local/lib/python3.6/dist-packages/pandarallel/pandarallel.py\", line 111, in wrapper\n",
            "    **kwargs\n",
            "  File \"/usr/local/lib/python3.6/dist-packages/pandarallel/pandarallel.py\", line 59, in global_worker\n",
            "    return _func(x)\n",
            "  File \"/usr/local/lib/python3.6/dist-packages/pandarallel/pandarallel.py\", line 111, in wrapper\n",
            "    **kwargs\n",
            "  File \"/usr/local/lib/python3.6/dist-packages/pandarallel/pandarallel.py\", line 59, in global_worker\n",
            "    return _func(x)\n",
            "  File \"/usr/local/lib/python3.6/dist-packages/pandarallel/pandarallel.py\", line 111, in wrapper\n",
            "    **kwargs\n",
            "  File \"/usr/local/lib/python3.6/dist-packages/pandarallel/data_types/dataframe.py\", line 31, in worker\n",
            "    return df.apply(func, *args, **kwargs)\n",
            "  File \"/usr/local/lib/python3.6/dist-packages/pandarallel/pandarallel.py\", line 59, in global_worker\n",
            "    return _func(x)\n",
            "  File \"/usr/local/lib/python3.6/dist-packages/pandarallel/pandarallel.py\", line 59, in global_worker\n",
            "    return _func(x)\n",
            "  File \"/usr/local/lib/python3.6/dist-packages/pandarallel/data_types/dataframe.py\", line 31, in worker\n",
            "    return df.apply(func, *args, **kwargs)\n",
            "  File \"/usr/local/lib/python3.6/dist-packages/pandarallel/pandarallel.py\", line 111, in wrapper\n",
            "    **kwargs\n",
            "  File \"/usr/local/lib/python3.6/dist-packages/pandarallel/pandarallel.py\", line 59, in global_worker\n",
            "    return _func(x)\n",
            "  File \"/usr/local/lib/python3.6/dist-packages/pandarallel/pandarallel.py\", line 111, in wrapper\n",
            "    **kwargs\n",
            "  File \"/usr/local/lib/python3.6/dist-packages/pandarallel/pandarallel.py\", line 111, in wrapper\n",
            "    **kwargs\n",
            "Process ForkPoolWorker-312:\n",
            "Process ForkPoolWorker-321:\n",
            "Process ForkPoolWorker-327:\n",
            "Process ForkPoolWorker-306:\n",
            "  File \"/usr/local/lib/python3.6/dist-packages/pandarallel/pandarallel.py\", line 111, in wrapper\n",
            "    **kwargs\n",
            "  File \"/usr/local/lib/python3.6/dist-packages/pandarallel/data_types/dataframe.py\", line 31, in worker\n",
            "    return df.apply(func, *args, **kwargs)\n",
            "  File \"/usr/local/lib/python3.6/dist-packages/pandarallel/pandarallel.py\", line 59, in global_worker\n",
            "    return _func(x)\n",
            "  File \"/usr/local/lib/python3.6/dist-packages/pandarallel/data_types/dataframe.py\", line 31, in worker\n",
            "    return df.apply(func, *args, **kwargs)\n",
            "  File \"/usr/local/lib/python3.6/dist-packages/pandarallel/pandarallel.py\", line 59, in global_worker\n",
            "    return _func(x)\n",
            "  File \"/usr/local/lib/python3.6/dist-packages/pandarallel/pandarallel.py\", line 59, in global_worker\n",
            "    return _func(x)\n",
            "  File \"/usr/local/lib/python3.6/dist-packages/pandarallel/pandarallel.py\", line 59, in global_worker\n",
            "    return _func(x)\n",
            "  File \"/usr/local/lib/python3.6/dist-packages/pandarallel/data_types/dataframe.py\", line 31, in worker\n",
            "    return df.apply(func, *args, **kwargs)\n",
            "Process ForkPoolWorker-298:\n",
            "  File \"/usr/local/lib/python3.6/dist-packages/pandarallel/pandarallel.py\", line 111, in wrapper\n",
            "    **kwargs\n",
            "  File \"/usr/local/lib/python3.6/dist-packages/pandarallel/pandarallel.py\", line 59, in global_worker\n",
            "    return _func(x)\n",
            "  File \"/usr/local/lib/python3.6/dist-packages/pandarallel/pandarallel.py\", line 111, in wrapper\n",
            "    **kwargs\n",
            "  File \"/usr/local/lib/python3.6/dist-packages/pandarallel/pandarallel.py\", line 111, in wrapper\n",
            "    **kwargs\n",
            "  File \"/usr/local/lib/python3.6/dist-packages/pandarallel/pandarallel.py\", line 59, in global_worker\n",
            "    return _func(x)\n",
            "  File \"/usr/local/lib/python3.6/dist-packages/pandarallel/pandarallel.py\", line 111, in wrapper\n",
            "    **kwargs\n",
            "  File \"/usr/local/lib/python3.6/dist-packages/pandarallel/pandarallel.py\", line 59, in global_worker\n",
            "    return _func(x)\n",
            "  File \"/usr/local/lib/python3.6/dist-packages/pandarallel/pandarallel.py\", line 111, in wrapper\n",
            "    **kwargs\n",
            "  File \"/usr/local/lib/python3.6/dist-packages/pandarallel/data_types/dataframe.py\", line 31, in worker\n",
            "    return df.apply(func, *args, **kwargs)\n",
            "  File \"/usr/local/lib/python3.6/dist-packages/pandarallel/data_types/dataframe.py\", line 31, in worker\n",
            "    return df.apply(func, *args, **kwargs)\n",
            "  File \"/usr/local/lib/python3.6/dist-packages/pandarallel/pandarallel.py\", line 111, in wrapper\n",
            "    **kwargs\n",
            "  File \"/usr/local/lib/python3.6/dist-packages/pandarallel/pandarallel.py\", line 59, in global_worker\n",
            "    return _func(x)\n",
            "  File \"/usr/local/lib/python3.6/dist-packages/pandas/core/frame.py\", line 6878, in apply\n",
            "    return op.get_result()\n",
            "  File \"/usr/local/lib/python3.6/dist-packages/pandarallel/data_types/dataframe.py\", line 31, in worker\n",
            "    return df.apply(func, *args, **kwargs)\n",
            "  File \"/usr/local/lib/python3.6/dist-packages/pandarallel/pandarallel.py\", line 111, in wrapper\n",
            "    **kwargs\n",
            "  File \"/usr/local/lib/python3.6/dist-packages/pandarallel/data_types/dataframe.py\", line 31, in worker\n",
            "    return df.apply(func, *args, **kwargs)\n",
            "  File \"/usr/local/lib/python3.6/dist-packages/pandarallel/pandarallel.py\", line 111, in wrapper\n",
            "    **kwargs\n",
            "  File \"/usr/local/lib/python3.6/dist-packages/pandarallel/data_types/dataframe.py\", line 31, in worker\n",
            "    return df.apply(func, *args, **kwargs)\n",
            "  File \"/usr/local/lib/python3.6/dist-packages/pandas/core/frame.py\", line 6878, in apply\n",
            "    return op.get_result()\n",
            "  File \"/usr/local/lib/python3.6/dist-packages/pandarallel/pandarallel.py\", line 111, in wrapper\n",
            "    **kwargs\n",
            "  File \"/usr/local/lib/python3.6/dist-packages/pandarallel/pandarallel.py\", line 111, in wrapper\n",
            "    **kwargs\n",
            "  File \"/usr/local/lib/python3.6/dist-packages/pandarallel/data_types/dataframe.py\", line 31, in worker\n",
            "    return df.apply(func, *args, **kwargs)\n",
            "Process ForkPoolWorker-289:\n",
            "  File \"/usr/local/lib/python3.6/dist-packages/pandarallel/pandarallel.py\", line 111, in wrapper\n",
            "    **kwargs\n",
            "  File \"/usr/local/lib/python3.6/dist-packages/pandas/core/frame.py\", line 6878, in apply\n",
            "    return op.get_result()\n",
            "  File \"/usr/local/lib/python3.6/dist-packages/pandarallel/data_types/dataframe.py\", line 31, in worker\n",
            "    return df.apply(func, *args, **kwargs)\n",
            "  File \"/usr/local/lib/python3.6/dist-packages/pandarallel/data_types/dataframe.py\", line 31, in worker\n",
            "    return df.apply(func, *args, **kwargs)\n",
            "  File \"/usr/local/lib/python3.6/dist-packages/pandarallel/data_types/dataframe.py\", line 31, in worker\n",
            "    return df.apply(func, *args, **kwargs)\n",
            "  File \"/usr/local/lib/python3.6/dist-packages/pandas/core/frame.py\", line 6878, in apply\n",
            "    return op.get_result()\n",
            "  File \"/usr/local/lib/python3.6/dist-packages/pandas/core/frame.py\", line 6878, in apply\n",
            "    return op.get_result()\n",
            "  File \"/usr/local/lib/python3.6/dist-packages/pandarallel/pandarallel.py\", line 111, in wrapper\n",
            "    **kwargs\n",
            "  File \"/usr/local/lib/python3.6/dist-packages/pandarallel/pandarallel.py\", line 111, in wrapper\n",
            "    **kwargs\n",
            "  File \"/usr/local/lib/python3.6/dist-packages/pandarallel/pandarallel.py\", line 111, in wrapper\n",
            "    **kwargs\n",
            "  File \"/usr/local/lib/python3.6/dist-packages/pandas/core/frame.py\", line 6878, in apply\n",
            "    return op.get_result()\n",
            "Traceback (most recent call last):\n",
            "  File \"/usr/local/lib/python3.6/dist-packages/pandarallel/pandarallel.py\", line 111, in wrapper\n",
            "    **kwargs\n",
            "  File \"/usr/local/lib/python3.6/dist-packages/pandarallel/data_types/dataframe.py\", line 31, in worker\n",
            "    return df.apply(func, *args, **kwargs)\n",
            "Traceback (most recent call last):\n",
            "Traceback (most recent call last):\n",
            "  File \"/usr/local/lib/python3.6/dist-packages/pandarallel/data_types/dataframe.py\", line 31, in worker\n",
            "    return df.apply(func, *args, **kwargs)\n",
            "  File \"/usr/local/lib/python3.6/dist-packages/pandarallel/pandarallel.py\", line 111, in wrapper\n",
            "    **kwargs\n",
            "  File \"/usr/local/lib/python3.6/dist-packages/pandarallel/pandarallel.py\", line 111, in wrapper\n",
            "    **kwargs\n",
            "  File \"/usr/local/lib/python3.6/dist-packages/pandarallel/data_types/dataframe.py\", line 31, in worker\n",
            "    return df.apply(func, *args, **kwargs)\n",
            "  File \"/usr/local/lib/python3.6/dist-packages/pandarallel/data_types/dataframe.py\", line 31, in worker\n",
            "    return df.apply(func, *args, **kwargs)\n",
            "  File \"/usr/local/lib/python3.6/dist-packages/pandarallel/pandarallel.py\", line 111, in wrapper\n",
            "    **kwargs\n",
            "  File \"/usr/local/lib/python3.6/dist-packages/pandarallel/data_types/dataframe.py\", line 31, in worker\n",
            "    return df.apply(func, *args, **kwargs)\n",
            "Traceback (most recent call last):\n",
            "  File \"/usr/local/lib/python3.6/dist-packages/pandas/core/frame.py\", line 6878, in apply\n",
            "    return op.get_result()\n",
            "  File \"/usr/local/lib/python3.6/dist-packages/pandas/core/frame.py\", line 6878, in apply\n",
            "    return op.get_result()\n",
            "  File \"/usr/local/lib/python3.6/dist-packages/pandarallel/data_types/dataframe.py\", line 31, in worker\n",
            "    return df.apply(func, *args, **kwargs)\n",
            "  File \"/usr/local/lib/python3.6/dist-packages/pandarallel/pandarallel.py\", line 111, in wrapper\n",
            "    **kwargs\n",
            "  File \"/usr/local/lib/python3.6/dist-packages/pandarallel/data_types/dataframe.py\", line 31, in worker\n",
            "    return df.apply(func, *args, **kwargs)\n",
            "  File \"/usr/local/lib/python3.6/dist-packages/pandas/core/apply.py\", line 186, in get_result\n",
            "    return self.apply_standard()\n",
            "  File \"/usr/local/lib/python3.6/dist-packages/pandas/core/frame.py\", line 6878, in apply\n",
            "    return op.get_result()\n",
            "  File \"/usr/local/lib/python3.6/dist-packages/pandarallel/data_types/dataframe.py\", line 31, in worker\n",
            "    return df.apply(func, *args, **kwargs)\n",
            "  File \"/usr/local/lib/python3.6/dist-packages/pandas/core/frame.py\", line 6878, in apply\n",
            "    return op.get_result()\n",
            "  File \"/usr/local/lib/python3.6/dist-packages/pandas/core/frame.py\", line 6878, in apply\n",
            "    return op.get_result()\n",
            "  File \"/usr/local/lib/python3.6/dist-packages/pandas/core/apply.py\", line 186, in get_result\n",
            "    return self.apply_standard()\n",
            "  File \"/usr/local/lib/python3.6/dist-packages/pandarallel/data_types/dataframe.py\", line 31, in worker\n",
            "    return df.apply(func, *args, **kwargs)\n",
            "  File \"/usr/local/lib/python3.6/dist-packages/pandarallel/data_types/dataframe.py\", line 31, in worker\n",
            "    return df.apply(func, *args, **kwargs)\n",
            "  File \"/usr/local/lib/python3.6/dist-packages/pandas/core/frame.py\", line 6878, in apply\n",
            "    return op.get_result()\n",
            "  File \"/usr/local/lib/python3.6/dist-packages/pandarallel/data_types/dataframe.py\", line 31, in worker\n",
            "    return df.apply(func, *args, **kwargs)\n",
            "  File \"/usr/local/lib/python3.6/dist-packages/pandas/core/apply.py\", line 186, in get_result\n",
            "    return self.apply_standard()\n",
            "  File \"/usr/local/lib/python3.6/dist-packages/pandas/core/frame.py\", line 6878, in apply\n",
            "    return op.get_result()\n",
            "Traceback (most recent call last):\n",
            "  File \"/usr/local/lib/python3.6/dist-packages/pandas/core/frame.py\", line 6878, in apply\n",
            "    return op.get_result()\n",
            "  File \"/usr/local/lib/python3.6/dist-packages/pandas/core/apply.py\", line 186, in get_result\n",
            "    return self.apply_standard()\n",
            "  File \"/usr/local/lib/python3.6/dist-packages/pandas/core/frame.py\", line 6878, in apply\n",
            "    return op.get_result()\n",
            "Traceback (most recent call last):\n",
            "  File \"/usr/local/lib/python3.6/dist-packages/pandas/core/apply.py\", line 186, in get_result\n",
            "    return self.apply_standard()\n",
            "  File \"/usr/local/lib/python3.6/dist-packages/pandarallel/data_types/dataframe.py\", line 31, in worker\n",
            "    return df.apply(func, *args, **kwargs)\n",
            "  File \"/usr/local/lib/python3.6/dist-packages/pandarallel/data_types/dataframe.py\", line 31, in worker\n",
            "    return df.apply(func, *args, **kwargs)\n",
            "  File \"/usr/local/lib/python3.6/dist-packages/pandarallel/data_types/dataframe.py\", line 31, in worker\n",
            "    return df.apply(func, *args, **kwargs)\n",
            "  File \"/usr/local/lib/python3.6/dist-packages/pandas/core/apply.py\", line 186, in get_result\n",
            "    return self.apply_standard()\n",
            "  File \"/usr/local/lib/python3.6/dist-packages/pandarallel/data_types/dataframe.py\", line 31, in worker\n",
            "    return df.apply(func, *args, **kwargs)\n",
            "  File \"/usr/lib/python3.6/multiprocessing/process.py\", line 258, in _bootstrap\n",
            "    self.run()\n",
            "  File \"/usr/local/lib/python3.6/dist-packages/pandas/core/frame.py\", line 6878, in apply\n",
            "    return op.get_result()\n",
            "  File \"/usr/lib/python3.6/multiprocessing/process.py\", line 258, in _bootstrap\n",
            "    self.run()\n",
            "  File \"/usr/local/lib/python3.6/dist-packages/pandas/core/frame.py\", line 6878, in apply\n",
            "    return op.get_result()\n",
            "  File \"/usr/lib/python3.6/multiprocessing/process.py\", line 258, in _bootstrap\n",
            "    self.run()\n",
            "  File \"/usr/local/lib/python3.6/dist-packages/pandarallel/data_types/dataframe.py\", line 31, in worker\n",
            "    return df.apply(func, *args, **kwargs)\n",
            "  File \"/usr/local/lib/python3.6/dist-packages/pandarallel/data_types/dataframe.py\", line 31, in worker\n",
            "    return df.apply(func, *args, **kwargs)\n",
            "  File \"/usr/local/lib/python3.6/dist-packages/pandas/core/frame.py\", line 6878, in apply\n",
            "    return op.get_result()\n",
            "  File \"/usr/local/lib/python3.6/dist-packages/pandas/core/frame.py\", line 6878, in apply\n",
            "    return op.get_result()\n",
            "  File \"/usr/local/lib/python3.6/dist-packages/pandarallel/data_types/dataframe.py\", line 31, in worker\n",
            "    return df.apply(func, *args, **kwargs)\n",
            "  File \"/usr/lib/python3.6/multiprocessing/process.py\", line 258, in _bootstrap\n",
            "    self.run()\n",
            "  File \"/usr/local/lib/python3.6/dist-packages/pandas/core/frame.py\", line 6878, in apply\n",
            "    return op.get_result()\n",
            "  File \"/usr/local/lib/python3.6/dist-packages/pandas/core/apply.py\", line 186, in get_result\n",
            "    return self.apply_standard()\n",
            "  File \"/usr/local/lib/python3.6/dist-packages/pandas/core/frame.py\", line 6878, in apply\n",
            "    return op.get_result()\n",
            "  File \"/usr/local/lib/python3.6/dist-packages/pandarallel/data_types/dataframe.py\", line 31, in worker\n",
            "    return df.apply(func, *args, **kwargs)\n",
            "  File \"/usr/local/lib/python3.6/dist-packages/pandas/core/apply.py\", line 186, in get_result\n",
            "    return self.apply_standard()\n",
            "  File \"/usr/local/lib/python3.6/dist-packages/pandas/core/frame.py\", line 6878, in apply\n",
            "    return op.get_result()\n",
            "  File \"/usr/local/lib/python3.6/dist-packages/pandas/core/frame.py\", line 6878, in apply\n",
            "    return op.get_result()\n",
            "  File \"/usr/local/lib/python3.6/dist-packages/pandas/core/apply.py\", line 313, in apply_standard\n",
            "    results, res_index = self.apply_series_generator()\n",
            "  File \"/usr/local/lib/python3.6/dist-packages/pandas/core/apply.py\", line 186, in get_result\n",
            "    return self.apply_standard()\n",
            "  File \"/usr/local/lib/python3.6/dist-packages/pandas/core/apply.py\", line 186, in get_result\n",
            "    return self.apply_standard()\n",
            "  File \"/usr/local/lib/python3.6/dist-packages/pandas/core/apply.py\", line 313, in apply_standard\n",
            "    results, res_index = self.apply_series_generator()\n",
            "  File \"/usr/local/lib/python3.6/dist-packages/pandas/core/frame.py\", line 6878, in apply\n",
            "    return op.get_result()\n",
            "  File \"/usr/local/lib/python3.6/dist-packages/pandas/core/apply.py\", line 186, in get_result\n",
            "    return self.apply_standard()\n",
            "  File \"/usr/local/lib/python3.6/dist-packages/pandas/core/apply.py\", line 186, in get_result\n",
            "    return self.apply_standard()\n",
            "  File \"/usr/local/lib/python3.6/dist-packages/pandas/core/frame.py\", line 6878, in apply\n",
            "    return op.get_result()\n",
            "  File \"/usr/local/lib/python3.6/dist-packages/pandas/core/frame.py\", line 6878, in apply\n",
            "    return op.get_result()\n",
            "  File \"/usr/local/lib/python3.6/dist-packages/pandas/core/apply.py\", line 313, in apply_standard\n",
            "    results, res_index = self.apply_series_generator()\n",
            "  File \"/usr/local/lib/python3.6/dist-packages/pandas/core/apply.py\", line 186, in get_result\n",
            "    return self.apply_standard()\n",
            "  File \"/usr/lib/python3.6/multiprocessing/process.py\", line 258, in _bootstrap\n",
            "    self.run()\n",
            "  File \"/usr/local/lib/python3.6/dist-packages/pandas/core/apply.py\", line 186, in get_result\n",
            "    return self.apply_standard()\n",
            "  File \"/usr/local/lib/python3.6/dist-packages/pandas/core/apply.py\", line 313, in apply_standard\n",
            "    results, res_index = self.apply_series_generator()\n",
            "  File \"/usr/local/lib/python3.6/dist-packages/pandas/core/apply.py\", line 186, in get_result\n",
            "    return self.apply_standard()\n",
            "  File \"/usr/lib/python3.6/multiprocessing/process.py\", line 258, in _bootstrap\n",
            "    self.run()\n",
            "  File \"/usr/local/lib/python3.6/dist-packages/pandas/core/apply.py\", line 313, in apply_standard\n",
            "    results, res_index = self.apply_series_generator()\n",
            "  File \"/usr/local/lib/python3.6/dist-packages/pandas/core/frame.py\", line 6878, in apply\n",
            "    return op.get_result()\n",
            "  File \"/usr/local/lib/python3.6/dist-packages/pandas/core/apply.py\", line 313, in apply_standard\n",
            "    results, res_index = self.apply_series_generator()\n",
            "  File \"/usr/local/lib/python3.6/dist-packages/pandas/core/frame.py\", line 6878, in apply\n",
            "    return op.get_result()\n",
            "  File \"/usr/local/lib/python3.6/dist-packages/pandas/core/frame.py\", line 6878, in apply\n",
            "    return op.get_result()\n",
            "  File \"/usr/local/lib/python3.6/dist-packages/pandas/core/apply.py\", line 186, in get_result\n",
            "    return self.apply_standard()\n",
            "  File \"/usr/local/lib/python3.6/dist-packages/pandas/core/frame.py\", line 6878, in apply\n",
            "    return op.get_result()\n",
            "  File \"/usr/lib/python3.6/multiprocessing/process.py\", line 93, in run\n",
            "    self._target(*self._args, **self._kwargs)\n",
            "  File \"/usr/local/lib/python3.6/dist-packages/pandas/core/apply.py\", line 186, in get_result\n",
            "    return self.apply_standard()\n",
            "  File \"/usr/lib/python3.6/multiprocessing/process.py\", line 93, in run\n",
            "    self._target(*self._args, **self._kwargs)\n",
            "  File \"/usr/local/lib/python3.6/dist-packages/pandas/core/frame.py\", line 6878, in apply\n",
            "    return op.get_result()\n",
            "  File \"/usr/lib/python3.6/multiprocessing/process.py\", line 93, in run\n",
            "    self._target(*self._args, **self._kwargs)\n",
            "  File \"/usr/local/lib/python3.6/dist-packages/pandas/core/apply.py\", line 186, in get_result\n",
            "    return self.apply_standard()\n",
            "  File \"/usr/local/lib/python3.6/dist-packages/pandas/core/frame.py\", line 6878, in apply\n",
            "    return op.get_result()\n",
            "  File \"/usr/local/lib/python3.6/dist-packages/pandas/core/frame.py\", line 6878, in apply\n",
            "    return op.get_result()\n",
            "  File \"/usr/local/lib/python3.6/dist-packages/pandas/core/apply.py\", line 186, in get_result\n",
            "    return self.apply_standard()\n",
            "  File \"/usr/lib/python3.6/multiprocessing/process.py\", line 93, in run\n",
            "    self._target(*self._args, **self._kwargs)\n",
            "  File \"/usr/local/lib/python3.6/dist-packages/pandas/core/apply.py\", line 186, in get_result\n",
            "    return self.apply_standard()\n",
            "  File \"/usr/local/lib/python3.6/dist-packages/pandas/core/apply.py\", line 186, in get_result\n",
            "    return self.apply_standard()\n",
            "  File \"/usr/local/lib/python3.6/dist-packages/pandas/core/apply.py\", line 313, in apply_standard\n",
            "    results, res_index = self.apply_series_generator()\n",
            "  File \"/usr/local/lib/python3.6/dist-packages/pandas/core/apply.py\", line 313, in apply_standard\n",
            "    results, res_index = self.apply_series_generator()\n",
            "  File \"/usr/local/lib/python3.6/dist-packages/pandas/core/apply.py\", line 186, in get_result\n",
            "    return self.apply_standard()\n",
            "  File \"/usr/local/lib/python3.6/dist-packages/pandas/core/apply.py\", line 186, in get_result\n",
            "    return self.apply_standard()\n",
            "  File \"/usr/local/lib/python3.6/dist-packages/pandas/core/apply.py\", line 341, in apply_series_generator\n",
            "    results[i] = self.f(v)\n",
            "  File \"/usr/local/lib/python3.6/dist-packages/pandas/core/apply.py\", line 313, in apply_standard\n",
            "    results, res_index = self.apply_series_generator()\n",
            "  File \"/usr/local/lib/python3.6/dist-packages/pandas/core/apply.py\", line 313, in apply_standard\n",
            "    results, res_index = self.apply_series_generator()\n",
            "  File \"/usr/local/lib/python3.6/dist-packages/pandas/core/frame.py\", line 6878, in apply\n",
            "    return op.get_result()\n",
            "  File \"/usr/local/lib/python3.6/dist-packages/pandas/core/apply.py\", line 341, in apply_series_generator\n",
            "    results[i] = self.f(v)\n",
            "  File \"/usr/local/lib/python3.6/dist-packages/pandas/core/apply.py\", line 313, in apply_standard\n",
            "    results, res_index = self.apply_series_generator()\n",
            "  File \"/usr/local/lib/python3.6/dist-packages/pandas/core/apply.py\", line 186, in get_result\n",
            "    return self.apply_standard()\n",
            "  File \"/usr/local/lib/python3.6/dist-packages/pandas/core/apply.py\", line 186, in get_result\n",
            "    return self.apply_standard()\n",
            "  File \"/usr/local/lib/python3.6/dist-packages/pandas/core/apply.py\", line 313, in apply_standard\n",
            "    results, res_index = self.apply_series_generator()\n",
            "  File \"/usr/local/lib/python3.6/dist-packages/pandas/core/apply.py\", line 341, in apply_series_generator\n",
            "    results[i] = self.f(v)\n",
            "  File \"/usr/local/lib/python3.6/dist-packages/pandas/core/apply.py\", line 186, in get_result\n",
            "    return self.apply_standard()\n",
            "  File \"/usr/lib/python3.6/multiprocessing/process.py\", line 93, in run\n",
            "    self._target(*self._args, **self._kwargs)\n",
            "  File \"/usr/local/lib/python3.6/dist-packages/pandas/core/apply.py\", line 313, in apply_standard\n",
            "    results, res_index = self.apply_series_generator()\n",
            "  File \"/usr/local/lib/python3.6/dist-packages/pandas/core/apply.py\", line 341, in apply_series_generator\n",
            "    results[i] = self.f(v)\n",
            "  File \"/usr/local/lib/python3.6/dist-packages/pandas/core/apply.py\", line 313, in apply_standard\n",
            "    results, res_index = self.apply_series_generator()\n",
            "  File \"/usr/lib/python3.6/multiprocessing/process.py\", line 93, in run\n",
            "    self._target(*self._args, **self._kwargs)\n",
            "  File \"/usr/local/lib/python3.6/dist-packages/pandas/core/apply.py\", line 313, in apply_standard\n",
            "    results, res_index = self.apply_series_generator()\n",
            "  File \"/usr/local/lib/python3.6/dist-packages/pandas/core/apply.py\", line 341, in apply_series_generator\n",
            "    results[i] = self.f(v)\n",
            "  File \"/usr/local/lib/python3.6/dist-packages/pandas/core/apply.py\", line 186, in get_result\n",
            "    return self.apply_standard()\n",
            "  File \"/usr/local/lib/python3.6/dist-packages/pandas/core/apply.py\", line 341, in apply_series_generator\n",
            "    results[i] = self.f(v)\n",
            "  File \"/usr/local/lib/python3.6/dist-packages/pandas/core/apply.py\", line 186, in get_result\n",
            "    return self.apply_standard()\n",
            "  File \"/usr/local/lib/python3.6/dist-packages/pandas/core/apply.py\", line 186, in get_result\n",
            "    return self.apply_standard()\n",
            "  File \"/usr/local/lib/python3.6/dist-packages/pandas/core/apply.py\", line 313, in apply_standard\n",
            "    results, res_index = self.apply_series_generator()\n",
            "  File \"/usr/lib/python3.6/multiprocessing/pool.py\", line 119, in worker\n",
            "    result = (True, func(*args, **kwds))\n",
            "  File \"/usr/local/lib/python3.6/dist-packages/pandas/core/apply.py\", line 313, in apply_standard\n",
            "    results, res_index = self.apply_series_generator()\n",
            "  File \"/usr/local/lib/python3.6/dist-packages/pandas/core/apply.py\", line 186, in get_result\n",
            "    return self.apply_standard()\n",
            "  File \"/usr/lib/python3.6/multiprocessing/pool.py\", line 119, in worker\n",
            "    result = (True, func(*args, **kwds))\n",
            "  File \"/usr/local/lib/python3.6/dist-packages/pandas/core/apply.py\", line 186, in get_result\n",
            "    return self.apply_standard()\n",
            "  File \"/usr/lib/python3.6/multiprocessing/pool.py\", line 119, in worker\n",
            "    result = (True, func(*args, **kwds))\n",
            "  File \"/usr/local/lib/python3.6/dist-packages/pandas/core/apply.py\", line 313, in apply_standard\n",
            "    results, res_index = self.apply_series_generator()\n",
            "  File \"/usr/local/lib/python3.6/dist-packages/pandas/core/apply.py\", line 186, in get_result\n",
            "    return self.apply_standard()\n",
            "  File \"/usr/local/lib/python3.6/dist-packages/pandas/core/apply.py\", line 313, in apply_standard\n",
            "    results, res_index = self.apply_series_generator()\n",
            "  File \"/usr/local/lib/python3.6/dist-packages/pandas/core/apply.py\", line 186, in get_result\n",
            "    return self.apply_standard()\n",
            "  File \"/usr/lib/python3.6/multiprocessing/pool.py\", line 119, in worker\n",
            "    result = (True, func(*args, **kwds))\n",
            "  File \"/usr/local/lib/python3.6/dist-packages/pandas/core/apply.py\", line 313, in apply_standard\n",
            "    results, res_index = self.apply_series_generator()\n",
            "  File \"/usr/local/lib/python3.6/dist-packages/pandas/core/apply.py\", line 313, in apply_standard\n",
            "    results, res_index = self.apply_series_generator()\n",
            "  File \"/usr/local/lib/python3.6/dist-packages/pandas/core/apply.py\", line 341, in apply_series_generator\n",
            "    results[i] = self.f(v)\n",
            "  File \"/usr/local/lib/python3.6/dist-packages/pandas/core/apply.py\", line 313, in apply_standard\n",
            "    results, res_index = self.apply_series_generator()\n",
            "  File \"/usr/local/lib/python3.6/dist-packages/pandas/core/apply.py\", line 341, in apply_series_generator\n",
            "    results[i] = self.f(v)\n",
            "  File \"/usr/local/lib/python3.6/dist-packages/pandas/core/apply.py\", line 313, in apply_standard\n",
            "    results, res_index = self.apply_series_generator()\n",
            "  File \"<ipython-input-194-5010ef6da3a9>\", line 1, in <lambda>\n",
            "    Dataset[['previous_demerits_avg','no_of_inspections']]=Dataset.parallel_apply(lambda x : get_features(x['business_id'],x['inspection_date'],y_file),axis =1,result_type ='expand')\n",
            "  File \"/usr/local/lib/python3.6/dist-packages/pandas/core/apply.py\", line 341, in apply_series_generator\n",
            "    results[i] = self.f(v)\n",
            "  File \"/usr/local/lib/python3.6/dist-packages/pandas/core/apply.py\", line 341, in apply_series_generator\n",
            "    results[i] = self.f(v)\n",
            "  File \"/usr/local/lib/python3.6/dist-packages/pandas/core/apply.py\", line 186, in get_result\n",
            "    return self.apply_standard()\n",
            "  File \"<ipython-input-194-5010ef6da3a9>\", line 1, in <lambda>\n",
            "    Dataset[['previous_demerits_avg','no_of_inspections']]=Dataset.parallel_apply(lambda x : get_features(x['business_id'],x['inspection_date'],y_file),axis =1,result_type ='expand')\n",
            "  File \"/usr/local/lib/python3.6/dist-packages/pandas/core/apply.py\", line 313, in apply_standard\n",
            "    results, res_index = self.apply_series_generator()\n",
            "  File \"/usr/local/lib/python3.6/dist-packages/pandas/core/apply.py\", line 313, in apply_standard\n",
            "    results, res_index = self.apply_series_generator()\n",
            "  File \"/usr/local/lib/python3.6/dist-packages/pandas/core/apply.py\", line 341, in apply_series_generator\n",
            "    results[i] = self.f(v)\n",
            "  File \"<ipython-input-194-5010ef6da3a9>\", line 1, in <lambda>\n",
            "    Dataset[['previous_demerits_avg','no_of_inspections']]=Dataset.parallel_apply(lambda x : get_features(x['business_id'],x['inspection_date'],y_file),axis =1,result_type ='expand')\n",
            "  File \"/usr/local/lib/python3.6/dist-packages/pandas/core/apply.py\", line 341, in apply_series_generator\n",
            "    results[i] = self.f(v)\n",
            "  File \"/usr/lib/python3.6/multiprocessing/pool.py\", line 119, in worker\n",
            "    result = (True, func(*args, **kwds))\n",
            "  File \"/usr/local/lib/python3.6/dist-packages/pandas/core/apply.py\", line 341, in apply_series_generator\n",
            "    results[i] = self.f(v)\n",
            "  File \"<ipython-input-194-5010ef6da3a9>\", line 1, in <lambda>\n",
            "    Dataset[['previous_demerits_avg','no_of_inspections']]=Dataset.parallel_apply(lambda x : get_features(x['business_id'],x['inspection_date'],y_file),axis =1,result_type ='expand')\n",
            "  File \"/usr/local/lib/python3.6/dist-packages/pandas/core/apply.py\", line 313, in apply_standard\n",
            "    results, res_index = self.apply_series_generator()\n",
            "  File \"/usr/local/lib/python3.6/dist-packages/pandas/core/apply.py\", line 341, in apply_series_generator\n",
            "    results[i] = self.f(v)\n",
            "  File \"/usr/lib/python3.6/multiprocessing/pool.py\", line 119, in worker\n",
            "    result = (True, func(*args, **kwds))\n",
            "  File \"/usr/local/lib/python3.6/dist-packages/pandas/core/apply.py\", line 341, in apply_series_generator\n",
            "    results[i] = self.f(v)\n",
            "  File \"/usr/local/lib/python3.6/dist-packages/pandas/core/apply.py\", line 313, in apply_standard\n",
            "    results, res_index = self.apply_series_generator()\n",
            "  File \"<ipython-input-194-5010ef6da3a9>\", line 1, in <lambda>\n",
            "    Dataset[['previous_demerits_avg','no_of_inspections']]=Dataset.parallel_apply(lambda x : get_features(x['business_id'],x['inspection_date'],y_file),axis =1,result_type ='expand')\n",
            "  File \"/usr/local/lib/python3.6/dist-packages/pandas/core/apply.py\", line 313, in apply_standard\n",
            "    results, res_index = self.apply_series_generator()\n",
            "  File \"<ipython-input-194-5010ef6da3a9>\", line 1, in <lambda>\n",
            "    Dataset[['previous_demerits_avg','no_of_inspections']]=Dataset.parallel_apply(lambda x : get_features(x['business_id'],x['inspection_date'],y_file),axis =1,result_type ='expand')\n",
            "  File \"/usr/local/lib/python3.6/dist-packages/pandas/core/apply.py\", line 313, in apply_standard\n",
            "    results, res_index = self.apply_series_generator()\n",
            "  File \"/usr/local/lib/python3.6/dist-packages/pandas/core/apply.py\", line 341, in apply_series_generator\n",
            "    results[i] = self.f(v)\n",
            "  File \"/usr/lib/python3.6/multiprocessing/pool.py\", line 44, in mapstar\n",
            "    return list(map(*args))\n",
            "  File \"/usr/local/lib/python3.6/dist-packages/pandas/core/apply.py\", line 313, in apply_standard\n",
            "    results, res_index = self.apply_series_generator()\n",
            "  File \"/usr/local/lib/python3.6/dist-packages/pandas/core/apply.py\", line 341, in apply_series_generator\n",
            "    results[i] = self.f(v)\n",
            "  File \"/usr/local/lib/python3.6/dist-packages/pandas/core/apply.py\", line 313, in apply_standard\n",
            "    results, res_index = self.apply_series_generator()\n",
            "  File \"/usr/lib/python3.6/multiprocessing/pool.py\", line 44, in mapstar\n",
            "    return list(map(*args))\n",
            "  File \"/usr/lib/python3.6/multiprocessing/pool.py\", line 44, in mapstar\n",
            "    return list(map(*args))\n",
            "  File \"/usr/local/lib/python3.6/dist-packages/pandas/core/apply.py\", line 341, in apply_series_generator\n",
            "    results[i] = self.f(v)\n",
            "  File \"/usr/local/lib/python3.6/dist-packages/pandas/core/apply.py\", line 313, in apply_standard\n",
            "    results, res_index = self.apply_series_generator()\n",
            "  File \"/usr/local/lib/python3.6/dist-packages/pandas/core/apply.py\", line 313, in apply_standard\n",
            "    results, res_index = self.apply_series_generator()\n",
            "  File \"/usr/local/lib/python3.6/dist-packages/pandas/core/apply.py\", line 341, in apply_series_generator\n",
            "    results[i] = self.f(v)\n",
            "  File \"/usr/lib/python3.6/multiprocessing/pool.py\", line 44, in mapstar\n",
            "    return list(map(*args))\n",
            "  File \"/usr/local/lib/python3.6/dist-packages/pandas/core/apply.py\", line 341, in apply_series_generator\n",
            "    results[i] = self.f(v)\n",
            "  File \"/usr/local/lib/python3.6/dist-packages/pandas/core/apply.py\", line 341, in apply_series_generator\n",
            "    results[i] = self.f(v)\n",
            "  File \"<ipython-input-194-5010ef6da3a9>\", line 1, in <lambda>\n",
            "    Dataset[['previous_demerits_avg','no_of_inspections']]=Dataset.parallel_apply(lambda x : get_features(x['business_id'],x['inspection_date'],y_file),axis =1,result_type ='expand')\n",
            "  File \"/usr/local/lib/python3.6/dist-packages/pandas/core/apply.py\", line 341, in apply_series_generator\n",
            "    results[i] = self.f(v)\n",
            "  File \"/usr/local/lib/python3.6/dist-packages/pandas/core/apply.py\", line 341, in apply_series_generator\n",
            "    results[i] = self.f(v)\n",
            "  File \"<ipython-input-194-5010ef6da3a9>\", line 1, in <lambda>\n",
            "    Dataset[['previous_demerits_avg','no_of_inspections']]=Dataset.parallel_apply(lambda x : get_features(x['business_id'],x['inspection_date'],y_file),axis =1,result_type ='expand')\n",
            "  File \"<ipython-input-54-5548c4fa2ab7>\", line 2, in get_features\n",
            "    temp_df= y_file[y_file.business_id == b_id]\n",
            "  File \"<ipython-input-194-5010ef6da3a9>\", line 1, in <lambda>\n",
            "    Dataset[['previous_demerits_avg','no_of_inspections']]=Dataset.parallel_apply(lambda x : get_features(x['business_id'],x['inspection_date'],y_file),axis =1,result_type ='expand')\n",
            "  File \"/usr/local/lib/python3.6/dist-packages/pandas/core/apply.py\", line 313, in apply_standard\n",
            "    results, res_index = self.apply_series_generator()\n",
            "  File \"<ipython-input-194-5010ef6da3a9>\", line 1, in <lambda>\n",
            "    Dataset[['previous_demerits_avg','no_of_inspections']]=Dataset.parallel_apply(lambda x : get_features(x['business_id'],x['inspection_date'],y_file),axis =1,result_type ='expand')\n",
            "  File \"<ipython-input-54-5548c4fa2ab7>\", line 2, in get_features\n",
            "    temp_df= y_file[y_file.business_id == b_id]\n",
            "  File \"/usr/local/lib/python3.6/dist-packages/pandas/core/apply.py\", line 341, in apply_series_generator\n",
            "    results[i] = self.f(v)\n",
            "  File \"<ipython-input-194-5010ef6da3a9>\", line 1, in <lambda>\n",
            "    Dataset[['previous_demerits_avg','no_of_inspections']]=Dataset.parallel_apply(lambda x : get_features(x['business_id'],x['inspection_date'],y_file),axis =1,result_type ='expand')\n",
            "  File \"/usr/local/lib/python3.6/dist-packages/pandas/core/apply.py\", line 341, in apply_series_generator\n",
            "    results[i] = self.f(v)\n",
            "  File \"<ipython-input-54-5548c4fa2ab7>\", line 2, in get_features\n",
            "    temp_df= y_file[y_file.business_id == b_id]\n",
            "  File \"<ipython-input-194-5010ef6da3a9>\", line 1, in <lambda>\n",
            "    Dataset[['previous_demerits_avg','no_of_inspections']]=Dataset.parallel_apply(lambda x : get_features(x['business_id'],x['inspection_date'],y_file),axis =1,result_type ='expand')\n",
            "  File \"<ipython-input-194-5010ef6da3a9>\", line 1, in <lambda>\n",
            "    Dataset[['previous_demerits_avg','no_of_inspections']]=Dataset.parallel_apply(lambda x : get_features(x['business_id'],x['inspection_date'],y_file),axis =1,result_type ='expand')\n",
            "  File \"<ipython-input-54-5548c4fa2ab7>\", line 3, in get_features\n",
            "    temp_df = temp_df[temp_df.inspection_date < date]\n",
            "  File \"/usr/lib/python3.6/multiprocessing/pool.py\", line 44, in mapstar\n",
            "    return list(map(*args))\n",
            "  File \"/usr/local/lib/python3.6/dist-packages/pandas/core/apply.py\", line 341, in apply_series_generator\n",
            "    results[i] = self.f(v)\n",
            "  File \"<ipython-input-194-5010ef6da3a9>\", line 1, in <lambda>\n",
            "    Dataset[['previous_demerits_avg','no_of_inspections']]=Dataset.parallel_apply(lambda x : get_features(x['business_id'],x['inspection_date'],y_file),axis =1,result_type ='expand')\n",
            "  File \"/usr/lib/python3.6/multiprocessing/pool.py\", line 44, in mapstar\n",
            "    return list(map(*args))\n",
            "  File \"<ipython-input-194-5010ef6da3a9>\", line 1, in <lambda>\n",
            "    Dataset[['previous_demerits_avg','no_of_inspections']]=Dataset.parallel_apply(lambda x : get_features(x['business_id'],x['inspection_date'],y_file),axis =1,result_type ='expand')\n",
            "  File \"/usr/local/lib/python3.6/dist-packages/pandas/core/apply.py\", line 341, in apply_series_generator\n",
            "    results[i] = self.f(v)\n",
            "  File \"<ipython-input-54-5548c4fa2ab7>\", line 2, in get_features\n",
            "    temp_df= y_file[y_file.business_id == b_id]\n",
            "  File \"/usr/local/lib/python3.6/dist-packages/pandas/core/apply.py\", line 341, in apply_series_generator\n",
            "    results[i] = self.f(v)\n",
            "  File \"/usr/local/lib/python3.6/dist-packages/pandas/core/apply.py\", line 341, in apply_series_generator\n",
            "    results[i] = self.f(v)\n",
            "  File \"<ipython-input-194-5010ef6da3a9>\", line 1, in <lambda>\n",
            "    Dataset[['previous_demerits_avg','no_of_inspections']]=Dataset.parallel_apply(lambda x : get_features(x['business_id'],x['inspection_date'],y_file),axis =1,result_type ='expand')\n",
            "  File \"/usr/local/lib/python3.6/dist-packages/pandas/core/apply.py\", line 341, in apply_series_generator\n",
            "    results[i] = self.f(v)\n",
            "  File \"/usr/local/lib/python3.6/dist-packages/pandarallel/pandarallel.py\", line 59, in global_worker\n",
            "    return _func(x)\n",
            "  File \"<ipython-input-194-5010ef6da3a9>\", line 1, in <lambda>\n",
            "    Dataset[['previous_demerits_avg','no_of_inspections']]=Dataset.parallel_apply(lambda x : get_features(x['business_id'],x['inspection_date'],y_file),axis =1,result_type ='expand')\n",
            "  File \"<ipython-input-54-5548c4fa2ab7>\", line 2, in get_features\n",
            "    temp_df= y_file[y_file.business_id == b_id]\n",
            "  File \"/usr/local/lib/python3.6/dist-packages/pandas/core/apply.py\", line 341, in apply_series_generator\n",
            "    results[i] = self.f(v)\n",
            "  File \"/usr/local/lib/python3.6/dist-packages/pandarallel/pandarallel.py\", line 59, in global_worker\n",
            "    return _func(x)\n",
            "  File \"<ipython-input-194-5010ef6da3a9>\", line 1, in <lambda>\n",
            "    Dataset[['previous_demerits_avg','no_of_inspections']]=Dataset.parallel_apply(lambda x : get_features(x['business_id'],x['inspection_date'],y_file),axis =1,result_type ='expand')\n",
            "  File \"/usr/local/lib/python3.6/dist-packages/pandarallel/pandarallel.py\", line 59, in global_worker\n",
            "    return _func(x)\n",
            "  File \"/usr/local/lib/python3.6/dist-packages/pandas/core/apply.py\", line 341, in apply_series_generator\n",
            "    results[i] = self.f(v)\n",
            "  File \"<ipython-input-194-5010ef6da3a9>\", line 1, in <lambda>\n",
            "    Dataset[['previous_demerits_avg','no_of_inspections']]=Dataset.parallel_apply(lambda x : get_features(x['business_id'],x['inspection_date'],y_file),axis =1,result_type ='expand')\n",
            "  File \"<ipython-input-194-5010ef6da3a9>\", line 1, in <lambda>\n",
            "    Dataset[['previous_demerits_avg','no_of_inspections']]=Dataset.parallel_apply(lambda x : get_features(x['business_id'],x['inspection_date'],y_file),axis =1,result_type ='expand')\n",
            "  File \"<ipython-input-194-5010ef6da3a9>\", line 1, in <lambda>\n",
            "    Dataset[['previous_demerits_avg','no_of_inspections']]=Dataset.parallel_apply(lambda x : get_features(x['business_id'],x['inspection_date'],y_file),axis =1,result_type ='expand')\n",
            "  File \"<ipython-input-54-5548c4fa2ab7>\", line 2, in get_features\n",
            "    temp_df= y_file[y_file.business_id == b_id]\n",
            "  File \"/usr/local/lib/python3.6/dist-packages/pandarallel/pandarallel.py\", line 59, in global_worker\n",
            "    return _func(x)\n",
            "  File \"<ipython-input-194-5010ef6da3a9>\", line 1, in <lambda>\n",
            "    Dataset[['previous_demerits_avg','no_of_inspections']]=Dataset.parallel_apply(lambda x : get_features(x['business_id'],x['inspection_date'],y_file),axis =1,result_type ='expand')\n",
            "  File \"<ipython-input-194-5010ef6da3a9>\", line 1, in <lambda>\n",
            "    Dataset[['previous_demerits_avg','no_of_inspections']]=Dataset.parallel_apply(lambda x : get_features(x['business_id'],x['inspection_date'],y_file),axis =1,result_type ='expand')\n",
            "  File \"/usr/local/lib/python3.6/dist-packages/pandas/core/apply.py\", line 341, in apply_series_generator\n",
            "    results[i] = self.f(v)\n",
            "  File \"/usr/local/lib/python3.6/dist-packages/pandas/core/ops/common.py\", line 64, in new_method\n",
            "    return method(self, other)\n",
            "  File \"<ipython-input-54-5548c4fa2ab7>\", line 2, in get_features\n",
            "    temp_df= y_file[y_file.business_id == b_id]\n",
            "  File \"<ipython-input-54-5548c4fa2ab7>\", line 2, in get_features\n",
            "    temp_df= y_file[y_file.business_id == b_id]\n",
            "  File \"/usr/local/lib/python3.6/dist-packages/pandas/core/apply.py\", line 341, in apply_series_generator\n",
            "    results[i] = self.f(v)\n",
            "  File \"/usr/local/lib/python3.6/dist-packages/pandas/core/ops/common.py\", line 64, in new_method\n",
            "    return method(self, other)\n",
            "  File \"<ipython-input-54-5548c4fa2ab7>\", line 2, in get_features\n",
            "    temp_df= y_file[y_file.business_id == b_id]\n",
            "  File \"<ipython-input-54-5548c4fa2ab7>\", line 2, in get_features\n",
            "    temp_df= y_file[y_file.business_id == b_id]\n",
            "  File \"/usr/local/lib/python3.6/dist-packages/pandas/core/ops/common.py\", line 64, in new_method\n",
            "    return method(self, other)\n",
            "  File \"<ipython-input-54-5548c4fa2ab7>\", line 2, in get_features\n",
            "    temp_df= y_file[y_file.business_id == b_id]\n",
            "  File \"<ipython-input-54-5548c4fa2ab7>\", line 2, in get_features\n",
            "    temp_df= y_file[y_file.business_id == b_id]\n",
            "  File \"<ipython-input-194-5010ef6da3a9>\", line 1, in <lambda>\n",
            "    Dataset[['previous_demerits_avg','no_of_inspections']]=Dataset.parallel_apply(lambda x : get_features(x['business_id'],x['inspection_date'],y_file),axis =1,result_type ='expand')\n",
            "  File \"/usr/local/lib/python3.6/dist-packages/pandas/core/frame.py\", line 2791, in __getitem__\n",
            "    return self._getitem_bool_array(key)\n",
            "  File \"/usr/local/lib/python3.6/dist-packages/pandarallel/pandarallel.py\", line 59, in global_worker\n",
            "    return _func(x)\n",
            "  File \"<ipython-input-54-5548c4fa2ab7>\", line 2, in get_features\n",
            "    temp_df= y_file[y_file.business_id == b_id]\n",
            "  File \"/usr/local/lib/python3.6/dist-packages/pandarallel/pandarallel.py\", line 59, in global_worker\n",
            "    return _func(x)\n",
            "  File \"<ipython-input-54-5548c4fa2ab7>\", line 2, in get_features\n",
            "    temp_df= y_file[y_file.business_id == b_id]\n",
            "  File \"<ipython-input-194-5010ef6da3a9>\", line 1, in <lambda>\n",
            "    Dataset[['previous_demerits_avg','no_of_inspections']]=Dataset.parallel_apply(lambda x : get_features(x['business_id'],x['inspection_date'],y_file),axis =1,result_type ='expand')\n",
            "  File \"/usr/local/lib/python3.6/dist-packages/pandas/core/ops/common.py\", line 64, in new_method\n",
            "    return method(self, other)\n",
            "  File \"<ipython-input-194-5010ef6da3a9>\", line 1, in <lambda>\n",
            "    Dataset[['previous_demerits_avg','no_of_inspections']]=Dataset.parallel_apply(lambda x : get_features(x['business_id'],x['inspection_date'],y_file),axis =1,result_type ='expand')\n",
            "  File \"<ipython-input-194-5010ef6da3a9>\", line 1, in <lambda>\n",
            "    Dataset[['previous_demerits_avg','no_of_inspections']]=Dataset.parallel_apply(lambda x : get_features(x['business_id'],x['inspection_date'],y_file),axis =1,result_type ='expand')\n",
            "  File \"<ipython-input-54-5548c4fa2ab7>\", line 2, in get_features\n",
            "    temp_df= y_file[y_file.business_id == b_id]\n",
            "  File \"<ipython-input-194-5010ef6da3a9>\", line 1, in <lambda>\n",
            "    Dataset[['previous_demerits_avg','no_of_inspections']]=Dataset.parallel_apply(lambda x : get_features(x['business_id'],x['inspection_date'],y_file),axis =1,result_type ='expand')\n",
            "  File \"<ipython-input-194-5010ef6da3a9>\", line 1, in <lambda>\n",
            "    Dataset[['previous_demerits_avg','no_of_inspections']]=Dataset.parallel_apply(lambda x : get_features(x['business_id'],x['inspection_date'],y_file),axis =1,result_type ='expand')\n",
            "  File \"/usr/local/lib/python3.6/dist-packages/pandarallel/pandarallel.py\", line 111, in wrapper\n",
            "    **kwargs\n",
            "  File \"<ipython-input-194-5010ef6da3a9>\", line 1, in <lambda>\n",
            "    Dataset[['previous_demerits_avg','no_of_inspections']]=Dataset.parallel_apply(lambda x : get_features(x['business_id'],x['inspection_date'],y_file),axis =1,result_type ='expand')\n",
            "  File \"<ipython-input-54-5548c4fa2ab7>\", line 2, in get_features\n",
            "    temp_df= y_file[y_file.business_id == b_id]\n",
            "  File \"<ipython-input-194-5010ef6da3a9>\", line 1, in <lambda>\n",
            "    Dataset[['previous_demerits_avg','no_of_inspections']]=Dataset.parallel_apply(lambda x : get_features(x['business_id'],x['inspection_date'],y_file),axis =1,result_type ='expand')\n",
            "  File \"/usr/local/lib/python3.6/dist-packages/pandas/core/ops/common.py\", line 64, in new_method\n",
            "    return method(self, other)\n",
            "  File \"/usr/local/lib/python3.6/dist-packages/pandarallel/pandarallel.py\", line 111, in wrapper\n",
            "    **kwargs\n",
            "  File \"<ipython-input-194-5010ef6da3a9>\", line 1, in <lambda>\n",
            "    Dataset[['previous_demerits_avg','no_of_inspections']]=Dataset.parallel_apply(lambda x : get_features(x['business_id'],x['inspection_date'],y_file),axis =1,result_type ='expand')\n",
            "  File \"/usr/local/lib/python3.6/dist-packages/pandarallel/pandarallel.py\", line 111, in wrapper\n",
            "    **kwargs\n",
            "  File \"<ipython-input-54-5548c4fa2ab7>\", line 2, in get_features\n",
            "    temp_df= y_file[y_file.business_id == b_id]\n",
            "  File \"<ipython-input-54-5548c4fa2ab7>\", line 2, in get_features\n",
            "    temp_df= y_file[y_file.business_id == b_id]\n",
            "  File \"<ipython-input-54-5548c4fa2ab7>\", line 2, in get_features\n",
            "    temp_df= y_file[y_file.business_id == b_id]\n",
            "  File \"<ipython-input-54-5548c4fa2ab7>\", line 2, in get_features\n",
            "    temp_df= y_file[y_file.business_id == b_id]\n",
            "  File \"/usr/local/lib/python3.6/dist-packages/pandas/core/ops/common.py\", line 64, in new_method\n",
            "    return method(self, other)\n",
            "  File \"/usr/local/lib/python3.6/dist-packages/pandarallel/pandarallel.py\", line 111, in wrapper\n",
            "    **kwargs\n",
            "  File \"<ipython-input-54-5548c4fa2ab7>\", line 2, in get_features\n",
            "    temp_df= y_file[y_file.business_id == b_id]\n",
            "  File \"<ipython-input-54-5548c4fa2ab7>\", line 2, in get_features\n",
            "    temp_df= y_file[y_file.business_id == b_id]\n",
            "  File \"/usr/local/lib/python3.6/dist-packages/pandas/core/ops/__init__.py\", line 529, in wrapper\n",
            "    res_values = comparison_op(lvalues, rvalues, op)\n",
            "  File \"/usr/local/lib/python3.6/dist-packages/pandas/core/ops/common.py\", line 64, in new_method\n",
            "    return method(self, other)\n",
            "  File \"/usr/local/lib/python3.6/dist-packages/pandas/core/ops/common.py\", line 64, in new_method\n",
            "    return method(self, other)\n",
            "  File \"<ipython-input-194-5010ef6da3a9>\", line 1, in <lambda>\n",
            "    Dataset[['previous_demerits_avg','no_of_inspections']]=Dataset.parallel_apply(lambda x : get_features(x['business_id'],x['inspection_date'],y_file),axis =1,result_type ='expand')\n",
            "  File \"/usr/local/lib/python3.6/dist-packages/pandas/core/ops/__init__.py\", line 529, in wrapper\n",
            "    res_values = comparison_op(lvalues, rvalues, op)\n",
            "  File \"<ipython-input-194-5010ef6da3a9>\", line 1, in <lambda>\n",
            "    Dataset[['previous_demerits_avg','no_of_inspections']]=Dataset.parallel_apply(lambda x : get_features(x['business_id'],x['inspection_date'],y_file),axis =1,result_type ='expand')\n",
            "  File \"/usr/local/lib/python3.6/dist-packages/pandarallel/pandarallel.py\", line 111, in wrapper\n",
            "    **kwargs\n",
            "  File \"/usr/local/lib/python3.6/dist-packages/pandas/core/ops/common.py\", line 64, in new_method\n",
            "    return method(self, other)\n",
            "  File \"/usr/local/lib/python3.6/dist-packages/pandas/core/ops/__init__.py\", line 529, in wrapper\n",
            "    res_values = comparison_op(lvalues, rvalues, op)\n",
            "  File \"/usr/local/lib/python3.6/dist-packages/pandas/core/ops/common.py\", line 64, in new_method\n",
            "    return method(self, other)\n",
            "  File \"/usr/local/lib/python3.6/dist-packages/pandas/core/ops/common.py\", line 64, in new_method\n",
            "    return method(self, other)\n",
            "  File \"<ipython-input-54-5548c4fa2ab7>\", line 2, in get_features\n",
            "    temp_df= y_file[y_file.business_id == b_id]\n",
            "  File \"/usr/local/lib/python3.6/dist-packages/pandarallel/pandarallel.py\", line 111, in wrapper\n",
            "    **kwargs\n",
            "  File \"/usr/local/lib/python3.6/dist-packages/pandas/core/frame.py\", line 2845, in _getitem_bool_array\n",
            "    return self._take_with_is_copy(indexer, axis=0)\n",
            "  File \"/usr/local/lib/python3.6/dist-packages/pandas/core/ops/common.py\", line 64, in new_method\n",
            "    return method(self, other)\n",
            "  File \"/usr/local/lib/python3.6/dist-packages/pandas/core/ops/common.py\", line 64, in new_method\n",
            "    return method(self, other)\n",
            "  File \"<ipython-input-54-5548c4fa2ab7>\", line 2, in get_features\n",
            "    temp_df= y_file[y_file.business_id == b_id]\n",
            "  File \"/usr/local/lib/python3.6/dist-packages/pandas/core/ops/common.py\", line 64, in new_method\n",
            "    return method(self, other)\n",
            "  File \"<ipython-input-54-5548c4fa2ab7>\", line 2, in get_features\n",
            "    temp_df= y_file[y_file.business_id == b_id]\n",
            "  File \"<ipython-input-54-5548c4fa2ab7>\", line 2, in get_features\n",
            "    temp_df= y_file[y_file.business_id == b_id]\n",
            "  File \"/usr/local/lib/python3.6/dist-packages/pandas/core/ops/common.py\", line 64, in new_method\n",
            "    return method(self, other)\n",
            "  File \"/usr/local/lib/python3.6/dist-packages/pandas/core/ops/common.py\", line 64, in new_method\n",
            "    return method(self, other)\n",
            "  File \"/usr/local/lib/python3.6/dist-packages/pandarallel/data_types/dataframe.py\", line 31, in worker\n",
            "    return df.apply(func, *args, **kwargs)\n",
            "  File \"<ipython-input-54-5548c4fa2ab7>\", line 2, in get_features\n",
            "    temp_df= y_file[y_file.business_id == b_id]\n",
            "  File \"<ipython-input-54-5548c4fa2ab7>\", line 2, in get_features\n",
            "    temp_df= y_file[y_file.business_id == b_id]\n",
            "  File \"/usr/local/lib/python3.6/dist-packages/pandas/core/ops/__init__.py\", line 529, in wrapper\n",
            "    res_values = comparison_op(lvalues, rvalues, op)\n",
            "  File \"/usr/local/lib/python3.6/dist-packages/pandas/core/ops/__init__.py\", line 529, in wrapper\n",
            "    res_values = comparison_op(lvalues, rvalues, op)\n",
            "  File \"/usr/local/lib/python3.6/dist-packages/pandarallel/data_types/dataframe.py\", line 31, in worker\n",
            "    return df.apply(func, *args, **kwargs)\n",
            "  File \"<ipython-input-54-5548c4fa2ab7>\", line 2, in get_features\n",
            "    temp_df= y_file[y_file.business_id == b_id]\n",
            "  File \"<ipython-input-54-5548c4fa2ab7>\", line 2, in get_features\n",
            "    temp_df= y_file[y_file.business_id == b_id]\n",
            "  File \"/usr/local/lib/python3.6/dist-packages/pandarallel/data_types/dataframe.py\", line 31, in worker\n",
            "    return df.apply(func, *args, **kwargs)\n",
            "  File \"<ipython-input-54-5548c4fa2ab7>\", line 2, in get_features\n",
            "    temp_df= y_file[y_file.business_id == b_id]\n",
            "  File \"/usr/local/lib/python3.6/dist-packages/pandas/core/ops/common.py\", line 64, in new_method\n",
            "    return method(self, other)\n",
            "  File \"/usr/local/lib/python3.6/dist-packages/pandas/core/ops/common.py\", line 64, in new_method\n",
            "    return method(self, other)\n",
            "  File \"/usr/local/lib/python3.6/dist-packages/pandas/core/ops/common.py\", line 64, in new_method\n",
            "    return method(self, other)\n",
            "  File \"/usr/local/lib/python3.6/dist-packages/pandas/core/ops/common.py\", line 64, in new_method\n",
            "    return method(self, other)\n",
            "  File \"/usr/local/lib/python3.6/dist-packages/pandarallel/data_types/dataframe.py\", line 31, in worker\n",
            "    return df.apply(func, *args, **kwargs)\n",
            "  File \"/usr/local/lib/python3.6/dist-packages/pandas/core/ops/__init__.py\", line 529, in wrapper\n",
            "    res_values = comparison_op(lvalues, rvalues, op)\n",
            "  File \"/usr/local/lib/python3.6/dist-packages/pandas/core/ops/common.py\", line 64, in new_method\n",
            "    return method(self, other)\n",
            "  File \"/usr/local/lib/python3.6/dist-packages/pandas/core/ops/array_ops.py\", line 247, in comparison_op\n",
            "    res_values = comp_method_OBJECT_ARRAY(op, lvalues, rvalues)\n",
            "  File \"/usr/local/lib/python3.6/dist-packages/pandas/core/ops/common.py\", line 64, in new_method\n",
            "    return method(self, other)\n",
            "  File \"/usr/local/lib/python3.6/dist-packages/pandas/core/ops/__init__.py\", line 529, in wrapper\n",
            "    res_values = comparison_op(lvalues, rvalues, op)\n",
            "  File \"/usr/local/lib/python3.6/dist-packages/pandas/core/ops/__init__.py\", line 529, in wrapper\n",
            "    res_values = comparison_op(lvalues, rvalues, op)\n",
            "  File \"<ipython-input-54-5548c4fa2ab7>\", line 2, in get_features\n",
            "    temp_df= y_file[y_file.business_id == b_id]\n",
            "  File \"/usr/local/lib/python3.6/dist-packages/pandas/core/ops/__init__.py\", line 529, in wrapper\n",
            "    res_values = comparison_op(lvalues, rvalues, op)\n",
            "  File \"<ipython-input-54-5548c4fa2ab7>\", line 2, in get_features\n",
            "    temp_df= y_file[y_file.business_id == b_id]\n",
            "  File \"/usr/local/lib/python3.6/dist-packages/pandas/core/ops/array_ops.py\", line 247, in comparison_op\n",
            "    res_values = comp_method_OBJECT_ARRAY(op, lvalues, rvalues)\n",
            "  File \"/usr/local/lib/python3.6/dist-packages/pandas/core/ops/array_ops.py\", line 247, in comparison_op\n",
            "    res_values = comp_method_OBJECT_ARRAY(op, lvalues, rvalues)\n",
            "  File \"/usr/local/lib/python3.6/dist-packages/pandas/core/ops/common.py\", line 64, in new_method\n",
            "    return method(self, other)\n",
            "  File \"/usr/local/lib/python3.6/dist-packages/pandas/core/generic.py\", line 3409, in _take_with_is_copy\n",
            "    result = self.take(indices=indices, axis=axis, **kwargs)\n",
            "  File \"/usr/local/lib/python3.6/dist-packages/pandas/core/ops/__init__.py\", line 529, in wrapper\n",
            "    res_values = comparison_op(lvalues, rvalues, op)\n",
            "  File \"/usr/local/lib/python3.6/dist-packages/pandas/core/ops/__init__.py\", line 529, in wrapper\n",
            "    res_values = comparison_op(lvalues, rvalues, op)\n",
            "  File \"/usr/local/lib/python3.6/dist-packages/pandarallel/data_types/dataframe.py\", line 31, in worker\n",
            "    return df.apply(func, *args, **kwargs)\n",
            "  File \"/usr/local/lib/python3.6/dist-packages/pandas/core/ops/__init__.py\", line 529, in wrapper\n",
            "    res_values = comparison_op(lvalues, rvalues, op)\n",
            "  File \"/usr/local/lib/python3.6/dist-packages/pandas/core/ops/__init__.py\", line 529, in wrapper\n",
            "    res_values = comparison_op(lvalues, rvalues, op)\n",
            "  File \"/usr/local/lib/python3.6/dist-packages/pandas/core/ops/common.py\", line 64, in new_method\n",
            "    return method(self, other)\n",
            "  File \"/usr/local/lib/python3.6/dist-packages/pandarallel/data_types/dataframe.py\", line 31, in worker\n",
            "    return df.apply(func, *args, **kwargs)\n",
            "  File \"/usr/local/lib/python3.6/dist-packages/pandas/core/ops/__init__.py\", line 529, in wrapper\n",
            "    res_values = comparison_op(lvalues, rvalues, op)\n",
            "  File \"/usr/local/lib/python3.6/dist-packages/pandas/core/ops/common.py\", line 64, in new_method\n",
            "    return method(self, other)\n",
            "  File \"/usr/local/lib/python3.6/dist-packages/pandas/core/ops/__init__.py\", line 529, in wrapper\n",
            "    res_values = comparison_op(lvalues, rvalues, op)\n",
            "  File \"/usr/local/lib/python3.6/dist-packages/pandas/core/ops/common.py\", line 64, in new_method\n",
            "    return method(self, other)\n",
            "  File \"/usr/local/lib/python3.6/dist-packages/pandas/core/ops/__init__.py\", line 529, in wrapper\n",
            "    res_values = comparison_op(lvalues, rvalues, op)\n",
            "  File \"/usr/local/lib/python3.6/dist-packages/pandas/core/frame.py\", line 6878, in apply\n",
            "    return op.get_result()\n",
            "  File \"/usr/local/lib/python3.6/dist-packages/pandas/core/ops/common.py\", line 64, in new_method\n",
            "    return method(self, other)\n",
            "  File \"/usr/local/lib/python3.6/dist-packages/pandas/core/ops/common.py\", line 64, in new_method\n",
            "    return method(self, other)\n",
            "  File \"/usr/local/lib/python3.6/dist-packages/pandas/core/frame.py\", line 6878, in apply\n",
            "    return op.get_result()\n",
            "  File \"/usr/local/lib/python3.6/dist-packages/pandas/core/ops/__init__.py\", line 529, in wrapper\n",
            "    res_values = comparison_op(lvalues, rvalues, op)\n",
            "  File \"/usr/local/lib/python3.6/dist-packages/pandas/core/ops/common.py\", line 64, in new_method\n",
            "    return method(self, other)\n",
            "  File \"/usr/local/lib/python3.6/dist-packages/pandas/core/ops/array_ops.py\", line 247, in comparison_op\n",
            "    res_values = comp_method_OBJECT_ARRAY(op, lvalues, rvalues)\n",
            "  File \"/usr/local/lib/python3.6/dist-packages/pandas/core/ops/array_ops.py\", line 247, in comparison_op\n",
            "    res_values = comp_method_OBJECT_ARRAY(op, lvalues, rvalues)\n",
            "  File \"/usr/local/lib/python3.6/dist-packages/pandas/core/ops/array_ops.py\", line 247, in comparison_op\n",
            "    res_values = comp_method_OBJECT_ARRAY(op, lvalues, rvalues)\n",
            "  File \"/usr/local/lib/python3.6/dist-packages/pandas/core/ops/common.py\", line 64, in new_method\n",
            "    return method(self, other)\n",
            "  File \"/usr/local/lib/python3.6/dist-packages/pandas/core/ops/__init__.py\", line 529, in wrapper\n",
            "    res_values = comparison_op(lvalues, rvalues, op)\n",
            "  File \"/usr/local/lib/python3.6/dist-packages/pandas/core/ops/__init__.py\", line 529, in wrapper\n",
            "    res_values = comparison_op(lvalues, rvalues, op)\n",
            "  File \"/usr/local/lib/python3.6/dist-packages/pandas/core/frame.py\", line 6878, in apply\n",
            "    return op.get_result()\n",
            "  File \"/usr/local/lib/python3.6/dist-packages/pandas/core/ops/__init__.py\", line 529, in wrapper\n",
            "    res_values = comparison_op(lvalues, rvalues, op)\n",
            "  File \"/usr/local/lib/python3.6/dist-packages/pandas/core/ops/__init__.py\", line 529, in wrapper\n",
            "    res_values = comparison_op(lvalues, rvalues, op)\n",
            "  File \"/usr/local/lib/python3.6/dist-packages/pandas/core/ops/common.py\", line 64, in new_method\n",
            "    return method(self, other)\n",
            "  File \"/usr/local/lib/python3.6/dist-packages/pandas/core/frame.py\", line 6878, in apply\n",
            "    return op.get_result()\n",
            "  File \"/usr/local/lib/python3.6/dist-packages/pandas/core/ops/array_ops.py\", line 247, in comparison_op\n",
            "    res_values = comp_method_OBJECT_ARRAY(op, lvalues, rvalues)\n",
            "  File \"/usr/local/lib/python3.6/dist-packages/pandas/core/ops/__init__.py\", line 529, in wrapper\n",
            "    res_values = comparison_op(lvalues, rvalues, op)\n",
            "  File \"/usr/local/lib/python3.6/dist-packages/pandas/core/ops/array_ops.py\", line 247, in comparison_op\n",
            "    res_values = comp_method_OBJECT_ARRAY(op, lvalues, rvalues)\n",
            "  File \"/usr/local/lib/python3.6/dist-packages/pandas/core/ops/common.py\", line 64, in new_method\n",
            "    return method(self, other)\n",
            "  File \"/usr/local/lib/python3.6/dist-packages/pandas/core/ops/common.py\", line 64, in new_method\n",
            "    return method(self, other)\n",
            "  File \"/usr/local/lib/python3.6/dist-packages/pandas/core/frame.py\", line 6878, in apply\n",
            "    return op.get_result()\n",
            "  File \"/usr/local/lib/python3.6/dist-packages/pandas/core/ops/array_ops.py\", line 57, in comp_method_OBJECT_ARRAY\n",
            "    result = libops.scalar_compare(x.ravel(), y, op)\n",
            "  File \"/usr/local/lib/python3.6/dist-packages/pandas/core/ops/array_ops.py\", line 247, in comparison_op\n",
            "    res_values = comp_method_OBJECT_ARRAY(op, lvalues, rvalues)\n",
            "  File \"/usr/local/lib/python3.6/dist-packages/pandas/core/ops/array_ops.py\", line 57, in comp_method_OBJECT_ARRAY\n",
            "    result = libops.scalar_compare(x.ravel(), y, op)\n",
            "  File \"/usr/local/lib/python3.6/dist-packages/pandas/core/ops/array_ops.py\", line 247, in comparison_op\n",
            "    res_values = comp_method_OBJECT_ARRAY(op, lvalues, rvalues)\n",
            "  File \"/usr/local/lib/python3.6/dist-packages/pandas/core/ops/__init__.py\", line 529, in wrapper\n",
            "    res_values = comparison_op(lvalues, rvalues, op)\n",
            "  File \"/usr/local/lib/python3.6/dist-packages/pandas/core/generic.py\", line 3395, in take\n",
            "    indices, axis=self._get_block_manager_axis(axis), verify=True\n",
            "  File \"/usr/local/lib/python3.6/dist-packages/pandas/core/ops/array_ops.py\", line 247, in comparison_op\n",
            "    res_values = comp_method_OBJECT_ARRAY(op, lvalues, rvalues)\n",
            "  File \"/usr/local/lib/python3.6/dist-packages/pandas/core/ops/array_ops.py\", line 247, in comparison_op\n",
            "    res_values = comp_method_OBJECT_ARRAY(op, lvalues, rvalues)\n",
            "  File \"/usr/local/lib/python3.6/dist-packages/pandas/core/frame.py\", line 6878, in apply\n",
            "    return op.get_result()\n",
            "  File \"/usr/local/lib/python3.6/dist-packages/pandas/core/ops/__init__.py\", line 529, in wrapper\n",
            "    res_values = comparison_op(lvalues, rvalues, op)\n",
            "  File \"/usr/local/lib/python3.6/dist-packages/pandas/core/ops/__init__.py\", line 529, in wrapper\n",
            "    res_values = comparison_op(lvalues, rvalues, op)\n",
            "  File \"/usr/local/lib/python3.6/dist-packages/pandas/core/ops/array_ops.py\", line 247, in comparison_op\n",
            "    res_values = comp_method_OBJECT_ARRAY(op, lvalues, rvalues)\n",
            "  File \"/usr/local/lib/python3.6/dist-packages/pandas/core/ops/array_ops.py\", line 247, in comparison_op\n",
            "    res_values = comp_method_OBJECT_ARRAY(op, lvalues, rvalues)\n",
            "  File \"/usr/local/lib/python3.6/dist-packages/pandas/core/ops/array_ops.py\", line 57, in comp_method_OBJECT_ARRAY\n",
            "    result = libops.scalar_compare(x.ravel(), y, op)\n",
            "  File \"/usr/local/lib/python3.6/dist-packages/pandas/core/ops/array_ops.py\", line 247, in comparison_op\n",
            "    res_values = comp_method_OBJECT_ARRAY(op, lvalues, rvalues)\n",
            "  File \"/usr/local/lib/python3.6/dist-packages/pandas/core/ops/__init__.py\", line 529, in wrapper\n",
            "    res_values = comparison_op(lvalues, rvalues, op)\n",
            "  File \"/usr/local/lib/python3.6/dist-packages/pandas/core/apply.py\", line 186, in get_result\n",
            "    return self.apply_standard()\n",
            "  File \"/usr/local/lib/python3.6/dist-packages/pandas/core/ops/array_ops.py\", line 247, in comparison_op\n",
            "    res_values = comp_method_OBJECT_ARRAY(op, lvalues, rvalues)\n",
            "  File \"/usr/local/lib/python3.6/dist-packages/pandas/core/ops/__init__.py\", line 529, in wrapper\n",
            "    res_values = comparison_op(lvalues, rvalues, op)\n",
            "  File \"/usr/local/lib/python3.6/dist-packages/pandas/core/ops/__init__.py\", line 529, in wrapper\n",
            "    res_values = comparison_op(lvalues, rvalues, op)\n",
            "  File \"/usr/local/lib/python3.6/dist-packages/pandas/core/ops/array_ops.py\", line 57, in comp_method_OBJECT_ARRAY\n",
            "    result = libops.scalar_compare(x.ravel(), y, op)\n",
            "  File \"/usr/local/lib/python3.6/dist-packages/pandas/core/ops/__init__.py\", line 529, in wrapper\n",
            "    res_values = comparison_op(lvalues, rvalues, op)\n",
            "  File \"/usr/local/lib/python3.6/dist-packages/pandas/core/apply.py\", line 186, in get_result\n",
            "    return self.apply_standard()\n",
            "  File \"/usr/local/lib/python3.6/dist-packages/pandas/core/apply.py\", line 186, in get_result\n",
            "    return self.apply_standard()\n",
            "  File \"/usr/local/lib/python3.6/dist-packages/pandas/core/ops/array_ops.py\", line 247, in comparison_op\n",
            "    res_values = comp_method_OBJECT_ARRAY(op, lvalues, rvalues)\n",
            "  File \"/usr/local/lib/python3.6/dist-packages/pandas/core/ops/__init__.py\", line 529, in wrapper\n",
            "    res_values = comparison_op(lvalues, rvalues, op)\n",
            "  File \"/usr/local/lib/python3.6/dist-packages/pandas/core/ops/__init__.py\", line 529, in wrapper\n",
            "    res_values = comparison_op(lvalues, rvalues, op)\n",
            "  File \"/usr/local/lib/python3.6/dist-packages/pandas/core/ops/array_ops.py\", line 57, in comp_method_OBJECT_ARRAY\n",
            "    result = libops.scalar_compare(x.ravel(), y, op)\n",
            "  File \"/usr/local/lib/python3.6/dist-packages/pandas/core/ops/array_ops.py\", line 247, in comparison_op\n",
            "    res_values = comp_method_OBJECT_ARRAY(op, lvalues, rvalues)\n",
            "  File \"/usr/local/lib/python3.6/dist-packages/pandas/core/ops/array_ops.py\", line 247, in comparison_op\n",
            "    res_values = comp_method_OBJECT_ARRAY(op, lvalues, rvalues)\n",
            "  File \"/usr/local/lib/python3.6/dist-packages/pandas/core/ops/array_ops.py\", line 247, in comparison_op\n",
            "    res_values = comp_method_OBJECT_ARRAY(op, lvalues, rvalues)\n",
            "  File \"/usr/local/lib/python3.6/dist-packages/pandas/core/apply.py\", line 186, in get_result\n",
            "    return self.apply_standard()\n",
            "  File \"/usr/local/lib/python3.6/dist-packages/pandas/core/ops/array_ops.py\", line 57, in comp_method_OBJECT_ARRAY\n",
            "    result = libops.scalar_compare(x.ravel(), y, op)\n",
            "  File \"/usr/local/lib/python3.6/dist-packages/pandas/core/ops/array_ops.py\", line 247, in comparison_op\n",
            "    res_values = comp_method_OBJECT_ARRAY(op, lvalues, rvalues)\n",
            "  File \"/usr/local/lib/python3.6/dist-packages/pandas/core/ops/array_ops.py\", line 57, in comp_method_OBJECT_ARRAY\n",
            "    result = libops.scalar_compare(x.ravel(), y, op)\n",
            "  File \"/usr/local/lib/python3.6/dist-packages/pandas/core/ops/array_ops.py\", line 247, in comparison_op\n",
            "    res_values = comp_method_OBJECT_ARRAY(op, lvalues, rvalues)\n",
            "  File \"/usr/local/lib/python3.6/dist-packages/pandas/core/ops/array_ops.py\", line 57, in comp_method_OBJECT_ARRAY\n",
            "    result = libops.scalar_compare(x.ravel(), y, op)\n",
            "  File \"/usr/local/lib/python3.6/dist-packages/pandas/core/ops/__init__.py\", line 529, in wrapper\n",
            "    res_values = comparison_op(lvalues, rvalues, op)\n",
            "  File \"/usr/local/lib/python3.6/dist-packages/pandas/core/ops/array_ops.py\", line 57, in comp_method_OBJECT_ARRAY\n",
            "    result = libops.scalar_compare(x.ravel(), y, op)\n",
            "  File \"/usr/local/lib/python3.6/dist-packages/pandas/core/ops/__init__.py\", line 529, in wrapper\n",
            "    res_values = comparison_op(lvalues, rvalues, op)\n",
            "  File \"/usr/local/lib/python3.6/dist-packages/pandas/core/ops/array_ops.py\", line 247, in comparison_op\n",
            "    res_values = comp_method_OBJECT_ARRAY(op, lvalues, rvalues)\n",
            "  File \"/usr/local/lib/python3.6/dist-packages/pandas/core/internals/managers.py\", line 1394, in take\n",
            "    new_axis=new_labels, indexer=indexer, axis=axis, allow_dups=True\n",
            "  File \"/usr/local/lib/python3.6/dist-packages/pandas/core/ops/array_ops.py\", line 57, in comp_method_OBJECT_ARRAY\n",
            "    result = libops.scalar_compare(x.ravel(), y, op)\n",
            "  File \"/usr/local/lib/python3.6/dist-packages/pandas/core/ops/array_ops.py\", line 57, in comp_method_OBJECT_ARRAY\n",
            "    result = libops.scalar_compare(x.ravel(), y, op)\n",
            "KeyboardInterrupt\n",
            "  File \"/usr/local/lib/python3.6/dist-packages/pandas/core/apply.py\", line 186, in get_result\n",
            "    return self.apply_standard()\n",
            "  File \"/usr/local/lib/python3.6/dist-packages/pandas/core/ops/array_ops.py\", line 57, in comp_method_OBJECT_ARRAY\n",
            "    result = libops.scalar_compare(x.ravel(), y, op)\n",
            "KeyboardInterrupt\n",
            "  File \"/usr/local/lib/python3.6/dist-packages/pandas/core/ops/array_ops.py\", line 247, in comparison_op\n",
            "    res_values = comp_method_OBJECT_ARRAY(op, lvalues, rvalues)\n",
            "  File \"/usr/local/lib/python3.6/dist-packages/pandas/core/apply.py\", line 186, in get_result\n",
            "    return self.apply_standard()\n",
            "  File \"/usr/local/lib/python3.6/dist-packages/pandas/core/ops/array_ops.py\", line 247, in comparison_op\n",
            "    res_values = comp_method_OBJECT_ARRAY(op, lvalues, rvalues)\n",
            "  File \"/usr/local/lib/python3.6/dist-packages/pandas/core/ops/array_ops.py\", line 57, in comp_method_OBJECT_ARRAY\n",
            "    result = libops.scalar_compare(x.ravel(), y, op)\n",
            "KeyboardInterrupt\n",
            "  File \"/usr/local/lib/python3.6/dist-packages/pandas/core/ops/array_ops.py\", line 247, in comparison_op\n",
            "    res_values = comp_method_OBJECT_ARRAY(op, lvalues, rvalues)\n",
            "  File \"/usr/local/lib/python3.6/dist-packages/pandas/core/ops/array_ops.py\", line 57, in comp_method_OBJECT_ARRAY\n",
            "    result = libops.scalar_compare(x.ravel(), y, op)\n",
            "  File \"/usr/local/lib/python3.6/dist-packages/pandas/core/ops/array_ops.py\", line 57, in comp_method_OBJECT_ARRAY\n",
            "    result = libops.scalar_compare(x.ravel(), y, op)\n",
            "  File \"/usr/local/lib/python3.6/dist-packages/pandas/core/apply.py\", line 313, in apply_standard\n",
            "    results, res_index = self.apply_series_generator()\n",
            "  File \"/usr/local/lib/python3.6/dist-packages/pandas/core/ops/array_ops.py\", line 57, in comp_method_OBJECT_ARRAY\n",
            "    result = libops.scalar_compare(x.ravel(), y, op)\n",
            "  File \"/usr/local/lib/python3.6/dist-packages/pandas/core/ops/array_ops.py\", line 247, in comparison_op\n",
            "    res_values = comp_method_OBJECT_ARRAY(op, lvalues, rvalues)\n",
            "  File \"/usr/local/lib/python3.6/dist-packages/pandas/core/ops/array_ops.py\", line 247, in comparison_op\n",
            "    res_values = comp_method_OBJECT_ARRAY(op, lvalues, rvalues)\n",
            "KeyboardInterrupt\n",
            "  File \"/usr/local/lib/python3.6/dist-packages/pandas/core/ops/array_ops.py\", line 247, in comparison_op\n",
            "    res_values = comp_method_OBJECT_ARRAY(op, lvalues, rvalues)\n",
            "  File \"/usr/local/lib/python3.6/dist-packages/pandas/core/apply.py\", line 313, in apply_standard\n",
            "    results, res_index = self.apply_series_generator()\n",
            "  File \"/usr/local/lib/python3.6/dist-packages/pandas/core/apply.py\", line 313, in apply_standard\n",
            "    results, res_index = self.apply_series_generator()\n",
            "  File \"/usr/local/lib/python3.6/dist-packages/pandas/core/ops/array_ops.py\", line 247, in comparison_op\n",
            "    res_values = comp_method_OBJECT_ARRAY(op, lvalues, rvalues)\n",
            "  File \"/usr/local/lib/python3.6/dist-packages/pandas/core/ops/array_ops.py\", line 57, in comp_method_OBJECT_ARRAY\n",
            "    result = libops.scalar_compare(x.ravel(), y, op)\n",
            "KeyboardInterrupt\n",
            "  File \"/usr/local/lib/python3.6/dist-packages/pandas/core/ops/array_ops.py\", line 57, in comp_method_OBJECT_ARRAY\n",
            "    result = libops.scalar_compare(x.ravel(), y, op)\n",
            "  File \"/usr/local/lib/python3.6/dist-packages/pandas/core/ops/array_ops.py\", line 57, in comp_method_OBJECT_ARRAY\n",
            "    result = libops.scalar_compare(x.ravel(), y, op)\n",
            "  File \"/usr/local/lib/python3.6/dist-packages/pandas/core/ops/array_ops.py\", line 247, in comparison_op\n",
            "    res_values = comp_method_OBJECT_ARRAY(op, lvalues, rvalues)\n",
            "  File \"/usr/local/lib/python3.6/dist-packages/pandas/core/ops/array_ops.py\", line 57, in comp_method_OBJECT_ARRAY\n",
            "    result = libops.scalar_compare(x.ravel(), y, op)\n",
            "  File \"/usr/local/lib/python3.6/dist-packages/pandas/core/apply.py\", line 313, in apply_standard\n",
            "    results, res_index = self.apply_series_generator()\n",
            "  File \"/usr/local/lib/python3.6/dist-packages/pandas/core/ops/array_ops.py\", line 57, in comp_method_OBJECT_ARRAY\n",
            "    result = libops.scalar_compare(x.ravel(), y, op)\n",
            "KeyboardInterrupt\n",
            "KeyboardInterrupt\n",
            "  File \"/usr/local/lib/python3.6/dist-packages/pandas/core/ops/array_ops.py\", line 57, in comp_method_OBJECT_ARRAY\n",
            "    result = libops.scalar_compare(x.ravel(), y, op)\n",
            "  File \"/usr/local/lib/python3.6/dist-packages/pandas/core/ops/array_ops.py\", line 247, in comparison_op\n",
            "    res_values = comp_method_OBJECT_ARRAY(op, lvalues, rvalues)\n",
            "  File \"/usr/local/lib/python3.6/dist-packages/pandas/core/ops/array_ops.py\", line 57, in comp_method_OBJECT_ARRAY\n",
            "    result = libops.scalar_compare(x.ravel(), y, op)\n",
            "KeyboardInterrupt\n",
            "  File \"/usr/local/lib/python3.6/dist-packages/pandas/core/ops/array_ops.py\", line 247, in comparison_op\n",
            "    res_values = comp_method_OBJECT_ARRAY(op, lvalues, rvalues)\n",
            "  File \"/usr/local/lib/python3.6/dist-packages/pandas/core/internals/managers.py\", line 1272, in reindex_indexer\n",
            "    return type(self)(new_blocks, new_axes)\n",
            "KeyboardInterrupt\n",
            "KeyboardInterrupt\n",
            "  File \"/usr/local/lib/python3.6/dist-packages/pandas/core/apply.py\", line 313, in apply_standard\n",
            "    results, res_index = self.apply_series_generator()\n",
            "KeyboardInterrupt\n",
            "  File \"/usr/local/lib/python3.6/dist-packages/pandas/core/apply.py\", line 313, in apply_standard\n",
            "    results, res_index = self.apply_series_generator()\n",
            "  File \"/usr/local/lib/python3.6/dist-packages/pandas/core/ops/array_ops.py\", line 57, in comp_method_OBJECT_ARRAY\n",
            "    result = libops.scalar_compare(x.ravel(), y, op)\n",
            "KeyboardInterrupt\n",
            "  File \"/usr/local/lib/python3.6/dist-packages/pandas/core/ops/array_ops.py\", line 57, in comp_method_OBJECT_ARRAY\n",
            "    result = libops.scalar_compare(x.ravel(), y, op)\n",
            "  File \"/usr/local/lib/python3.6/dist-packages/pandas/core/ops/array_ops.py\", line 57, in comp_method_OBJECT_ARRAY\n",
            "    result = libops.scalar_compare(x.ravel(), y, op)\n",
            "KeyboardInterrupt\n",
            "KeyboardInterrupt\n",
            "KeyboardInterrupt\n",
            "  File \"/usr/local/lib/python3.6/dist-packages/pandas/core/apply.py\", line 341, in apply_series_generator\n",
            "    results[i] = self.f(v)\n",
            "KeyboardInterrupt\n",
            "  File \"/usr/local/lib/python3.6/dist-packages/pandas/core/ops/array_ops.py\", line 57, in comp_method_OBJECT_ARRAY\n",
            "    result = libops.scalar_compare(x.ravel(), y, op)\n",
            "  File \"/usr/local/lib/python3.6/dist-packages/pandas/core/ops/array_ops.py\", line 57, in comp_method_OBJECT_ARRAY\n",
            "    result = libops.scalar_compare(x.ravel(), y, op)\n",
            "  File \"/usr/local/lib/python3.6/dist-packages/pandas/core/apply.py\", line 341, in apply_series_generator\n",
            "    results[i] = self.f(v)\n",
            "  File \"/usr/local/lib/python3.6/dist-packages/pandas/core/apply.py\", line 341, in apply_series_generator\n",
            "    results[i] = self.f(v)\n",
            "  File \"/usr/local/lib/python3.6/dist-packages/pandas/core/ops/array_ops.py\", line 57, in comp_method_OBJECT_ARRAY\n",
            "    result = libops.scalar_compare(x.ravel(), y, op)\n",
            "KeyboardInterrupt\n",
            "KeyboardInterrupt\n",
            "  File \"/usr/local/lib/python3.6/dist-packages/pandas/core/ops/array_ops.py\", line 57, in comp_method_OBJECT_ARRAY\n",
            "    result = libops.scalar_compare(x.ravel(), y, op)\n",
            "  File \"/usr/local/lib/python3.6/dist-packages/pandas/core/ops/array_ops.py\", line 57, in comp_method_OBJECT_ARRAY\n",
            "    result = libops.scalar_compare(x.ravel(), y, op)\n",
            "KeyboardInterrupt\n",
            "  File \"/usr/local/lib/python3.6/dist-packages/pandas/core/apply.py\", line 341, in apply_series_generator\n",
            "    results[i] = self.f(v)\n",
            "KeyboardInterrupt\n",
            "  File \"/usr/local/lib/python3.6/dist-packages/pandas/core/ops/array_ops.py\", line 57, in comp_method_OBJECT_ARRAY\n",
            "    result = libops.scalar_compare(x.ravel(), y, op)\n",
            "KeyboardInterrupt\n",
            "KeyboardInterrupt\n",
            "KeyboardInterrupt\n",
            "  File \"/usr/local/lib/python3.6/dist-packages/pandas/core/internals/managers.py\", line 143, in __init__\n",
            "    self._rebuild_blknos_and_blklocs()\n",
            "KeyboardInterrupt\n",
            "KeyboardInterrupt\n",
            "  File \"/usr/local/lib/python3.6/dist-packages/pandas/core/apply.py\", line 341, in apply_series_generator\n",
            "    results[i] = self.f(v)\n",
            "  File \"/usr/local/lib/python3.6/dist-packages/pandas/core/apply.py\", line 341, in apply_series_generator\n",
            "    results[i] = self.f(v)\n",
            "KeyboardInterrupt\n",
            "  File \"<ipython-input-194-5010ef6da3a9>\", line 1, in <lambda>\n",
            "    Dataset[['previous_demerits_avg','no_of_inspections']]=Dataset.parallel_apply(lambda x : get_features(x['business_id'],x['inspection_date'],y_file),axis =1,result_type ='expand')\n"
          ],
          "name": "stderr"
        }
      ]
    },
    {
      "cell_type": "code",
      "metadata": {
        "id": "UFHhkj0uDahr",
        "colab_type": "code",
        "colab": {}
      },
      "source": [
        "def pass_fail(x):\n",
        "  if (x=='A'):\n",
        "    return (1)\n",
        "  else:\n",
        "    return  (0)"
      ],
      "execution_count": 0,
      "outputs": []
    },
    {
      "cell_type": "code",
      "metadata": {
        "id": "pkxwlKgrD3SU",
        "colab_type": "code",
        "colab": {}
      },
      "source": [
        "Dataset['pass'] = Dataset.inspection_grade.apply(lambda x:pass_fail(x))"
      ],
      "execution_count": 0,
      "outputs": []
    },
    {
      "cell_type": "code",
      "metadata": {
        "id": "PujrDktUECYC",
        "colab_type": "code",
        "colab": {}
      },
      "source": [
        "Dataset.loc[Dataset['previous_demerits_avg'].isna(),'previous_demerits_avg'] = Dataset.previous_demerits_avg.median()"
      ],
      "execution_count": 0,
      "outputs": []
    },
    {
      "cell_type": "code",
      "metadata": {
        "id": "ZWIyhHVdF25O",
        "colab_type": "code",
        "colab": {}
      },
      "source": [
        "Dataset[['previous_A','previous_B','previous_C']] = pd.get_dummies(Dataset.previous_grade).drop(columns = 'NA')"
      ],
      "execution_count": 0,
      "outputs": []
    },
    {
      "cell_type": "code",
      "metadata": {
        "id": "kwsVg_JQGvSZ",
        "colab_type": "code",
        "colab": {
          "base_uri": "https://localhost:8080/",
          "height": 225
        },
        "outputId": "7eea5fc3-0989-467a-b104-097b12a47eb8"
      },
      "source": [
        "Dataset.isna().sum()"
      ],
      "execution_count": 98,
      "outputs": [
        {
          "output_type": "execute_result",
          "data": {
            "text/plain": [
              "business_id            0\n",
              "inspection_date        0\n",
              "inspection_count       0\n",
              "average_demerits       0\n",
              "inspection_grade       0\n",
              "                    ... \n",
              "pass                   0\n",
              "previous_A             0\n",
              "previous_B             0\n",
              "previous_C             0\n",
              "ratings             9599\n",
              "Length: 114, dtype: int64"
            ]
          },
          "metadata": {
            "tags": []
          },
          "execution_count": 98
        }
      ]
    },
    {
      "cell_type": "code",
      "metadata": {
        "id": "-Po-cu5xjYL1",
        "colab_type": "code",
        "colab": {
          "base_uri": "https://localhost:8080/",
          "height": 69
        },
        "outputId": "c37db311-256f-4673-c99d-a3d3db9c2a16"
      },
      "source": [
        "Dataset['pass'].value_counts()"
      ],
      "execution_count": 246,
      "outputs": [
        {
          "output_type": "execute_result",
          "data": {
            "text/plain": [
              "1    40990\n",
              "0    11384\n",
              "Name: pass, dtype: int64"
            ]
          },
          "metadata": {
            "tags": []
          },
          "execution_count": 246
        }
      ]
    },
    {
      "cell_type": "code",
      "metadata": {
        "id": "mm8oa_AHEOdW",
        "colab_type": "code",
        "colab": {}
      },
      "source": [
        "train,test = train_test_split(Dataset,test_size = 0.2,stratify = Dataset['pass'],random_state =100)"
      ],
      "execution_count": 0,
      "outputs": []
    },
    {
      "cell_type": "code",
      "metadata": {
        "id": "qcgn33xYjls-",
        "colab_type": "code",
        "colab": {
          "base_uri": "https://localhost:8080/",
          "height": 69
        },
        "outputId": "bb9d1ba9-749f-4016-d096-71893be34072"
      },
      "source": [
        "test['pass'].value_counts()"
      ],
      "execution_count": 249,
      "outputs": [
        {
          "output_type": "execute_result",
          "data": {
            "text/plain": [
              "1    8198\n",
              "0    2277\n",
              "Name: pass, dtype: int64"
            ]
          },
          "metadata": {
            "tags": []
          },
          "execution_count": 249
        }
      ]
    },
    {
      "cell_type": "code",
      "metadata": {
        "id": "7AqRmx-NFkoM",
        "colab_type": "code",
        "colab": {}
      },
      "source": [
        "X_train = train[ ['sentiment_score'] +  ['ratings'] + ['previous_A','previous_B','previous_C']+['previous_demerits_avg','no_of_inspections']]\n",
        "X_test = test[  ['sentiment_score'] + ['ratings'] + ['previous_A','previous_B','previous_C']+['previous_demerits_avg','no_of_inspections']] "
      ],
      "execution_count": 0,
      "outputs": []
    },
    {
      "cell_type": "code",
      "metadata": {
        "id": "3LpIWNSNDCbS",
        "colab_type": "code",
        "colab": {}
      },
      "source": [
        "Y_train = train['pass']"
      ],
      "execution_count": 0,
      "outputs": []
    },
    {
      "cell_type": "code",
      "metadata": {
        "id": "9k3kK7ENDJVW",
        "colab_type": "code",
        "colab": {}
      },
      "source": [
        "Y_test = test['pass']"
      ],
      "execution_count": 0,
      "outputs": []
    },
    {
      "cell_type": "code",
      "metadata": {
        "id": "g4p7vwz5DOJt",
        "colab_type": "code",
        "colab": {}
      },
      "source": [
        "sc = StandardScaler()"
      ],
      "execution_count": 0,
      "outputs": []
    },
    {
      "cell_type": "code",
      "metadata": {
        "id": "T4H0p9bNJlQV",
        "colab_type": "code",
        "colab": {}
      },
      "source": [
        "rus = RandomUnderSampler(random_state=42)"
      ],
      "execution_count": 0,
      "outputs": []
    },
    {
      "cell_type": "code",
      "metadata": {
        "id": "bQ05YZTwJpa0",
        "colab_type": "code",
        "outputId": "0164a88e-657a-42db-81ea-84a7311c2094",
        "colab": {
          "base_uri": "https://localhost:8080/",
          "height": 72
        }
      },
      "source": [
        "X_train_under,Y_train_under= rus.fit_resample(X_train,Y_train)"
      ],
      "execution_count": 333,
      "outputs": [
        {
          "output_type": "stream",
          "text": [
            "/usr/local/lib/python3.6/dist-packages/sklearn/utils/deprecation.py:87: FutureWarning: Function safe_indexing is deprecated; safe_indexing is deprecated in version 0.22 and will be removed in version 0.24.\n",
            "  warnings.warn(msg, category=FutureWarning)\n"
          ],
          "name": "stderr"
        }
      ]
    },
    {
      "cell_type": "code",
      "metadata": {
        "id": "s1troMqeDcnR",
        "colab_type": "code",
        "colab": {}
      },
      "source": [
        "X_train_fit = sc.fit_transform(X_train_under)"
      ],
      "execution_count": 0,
      "outputs": []
    },
    {
      "cell_type": "code",
      "metadata": {
        "id": "bc_S2qxtIrhN",
        "colab_type": "code",
        "colab": {}
      },
      "source": [
        "X_test_fit  = sc.fit_transform(X_test)"
      ],
      "execution_count": 0,
      "outputs": []
    },
    {
      "cell_type": "code",
      "metadata": {
        "id": "tn7gAJH9VR6b",
        "colab_type": "code",
        "colab": {
          "base_uri": "https://localhost:8080/",
          "height": 156
        },
        "outputId": "b4a84ecd-586c-4003-d1ca-70f0b033704d"
      },
      "source": [
        "clf = RandomForestClassifier(n_estimators=100,min_samples_split=4,min_samples_leaf=2)\n",
        "clf.fit(X_train_fit,Y_train_under)"
      ],
      "execution_count": 337,
      "outputs": [
        {
          "output_type": "execute_result",
          "data": {
            "text/plain": [
              "RandomForestClassifier(bootstrap=True, ccp_alpha=0.0, class_weight=None,\n",
              "                       criterion='gini', max_depth=None, max_features='auto',\n",
              "                       max_leaf_nodes=None, max_samples=None,\n",
              "                       min_impurity_decrease=0.0, min_impurity_split=None,\n",
              "                       min_samples_leaf=2, min_samples_split=4,\n",
              "                       min_weight_fraction_leaf=0.0, n_estimators=100,\n",
              "                       n_jobs=None, oob_score=False, random_state=None,\n",
              "                       verbose=0, warm_start=False)"
            ]
          },
          "metadata": {
            "tags": []
          },
          "execution_count": 337
        }
      ]
    },
    {
      "cell_type": "code",
      "metadata": {
        "id": "Rqk_5m5iIxAE",
        "colab_type": "code",
        "outputId": "eb50950b-b037-4ca8-d22f-bbac6a58f255",
        "colab": {
          "base_uri": "https://localhost:8080/",
          "height": 104
        }
      },
      "source": [
        "logreg = LogisticRegression(n_jobs=1, C=1e5)\n",
        "logreg.fit(X_train_fit,Y_train_under)"
      ],
      "execution_count": 341,
      "outputs": [
        {
          "output_type": "execute_result",
          "data": {
            "text/plain": [
              "LogisticRegression(C=100000.0, class_weight=None, dual=False,\n",
              "                   fit_intercept=True, intercept_scaling=1, l1_ratio=None,\n",
              "                   max_iter=100, multi_class='auto', n_jobs=1, penalty='l2',\n",
              "                   random_state=None, solver='lbfgs', tol=0.0001, verbose=0,\n",
              "                   warm_start=False)"
            ]
          },
          "metadata": {
            "tags": []
          },
          "execution_count": 341
        }
      ]
    },
    {
      "cell_type": "code",
      "metadata": {
        "id": "Cx07NF7VVzvw",
        "colab_type": "code",
        "colab": {
          "base_uri": "https://localhost:8080/",
          "height": 35
        },
        "outputId": "e5fccaa5-771f-43f9-d7cd-9e0901f4e0d2"
      },
      "source": [
        "clf = GaussianNB()\n",
        "clf.fit(X_train_fit,Y_train_under)"
      ],
      "execution_count": 293,
      "outputs": [
        {
          "output_type": "execute_result",
          "data": {
            "text/plain": [
              "GaussianNB(priors=None, var_smoothing=1e-09)"
            ]
          },
          "metadata": {
            "tags": []
          },
          "execution_count": 293
        }
      ]
    },
    {
      "cell_type": "code",
      "metadata": {
        "id": "XFiNAGb8I8eZ",
        "colab_type": "code",
        "colab": {}
      },
      "source": [
        "y_pred = logreg.predict(X_test_fit )"
      ],
      "execution_count": 0,
      "outputs": []
    },
    {
      "cell_type": "code",
      "metadata": {
        "id": "hu4uU5tNI_RF",
        "colab_type": "code",
        "outputId": "c9000271-a8ca-4ad3-c702-a9549de9b565",
        "colab": {
          "base_uri": "https://localhost:8080/",
          "height": 35
        }
      },
      "source": [
        "accuracy_score(y_true=Y_test,y_pred=y_pred)"
      ],
      "execution_count": 343,
      "outputs": [
        {
          "output_type": "execute_result",
          "data": {
            "text/plain": [
              "0.6339856801909308"
            ]
          },
          "metadata": {
            "tags": []
          },
          "execution_count": 343
        }
      ]
    },
    {
      "cell_type": "code",
      "metadata": {
        "id": "FPJX52B8JJuA",
        "colab_type": "code",
        "outputId": "d6ae1686-7b01-440e-d424-300bf29ad112",
        "colab": {
          "base_uri": "https://localhost:8080/",
          "height": 173
        }
      },
      "source": [
        "print(classification_report(y_true=Y_test,y_pred=y_pred, target_names=['fail','pass']))"
      ],
      "execution_count": 344,
      "outputs": [
        {
          "output_type": "stream",
          "text": [
            "              precision    recall  f1-score   support\n",
            "\n",
            "        fail       0.33      0.66      0.44      2277\n",
            "        pass       0.87      0.63      0.73      8198\n",
            "\n",
            "    accuracy                           0.63     10475\n",
            "   macro avg       0.60      0.64      0.58     10475\n",
            "weighted avg       0.75      0.63      0.67     10475\n",
            "\n"
          ],
          "name": "stdout"
        }
      ]
    },
    {
      "cell_type": "code",
      "metadata": {
        "id": "yJvAgEcbp-0Q",
        "colab_type": "code",
        "colab": {
          "base_uri": "https://localhost:8080/",
          "height": 52
        },
        "outputId": "bd043f48-fada-4f8b-a45a-e73deaf6742a"
      },
      "source": [
        "confusion_matrix(Y_test,y_pred,labels=[1,0])"
      ],
      "execution_count": 314,
      "outputs": [
        {
          "output_type": "execute_result",
          "data": {
            "text/plain": [
              "array([[5217, 2981],\n",
              "       [ 930, 1347]])"
            ]
          },
          "metadata": {
            "tags": []
          },
          "execution_count": 314
        }
      ]
    },
    {
      "cell_type": "code",
      "metadata": {
        "id": "3OdUETQis5Uf",
        "colab_type": "code",
        "colab": {}
      },
      "source": [
        "from sklearn.metrics import precision_score\n",
        "from sklearn.metrics import recall_score"
      ],
      "execution_count": 0,
      "outputs": []
    },
    {
      "cell_type": "code",
      "metadata": {
        "id": "8hc4KIx7s_H9",
        "colab_type": "code",
        "colab": {
          "base_uri": "https://localhost:8080/",
          "height": 35
        },
        "outputId": "cbf32d31-f47d-42a5-95dc-7d5fb33bbf0d"
      },
      "source": [
        "precision_score(Y_test,y_pred)"
      ],
      "execution_count": 320,
      "outputs": [
        {
          "output_type": "execute_result",
          "data": {
            "text/plain": [
              "0.8487066861883846"
            ]
          },
          "metadata": {
            "tags": []
          },
          "execution_count": 320
        }
      ]
    },
    {
      "cell_type": "code",
      "metadata": {
        "id": "-G_c1g4RtHGr",
        "colab_type": "code",
        "colab": {
          "base_uri": "https://localhost:8080/",
          "height": 35
        },
        "outputId": "e917928c-d39c-4277-968f-90e580a0a8a8"
      },
      "source": [
        "recall_score(Y_test,y_pred)"
      ],
      "execution_count": 322,
      "outputs": [
        {
          "output_type": "execute_result",
          "data": {
            "text/plain": [
              "0.6363747255428153"
            ]
          },
          "metadata": {
            "tags": []
          },
          "execution_count": 322
        }
      ]
    },
    {
      "cell_type": "code",
      "metadata": {
        "id": "RmtqbXReslim",
        "colab_type": "code",
        "colab": {
          "base_uri": "https://localhost:8080/",
          "height": 87
        },
        "outputId": "f10b06fd-65f7-41c6-b993-442272c957d7"
      },
      "source": [
        "precision_recall_fscore_support(Y_test,y_pred)"
      ],
      "execution_count": 316,
      "outputs": [
        {
          "output_type": "execute_result",
          "data": {
            "text/plain": [
              "(array([0.31122921, 0.84870669]),\n",
              " array([0.59156785, 0.63637473]),\n",
              " array([0.40787282, 0.72736145]),\n",
              " array([2277, 8198]))"
            ]
          },
          "metadata": {
            "tags": []
          },
          "execution_count": 316
        }
      ]
    }
  ]
}