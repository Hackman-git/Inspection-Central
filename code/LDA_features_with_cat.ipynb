{
  "nbformat": 4,
  "nbformat_minor": 0,
  "metadata": {
    "colab": {
      "name": "LDA_features.ipynb",
      "provenance": [],
      "collapsed_sections": [],
      "machine_shape": "hm",
      "authorship_tag": "ABX9TyNeF1vHIRSWSfKrExj8TAgl",
      "include_colab_link": true
    },
    "kernelspec": {
      "name": "python3",
      "display_name": "Python 3"
    },
    "accelerator": "TPU"
  },
  "cells": [
    {
      "cell_type": "markdown",
      "metadata": {
        "id": "view-in-github",
        "colab_type": "text"
      },
      "source": [
        "<a href=\"https://colab.research.google.com/github/RahulReady/DPA-Final-Project/blob/master/LDA_features_with_cat.ipynb\" target=\"_parent\"><img src=\"https://colab.research.google.com/assets/colab-badge.svg\" alt=\"Open In Colab\"/></a>"
      ]
    },
    {
      "cell_type": "code",
      "metadata": {
        "id": "3LLVMPL72JHt",
        "colab_type": "code",
        "colab": {
          "base_uri": "https://localhost:8080/",
          "height": 453
        },
        "outputId": "0e928b8c-3d6a-4e64-ace2-012044cc6c59"
      },
      "source": [
        "pip install gensim==3.4.0"
      ],
      "execution_count": 1,
      "outputs": [
        {
          "output_type": "stream",
          "text": [
            "Collecting gensim==3.4.0\n",
            "\u001b[?25l  Downloading https://files.pythonhosted.org/packages/33/33/df6cb7acdcec5677ed130f4800f67509d24dbec74a03c329fcbf6b0864f0/gensim-3.4.0-cp36-cp36m-manylinux1_x86_64.whl (22.6MB)\n",
            "\u001b[K     |████████████████████████████████| 22.6MB 1.5MB/s \n",
            "\u001b[?25hRequirement already satisfied: scipy>=0.18.1 in /usr/local/lib/python3.6/dist-packages (from gensim==3.4.0) (1.4.1)\n",
            "Requirement already satisfied: six>=1.5.0 in /usr/local/lib/python3.6/dist-packages (from gensim==3.4.0) (1.12.0)\n",
            "Requirement already satisfied: numpy>=1.11.3 in /usr/local/lib/python3.6/dist-packages (from gensim==3.4.0) (1.18.3)\n",
            "Requirement already satisfied: smart-open>=1.2.1 in /usr/local/lib/python3.6/dist-packages (from gensim==3.4.0) (1.11.1)\n",
            "Requirement already satisfied: boto3 in /usr/local/lib/python3.6/dist-packages (from smart-open>=1.2.1->gensim==3.4.0) (1.12.43)\n",
            "Requirement already satisfied: boto in /usr/local/lib/python3.6/dist-packages (from smart-open>=1.2.1->gensim==3.4.0) (2.49.0)\n",
            "Requirement already satisfied: requests in /usr/local/lib/python3.6/dist-packages (from smart-open>=1.2.1->gensim==3.4.0) (2.21.0)\n",
            "Requirement already satisfied: s3transfer<0.4.0,>=0.3.0 in /usr/local/lib/python3.6/dist-packages (from boto3->smart-open>=1.2.1->gensim==3.4.0) (0.3.3)\n",
            "Requirement already satisfied: botocore<1.16.0,>=1.15.43 in /usr/local/lib/python3.6/dist-packages (from boto3->smart-open>=1.2.1->gensim==3.4.0) (1.15.43)\n",
            "Requirement already satisfied: jmespath<1.0.0,>=0.7.1 in /usr/local/lib/python3.6/dist-packages (from boto3->smart-open>=1.2.1->gensim==3.4.0) (0.9.5)\n",
            "Requirement already satisfied: chardet<3.1.0,>=3.0.2 in /usr/local/lib/python3.6/dist-packages (from requests->smart-open>=1.2.1->gensim==3.4.0) (3.0.4)\n",
            "Requirement already satisfied: urllib3<1.25,>=1.21.1 in /usr/local/lib/python3.6/dist-packages (from requests->smart-open>=1.2.1->gensim==3.4.0) (1.24.3)\n",
            "Requirement already satisfied: idna<2.9,>=2.5 in /usr/local/lib/python3.6/dist-packages (from requests->smart-open>=1.2.1->gensim==3.4.0) (2.8)\n",
            "Requirement already satisfied: certifi>=2017.4.17 in /usr/local/lib/python3.6/dist-packages (from requests->smart-open>=1.2.1->gensim==3.4.0) (2020.4.5.1)\n",
            "Requirement already satisfied: docutils<0.16,>=0.10 in /usr/local/lib/python3.6/dist-packages (from botocore<1.16.0,>=1.15.43->boto3->smart-open>=1.2.1->gensim==3.4.0) (0.15.2)\n",
            "Requirement already satisfied: python-dateutil<3.0.0,>=2.1 in /usr/local/lib/python3.6/dist-packages (from botocore<1.16.0,>=1.15.43->boto3->smart-open>=1.2.1->gensim==3.4.0) (2.8.1)\n",
            "Installing collected packages: gensim\n",
            "  Found existing installation: gensim 3.6.0\n",
            "    Uninstalling gensim-3.6.0:\n",
            "      Successfully uninstalled gensim-3.6.0\n",
            "Successfully installed gensim-3.4.0\n"
          ],
          "name": "stdout"
        }
      ]
    },
    {
      "cell_type": "code",
      "metadata": {
        "id": "-KoGMGrmXF85",
        "colab_type": "code",
        "colab": {
          "base_uri": "https://localhost:8080/",
          "height": 124
        },
        "outputId": "1ca85d99-6f37-4b5b-b2a5-b50858ddb5b1"
      },
      "source": [
        "!pip install vaderSentiment\n",
        "from vaderSentiment.vaderSentiment import SentimentIntensityAnalyzer \n",
        "sid_obj = SentimentIntensityAnalyzer() "
      ],
      "execution_count": 2,
      "outputs": [
        {
          "output_type": "stream",
          "text": [
            "Collecting vaderSentiment\n",
            "\u001b[?25l  Downloading https://files.pythonhosted.org/packages/44/a3/1218a3b5651dbcba1699101c84e5c84c36cbba360d9dbf29f2ff18482982/vaderSentiment-3.3.1-py2.py3-none-any.whl (125kB)\n",
            "\r\u001b[K     |██▋                             | 10kB 24.3MB/s eta 0:00:01\r\u001b[K     |█████▏                          | 20kB 2.1MB/s eta 0:00:01\r\u001b[K     |███████▉                        | 30kB 3.0MB/s eta 0:00:01\r\u001b[K     |██████████▍                     | 40kB 2.0MB/s eta 0:00:01\r\u001b[K     |█████████████                   | 51kB 2.5MB/s eta 0:00:01\r\u001b[K     |███████████████▋                | 61kB 3.0MB/s eta 0:00:01\r\u001b[K     |██████████████████▎             | 71kB 3.4MB/s eta 0:00:01\r\u001b[K     |████████████████████▉           | 81kB 2.7MB/s eta 0:00:01\r\u001b[K     |███████████████████████▍        | 92kB 3.0MB/s eta 0:00:01\r\u001b[K     |██████████████████████████      | 102kB 3.3MB/s eta 0:00:01\r\u001b[K     |████████████████████████████▋   | 112kB 3.3MB/s eta 0:00:01\r\u001b[K     |███████████████████████████████▎| 122kB 3.3MB/s eta 0:00:01\r\u001b[K     |████████████████████████████████| 133kB 3.3MB/s \n",
            "\u001b[?25hInstalling collected packages: vaderSentiment\n",
            "Successfully installed vaderSentiment-3.3.1\n"
          ],
          "name": "stdout"
        }
      ]
    },
    {
      "cell_type": "code",
      "metadata": {
        "id": "9P75aht9IxN1",
        "colab_type": "code",
        "colab": {
          "base_uri": "https://localhost:8080/",
          "height": 211
        },
        "outputId": "529e4f8d-740d-4c60-ef3e-d32bf7f513da"
      },
      "source": [
        "!pip install imblearn\n",
        "from imblearn.under_sampling import RandomUnderSampler"
      ],
      "execution_count": 3,
      "outputs": [
        {
          "output_type": "stream",
          "text": [
            "Requirement already satisfied: imblearn in /usr/local/lib/python3.6/dist-packages (0.0)\n",
            "Requirement already satisfied: imbalanced-learn in /usr/local/lib/python3.6/dist-packages (from imblearn) (0.4.3)\n",
            "Requirement already satisfied: scikit-learn>=0.20 in /usr/local/lib/python3.6/dist-packages (from imbalanced-learn->imblearn) (0.22.2.post1)\n",
            "Requirement already satisfied: scipy>=0.13.3 in /usr/local/lib/python3.6/dist-packages (from imbalanced-learn->imblearn) (1.4.1)\n",
            "Requirement already satisfied: numpy>=1.8.2 in /usr/local/lib/python3.6/dist-packages (from imbalanced-learn->imblearn) (1.18.3)\n",
            "Requirement already satisfied: joblib>=0.11 in /usr/local/lib/python3.6/dist-packages (from scikit-learn>=0.20->imbalanced-learn->imblearn) (0.14.1)\n"
          ],
          "name": "stdout"
        },
        {
          "output_type": "stream",
          "text": [
            "/usr/local/lib/python3.6/dist-packages/sklearn/externals/six.py:31: FutureWarning: The module is deprecated in version 0.21 and will be removed in version 0.23 since we've dropped support for Python 2.7. Please rely on the official version of six (https://pypi.org/project/six/).\n",
            "  \"(https://pypi.org/project/six/).\", FutureWarning)\n",
            "/usr/local/lib/python3.6/dist-packages/sklearn/utils/deprecation.py:144: FutureWarning: The sklearn.neighbors.base module is  deprecated in version 0.22 and will be removed in version 0.24. The corresponding classes / functions should instead be imported from sklearn.neighbors. Anything that cannot be imported from sklearn.neighbors is now part of the private API.\n",
            "  warnings.warn(message, FutureWarning)\n"
          ],
          "name": "stderr"
        }
      ]
    },
    {
      "cell_type": "code",
      "metadata": {
        "id": "nqY55Bxy6zEy",
        "colab_type": "code",
        "colab": {
          "base_uri": "https://localhost:8080/",
          "height": 540
        },
        "outputId": "30f189e1-f1ef-46db-9e5c-be640e0412e7"
      },
      "source": [
        "!sudo apt-get install python3-dev default-libmysqlclient-dev"
      ],
      "execution_count": 4,
      "outputs": [
        {
          "output_type": "stream",
          "text": [
            "Reading package lists... Done\n",
            "Building dependency tree       \n",
            "Reading state information... Done\n",
            "python3-dev is already the newest version (3.6.7-1~18.04).\n",
            "The following NEW packages will be installed:\n",
            "  default-libmysqlclient-dev libmysqlclient-dev\n",
            "0 upgraded, 2 newly installed, 0 to remove and 25 not upgraded.\n",
            "Need to get 996 kB of archives.\n",
            "After this operation, 6,022 kB of additional disk space will be used.\n",
            "Get:1 http://archive.ubuntu.com/ubuntu bionic-updates/main amd64 libmysqlclient-dev amd64 5.7.29-0ubuntu0.18.04.1 [992 kB]\n",
            "Get:2 http://archive.ubuntu.com/ubuntu bionic/main amd64 default-libmysqlclient-dev amd64 1.0.4 [3,736 B]\n",
            "Fetched 996 kB in 1s (957 kB/s)\n",
            "debconf: unable to initialize frontend: Dialog\n",
            "debconf: (No usable dialog-like program is installed, so the dialog based frontend cannot be used. at /usr/share/perl5/Debconf/FrontEnd/Dialog.pm line 76, <> line 2.)\n",
            "debconf: falling back to frontend: Readline\n",
            "debconf: unable to initialize frontend: Readline\n",
            "debconf: (This frontend requires a controlling tty.)\n",
            "debconf: falling back to frontend: Teletype\n",
            "dpkg-preconfigure: unable to re-open stdin: \n",
            "Selecting previously unselected package libmysqlclient-dev.\n",
            "(Reading database ... 144568 files and directories currently installed.)\n",
            "Preparing to unpack .../libmysqlclient-dev_5.7.29-0ubuntu0.18.04.1_amd64.deb ...\n",
            "Unpacking libmysqlclient-dev (5.7.29-0ubuntu0.18.04.1) ...\n",
            "Selecting previously unselected package default-libmysqlclient-dev:amd64.\n",
            "Preparing to unpack .../default-libmysqlclient-dev_1.0.4_amd64.deb ...\n",
            "Unpacking default-libmysqlclient-dev:amd64 (1.0.4) ...\n",
            "Setting up libmysqlclient-dev (5.7.29-0ubuntu0.18.04.1) ...\n",
            "Setting up default-libmysqlclient-dev:amd64 (1.0.4) ...\n",
            "Processing triggers for man-db (2.8.3-2ubuntu0.1) ...\n"
          ],
          "name": "stdout"
        }
      ]
    },
    {
      "cell_type": "code",
      "metadata": {
        "id": "sBFl5CUz61gb",
        "colab_type": "code",
        "colab": {
          "base_uri": "https://localhost:8080/",
          "height": 280
        },
        "outputId": "3ece4acd-f8cd-45d3-c31c-f5d92b8e1b6b"
      },
      "source": [
        "pip install PyDrive"
      ],
      "execution_count": 5,
      "outputs": [
        {
          "output_type": "stream",
          "text": [
            "Requirement already satisfied: PyDrive in /usr/local/lib/python3.6/dist-packages (1.3.1)\n",
            "Requirement already satisfied: oauth2client>=4.0.0 in /usr/local/lib/python3.6/dist-packages (from PyDrive) (4.1.3)\n",
            "Requirement already satisfied: PyYAML>=3.0 in /usr/local/lib/python3.6/dist-packages (from PyDrive) (3.13)\n",
            "Requirement already satisfied: google-api-python-client>=1.2 in /usr/local/lib/python3.6/dist-packages (from PyDrive) (1.7.12)\n",
            "Requirement already satisfied: rsa>=3.1.4 in /usr/local/lib/python3.6/dist-packages (from oauth2client>=4.0.0->PyDrive) (4.0)\n",
            "Requirement already satisfied: pyasn1-modules>=0.0.5 in /usr/local/lib/python3.6/dist-packages (from oauth2client>=4.0.0->PyDrive) (0.2.8)\n",
            "Requirement already satisfied: six>=1.6.1 in /usr/local/lib/python3.6/dist-packages (from oauth2client>=4.0.0->PyDrive) (1.12.0)\n",
            "Requirement already satisfied: pyasn1>=0.1.7 in /usr/local/lib/python3.6/dist-packages (from oauth2client>=4.0.0->PyDrive) (0.4.8)\n",
            "Requirement already satisfied: httplib2>=0.9.1 in /usr/local/lib/python3.6/dist-packages (from oauth2client>=4.0.0->PyDrive) (0.17.3)\n",
            "Requirement already satisfied: uritemplate<4dev,>=3.0.0 in /usr/local/lib/python3.6/dist-packages (from google-api-python-client>=1.2->PyDrive) (3.0.1)\n",
            "Requirement already satisfied: google-auth-httplib2>=0.0.3 in /usr/local/lib/python3.6/dist-packages (from google-api-python-client>=1.2->PyDrive) (0.0.3)\n",
            "Requirement already satisfied: google-auth>=1.4.1 in /usr/local/lib/python3.6/dist-packages (from google-api-python-client>=1.2->PyDrive) (1.7.2)\n",
            "Requirement already satisfied: cachetools<3.2,>=2.0.0 in /usr/local/lib/python3.6/dist-packages (from google-auth>=1.4.1->google-api-python-client>=1.2->PyDrive) (3.1.1)\n",
            "Requirement already satisfied: setuptools>=40.3.0 in /usr/local/lib/python3.6/dist-packages (from google-auth>=1.4.1->google-api-python-client>=1.2->PyDrive) (46.1.3)\n"
          ],
          "name": "stdout"
        }
      ]
    },
    {
      "cell_type": "code",
      "metadata": {
        "id": "v5M6-YPk63oH",
        "colab_type": "code",
        "colab": {
          "base_uri": "https://localhost:8080/",
          "height": 1000
        },
        "outputId": "15f9d88a-2c93-46b0-a8d5-774945ec8f52"
      },
      "source": [
        "\n",
        "!pip install --upgrade setuptools\n",
        "!pip install wheel\n",
        "!pip install pattern\n",
        "!pip install mysqlclient"
      ],
      "execution_count": 6,
      "outputs": [
        {
          "output_type": "stream",
          "text": [
            "Requirement already up-to-date: setuptools in /usr/local/lib/python3.6/dist-packages (46.1.3)\n",
            "Requirement already satisfied: wheel in /usr/local/lib/python3.6/dist-packages (0.34.2)\n",
            "Collecting pattern\n",
            "\u001b[?25l  Downloading https://files.pythonhosted.org/packages/1e/07/b0e61b6c818ed4b6145fe01d1c341223aa6cfbc3928538ad1f2b890924a3/Pattern-3.6.0.tar.gz (22.2MB)\n",
            "\u001b[K     |████████████████████████████████| 22.3MB 1.2MB/s \n",
            "\u001b[?25hRequirement already satisfied: future in /usr/local/lib/python3.6/dist-packages (from pattern) (0.16.0)\n",
            "Collecting backports.csv\n",
            "  Downloading https://files.pythonhosted.org/packages/8e/26/a6bd68f13e0f38fbb643d6e497fc3462be83a0b6c4d43425c78bb51a7291/backports.csv-1.0.7-py2.py3-none-any.whl\n",
            "Collecting mysqlclient\n",
            "\u001b[?25l  Downloading https://files.pythonhosted.org/packages/d0/97/7326248ac8d5049968bf4ec708a5d3d4806e412a42e74160d7f266a3e03a/mysqlclient-1.4.6.tar.gz (85kB)\n",
            "\u001b[K     |████████████████████████████████| 92kB 12.8MB/s \n",
            "\u001b[?25hRequirement already satisfied: beautifulsoup4 in /usr/local/lib/python3.6/dist-packages (from pattern) (4.6.3)\n",
            "Requirement already satisfied: lxml in /usr/local/lib/python3.6/dist-packages (from pattern) (4.2.6)\n",
            "Collecting feedparser\n",
            "\u001b[?25l  Downloading https://files.pythonhosted.org/packages/91/d8/7d37fec71ff7c9dbcdd80d2b48bcdd86d6af502156fc93846fb0102cb2c4/feedparser-5.2.1.tar.bz2 (192kB)\n",
            "\u001b[K     |████████████████████████████████| 194kB 62.6MB/s \n",
            "\u001b[?25hCollecting pdfminer.six\n",
            "\u001b[?25l  Downloading https://files.pythonhosted.org/packages/0b/04/f62d5834c2bdf90afcaeb23bb5241033c44e27000de64ad8472253daa4a8/pdfminer.six-20200402-py3-none-any.whl (5.6MB)\n",
            "\u001b[K     |████████████████████████████████| 5.6MB 47.9MB/s \n",
            "\u001b[?25hRequirement already satisfied: numpy in /usr/local/lib/python3.6/dist-packages (from pattern) (1.18.3)\n",
            "Requirement already satisfied: scipy in /usr/local/lib/python3.6/dist-packages (from pattern) (1.4.1)\n",
            "Requirement already satisfied: nltk in /usr/local/lib/python3.6/dist-packages (from pattern) (3.2.5)\n",
            "Collecting python-docx\n",
            "\u001b[?25l  Downloading https://files.pythonhosted.org/packages/e4/83/c66a1934ed5ed8ab1dbb9931f1779079f8bca0f6bbc5793c06c4b5e7d671/python-docx-0.8.10.tar.gz (5.5MB)\n",
            "\u001b[K     |████████████████████████████████| 5.5MB 69.4MB/s \n",
            "\u001b[?25hCollecting cherrypy\n",
            "\u001b[?25l  Downloading https://files.pythonhosted.org/packages/a8/f9/e11f893dcabe6bc222a1442bf5e14f0322a2d363c92910ed41947078a35a/CherryPy-18.6.0-py2.py3-none-any.whl (419kB)\n",
            "\u001b[K     |████████████████████████████████| 419kB 52.2MB/s \n",
            "\u001b[?25hRequirement already satisfied: requests in /usr/local/lib/python3.6/dist-packages (from pattern) (2.21.0)\n",
            "Requirement already satisfied: chardet; python_version > \"3.0\" in /usr/local/lib/python3.6/dist-packages (from pdfminer.six->pattern) (3.0.4)\n",
            "Requirement already satisfied: sortedcontainers in /usr/local/lib/python3.6/dist-packages (from pdfminer.six->pattern) (2.1.0)\n",
            "Collecting pycryptodome\n",
            "\u001b[?25l  Downloading https://files.pythonhosted.org/packages/af/16/da16a22d47bac9bf9db39f3b9af74e8eeed8855c0df96be20b580ef92fff/pycryptodome-3.9.7-cp36-cp36m-manylinux1_x86_64.whl (13.7MB)\n",
            "\u001b[K     |████████████████████████████████| 13.7MB 22.5MB/s \n",
            "\u001b[?25hRequirement already satisfied: six in /usr/local/lib/python3.6/dist-packages (from nltk->pattern) (1.12.0)\n",
            "Collecting zc.lockfile\n",
            "  Downloading https://files.pythonhosted.org/packages/6c/2a/268389776288f0f26c7272c70c36c96dcc0bdb88ab6216ea18e19df1fadd/zc.lockfile-2.0-py2.py3-none-any.whl\n",
            "Collecting jaraco.collections\n",
            "  Downloading https://files.pythonhosted.org/packages/fe/06/a89652069f0a13a33701714c0c8e0cc8656bf6d21b7c6b85fde86cf06ff6/jaraco.collections-3.0.0-py2.py3-none-any.whl\n",
            "Requirement already satisfied: more-itertools in /usr/local/lib/python3.6/dist-packages (from cherrypy->pattern) (8.2.0)\n",
            "Collecting cheroot>=8.2.1\n",
            "\u001b[?25l  Downloading https://files.pythonhosted.org/packages/20/b0/4e156a205a624bc929673dfa6bcebe4aa6fa00b080dca4dc7b6b50850277/cheroot-8.3.0-py2.py3-none-any.whl (86kB)\n",
            "\u001b[K     |████████████████████████████████| 92kB 13.1MB/s \n",
            "\u001b[?25hCollecting portend>=2.1.1\n",
            "  Downloading https://files.pythonhosted.org/packages/d7/79/eee70a512bffe5ceb5008f8e3326581948f50ca393c3bcb4d557e4818bd1/portend-2.6-py2.py3-none-any.whl\n",
            "Requirement already satisfied: certifi>=2017.4.17 in /usr/local/lib/python3.6/dist-packages (from requests->pattern) (2020.4.5.1)\n",
            "Requirement already satisfied: urllib3<1.25,>=1.21.1 in /usr/local/lib/python3.6/dist-packages (from requests->pattern) (1.24.3)\n",
            "Requirement already satisfied: idna<2.9,>=2.5 in /usr/local/lib/python3.6/dist-packages (from requests->pattern) (2.8)\n",
            "Requirement already satisfied: setuptools in /usr/local/lib/python3.6/dist-packages (from zc.lockfile->cherrypy->pattern) (46.1.3)\n",
            "Collecting jaraco.text\n",
            "  Downloading https://files.pythonhosted.org/packages/50/cd/6eda44738065e844bed8fae60a229b6c46f42d0ba8d48205e9fb57e254cd/jaraco.text-3.2.0-py2.py3-none-any.whl\n",
            "Collecting jaraco.classes\n",
            "  Downloading https://files.pythonhosted.org/packages/68/ce/8f43aa0d0f18120e687ae0192fe3168630040841a3e87bed93c5fe024dbe/jaraco.classes-3.1.0-py2.py3-none-any.whl\n",
            "Collecting jaraco.functools\n",
            "  Downloading https://files.pythonhosted.org/packages/ba/7a/ae51d7605dc471d29345c4ef1e5c0894f392b14beaf813cd7b43ec1ee1b6/jaraco.functools-3.0.0-py2.py3-none-any.whl\n",
            "Collecting tempora>=1.8\n",
            "  Downloading https://files.pythonhosted.org/packages/df/da/b30f8af8b4aa63fed8d4979daf209494823a666235111e292c89256e91fb/tempora-3.0.0-py2.py3-none-any.whl\n",
            "Collecting importlib-resources; python_version < \"3.7\"\n",
            "  Downloading https://files.pythonhosted.org/packages/8f/36/e678bc02cad98e566fbd7e6711ab2f389fc9adfb1edbb9f553eae41f9f97/importlib_resources-1.4.0-py2.py3-none-any.whl\n",
            "Requirement already satisfied: pytz in /usr/local/lib/python3.6/dist-packages (from tempora>=1.8->portend>=2.1.1->cherrypy->pattern) (2018.9)\n",
            "Requirement already satisfied: zipp>=0.4; python_version < \"3.8\" in /usr/local/lib/python3.6/dist-packages (from importlib-resources; python_version < \"3.7\"->jaraco.text->jaraco.collections->cherrypy->pattern) (3.1.0)\n",
            "Requirement already satisfied: importlib-metadata; python_version < \"3.8\" in /usr/local/lib/python3.6/dist-packages (from importlib-resources; python_version < \"3.7\"->jaraco.text->jaraco.collections->cherrypy->pattern) (1.6.0)\n",
            "Building wheels for collected packages: pattern, mysqlclient, feedparser, python-docx\n",
            "  Building wheel for pattern (setup.py) ... \u001b[?25l\u001b[?25hdone\n",
            "  Created wheel for pattern: filename=Pattern-3.6-cp36-none-any.whl size=22332723 sha256=e9a2aa1b1dcc7ca3c840ab89765138aea8e0239f64074c4d5e258de3199ee161\n",
            "  Stored in directory: /root/.cache/pip/wheels/dc/9a/0e/5fb1a603ed4e3aa8722a88e9cf4a82da7d1b63e3d2cc34bee5\n",
            "  Building wheel for mysqlclient (setup.py) ... \u001b[?25l\u001b[?25hdone\n",
            "  Created wheel for mysqlclient: filename=mysqlclient-1.4.6-cp36-cp36m-linux_x86_64.whl size=98424 sha256=bec41f96bc92d0e877a46d21a03ac7c9ca8f99ea308889a92eca280dadd12c83\n",
            "  Stored in directory: /root/.cache/pip/wheels/37/3d/24/5327fa50817a65ed0ee4dc8809e5c39962b0dd5e078ebf4dc1\n",
            "  Building wheel for feedparser (setup.py) ... \u001b[?25l\u001b[?25hdone\n",
            "  Created wheel for feedparser: filename=feedparser-5.2.1-cp36-none-any.whl size=44940 sha256=0f99951d66a3c4cbf26090d0d9dcf45b435532116d1d921365fe3acf4b893846\n",
            "  Stored in directory: /root/.cache/pip/wheels/8c/69/b7/f52763c41c5471df57703a0ef718a32a5e81ee35dcf6d4f97f\n",
            "  Building wheel for python-docx (setup.py) ... \u001b[?25l\u001b[?25hdone\n",
            "  Created wheel for python-docx: filename=python_docx-0.8.10-cp36-none-any.whl size=184491 sha256=d0c441ff216127697e4f8cc233b77a744cb5d3b25d3b08e38d79585df94c3be5\n",
            "  Stored in directory: /root/.cache/pip/wheels/18/0b/a0/1dd62ff812c857c9e487f27d80d53d2b40531bec1acecfa47b\n",
            "Successfully built pattern mysqlclient feedparser python-docx\n",
            "Installing collected packages: backports.csv, mysqlclient, feedparser, pycryptodome, pdfminer.six, python-docx, zc.lockfile, jaraco.functools, importlib-resources, jaraco.text, jaraco.classes, jaraco.collections, cheroot, tempora, portend, cherrypy, pattern\n",
            "Successfully installed backports.csv-1.0.7 cheroot-8.3.0 cherrypy-18.6.0 feedparser-5.2.1 importlib-resources-1.4.0 jaraco.classes-3.1.0 jaraco.collections-3.0.0 jaraco.functools-3.0.0 jaraco.text-3.2.0 mysqlclient-1.4.6 pattern-3.6 pdfminer.six-20200402 portend-2.6 pycryptodome-3.9.7 python-docx-0.8.10 tempora-3.0.0 zc.lockfile-2.0\n",
            "Requirement already satisfied: mysqlclient in /usr/local/lib/python3.6/dist-packages (1.4.6)\n"
          ],
          "name": "stdout"
        }
      ]
    },
    {
      "cell_type": "code",
      "metadata": {
        "id": "msbnB5ey675Y",
        "colab_type": "code",
        "colab": {
          "base_uri": "https://localhost:8080/",
          "height": 245
        },
        "outputId": "eeaa8c6e-5a36-4524-e8a3-58d690066382"
      },
      "source": [
        "!pip install pandarallel\n",
        "from pandarallel import pandarallel\n",
        "pandarallel.initialize()"
      ],
      "execution_count": 7,
      "outputs": [
        {
          "output_type": "stream",
          "text": [
            "Collecting pandarallel\n",
            "  Downloading https://files.pythonhosted.org/packages/99/06/bd582106766c483d6da51c05b0cdd7cb61894bb843c7ecc4789032232327/pandarallel-1.4.8.tar.gz\n",
            "Requirement already satisfied: dill in /usr/local/lib/python3.6/dist-packages (from pandarallel) (0.3.1.1)\n",
            "Building wheels for collected packages: pandarallel\n",
            "  Building wheel for pandarallel (setup.py) ... \u001b[?25l\u001b[?25hdone\n",
            "  Created wheel for pandarallel: filename=pandarallel-1.4.8-cp36-none-any.whl size=16112 sha256=645f8aeaca07d753ad49e9bd3764b610dd82729fb29e9c56556c2fe2a072818f\n",
            "  Stored in directory: /root/.cache/pip/wheels/75/a2/85/b45be2e86d86e9ec5da6d05c4b994d18c81abe76e3f39415aa\n",
            "Successfully built pandarallel\n",
            "Installing collected packages: pandarallel\n",
            "Successfully installed pandarallel-1.4.8\n",
            "INFO: Pandarallel will run on 40 workers.\n",
            "INFO: Pandarallel will use Memory file system to transfer data between the main process and workers.\n"
          ],
          "name": "stdout"
        }
      ]
    },
    {
      "cell_type": "code",
      "metadata": {
        "id": "alPyjgGG7Ebd",
        "colab_type": "code",
        "colab": {
          "base_uri": "https://localhost:8080/",
          "height": 87
        },
        "outputId": "8407be27-9ec9-4da6-bd92-f5576c71659f"
      },
      "source": [
        "import numpy as np\n",
        "import re\n",
        "import pandas as pd\n",
        "import gensim\n",
        "import nltk\n",
        "nltk.download('stopwords')\n",
        "from nltk.corpus import stopwords\n",
        "from nltk import word_tokenize\n",
        "stop_words = set(stopwords.words('english'))\n",
        "from gensim.models import LdaModel, LdaMulticore\n",
        "import gensim.downloader as api\n",
        "from gensim.utils import  lemmatize\n",
        "from gensim import corpora\n",
        "from nltk.corpus import stopwords\n",
        "import re\n",
        "import logging\n",
        "nltk.download('punkt')\n",
        "logging.basicConfig(format='%(asctime)s : %(levelname)s : %(message)s')\n",
        "logging.root.setLevel(level=logging.INFO)\n",
        "stop_words = stopwords.words('english')\n",
        "stop_words.extend(['restaurant','food','place','las','vegas','hotel'])"
      ],
      "execution_count": 8,
      "outputs": [
        {
          "output_type": "stream",
          "text": [
            "[nltk_data] Downloading package stopwords to /root/nltk_data...\n",
            "[nltk_data]   Unzipping corpora/stopwords.zip.\n",
            "[nltk_data] Downloading package punkt to /root/nltk_data...\n",
            "[nltk_data]   Unzipping tokenizers/punkt.zip.\n"
          ],
          "name": "stdout"
        }
      ]
    },
    {
      "cell_type": "code",
      "metadata": {
        "id": "eOeCl8Ls7Gtc",
        "colab_type": "code",
        "colab": {}
      },
      "source": [
        "from gensim.models.phrases import Phrases, Phraser\n",
        "import multiprocessing\n",
        "import tqdm\n",
        "from sklearn import utils\n",
        "from sklearn.linear_model import LogisticRegression\n",
        "from sklearn.metrics import accuracy_score, f1_score,confusion_matrix,precision_recall_fscore_support,classification_report\n",
        "import ast\n",
        "from sklearn.preprocessing import  StandardScaler\n",
        "from sklearn.model_selection import train_test_split\n",
        "from sklearn.ensemble import RandomForestClassifier\n",
        "from sklearn.naive_bayes import GaussianNB\n",
        "from sklearn.metrics import precision_recall_fscore_support"
      ],
      "execution_count": 0,
      "outputs": []
    },
    {
      "cell_type": "code",
      "metadata": {
        "id": "FLaSk-f17MG_",
        "colab_type": "code",
        "colab": {}
      },
      "source": [
        "from pydrive.auth import GoogleAuth\n",
        "from pydrive.drive import GoogleDrive\n",
        "from google.colab import auth\n",
        "from oauth2client.client import GoogleCredentials\n",
        "from google.colab import drive"
      ],
      "execution_count": 0,
      "outputs": []
    },
    {
      "cell_type": "code",
      "metadata": {
        "id": "KbkhzPii7Tv2",
        "colab_type": "code",
        "colab": {
          "base_uri": "https://localhost:8080/",
          "height": 124
        },
        "outputId": "0fc2bbba-04d8-4285-f2c1-025a7a434e2b"
      },
      "source": [
        "drive.mount('/content/drive')"
      ],
      "execution_count": 11,
      "outputs": [
        {
          "output_type": "stream",
          "text": [
            "Go to this URL in a browser: https://accounts.google.com/o/oauth2/auth?client_id=947318989803-6bn6qk8qdgf4n4g3pfee6491hc0brc4i.apps.googleusercontent.com&redirect_uri=urn%3aietf%3awg%3aoauth%3a2.0%3aoob&response_type=code&scope=email%20https%3a%2f%2fwww.googleapis.com%2fauth%2fdocs.test%20https%3a%2f%2fwww.googleapis.com%2fauth%2fdrive%20https%3a%2f%2fwww.googleapis.com%2fauth%2fdrive.photos.readonly%20https%3a%2f%2fwww.googleapis.com%2fauth%2fpeopleapi.readonly\n",
            "\n",
            "Enter your authorization code:\n",
            "··········\n",
            "Mounted at /content/drive\n"
          ],
          "name": "stdout"
        }
      ]
    },
    {
      "cell_type": "code",
      "metadata": {
        "id": "9rxFa_cZ7YQ6",
        "colab_type": "code",
        "colab": {}
      },
      "source": [
        "review_Dataset = pd.read_csv('/content/drive/Shared drives/DPA Final Project/review_dataset_features.csv')"
      ],
      "execution_count": 0,
      "outputs": []
    },
    {
      "cell_type": "code",
      "metadata": {
        "id": "4dLeG8z2-xnE",
        "colab_type": "code",
        "colab": {}
      },
      "source": [
        "review_Dataset =review_Dataset.drop(columns= 'Unnamed: 0')"
      ],
      "execution_count": 0,
      "outputs": []
    },
    {
      "cell_type": "code",
      "metadata": {
        "id": "xonv-jdI74fz",
        "colab_type": "code",
        "colab": {}
      },
      "source": [
        "Dataset = pd.read_csv('/content/drive/Shared drives/DPA Final Project/y_file.csv')"
      ],
      "execution_count": 0,
      "outputs": []
    },
    {
      "cell_type": "code",
      "metadata": {
        "id": "Xo-Y1Mzt-gXL",
        "colab_type": "code",
        "colab": {}
      },
      "source": [
        "Dataset =Dataset.drop(columns= 'Unnamed: 0')"
      ],
      "execution_count": 0,
      "outputs": []
    },
    {
      "cell_type": "code",
      "metadata": {
        "id": "uwC_Fp6ODCj1",
        "colab_type": "code",
        "colab": {}
      },
      "source": [
        "y_file = pd.read_csv('/content/drive/Shared drives/DPA Final Project/y_file.csv')"
      ],
      "execution_count": 0,
      "outputs": []
    },
    {
      "cell_type": "code",
      "metadata": {
        "id": "egozFk1I8Mqd",
        "colab_type": "code",
        "colab": {}
      },
      "source": [
        "Dataset['inspection_grade'] = Dataset.average_demerits.apply(lambda x : inspection_grade(x))"
      ],
      "execution_count": 0,
      "outputs": []
    },
    {
      "cell_type": "code",
      "metadata": {
        "id": "cAP-EwVUNI_Y",
        "colab_type": "code",
        "colab": {}
      },
      "source": [
        "def inspection_grade(x):\n",
        "  if x <= 10:\n",
        "    return 'A'\n",
        "  elif x<=20:\n",
        "    return 'B'\n",
        "  else :\n",
        "    return 'C'    "
      ],
      "execution_count": 0,
      "outputs": []
    },
    {
      "cell_type": "code",
      "metadata": {
        "id": "u2kyvfZQZpQI",
        "colab_type": "code",
        "colab": {}
      },
      "source": [
        "cat_dataset = pd.read_csv('/content/drive/Shared drives/DPA Final Project/business_with_cat.csv')"
      ],
      "execution_count": 0,
      "outputs": []
    },
    {
      "cell_type": "code",
      "metadata": {
        "id": "XrRgFO2MaO98",
        "colab_type": "code",
        "colab": {}
      },
      "source": [
        "cat_dataset = cat_dataset.drop(columns= 'Unnamed: 0')"
      ],
      "execution_count": 0,
      "outputs": []
    },
    {
      "cell_type": "code",
      "metadata": {
        "id": "qxTivmfX4SQX",
        "colab_type": "code",
        "colab": {
          "base_uri": "https://localhost:8080/",
          "height": 35
        },
        "outputId": "bf1e8134-d143-4fc1-82fb-f4f1950e846c"
      },
      "source": [
        "cat_dataset.shape"
      ],
      "execution_count": 37,
      "outputs": [
        {
          "output_type": "execute_result",
          "data": {
            "text/plain": [
              "(8972, 33)"
            ]
          },
          "metadata": {
            "tags": []
          },
          "execution_count": 37
        }
      ]
    },
    {
      "cell_type": "code",
      "metadata": {
        "id": "W4qunL845HQF",
        "colab_type": "code",
        "colab": {
          "base_uri": "https://localhost:8080/",
          "height": 173
        },
        "outputId": "85f1fb1e-a913-4d20-866b-91123ae91146"
      },
      "source": [
        "cat_dataset.columns"
      ],
      "execution_count": 38,
      "outputs": [
        {
          "output_type": "execute_result",
          "data": {
            "text/plain": [
              "Index(['business_id', 'categories', 'clean_categories', 'is_restaurants',\n",
              "       'is_food', 'is_fast_food', 'is_grocery', 'is_convenience_store',\n",
              "       'is_adult', 'is_bakeries', 'is_buffet', 'is_sushi_bar', 'is_alcohol',\n",
              "       'is_pizza', 'is_coffee_and_tea', 'is_ice_cream_deserts',\n",
              "       'is_sandwiches', 'is_burgers', 'is_vietnamese', 'is_japanese',\n",
              "       'is_thai', 'is_italian', 'is_korean', 'is_american', 'is_chinese',\n",
              "       'is_mexican', 'address_x', 'facility_id', 'location_name', 'name',\n",
              "       'restaurant_name', 'address', 'is_valid'],\n",
              "      dtype='object')"
            ]
          },
          "metadata": {
            "tags": []
          },
          "execution_count": 38
        }
      ]
    },
    {
      "cell_type": "code",
      "metadata": {
        "id": "sW-0tVKU4aVy",
        "colab_type": "code",
        "colab": {}
      },
      "source": [
        "cat_dataset=cat_dataset.drop(columns=['address_x', 'facility_id', 'location_name', 'name',\n",
        "       'restaurant_name', 'address', 'is_valid'])"
      ],
      "execution_count": 0,
      "outputs": []
    },
    {
      "cell_type": "code",
      "metadata": {
        "id": "FZnBL5KV48dU",
        "colab_type": "code",
        "colab": {}
      },
      "source": [
        "cat_dataset= cat_dataset.drop_duplicates()"
      ],
      "execution_count": 0,
      "outputs": []
    },
    {
      "cell_type": "code",
      "metadata": {
        "id": "FkE-kDtU31NU",
        "colab_type": "code",
        "colab": {
          "base_uri": "https://localhost:8080/",
          "height": 35
        },
        "outputId": "588e62d4-5dc9-42b9-ef42-7402c405e4c1"
      },
      "source": [
        "Dataset.shape"
      ],
      "execution_count": 42,
      "outputs": [
        {
          "output_type": "execute_result",
          "data": {
            "text/plain": [
              "(113390, 4)"
            ]
          },
          "metadata": {
            "tags": []
          },
          "execution_count": 42
        }
      ]
    },
    {
      "cell_type": "code",
      "metadata": {
        "id": "H4ueOk8zZ0Mo",
        "colab_type": "code",
        "colab": {}
      },
      "source": [
        "Dataset = pd.merge(Dataset,cat_dataset,how='inner',on='business_id')"
      ],
      "execution_count": 0,
      "outputs": []
    },
    {
      "cell_type": "code",
      "metadata": {
        "id": "tdbjpaU65W2I",
        "colab_type": "code",
        "colab": {
          "base_uri": "https://localhost:8080/",
          "height": 35
        },
        "outputId": "21257c09-00f8-4884-db62-4df080156216"
      },
      "source": [
        "Dataset.shape"
      ],
      "execution_count": 44,
      "outputs": [
        {
          "output_type": "execute_result",
          "data": {
            "text/plain": [
              "(113390, 29)"
            ]
          },
          "metadata": {
            "tags": []
          },
          "execution_count": 44
        }
      ]
    },
    {
      "cell_type": "code",
      "metadata": {
        "id": "mvZIcz4v8QTo",
        "colab_type": "code",
        "colab": {}
      },
      "source": [
        " Dataset['Date'] =  pd.to_datetime(Dataset.inspection_date)"
      ],
      "execution_count": 0,
      "outputs": []
    },
    {
      "cell_type": "code",
      "metadata": {
        "id": "7z983l938TA4",
        "colab_type": "code",
        "colab": {}
      },
      "source": [
        "Dataset['previous_grade']=Dataset.groupby('business_id')['inspection_grade'].apply(lambda x : x.shift(1))"
      ],
      "execution_count": 0,
      "outputs": []
    },
    {
      "cell_type": "code",
      "metadata": {
        "id": "Yz-5xoy78XUP",
        "colab_type": "code",
        "colab": {}
      },
      "source": [
        "Dataset.loc[Dataset.previous_grade.isna(),'previous_grade'] = 'NA'"
      ],
      "execution_count": 0,
      "outputs": []
    },
    {
      "cell_type": "code",
      "metadata": {
        "id": "eIsFZNm38aYl",
        "colab_type": "code",
        "colab": {
          "base_uri": "https://localhost:8080/",
          "height": 104
        },
        "outputId": "afcb61d6-f37a-436d-d002-3b2f546bc662"
      },
      "source": [
        "Dataset.previous_grade.value_counts()"
      ],
      "execution_count": 51,
      "outputs": [
        {
          "output_type": "execute_result",
          "data": {
            "text/plain": [
              "A     86923\n",
              "B     16344\n",
              "NA     5540\n",
              "C      4583\n",
              "Name: previous_grade, dtype: int64"
            ]
          },
          "metadata": {
            "tags": []
          },
          "execution_count": 51
        }
      ]
    },
    {
      "cell_type": "code",
      "metadata": {
        "id": "Rdz7NIIx8cuW",
        "colab_type": "code",
        "colab": {}
      },
      "source": [
        "Dataset= Dataset[Dataset.Date.dt.year >2012].reset_index(drop=True)"
      ],
      "execution_count": 0,
      "outputs": []
    },
    {
      "cell_type": "code",
      "metadata": {
        "id": "inafAwd78fP0",
        "colab_type": "code",
        "colab": {}
      },
      "source": [
        "def get_rows(df,time_period,b_id,date_input):\n",
        "    temp_df = df[df.business_id == b_id]\n",
        "    date_min = date_input - \\\n",
        "       pd.offsets.DateOffset(months=time_period)\n",
        "    temp_df = temp_df[(temp_df['date'] < date_input) & (temp_df['date']>=date_min)].reset_index(drop = True)\n",
        "    return temp_df[[str(i) for i in range(100)]].mean()\n",
        "   "
      ],
      "execution_count": 0,
      "outputs": []
    },
    {
      "cell_type": "code",
      "metadata": {
        "id": "q2NgsqqWHNZb",
        "colab_type": "code",
        "colab": {}
      },
      "source": [
        "def get_ratings(df,time_period,b_id,date_input):\n",
        "    temp_df = df[df.business_id == b_id]\n",
        "    date_min = date_input - \\\n",
        "       pd.offsets.DateOffset(months=time_period)\n",
        "    temp_df = temp_df[(temp_df['date'] < date_input) & (temp_df['date']>=date_min)].reset_index(drop = True)\n",
        "    return temp_df['stars'].mean()"
      ],
      "execution_count": 0,
      "outputs": []
    },
    {
      "cell_type": "code",
      "metadata": {
        "id": "W6GAfaLHYTnC",
        "colab_type": "code",
        "colab": {}
      },
      "source": [
        "def get_sentimnet_Score(df,time_period,b_id,date_input):\n",
        "    temp_df = df[df.business_id == b_id]\n",
        "    date_min = date_input - \\\n",
        "       pd.offsets.DateOffset(months=time_period)\n",
        "    temp_df = temp_df[(temp_df['date'] < date_input) & (temp_df['date']>=date_min)].reset_index(drop = True)\n",
        "    temp_df['polarity_scores'] = temp_df.text.apply(lambda x:sid_obj.polarity_scores(x).get('compound'))\n",
        "    return temp_df['polarity_scores'].mean()"
      ],
      "execution_count": 0,
      "outputs": []
    },
    {
      "cell_type": "code",
      "metadata": {
        "id": "3r7baRtH8fUF",
        "colab_type": "code",
        "colab": {}
      },
      "source": [
        "review_Dataset.date = pd.to_datetime(review_Dataset.date)"
      ],
      "execution_count": 0,
      "outputs": []
    },
    {
      "cell_type": "code",
      "metadata": {
        "id": "QOhGmkpnXdoD",
        "colab_type": "code",
        "colab": {
          "base_uri": "https://localhost:8080/",
          "height": 35
        },
        "outputId": "1eb821a0-8bd9-470a-d39e-8088e282793f"
      },
      "source": [
        "get_sentimnet_Score(review_Dataset,12,Dataset.business_id[0],Dataset.Date[0])"
      ],
      "execution_count": 57,
      "outputs": [
        {
          "output_type": "execute_result",
          "data": {
            "text/plain": [
              "0.72482"
            ]
          },
          "metadata": {
            "tags": []
          },
          "execution_count": 57
        }
      ]
    },
    {
      "cell_type": "code",
      "metadata": {
        "id": "OroWql1GdglU",
        "colab_type": "code",
        "colab": {}
      },
      "source": [
        "review_Dataset = review_Dataset[~review_Dataset.text.isna()]"
      ],
      "execution_count": 0,
      "outputs": []
    },
    {
      "cell_type": "code",
      "metadata": {
        "id": "PYcbWVGVDQZU",
        "colab_type": "code",
        "colab": {}
      },
      "source": [
        "def get_features(b_id,date,y_file):\n",
        "    temp_df= y_file[y_file.business_id == b_id]\n",
        "    temp_df = temp_df[temp_df.inspection_date < date]\n",
        "    if(temp_df.empty):\n",
        "      return [None,0]\n",
        "    else:\n",
        "      return [temp_df.average_demerits.mean(),temp_df.average_demerits.count()]"
      ],
      "execution_count": 0,
      "outputs": []
    },
    {
      "cell_type": "code",
      "metadata": {
        "id": "zUof-JSu_vDe",
        "colab_type": "code",
        "colab": {}
      },
      "source": [
        "Dataset[list(range(100))] = Dataset.parallel_apply(lambda x : get_rows(review_Dataset,12,x['business_id'],x['Date']),axis=1,result_type ='expand')"
      ],
      "execution_count": 0,
      "outputs": []
    },
    {
      "cell_type": "code",
      "metadata": {
        "id": "aaL_eyXsHnMe",
        "colab_type": "code",
        "colab": {}
      },
      "source": [
        "Dataset['ratings'] = Dataset.parallel_apply(lambda x : get_ratings(review_Dataset,12,x['business_id'],x['Date']),axis=1)"
      ],
      "execution_count": 0,
      "outputs": []
    },
    {
      "cell_type": "code",
      "metadata": {
        "id": "YM2nMYmaao3g",
        "colab_type": "code",
        "colab": {}
      },
      "source": [
        "Dataset['sentiment_score'] = Dataset.parallel_apply(lambda x : get_sentimnet_Score(review_Dataset,12,x['business_id'],x['Date']),axis=1)"
      ],
      "execution_count": 0,
      "outputs": []
    },
    {
      "cell_type": "code",
      "metadata": {
        "id": "otJbFAJ4Jasp",
        "colab_type": "code",
        "colab": {}
      },
      "source": [
        "Dataset= Dataset[~Dataset.ratings.isna()]"
      ],
      "execution_count": 0,
      "outputs": []
    },
    {
      "cell_type": "code",
      "metadata": {
        "id": "maVDciCbBZyu",
        "colab_type": "code",
        "colab": {}
      },
      "source": [
        "Dataset[['previous_demerits_avg','no_of_inspections']]=Dataset.parallel_apply(lambda x : get_features(x['business_id'],x['inspection_date'],y_file),axis =1,result_type ='expand')"
      ],
      "execution_count": 0,
      "outputs": []
    },
    {
      "cell_type": "code",
      "metadata": {
        "id": "UFHhkj0uDahr",
        "colab_type": "code",
        "colab": {}
      },
      "source": [
        "def pass_fail(x):\n",
        "  if (x=='A'):\n",
        "    return (1)\n",
        "  else:\n",
        "    return  (0)"
      ],
      "execution_count": 0,
      "outputs": []
    },
    {
      "cell_type": "code",
      "metadata": {
        "id": "pkxwlKgrD3SU",
        "colab_type": "code",
        "colab": {}
      },
      "source": [
        "Dataset['pass'] = Dataset.inspection_grade.apply(lambda x:pass_fail(x))"
      ],
      "execution_count": 0,
      "outputs": []
    },
    {
      "cell_type": "code",
      "metadata": {
        "id": "PujrDktUECYC",
        "colab_type": "code",
        "colab": {}
      },
      "source": [
        "Dataset.loc[Dataset['previous_demerits_avg'].isna(),'previous_demerits_avg'] = Dataset.previous_demerits_avg.median()"
      ],
      "execution_count": 0,
      "outputs": []
    },
    {
      "cell_type": "code",
      "metadata": {
        "id": "ZWIyhHVdF25O",
        "colab_type": "code",
        "colab": {}
      },
      "source": [
        "Dataset[['previous_A','previous_B','previous_C']] = pd.get_dummies(Dataset.previous_grade).drop(columns = 'NA')"
      ],
      "execution_count": 0,
      "outputs": []
    },
    {
      "cell_type": "code",
      "metadata": {
        "id": "kwsVg_JQGvSZ",
        "colab_type": "code",
        "colab": {
          "base_uri": "https://localhost:8080/",
          "height": 225
        },
        "outputId": "f6ab2ffa-f5ce-45ac-b9ba-c5b79d46d763"
      },
      "source": [
        "Dataset.isna().sum()"
      ],
      "execution_count": 59,
      "outputs": [
        {
          "output_type": "execute_result",
          "data": {
            "text/plain": [
              "business_id          0\n",
              "inspection_date      0\n",
              "inspection_count     0\n",
              "average_demerits     0\n",
              "inspection_grade     0\n",
              "                    ..\n",
              "no_of_inspections    0\n",
              "pass                 0\n",
              "previous_A           0\n",
              "previous_B           0\n",
              "previous_C           0\n",
              "Length: 147, dtype: int64"
            ]
          },
          "metadata": {
            "tags": []
          },
          "execution_count": 59
        }
      ]
    },
    {
      "cell_type": "code",
      "metadata": {
        "id": "-Po-cu5xjYL1",
        "colab_type": "code",
        "colab": {
          "base_uri": "https://localhost:8080/",
          "height": 69
        },
        "outputId": "ed4640d6-f180-455b-c897-ed56db6edbb4"
      },
      "source": [
        "Dataset['pass'].value_counts()"
      ],
      "execution_count": 65,
      "outputs": [
        {
          "output_type": "execute_result",
          "data": {
            "text/plain": [
              "1    100099\n",
              "0     18099\n",
              "Name: pass, dtype: int64"
            ]
          },
          "metadata": {
            "tags": []
          },
          "execution_count": 65
        }
      ]
    },
    {
      "cell_type": "code",
      "metadata": {
        "id": "mm8oa_AHEOdW",
        "colab_type": "code",
        "colab": {}
      },
      "source": [
        "train,test = train_test_split(Dataset,test_size = 0.2,stratify = Dataset['pass'],random_state =100)"
      ],
      "execution_count": 0,
      "outputs": []
    },
    {
      "cell_type": "code",
      "metadata": {
        "id": "qcgn33xYjls-",
        "colab_type": "code",
        "colab": {
          "base_uri": "https://localhost:8080/",
          "height": 69
        },
        "outputId": "91546aa1-d809-4b74-d764-12d6ff4e2024"
      },
      "source": [
        "test['pass'].value_counts()"
      ],
      "execution_count": 63,
      "outputs": [
        {
          "output_type": "execute_result",
          "data": {
            "text/plain": [
              "1    20020\n",
              "0     3620\n",
              "Name: pass, dtype: int64"
            ]
          },
          "metadata": {
            "tags": []
          },
          "execution_count": 63
        }
      ]
    },
    {
      "cell_type": "code",
      "metadata": {
        "id": "by3QwiGPog5i",
        "colab_type": "code",
        "colab": {}
      },
      "source": [
        ""
      ],
      "execution_count": 0,
      "outputs": []
    },
    {
      "cell_type": "code",
      "metadata": {
        "id": "7AqRmx-NFkoM",
        "colab_type": "code",
        "colab": {}
      },
      "source": [
        "X_train = train[ ['sentiment_score'] +  ['ratings'] + ['previous_A','previous_B','previous_C']+['previous_demerits_avg','no_of_inspections']]\n",
        "X_test = test[  ['sentiment_score'] + ['ratings'] + ['previous_A','previous_B','previous_C']+['previous_demerits_avg','no_of_inspections']] "
      ],
      "execution_count": 0,
      "outputs": []
    },
    {
      "cell_type": "code",
      "metadata": {
        "id": "3LpIWNSNDCbS",
        "colab_type": "code",
        "colab": {}
      },
      "source": [
        "Y_train = train['pass']"
      ],
      "execution_count": 0,
      "outputs": []
    },
    {
      "cell_type": "code",
      "metadata": {
        "id": "9k3kK7ENDJVW",
        "colab_type": "code",
        "colab": {}
      },
      "source": [
        "Y_test = test['pass']"
      ],
      "execution_count": 0,
      "outputs": []
    },
    {
      "cell_type": "code",
      "metadata": {
        "id": "g4p7vwz5DOJt",
        "colab_type": "code",
        "colab": {}
      },
      "source": [
        "sc = StandardScaler()"
      ],
      "execution_count": 0,
      "outputs": []
    },
    {
      "cell_type": "code",
      "metadata": {
        "id": "T4H0p9bNJlQV",
        "colab_type": "code",
        "colab": {}
      },
      "source": [
        "rus = RandomUnderSampler(random_state=42)"
      ],
      "execution_count": 0,
      "outputs": []
    },
    {
      "cell_type": "code",
      "metadata": {
        "id": "bQ05YZTwJpa0",
        "colab_type": "code",
        "colab": {}
      },
      "source": [
        "X_train_under,Y_train_under= rus.fit_resample(X_train,Y_train)"
      ],
      "execution_count": 0,
      "outputs": []
    },
    {
      "cell_type": "code",
      "metadata": {
        "id": "s1troMqeDcnR",
        "colab_type": "code",
        "colab": {}
      },
      "source": [
        "X_train_fit = sc.fit_transform(X_train_under)"
      ],
      "execution_count": 0,
      "outputs": []
    },
    {
      "cell_type": "code",
      "metadata": {
        "id": "bc_S2qxtIrhN",
        "colab_type": "code",
        "colab": {}
      },
      "source": [
        "X_test_fit  = sc.fit_transform(X_test)"
      ],
      "execution_count": 0,
      "outputs": []
    },
    {
      "cell_type": "code",
      "metadata": {
        "id": "tn7gAJH9VR6b",
        "colab_type": "code",
        "colab": {}
      },
      "source": [
        "clf = RandomForestClassifier(n_estimators=100,min_samples_split=4,min_samples_leaf=2)\n",
        "clf.fit(X_train_fit,Y_train_under)"
      ],
      "execution_count": 0,
      "outputs": []
    },
    {
      "cell_type": "code",
      "metadata": {
        "id": "Rqk_5m5iIxAE",
        "colab_type": "code",
        "colab": {}
      },
      "source": [
        "logreg = LogisticRegression(n_jobs=1, C=1e5)\n",
        "logreg.fit(X_train_fit,Y_train_under)"
      ],
      "execution_count": 0,
      "outputs": []
    },
    {
      "cell_type": "code",
      "metadata": {
        "id": "Cx07NF7VVzvw",
        "colab_type": "code",
        "colab": {}
      },
      "source": [
        "clf = GaussianNB()\n",
        "clf.fit(X_train_fit,Y_train_under)"
      ],
      "execution_count": 0,
      "outputs": []
    },
    {
      "cell_type": "code",
      "metadata": {
        "id": "XFiNAGb8I8eZ",
        "colab_type": "code",
        "colab": {}
      },
      "source": [
        "y_pred = logreg.predict(X_test_fit )"
      ],
      "execution_count": 0,
      "outputs": []
    },
    {
      "cell_type": "code",
      "metadata": {
        "id": "hu4uU5tNI_RF",
        "colab_type": "code",
        "colab": {}
      },
      "source": [
        "accuracy_score(y_true=Y_test,y_pred=y_pred)"
      ],
      "execution_count": 0,
      "outputs": []
    },
    {
      "cell_type": "code",
      "metadata": {
        "id": "FPJX52B8JJuA",
        "colab_type": "code",
        "colab": {}
      },
      "source": [
        "print(classification_report(y_true=Y_test,y_pred=y_pred, target_names=['fail','pass']))"
      ],
      "execution_count": 0,
      "outputs": []
    },
    {
      "cell_type": "code",
      "metadata": {
        "id": "yJvAgEcbp-0Q",
        "colab_type": "code",
        "colab": {}
      },
      "source": [
        "confusion_matrix(Y_test,y_pred,labels=[1,0])"
      ],
      "execution_count": 0,
      "outputs": []
    },
    {
      "cell_type": "code",
      "metadata": {
        "id": "3OdUETQis5Uf",
        "colab_type": "code",
        "colab": {}
      },
      "source": [
        "from sklearn.metrics import precision_score\n",
        "from sklearn.metrics import recall_score"
      ],
      "execution_count": 0,
      "outputs": []
    },
    {
      "cell_type": "code",
      "metadata": {
        "id": "8hc4KIx7s_H9",
        "colab_type": "code",
        "colab": {}
      },
      "source": [
        "precision_score(Y_test,y_pred)"
      ],
      "execution_count": 0,
      "outputs": []
    },
    {
      "cell_type": "code",
      "metadata": {
        "id": "-G_c1g4RtHGr",
        "colab_type": "code",
        "colab": {}
      },
      "source": [
        "recall_score(Y_test,y_pred)"
      ],
      "execution_count": 0,
      "outputs": []
    },
    {
      "cell_type": "code",
      "metadata": {
        "id": "RmtqbXReslim",
        "colab_type": "code",
        "colab": {}
      },
      "source": [
        "precision_recall_fscore_support(Y_test,y_pred)"
      ],
      "execution_count": 0,
      "outputs": []
    }
  ]
}