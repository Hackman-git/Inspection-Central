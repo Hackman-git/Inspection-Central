{
 "cells": [
  {
   "cell_type": "code",
   "execution_count": 2,
   "metadata": {},
   "outputs": [],
   "source": [
    "import pandas as pd"
   ]
  },
  {
   "cell_type": "code",
   "execution_count": 3,
   "metadata": {},
   "outputs": [],
   "source": [
    "import tarfile"
   ]
  },
  {
   "cell_type": "code",
   "execution_count": 4,
   "metadata": {},
   "outputs": [],
   "source": [
    "import os"
   ]
  },
  {
   "cell_type": "code",
   "execution_count": 5,
   "metadata": {},
   "outputs": [],
   "source": [
    "path = 'C:\\\\Users\\\\kunke\\\\Bhav\\\\Masters\\\\SEM II\\\\Data Preparation and Analysis\\\\Project'"
   ]
  },
  {
   "cell_type": "code",
   "execution_count": 6,
   "metadata": {},
   "outputs": [],
   "source": [
    "tar_files = [f for f in os.listdir(path) if f.endswith('.tar.gz')]"
   ]
  },
  {
   "cell_type": "code",
   "execution_count": 7,
   "metadata": {},
   "outputs": [
    {
     "data": {
      "text/plain": [
       "['2004.tar.gz',\n",
       " '2005.tar.gz',\n",
       " '2006.tar.gz',\n",
       " '2007.tar.gz',\n",
       " '2008.tar.gz',\n",
       " '2009.tar.gz',\n",
       " '2010.tar.gz',\n",
       " '2011.tar.gz',\n",
       " '2012.tar.gz',\n",
       " '2013.tar.gz',\n",
       " '2014.tar.gz',\n",
       " '2015.tar.gz',\n",
       " '2016.tar.gz',\n",
       " '2017.tar.gz',\n",
       " '2018.tar.gz',\n",
       " '2019.tar.gz']"
      ]
     },
     "execution_count": 7,
     "metadata": {},
     "output_type": "execute_result"
    }
   ],
   "source": [
    "tar_files"
   ]
  },
  {
   "cell_type": "code",
   "execution_count": 15,
   "metadata": {},
   "outputs": [],
   "source": [
    "df_list = []"
   ]
  },
  {
   "cell_type": "code",
   "execution_count": 16,
   "metadata": {},
   "outputs": [],
   "source": [
    "for tar_file in tar_files:\n",
    "    tar = tarfile.open(tar_file, 'r:gz')\n",
    "    for member in tar.getmembers():\n",
    "        f = tar.extractfile(member)\n",
    "        if f is not None:\n",
    "            content = f.read()\n",
    "            string_content = content.decode('utf-8')\n",
    "            if 'NV US' in string_content:\n",
    "                temp_list = []\n",
    "                lines = string_content.split('\\n')\n",
    "                for line in lines:\n",
    "                    line = line[1:-1]\n",
    "                    line = line.split('\\\",\\\"')\n",
    "                    temp_list.append(line)\n",
    "                col_names = temp_list[0]\n",
    "                df_list.extend(temp_list[1:])"
   ]
  },
  {
   "cell_type": "code",
   "execution_count": 17,
   "metadata": {},
   "outputs": [
    {
     "data": {
      "text/plain": [
       "117191"
      ]
     },
     "execution_count": 17,
     "metadata": {},
     "output_type": "execute_result"
    }
   ],
   "source": [
    "len(df_list)"
   ]
  },
  {
   "cell_type": "code",
   "execution_count": 18,
   "metadata": {},
   "outputs": [],
   "source": [
    "df = pd.DataFrame(df_list)"
   ]
  },
  {
   "cell_type": "code",
   "execution_count": 19,
   "metadata": {},
   "outputs": [
    {
     "data": {
      "text/plain": [
       "(117191, 28)"
      ]
     },
     "execution_count": 19,
     "metadata": {},
     "output_type": "execute_result"
    }
   ],
   "source": [
    "df.shape"
   ]
  },
  {
   "cell_type": "code",
   "execution_count": 22,
   "metadata": {},
   "outputs": [
    {
     "data": {
      "text/plain": [
       "['STATION',\n",
       " 'DATE',\n",
       " 'LATITUDE',\n",
       " 'LONGITUDE',\n",
       " 'ELEVATION',\n",
       " 'NAME',\n",
       " 'TEMP',\n",
       " 'TEMP_ATTRIBUTES',\n",
       " 'DEWP',\n",
       " 'DEWP_ATTRIBUTES',\n",
       " 'SLP',\n",
       " 'SLP_ATTRIBUTES',\n",
       " 'STP',\n",
       " 'STP_ATTRIBUTES',\n",
       " 'VISIB',\n",
       " 'VISIB_ATTRIBUTES',\n",
       " 'WDSP',\n",
       " 'WDSP_ATTRIBUTES',\n",
       " 'MXSPD',\n",
       " 'GUST',\n",
       " 'MAX',\n",
       " 'MAX_ATTRIBUTES',\n",
       " 'MIN',\n",
       " 'MIN_ATTRIBUTES',\n",
       " 'PRCP',\n",
       " 'PRCP_ATTRIBUTES',\n",
       " 'SNDP',\n",
       " 'FRSHTT']"
      ]
     },
     "execution_count": 22,
     "metadata": {},
     "output_type": "execute_result"
    }
   ],
   "source": [
    "col_names"
   ]
  },
  {
   "cell_type": "code",
   "execution_count": 23,
   "metadata": {},
   "outputs": [],
   "source": [
    "df.columns = col_names"
   ]
  },
  {
   "cell_type": "code",
   "execution_count": 24,
   "metadata": {},
   "outputs": [
    {
     "data": {
      "text/html": [
       "<div>\n",
       "<style scoped>\n",
       "    .dataframe tbody tr th:only-of-type {\n",
       "        vertical-align: middle;\n",
       "    }\n",
       "\n",
       "    .dataframe tbody tr th {\n",
       "        vertical-align: top;\n",
       "    }\n",
       "\n",
       "    .dataframe thead th {\n",
       "        text-align: right;\n",
       "    }\n",
       "</style>\n",
       "<table border=\"1\" class=\"dataframe\">\n",
       "  <thead>\n",
       "    <tr style=\"text-align: right;\">\n",
       "      <th></th>\n",
       "      <th>STATION</th>\n",
       "      <th>DATE</th>\n",
       "      <th>LATITUDE</th>\n",
       "      <th>LONGITUDE</th>\n",
       "      <th>ELEVATION</th>\n",
       "      <th>NAME</th>\n",
       "      <th>TEMP</th>\n",
       "      <th>TEMP_ATTRIBUTES</th>\n",
       "      <th>DEWP</th>\n",
       "      <th>DEWP_ATTRIBUTES</th>\n",
       "      <th>...</th>\n",
       "      <th>MXSPD</th>\n",
       "      <th>GUST</th>\n",
       "      <th>MAX</th>\n",
       "      <th>MAX_ATTRIBUTES</th>\n",
       "      <th>MIN</th>\n",
       "      <th>MIN_ATTRIBUTES</th>\n",
       "      <th>PRCP</th>\n",
       "      <th>PRCP_ATTRIBUTES</th>\n",
       "      <th>SNDP</th>\n",
       "      <th>FRSHTT</th>\n",
       "    </tr>\n",
       "  </thead>\n",
       "  <tbody>\n",
       "    <tr>\n",
       "      <th>0</th>\n",
       "      <td>72387003160</td>\n",
       "      <td>2004-01-01</td>\n",
       "      <td>36.6206</td>\n",
       "      <td>-116.0278</td>\n",
       "      <td>984.5</td>\n",
       "      <td>MERCURY DESERT ROCK AIRPORT, NV US</td>\n",
       "      <td>39.3</td>\n",
       "      <td>24</td>\n",
       "      <td>27.7</td>\n",
       "      <td>24</td>\n",
       "      <td>...</td>\n",
       "      <td>22.9</td>\n",
       "      <td>34.0</td>\n",
       "      <td>55.9</td>\n",
       "      <td></td>\n",
       "      <td>28.9</td>\n",
       "      <td></td>\n",
       "      <td>0.00</td>\n",
       "      <td>D</td>\n",
       "      <td>999.9</td>\n",
       "      <td>000000</td>\n",
       "    </tr>\n",
       "    <tr>\n",
       "      <th>1</th>\n",
       "      <td>72387003160</td>\n",
       "      <td>2004-01-02</td>\n",
       "      <td>36.6206</td>\n",
       "      <td>-116.0278</td>\n",
       "      <td>984.5</td>\n",
       "      <td>MERCURY DESERT ROCK AIRPORT, NV US</td>\n",
       "      <td>47.7</td>\n",
       "      <td>24</td>\n",
       "      <td>27.9</td>\n",
       "      <td>24</td>\n",
       "      <td>...</td>\n",
       "      <td>20.0</td>\n",
       "      <td>28.0</td>\n",
       "      <td>55.9</td>\n",
       "      <td></td>\n",
       "      <td>30.0</td>\n",
       "      <td></td>\n",
       "      <td>0.00</td>\n",
       "      <td>G</td>\n",
       "      <td>999.9</td>\n",
       "      <td>000000</td>\n",
       "    </tr>\n",
       "    <tr>\n",
       "      <th>2</th>\n",
       "      <td>72387003160</td>\n",
       "      <td>2004-01-03</td>\n",
       "      <td>36.6206</td>\n",
       "      <td>-116.0278</td>\n",
       "      <td>984.5</td>\n",
       "      <td>MERCURY DESERT ROCK AIRPORT, NV US</td>\n",
       "      <td>42.3</td>\n",
       "      <td>24</td>\n",
       "      <td>22.4</td>\n",
       "      <td>24</td>\n",
       "      <td>...</td>\n",
       "      <td>22.0</td>\n",
       "      <td>29.9</td>\n",
       "      <td>53.1</td>\n",
       "      <td></td>\n",
       "      <td>33.1</td>\n",
       "      <td></td>\n",
       "      <td>0.00</td>\n",
       "      <td>G</td>\n",
       "      <td>999.9</td>\n",
       "      <td>001000</td>\n",
       "    </tr>\n",
       "    <tr>\n",
       "      <th>3</th>\n",
       "      <td>72387003160</td>\n",
       "      <td>2004-01-04</td>\n",
       "      <td>36.6206</td>\n",
       "      <td>-116.0278</td>\n",
       "      <td>984.5</td>\n",
       "      <td>MERCURY DESERT ROCK AIRPORT, NV US</td>\n",
       "      <td>32.5</td>\n",
       "      <td>24</td>\n",
       "      <td>6.9</td>\n",
       "      <td>24</td>\n",
       "      <td>...</td>\n",
       "      <td>12.0</td>\n",
       "      <td>999.9</td>\n",
       "      <td>45.0</td>\n",
       "      <td></td>\n",
       "      <td>25.0</td>\n",
       "      <td></td>\n",
       "      <td>0.00</td>\n",
       "      <td>G</td>\n",
       "      <td>999.9</td>\n",
       "      <td>000000</td>\n",
       "    </tr>\n",
       "    <tr>\n",
       "      <th>4</th>\n",
       "      <td>72387003160</td>\n",
       "      <td>2004-01-05</td>\n",
       "      <td>36.6206</td>\n",
       "      <td>-116.0278</td>\n",
       "      <td>984.5</td>\n",
       "      <td>MERCURY DESERT ROCK AIRPORT, NV US</td>\n",
       "      <td>33.6</td>\n",
       "      <td>24</td>\n",
       "      <td>6.2</td>\n",
       "      <td>24</td>\n",
       "      <td>...</td>\n",
       "      <td>17.1</td>\n",
       "      <td>999.9</td>\n",
       "      <td>43.0</td>\n",
       "      <td></td>\n",
       "      <td>25.0</td>\n",
       "      <td></td>\n",
       "      <td>0.00</td>\n",
       "      <td>G</td>\n",
       "      <td>999.9</td>\n",
       "      <td>000000</td>\n",
       "    </tr>\n",
       "  </tbody>\n",
       "</table>\n",
       "<p>5 rows × 28 columns</p>\n",
       "</div>"
      ],
      "text/plain": [
       "       STATION        DATE LATITUDE  LONGITUDE ELEVATION  \\\n",
       "0  72387003160  2004-01-01  36.6206  -116.0278     984.5   \n",
       "1  72387003160  2004-01-02  36.6206  -116.0278     984.5   \n",
       "2  72387003160  2004-01-03  36.6206  -116.0278     984.5   \n",
       "3  72387003160  2004-01-04  36.6206  -116.0278     984.5   \n",
       "4  72387003160  2004-01-05  36.6206  -116.0278     984.5   \n",
       "\n",
       "                                 NAME    TEMP TEMP_ATTRIBUTES    DEWP  \\\n",
       "0  MERCURY DESERT ROCK AIRPORT, NV US    39.3              24    27.7   \n",
       "1  MERCURY DESERT ROCK AIRPORT, NV US    47.7              24    27.9   \n",
       "2  MERCURY DESERT ROCK AIRPORT, NV US    42.3              24    22.4   \n",
       "3  MERCURY DESERT ROCK AIRPORT, NV US    32.5              24     6.9   \n",
       "4  MERCURY DESERT ROCK AIRPORT, NV US    33.6              24     6.2   \n",
       "\n",
       "  DEWP_ATTRIBUTES   ...    MXSPD   GUST     MAX MAX_ATTRIBUTES     MIN  \\\n",
       "0              24   ...     22.9   34.0    55.9                   28.9   \n",
       "1              24   ...     20.0   28.0    55.9                   30.0   \n",
       "2              24   ...     22.0   29.9    53.1                   33.1   \n",
       "3              24   ...     12.0  999.9    45.0                   25.0   \n",
       "4              24   ...     17.1  999.9    43.0                   25.0   \n",
       "\n",
       "  MIN_ATTRIBUTES   PRCP PRCP_ATTRIBUTES   SNDP  FRSHTT  \n",
       "0                  0.00               D  999.9  000000  \n",
       "1                  0.00               G  999.9  000000  \n",
       "2                  0.00               G  999.9  001000  \n",
       "3                  0.00               G  999.9  000000  \n",
       "4                  0.00               G  999.9  000000  \n",
       "\n",
       "[5 rows x 28 columns]"
      ]
     },
     "execution_count": 24,
     "metadata": {},
     "output_type": "execute_result"
    }
   ],
   "source": [
    "df.head()"
   ]
  },
  {
   "cell_type": "code",
   "execution_count": 25,
   "metadata": {},
   "outputs": [
    {
     "data": {
      "text/plain": [
       "STATION               0\n",
       "DATE                350\n",
       "LATITUDE            350\n",
       "LONGITUDE           350\n",
       "ELEVATION           350\n",
       "NAME                350\n",
       "TEMP                350\n",
       "TEMP_ATTRIBUTES     350\n",
       "DEWP                350\n",
       "DEWP_ATTRIBUTES     350\n",
       "SLP                 350\n",
       "SLP_ATTRIBUTES      350\n",
       "STP                 350\n",
       "STP_ATTRIBUTES      350\n",
       "VISIB               350\n",
       "VISIB_ATTRIBUTES    350\n",
       "WDSP                350\n",
       "WDSP_ATTRIBUTES     350\n",
       "MXSPD               350\n",
       "GUST                350\n",
       "MAX                 350\n",
       "MAX_ATTRIBUTES      350\n",
       "MIN                 350\n",
       "MIN_ATTRIBUTES      350\n",
       "PRCP                350\n",
       "PRCP_ATTRIBUTES     350\n",
       "SNDP                350\n",
       "FRSHTT              350\n",
       "dtype: int64"
      ]
     },
     "execution_count": 25,
     "metadata": {},
     "output_type": "execute_result"
    }
   ],
   "source": [
    "df.isna().sum()"
   ]
  },
  {
   "cell_type": "code",
   "execution_count": 26,
   "metadata": {},
   "outputs": [],
   "source": [
    "df.dropna(inplace = True)"
   ]
  },
  {
   "cell_type": "code",
   "execution_count": 27,
   "metadata": {},
   "outputs": [
    {
     "data": {
      "text/html": [
       "<div>\n",
       "<style scoped>\n",
       "    .dataframe tbody tr th:only-of-type {\n",
       "        vertical-align: middle;\n",
       "    }\n",
       "\n",
       "    .dataframe tbody tr th {\n",
       "        vertical-align: top;\n",
       "    }\n",
       "\n",
       "    .dataframe thead th {\n",
       "        text-align: right;\n",
       "    }\n",
       "</style>\n",
       "<table border=\"1\" class=\"dataframe\">\n",
       "  <thead>\n",
       "    <tr style=\"text-align: right;\">\n",
       "      <th></th>\n",
       "      <th>STATION</th>\n",
       "      <th>DATE</th>\n",
       "      <th>LATITUDE</th>\n",
       "      <th>LONGITUDE</th>\n",
       "      <th>ELEVATION</th>\n",
       "      <th>NAME</th>\n",
       "      <th>TEMP</th>\n",
       "      <th>TEMP_ATTRIBUTES</th>\n",
       "      <th>DEWP</th>\n",
       "      <th>DEWP_ATTRIBUTES</th>\n",
       "      <th>...</th>\n",
       "      <th>MXSPD</th>\n",
       "      <th>GUST</th>\n",
       "      <th>MAX</th>\n",
       "      <th>MAX_ATTRIBUTES</th>\n",
       "      <th>MIN</th>\n",
       "      <th>MIN_ATTRIBUTES</th>\n",
       "      <th>PRCP</th>\n",
       "      <th>PRCP_ATTRIBUTES</th>\n",
       "      <th>SNDP</th>\n",
       "      <th>FRSHTT</th>\n",
       "    </tr>\n",
       "  </thead>\n",
       "  <tbody>\n",
       "    <tr>\n",
       "      <th>0</th>\n",
       "      <td>72387003160</td>\n",
       "      <td>2004-01-01</td>\n",
       "      <td>36.6206</td>\n",
       "      <td>-116.0278</td>\n",
       "      <td>984.5</td>\n",
       "      <td>MERCURY DESERT ROCK AIRPORT, NV US</td>\n",
       "      <td>39.3</td>\n",
       "      <td>24</td>\n",
       "      <td>27.7</td>\n",
       "      <td>24</td>\n",
       "      <td>...</td>\n",
       "      <td>22.9</td>\n",
       "      <td>34.0</td>\n",
       "      <td>55.9</td>\n",
       "      <td></td>\n",
       "      <td>28.9</td>\n",
       "      <td></td>\n",
       "      <td>0.00</td>\n",
       "      <td>D</td>\n",
       "      <td>999.9</td>\n",
       "      <td>000000</td>\n",
       "    </tr>\n",
       "    <tr>\n",
       "      <th>1</th>\n",
       "      <td>72387003160</td>\n",
       "      <td>2004-01-02</td>\n",
       "      <td>36.6206</td>\n",
       "      <td>-116.0278</td>\n",
       "      <td>984.5</td>\n",
       "      <td>MERCURY DESERT ROCK AIRPORT, NV US</td>\n",
       "      <td>47.7</td>\n",
       "      <td>24</td>\n",
       "      <td>27.9</td>\n",
       "      <td>24</td>\n",
       "      <td>...</td>\n",
       "      <td>20.0</td>\n",
       "      <td>28.0</td>\n",
       "      <td>55.9</td>\n",
       "      <td></td>\n",
       "      <td>30.0</td>\n",
       "      <td></td>\n",
       "      <td>0.00</td>\n",
       "      <td>G</td>\n",
       "      <td>999.9</td>\n",
       "      <td>000000</td>\n",
       "    </tr>\n",
       "    <tr>\n",
       "      <th>2</th>\n",
       "      <td>72387003160</td>\n",
       "      <td>2004-01-03</td>\n",
       "      <td>36.6206</td>\n",
       "      <td>-116.0278</td>\n",
       "      <td>984.5</td>\n",
       "      <td>MERCURY DESERT ROCK AIRPORT, NV US</td>\n",
       "      <td>42.3</td>\n",
       "      <td>24</td>\n",
       "      <td>22.4</td>\n",
       "      <td>24</td>\n",
       "      <td>...</td>\n",
       "      <td>22.0</td>\n",
       "      <td>29.9</td>\n",
       "      <td>53.1</td>\n",
       "      <td></td>\n",
       "      <td>33.1</td>\n",
       "      <td></td>\n",
       "      <td>0.00</td>\n",
       "      <td>G</td>\n",
       "      <td>999.9</td>\n",
       "      <td>001000</td>\n",
       "    </tr>\n",
       "    <tr>\n",
       "      <th>3</th>\n",
       "      <td>72387003160</td>\n",
       "      <td>2004-01-04</td>\n",
       "      <td>36.6206</td>\n",
       "      <td>-116.0278</td>\n",
       "      <td>984.5</td>\n",
       "      <td>MERCURY DESERT ROCK AIRPORT, NV US</td>\n",
       "      <td>32.5</td>\n",
       "      <td>24</td>\n",
       "      <td>6.9</td>\n",
       "      <td>24</td>\n",
       "      <td>...</td>\n",
       "      <td>12.0</td>\n",
       "      <td>999.9</td>\n",
       "      <td>45.0</td>\n",
       "      <td></td>\n",
       "      <td>25.0</td>\n",
       "      <td></td>\n",
       "      <td>0.00</td>\n",
       "      <td>G</td>\n",
       "      <td>999.9</td>\n",
       "      <td>000000</td>\n",
       "    </tr>\n",
       "    <tr>\n",
       "      <th>4</th>\n",
       "      <td>72387003160</td>\n",
       "      <td>2004-01-05</td>\n",
       "      <td>36.6206</td>\n",
       "      <td>-116.0278</td>\n",
       "      <td>984.5</td>\n",
       "      <td>MERCURY DESERT ROCK AIRPORT, NV US</td>\n",
       "      <td>33.6</td>\n",
       "      <td>24</td>\n",
       "      <td>6.2</td>\n",
       "      <td>24</td>\n",
       "      <td>...</td>\n",
       "      <td>17.1</td>\n",
       "      <td>999.9</td>\n",
       "      <td>43.0</td>\n",
       "      <td></td>\n",
       "      <td>25.0</td>\n",
       "      <td></td>\n",
       "      <td>0.00</td>\n",
       "      <td>G</td>\n",
       "      <td>999.9</td>\n",
       "      <td>000000</td>\n",
       "    </tr>\n",
       "  </tbody>\n",
       "</table>\n",
       "<p>5 rows × 28 columns</p>\n",
       "</div>"
      ],
      "text/plain": [
       "       STATION        DATE LATITUDE  LONGITUDE ELEVATION  \\\n",
       "0  72387003160  2004-01-01  36.6206  -116.0278     984.5   \n",
       "1  72387003160  2004-01-02  36.6206  -116.0278     984.5   \n",
       "2  72387003160  2004-01-03  36.6206  -116.0278     984.5   \n",
       "3  72387003160  2004-01-04  36.6206  -116.0278     984.5   \n",
       "4  72387003160  2004-01-05  36.6206  -116.0278     984.5   \n",
       "\n",
       "                                 NAME    TEMP TEMP_ATTRIBUTES    DEWP  \\\n",
       "0  MERCURY DESERT ROCK AIRPORT, NV US    39.3              24    27.7   \n",
       "1  MERCURY DESERT ROCK AIRPORT, NV US    47.7              24    27.9   \n",
       "2  MERCURY DESERT ROCK AIRPORT, NV US    42.3              24    22.4   \n",
       "3  MERCURY DESERT ROCK AIRPORT, NV US    32.5              24     6.9   \n",
       "4  MERCURY DESERT ROCK AIRPORT, NV US    33.6              24     6.2   \n",
       "\n",
       "  DEWP_ATTRIBUTES   ...    MXSPD   GUST     MAX MAX_ATTRIBUTES     MIN  \\\n",
       "0              24   ...     22.9   34.0    55.9                   28.9   \n",
       "1              24   ...     20.0   28.0    55.9                   30.0   \n",
       "2              24   ...     22.0   29.9    53.1                   33.1   \n",
       "3              24   ...     12.0  999.9    45.0                   25.0   \n",
       "4              24   ...     17.1  999.9    43.0                   25.0   \n",
       "\n",
       "  MIN_ATTRIBUTES   PRCP PRCP_ATTRIBUTES   SNDP  FRSHTT  \n",
       "0                  0.00               D  999.9  000000  \n",
       "1                  0.00               G  999.9  000000  \n",
       "2                  0.00               G  999.9  001000  \n",
       "3                  0.00               G  999.9  000000  \n",
       "4                  0.00               G  999.9  000000  \n",
       "\n",
       "[5 rows x 28 columns]"
      ]
     },
     "execution_count": 27,
     "metadata": {},
     "output_type": "execute_result"
    }
   ],
   "source": [
    "df.head()"
   ]
  },
  {
   "cell_type": "code",
   "execution_count": 28,
   "metadata": {},
   "outputs": [
    {
     "data": {
      "text/plain": [
       "(116841, 28)"
      ]
     },
     "execution_count": 28,
     "metadata": {},
     "output_type": "execute_result"
    }
   ],
   "source": [
    "df.shape"
   ]
  },
  {
   "cell_type": "code",
   "execution_count": 29,
   "metadata": {},
   "outputs": [],
   "source": [
    "df.to_csv('LasVegasWeather.csv', index = False)"
   ]
  },
  {
   "cell_type": "code",
   "execution_count": 30,
   "metadata": {},
   "outputs": [
    {
     "data": {
      "text/plain": [
       "ELKO REGIONAL AIRPORT, NV US                       5842\n",
       "LOVELOCK DERBY FIELD AIRPORT, NV US                5840\n",
       "ELY AIRPORT, NV US                                 5833\n",
       "WINNEMUCCA AIRPORT, NV US                          5822\n",
       "TONOPAH AIRPORT, NV US                             5816\n",
       "FALLON NAAS, NV US                                 5774\n",
       "MERCURY 3 SSW, NV US                               5754\n",
       "BAKER 5 W, NV US                                   5680\n",
       "INDIAN SPRINGS, NV US                              5305\n",
       "LAS VEGAS AIR TERMINAL, NV US                      5112\n",
       "LAS VEGAS HENDERSON AIRPORT, NV US                 5082\n",
       "LAS VEGAS NELLIS AFB, NV US                        5073\n",
       "MERCURY DESERT ROCK AIRPORT, NV US                 4745\n",
       "LAS VEGAS MCCARRAN INTERNATIONAL AIRPORT, NV US    4384\n",
       "RENO TAHOE INTERNATIONAL AIRPORT, NV US            4384\n",
       "EUREKA AIRPORT, NV US                              4381\n",
       "DENIO 52 WSW, NV US                                4214\n",
       "BOULDER CITY MUNICIPAL AIRPORT, NV US              3447\n",
       "CARSON AIRPORT, NV US                              3420\n",
       "RENO STEAD AIRPORT, NV US                          3091\n",
       "TONOPAH TEST RANGE NUMBER 74 NELLIS AFB, NV US     2276\n",
       "EUREKA RAMOS, NV US                                2025\n",
       "MINDEN TAHOE AIRPORT, NV US                        1899\n",
       "BATTLE MOUNTAIN 4 SE, NV US                        1603\n",
       "RENO AIRPORT, NV US                                1460\n",
       "MCCARRAN INTERNATIONAL AIRPORT, NV US              1460\n",
       "INDIAN SPRINGS RANGE 63, NV US                     1228\n",
       "HAWTHORNE INDUSTRIAL, NV US                         906\n",
       "AUSTIN AIRPORT, NV US                               780\n",
       "NORTH LAS VEGAS, NV US                              728\n",
       "HENDERSON EXECUTIVE, NV US                          537\n",
       "IND SPRNG RANGE 63, NV US                           457\n",
       "EUREKA, NV US                                       425\n",
       "WILD HORSE RESERVOIR, NV US                         406\n",
       "WELLS, NV US                                        405\n",
       "WILDHORSE RES ELKO, NV US                           342\n",
       "BATTLE MOUNTAIN, NV US                              304\n",
       "TONOPAH RANGE NUMBER 74 N, NV US                    223\n",
       "INDIAN SPRINGS AF A, NV US                          150\n",
       "BOULDER CITY MUNICIPAL, NV US                       135\n",
       "INDIAN SPRINGS GUNNERY RANGE, NV US                  80\n",
       "CARSON CITY AIRPORT, NV US                           13\n",
       "Name: NAME, dtype: int64"
      ]
     },
     "execution_count": 30,
     "metadata": {},
     "output_type": "execute_result"
    }
   ],
   "source": [
    "df['NAME'].value_counts()"
   ]
  }
 ],
 "metadata": {
  "kernelspec": {
   "display_name": "Python 3",
   "language": "python",
   "name": "python3"
  },
  "language_info": {
   "codemirror_mode": {
    "name": "ipython",
    "version": 3
   },
   "file_extension": ".py",
   "mimetype": "text/x-python",
   "name": "python",
   "nbconvert_exporter": "python",
   "pygments_lexer": "ipython3",
   "version": "3.7.1"
  }
 },
 "nbformat": 4,
 "nbformat_minor": 2
}
