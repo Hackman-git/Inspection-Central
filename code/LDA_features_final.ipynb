{
  "nbformat": 4,
  "nbformat_minor": 0,
  "metadata": {
    "colab": {
      "name": "LDA_features_new.ipynb",
      "provenance": [],
      "collapsed_sections": [],
      "machine_shape": "hm",
      "authorship_tag": "ABX9TyN3t9acHLS6xcjX8qvqcNVk",
      "include_colab_link": true
    },
    "kernelspec": {
      "name": "python3",
      "display_name": "Python 3"
    },
    "accelerator": "TPU"
  },
  "cells": [
    {
      "cell_type": "markdown",
      "metadata": {
        "id": "view-in-github",
        "colab_type": "text"
      },
      "source": [
        "<a href=\"https://colab.research.google.com/github/RahulReady/DPA-Final-Project/blob/master/LDA_features_final.ipynb\" target=\"_parent\"><img src=\"https://colab.research.google.com/assets/colab-badge.svg\" alt=\"Open In Colab\"/></a>"
      ]
    },
    {
      "cell_type": "code",
      "metadata": {
        "id": "3LLVMPL72JHt",
        "colab_type": "code",
        "outputId": "25cedfd8-5e1c-4194-d60e-2cf24248b820",
        "colab": {
          "base_uri": "https://localhost:8080/",
          "height": 332
        }
      },
      "source": [
        "pip install gensim==3.4.0"
      ],
      "execution_count": 13,
      "outputs": [
        {
          "output_type": "stream",
          "text": [
            "Requirement already satisfied: gensim==3.4.0 in /usr/local/lib/python3.6/dist-packages (3.4.0)\n",
            "Requirement already satisfied: scipy>=0.18.1 in /usr/local/lib/python3.6/dist-packages (from gensim==3.4.0) (1.4.1)\n",
            "Requirement already satisfied: smart-open>=1.2.1 in /usr/local/lib/python3.6/dist-packages (from gensim==3.4.0) (1.11.1)\n",
            "Requirement already satisfied: numpy>=1.11.3 in /usr/local/lib/python3.6/dist-packages (from gensim==3.4.0) (1.18.3)\n",
            "Requirement already satisfied: six>=1.5.0 in /usr/local/lib/python3.6/dist-packages (from gensim==3.4.0) (1.12.0)\n",
            "Requirement already satisfied: requests in /usr/local/lib/python3.6/dist-packages (from smart-open>=1.2.1->gensim==3.4.0) (2.21.0)\n",
            "Requirement already satisfied: boto in /usr/local/lib/python3.6/dist-packages (from smart-open>=1.2.1->gensim==3.4.0) (2.49.0)\n",
            "Requirement already satisfied: boto3 in /usr/local/lib/python3.6/dist-packages (from smart-open>=1.2.1->gensim==3.4.0) (1.12.43)\n",
            "Requirement already satisfied: chardet<3.1.0,>=3.0.2 in /usr/local/lib/python3.6/dist-packages (from requests->smart-open>=1.2.1->gensim==3.4.0) (3.0.4)\n",
            "Requirement already satisfied: urllib3<1.25,>=1.21.1 in /usr/local/lib/python3.6/dist-packages (from requests->smart-open>=1.2.1->gensim==3.4.0) (1.24.3)\n",
            "Requirement already satisfied: idna<2.9,>=2.5 in /usr/local/lib/python3.6/dist-packages (from requests->smart-open>=1.2.1->gensim==3.4.0) (2.8)\n",
            "Requirement already satisfied: certifi>=2017.4.17 in /usr/local/lib/python3.6/dist-packages (from requests->smart-open>=1.2.1->gensim==3.4.0) (2020.4.5.1)\n",
            "Requirement already satisfied: jmespath<1.0.0,>=0.7.1 in /usr/local/lib/python3.6/dist-packages (from boto3->smart-open>=1.2.1->gensim==3.4.0) (0.9.5)\n",
            "Requirement already satisfied: s3transfer<0.4.0,>=0.3.0 in /usr/local/lib/python3.6/dist-packages (from boto3->smart-open>=1.2.1->gensim==3.4.0) (0.3.3)\n",
            "Requirement already satisfied: botocore<1.16.0,>=1.15.43 in /usr/local/lib/python3.6/dist-packages (from boto3->smart-open>=1.2.1->gensim==3.4.0) (1.15.43)\n",
            "Requirement already satisfied: docutils<0.16,>=0.10 in /usr/local/lib/python3.6/dist-packages (from botocore<1.16.0,>=1.15.43->boto3->smart-open>=1.2.1->gensim==3.4.0) (0.15.2)\n",
            "Requirement already satisfied: python-dateutil<3.0.0,>=2.1 in /usr/local/lib/python3.6/dist-packages (from botocore<1.16.0,>=1.15.43->boto3->smart-open>=1.2.1->gensim==3.4.0) (2.8.1)\n"
          ],
          "name": "stdout"
        }
      ]
    },
    {
      "cell_type": "code",
      "metadata": {
        "id": "uq1fZ4Ba-U8U",
        "colab_type": "code",
        "colab": {}
      },
      "source": [
        "from xgboost import XGBClassifier"
      ],
      "execution_count": 0,
      "outputs": []
    },
    {
      "cell_type": "code",
      "metadata": {
        "id": "-KoGMGrmXF85",
        "colab_type": "code",
        "outputId": "5228bb30-2462-4e12-fd71-4076fab3a572",
        "colab": {
          "base_uri": "https://localhost:8080/",
          "height": 35
        }
      },
      "source": [
        "!pip install vaderSentiment\n",
        "from vaderSentiment.vaderSentiment import SentimentIntensityAnalyzer \n",
        "sid_obj = SentimentIntensityAnalyzer() "
      ],
      "execution_count": 15,
      "outputs": [
        {
          "output_type": "stream",
          "text": [
            "Requirement already satisfied: vaderSentiment in /usr/local/lib/python3.6/dist-packages (3.3.1)\n"
          ],
          "name": "stdout"
        }
      ]
    },
    {
      "cell_type": "code",
      "metadata": {
        "id": "9P75aht9IxN1",
        "colab_type": "code",
        "outputId": "23a87e5c-25f9-4823-b509-43cf913b362d",
        "colab": {
          "base_uri": "https://localhost:8080/",
          "height": 121
        }
      },
      "source": [
        "!pip install imblearn\n",
        "from imblearn.under_sampling import RandomUnderSampler"
      ],
      "execution_count": 16,
      "outputs": [
        {
          "output_type": "stream",
          "text": [
            "Requirement already satisfied: imblearn in /usr/local/lib/python3.6/dist-packages (0.0)\n",
            "Requirement already satisfied: imbalanced-learn in /usr/local/lib/python3.6/dist-packages (from imblearn) (0.4.3)\n",
            "Requirement already satisfied: numpy>=1.8.2 in /usr/local/lib/python3.6/dist-packages (from imbalanced-learn->imblearn) (1.18.3)\n",
            "Requirement already satisfied: scipy>=0.13.3 in /usr/local/lib/python3.6/dist-packages (from imbalanced-learn->imblearn) (1.4.1)\n",
            "Requirement already satisfied: scikit-learn>=0.20 in /usr/local/lib/python3.6/dist-packages (from imbalanced-learn->imblearn) (0.22.2.post1)\n",
            "Requirement already satisfied: joblib>=0.11 in /usr/local/lib/python3.6/dist-packages (from scikit-learn>=0.20->imbalanced-learn->imblearn) (0.14.1)\n"
          ],
          "name": "stdout"
        }
      ]
    },
    {
      "cell_type": "code",
      "metadata": {
        "id": "nqY55Bxy6zEy",
        "colab_type": "code",
        "outputId": "4d4c3d62-7f6f-4e38-e501-c8aedd601316",
        "colab": {
          "base_uri": "https://localhost:8080/",
          "height": 121
        }
      },
      "source": [
        "!sudo apt-get install python3-dev default-libmysqlclient-dev"
      ],
      "execution_count": 17,
      "outputs": [
        {
          "output_type": "stream",
          "text": [
            "Reading package lists... Done\n",
            "Building dependency tree       \n",
            "Reading state information... Done\n",
            "default-libmysqlclient-dev is already the newest version (1.0.4).\n",
            "python3-dev is already the newest version (3.6.7-1~18.04).\n",
            "0 upgraded, 0 newly installed, 0 to remove and 25 not upgraded.\n"
          ],
          "name": "stdout"
        }
      ]
    },
    {
      "cell_type": "code",
      "metadata": {
        "id": "sBFl5CUz61gb",
        "colab_type": "code",
        "outputId": "2e41d40d-5c37-40af-a5bf-345b5fc91293",
        "colab": {
          "base_uri": "https://localhost:8080/",
          "height": 280
        }
      },
      "source": [
        "pip install PyDrive"
      ],
      "execution_count": 18,
      "outputs": [
        {
          "output_type": "stream",
          "text": [
            "Requirement already satisfied: PyDrive in /usr/local/lib/python3.6/dist-packages (1.3.1)\n",
            "Requirement already satisfied: google-api-python-client>=1.2 in /usr/local/lib/python3.6/dist-packages (from PyDrive) (1.7.12)\n",
            "Requirement already satisfied: oauth2client>=4.0.0 in /usr/local/lib/python3.6/dist-packages (from PyDrive) (4.1.3)\n",
            "Requirement already satisfied: PyYAML>=3.0 in /usr/local/lib/python3.6/dist-packages (from PyDrive) (3.13)\n",
            "Requirement already satisfied: google-auth>=1.4.1 in /usr/local/lib/python3.6/dist-packages (from google-api-python-client>=1.2->PyDrive) (1.7.2)\n",
            "Requirement already satisfied: httplib2<1dev,>=0.17.0 in /usr/local/lib/python3.6/dist-packages (from google-api-python-client>=1.2->PyDrive) (0.17.3)\n",
            "Requirement already satisfied: uritemplate<4dev,>=3.0.0 in /usr/local/lib/python3.6/dist-packages (from google-api-python-client>=1.2->PyDrive) (3.0.1)\n",
            "Requirement already satisfied: six<2dev,>=1.6.1 in /usr/local/lib/python3.6/dist-packages (from google-api-python-client>=1.2->PyDrive) (1.12.0)\n",
            "Requirement already satisfied: google-auth-httplib2>=0.0.3 in /usr/local/lib/python3.6/dist-packages (from google-api-python-client>=1.2->PyDrive) (0.0.3)\n",
            "Requirement already satisfied: rsa>=3.1.4 in /usr/local/lib/python3.6/dist-packages (from oauth2client>=4.0.0->PyDrive) (4.0)\n",
            "Requirement already satisfied: pyasn1>=0.1.7 in /usr/local/lib/python3.6/dist-packages (from oauth2client>=4.0.0->PyDrive) (0.4.8)\n",
            "Requirement already satisfied: pyasn1-modules>=0.0.5 in /usr/local/lib/python3.6/dist-packages (from oauth2client>=4.0.0->PyDrive) (0.2.8)\n",
            "Requirement already satisfied: setuptools>=40.3.0 in /usr/local/lib/python3.6/dist-packages (from google-auth>=1.4.1->google-api-python-client>=1.2->PyDrive) (46.1.3)\n",
            "Requirement already satisfied: cachetools<3.2,>=2.0.0 in /usr/local/lib/python3.6/dist-packages (from google-auth>=1.4.1->google-api-python-client>=1.2->PyDrive) (3.1.1)\n"
          ],
          "name": "stdout"
        }
      ]
    },
    {
      "cell_type": "code",
      "metadata": {
        "id": "v5M6-YPk63oH",
        "colab_type": "code",
        "outputId": "019a97d3-96fc-4e81-f1c4-92eb330c77e0",
        "colab": {
          "base_uri": "https://localhost:8080/",
          "height": 696
        }
      },
      "source": [
        "\n",
        "!pip install --upgrade setuptools\n",
        "!pip install wheel\n",
        "!pip install pattern\n",
        "!pip install mysqlclient"
      ],
      "execution_count": 19,
      "outputs": [
        {
          "output_type": "stream",
          "text": [
            "Requirement already up-to-date: setuptools in /usr/local/lib/python3.6/dist-packages (46.1.3)\n",
            "Requirement already satisfied: wheel in /usr/local/lib/python3.6/dist-packages (0.34.2)\n",
            "Requirement already satisfied: pattern in /usr/local/lib/python3.6/dist-packages (3.6)\n",
            "Requirement already satisfied: numpy in /usr/local/lib/python3.6/dist-packages (from pattern) (1.18.3)\n",
            "Requirement already satisfied: cherrypy in /usr/local/lib/python3.6/dist-packages (from pattern) (18.6.0)\n",
            "Requirement already satisfied: lxml in /usr/local/lib/python3.6/dist-packages (from pattern) (4.2.6)\n",
            "Requirement already satisfied: mysqlclient in /usr/local/lib/python3.6/dist-packages (from pattern) (1.4.6)\n",
            "Requirement already satisfied: beautifulsoup4 in /usr/local/lib/python3.6/dist-packages (from pattern) (4.6.3)\n",
            "Requirement already satisfied: scipy in /usr/local/lib/python3.6/dist-packages (from pattern) (1.4.1)\n",
            "Requirement already satisfied: backports.csv in /usr/local/lib/python3.6/dist-packages (from pattern) (1.0.7)\n",
            "Requirement already satisfied: nltk in /usr/local/lib/python3.6/dist-packages (from pattern) (3.2.5)\n",
            "Requirement already satisfied: feedparser in /usr/local/lib/python3.6/dist-packages (from pattern) (5.2.1)\n",
            "Requirement already satisfied: requests in /usr/local/lib/python3.6/dist-packages (from pattern) (2.21.0)\n",
            "Requirement already satisfied: python-docx in /usr/local/lib/python3.6/dist-packages (from pattern) (0.8.10)\n",
            "Requirement already satisfied: pdfminer.six in /usr/local/lib/python3.6/dist-packages (from pattern) (20200402)\n",
            "Requirement already satisfied: future in /usr/local/lib/python3.6/dist-packages (from pattern) (0.16.0)\n",
            "Requirement already satisfied: portend>=2.1.1 in /usr/local/lib/python3.6/dist-packages (from cherrypy->pattern) (2.6)\n",
            "Requirement already satisfied: jaraco.collections in /usr/local/lib/python3.6/dist-packages (from cherrypy->pattern) (3.0.0)\n",
            "Requirement already satisfied: zc.lockfile in /usr/local/lib/python3.6/dist-packages (from cherrypy->pattern) (2.0)\n",
            "Requirement already satisfied: more-itertools in /usr/local/lib/python3.6/dist-packages (from cherrypy->pattern) (8.2.0)\n",
            "Requirement already satisfied: cheroot>=8.2.1 in /usr/local/lib/python3.6/dist-packages (from cherrypy->pattern) (8.3.0)\n",
            "Requirement already satisfied: six in /usr/local/lib/python3.6/dist-packages (from nltk->pattern) (1.12.0)\n",
            "Requirement already satisfied: chardet<3.1.0,>=3.0.2 in /usr/local/lib/python3.6/dist-packages (from requests->pattern) (3.0.4)\n",
            "Requirement already satisfied: certifi>=2017.4.17 in /usr/local/lib/python3.6/dist-packages (from requests->pattern) (2020.4.5.1)\n",
            "Requirement already satisfied: urllib3<1.25,>=1.21.1 in /usr/local/lib/python3.6/dist-packages (from requests->pattern) (1.24.3)\n",
            "Requirement already satisfied: idna<2.9,>=2.5 in /usr/local/lib/python3.6/dist-packages (from requests->pattern) (2.8)\n",
            "Requirement already satisfied: sortedcontainers in /usr/local/lib/python3.6/dist-packages (from pdfminer.six->pattern) (2.1.0)\n",
            "Requirement already satisfied: pycryptodome in /usr/local/lib/python3.6/dist-packages (from pdfminer.six->pattern) (3.9.7)\n",
            "Requirement already satisfied: tempora>=1.8 in /usr/local/lib/python3.6/dist-packages (from portend>=2.1.1->cherrypy->pattern) (3.0.0)\n",
            "Requirement already satisfied: jaraco.text in /usr/local/lib/python3.6/dist-packages (from jaraco.collections->cherrypy->pattern) (3.2.0)\n",
            "Requirement already satisfied: jaraco.classes in /usr/local/lib/python3.6/dist-packages (from jaraco.collections->cherrypy->pattern) (3.1.0)\n",
            "Requirement already satisfied: setuptools in /usr/local/lib/python3.6/dist-packages (from zc.lockfile->cherrypy->pattern) (46.1.3)\n",
            "Requirement already satisfied: jaraco.functools in /usr/local/lib/python3.6/dist-packages (from cheroot>=8.2.1->cherrypy->pattern) (3.0.1)\n",
            "Requirement already satisfied: pytz in /usr/local/lib/python3.6/dist-packages (from tempora>=1.8->portend>=2.1.1->cherrypy->pattern) (2018.9)\n",
            "Requirement already satisfied: importlib-resources; python_version < \"3.7\" in /usr/local/lib/python3.6/dist-packages (from jaraco.text->jaraco.collections->cherrypy->pattern) (1.4.0)\n",
            "Requirement already satisfied: zipp>=0.4; python_version < \"3.8\" in /usr/local/lib/python3.6/dist-packages (from importlib-resources; python_version < \"3.7\"->jaraco.text->jaraco.collections->cherrypy->pattern) (3.1.0)\n",
            "Requirement already satisfied: importlib-metadata; python_version < \"3.8\" in /usr/local/lib/python3.6/dist-packages (from importlib-resources; python_version < \"3.7\"->jaraco.text->jaraco.collections->cherrypy->pattern) (1.6.0)\n",
            "Requirement already satisfied: mysqlclient in /usr/local/lib/python3.6/dist-packages (1.4.6)\n"
          ],
          "name": "stdout"
        }
      ]
    },
    {
      "cell_type": "code",
      "metadata": {
        "id": "msbnB5ey675Y",
        "colab_type": "code",
        "outputId": "9944c97e-2fc1-4097-dbe0-a65b1996e34b",
        "colab": {
          "base_uri": "https://localhost:8080/",
          "height": 87
        }
      },
      "source": [
        "!pip install pandarallel\n",
        "from pandarallel import pandarallel\n",
        "pandarallel.initialize()"
      ],
      "execution_count": 20,
      "outputs": [
        {
          "output_type": "stream",
          "text": [
            "Requirement already satisfied: pandarallel in /usr/local/lib/python3.6/dist-packages (1.4.8)\n",
            "Requirement already satisfied: dill in /usr/local/lib/python3.6/dist-packages (from pandarallel) (0.3.1.1)\n",
            "INFO: Pandarallel will run on 40 workers.\n",
            "INFO: Pandarallel will use Memory file system to transfer data between the main process and workers.\n"
          ],
          "name": "stdout"
        }
      ]
    },
    {
      "cell_type": "code",
      "metadata": {
        "id": "alPyjgGG7Ebd",
        "colab_type": "code",
        "outputId": "d78ea46b-f0ee-41f9-869a-35b3fa891f25",
        "colab": {
          "base_uri": "https://localhost:8080/",
          "height": 87
        }
      },
      "source": [
        "import numpy as np\n",
        "import re\n",
        "import pandas as pd\n",
        "import gensim\n",
        "import nltk\n",
        "nltk.download('stopwords')\n",
        "from nltk.corpus import stopwords\n",
        "from nltk import word_tokenize\n",
        "stop_words = set(stopwords.words('english'))\n",
        "from gensim.models import LdaModel, LdaMulticore\n",
        "import gensim.downloader as api\n",
        "from gensim.utils import  lemmatize\n",
        "from gensim import corpora\n",
        "from nltk.corpus import stopwords\n",
        "import re\n",
        "import logging\n",
        "nltk.download('punkt')\n",
        "logging.basicConfig(format='%(asctime)s : %(levelname)s : %(message)s')\n",
        "logging.root.setLevel(level=logging.INFO)\n",
        "stop_words = stopwords.words('english')\n",
        "stop_words.extend(['restaurant','food','place','las','vegas','hotel'])"
      ],
      "execution_count": 21,
      "outputs": [
        {
          "output_type": "stream",
          "text": [
            "[nltk_data] Downloading package stopwords to /root/nltk_data...\n",
            "[nltk_data]   Package stopwords is already up-to-date!\n",
            "[nltk_data] Downloading package punkt to /root/nltk_data...\n",
            "[nltk_data]   Package punkt is already up-to-date!\n"
          ],
          "name": "stdout"
        }
      ]
    },
    {
      "cell_type": "code",
      "metadata": {
        "id": "eOeCl8Ls7Gtc",
        "colab_type": "code",
        "colab": {}
      },
      "source": [
        "from gensim.models.phrases import Phrases, Phraser\n",
        "import multiprocessing\n",
        "import tqdm\n",
        "from sklearn import utils\n",
        "from sklearn.linear_model import LogisticRegression\n",
        "from sklearn.metrics import accuracy_score, f1_score,confusion_matrix,precision_recall_fscore_support,classification_report\n",
        "import ast\n",
        "from sklearn.preprocessing import  StandardScaler\n",
        "from sklearn.model_selection import train_test_split\n",
        "from sklearn.ensemble import RandomForestClassifier\n",
        "from sklearn.naive_bayes import GaussianNB\n",
        "from sklearn.metrics import precision_recall_fscore_support\n",
        "from sklearn.svm import SVC\n",
        "from sklearn.model_selection import GridSearchCV\n",
        "from sklearn.metrics import recall_score"
      ],
      "execution_count": 0,
      "outputs": []
    },
    {
      "cell_type": "code",
      "metadata": {
        "id": "awhcCtetRj_v",
        "colab_type": "code",
        "colab": {}
      },
      "source": [
        "from sklearn.metrics import fbeta_score, make_scorer\n",
        "recall_0 = make_scorer(recall_score,pos_label=0,average='binary')"
      ],
      "execution_count": 0,
      "outputs": []
    },
    {
      "cell_type": "code",
      "metadata": {
        "id": "FLaSk-f17MG_",
        "colab_type": "code",
        "colab": {}
      },
      "source": [
        "from pydrive.auth import GoogleAuth\n",
        "from pydrive.drive import GoogleDrive\n",
        "from google.colab import auth\n",
        "from oauth2client.client import GoogleCredentials\n",
        "from google.colab import drive"
      ],
      "execution_count": 0,
      "outputs": []
    },
    {
      "cell_type": "code",
      "metadata": {
        "id": "KbkhzPii7Tv2",
        "colab_type": "code",
        "outputId": "7b91fc35-edc7-4603-dff9-2789b5311fc1",
        "colab": {
          "base_uri": "https://localhost:8080/",
          "height": 124
        }
      },
      "source": [
        "drive.mount('/content/drive')"
      ],
      "execution_count": 25,
      "outputs": [
        {
          "output_type": "stream",
          "text": [
            "Go to this URL in a browser: https://accounts.google.com/o/oauth2/auth?client_id=947318989803-6bn6qk8qdgf4n4g3pfee6491hc0brc4i.apps.googleusercontent.com&redirect_uri=urn%3aietf%3awg%3aoauth%3a2.0%3aoob&response_type=code&scope=email%20https%3a%2f%2fwww.googleapis.com%2fauth%2fdocs.test%20https%3a%2f%2fwww.googleapis.com%2fauth%2fdrive%20https%3a%2f%2fwww.googleapis.com%2fauth%2fdrive.photos.readonly%20https%3a%2f%2fwww.googleapis.com%2fauth%2fpeopleapi.readonly\n",
            "\n",
            "Enter your authorization code:\n",
            "··········\n",
            "Mounted at /content/drive\n"
          ],
          "name": "stdout"
        }
      ]
    },
    {
      "cell_type": "code",
      "metadata": {
        "id": "9rxFa_cZ7YQ6",
        "colab_type": "code",
        "colab": {}
      },
      "source": [
        "review_Dataset = pd.read_csv('/content/drive/Shared drives/DPA Final Project/review_dataset_features.csv')"
      ],
      "execution_count": 0,
      "outputs": []
    },
    {
      "cell_type": "code",
      "metadata": {
        "id": "4dLeG8z2-xnE",
        "colab_type": "code",
        "colab": {}
      },
      "source": [
        "review_Dataset =review_Dataset.drop(columns= 'Unnamed: 0')"
      ],
      "execution_count": 0,
      "outputs": []
    },
    {
      "cell_type": "code",
      "metadata": {
        "id": "s6mMx0aafG61",
        "colab_type": "code",
        "colab": {}
      },
      "source": [
        "review_Dataset.date = pd.to_datetime(review_Dataset.date)"
      ],
      "execution_count": 0,
      "outputs": []
    },
    {
      "cell_type": "code",
      "metadata": {
        "id": "OroWql1GdglU",
        "colab_type": "code",
        "colab": {}
      },
      "source": [
        "review_Dataset = review_Dataset[~review_Dataset.text.isna()]"
      ],
      "execution_count": 0,
      "outputs": []
    },
    {
      "cell_type": "code",
      "metadata": {
        "id": "xonv-jdI74fz",
        "colab_type": "code",
        "colab": {}
      },
      "source": [
        "Dataset = pd.read_csv('/content/drive/Shared drives/DPA Final Project/y_file.csv')"
      ],
      "execution_count": 0,
      "outputs": []
    },
    {
      "cell_type": "code",
      "metadata": {
        "id": "Xo-Y1Mzt-gXL",
        "colab_type": "code",
        "colab": {}
      },
      "source": [
        "Dataset =Dataset.drop(columns= 'index')"
      ],
      "execution_count": 0,
      "outputs": []
    },
    {
      "cell_type": "code",
      "metadata": {
        "id": "g13RxU-AeKft",
        "colab_type": "code",
        "colab": {}
      },
      "source": [
        "Dataset =Dataset.rename(columns= {'mean':'average_demerits'})"
      ],
      "execution_count": 0,
      "outputs": []
    },
    {
      "cell_type": "code",
      "metadata": {
        "id": "uwC_Fp6ODCj1",
        "colab_type": "code",
        "colab": {}
      },
      "source": [
        "y_file = pd.read_csv('/content/drive/Shared drives/DPA Final Project/y_file.csv')"
      ],
      "execution_count": 0,
      "outputs": []
    },
    {
      "cell_type": "code",
      "metadata": {
        "id": "ts_ypq76eA5x",
        "colab_type": "code",
        "colab": {}
      },
      "source": [
        "y_file = y_file.drop(columns='index')"
      ],
      "execution_count": 0,
      "outputs": []
    },
    {
      "cell_type": "code",
      "metadata": {
        "id": "WoOK3i-tehdp",
        "colab_type": "code",
        "colab": {}
      },
      "source": [
        "y_file =y_file.rename(columns= {'max':'average_demerits'})"
      ],
      "execution_count": 0,
      "outputs": []
    },
    {
      "cell_type": "code",
      "metadata": {
        "id": "cAP-EwVUNI_Y",
        "colab_type": "code",
        "colab": {}
      },
      "source": [
        "def inspection_grade(x):\n",
        "  if x <= 10:\n",
        "    return 'A'\n",
        "  elif x<=20:\n",
        "    return 'B'\n",
        "  else :\n",
        "    return 'C'    "
      ],
      "execution_count": 0,
      "outputs": []
    },
    {
      "cell_type": "code",
      "metadata": {
        "id": "egozFk1I8Mqd",
        "colab_type": "code",
        "colab": {}
      },
      "source": [
        "Dataset['inspection_grade'] = Dataset.average_demerits.apply(lambda x : inspection_grade(x))"
      ],
      "execution_count": 0,
      "outputs": []
    },
    {
      "cell_type": "code",
      "metadata": {
        "id": "u2kyvfZQZpQI",
        "colab_type": "code",
        "colab": {}
      },
      "source": [
        "cat_dataset = pd.read_csv('/content/drive/Shared drives/DPA Final Project/business_with_cat.csv')"
      ],
      "execution_count": 0,
      "outputs": []
    },
    {
      "cell_type": "code",
      "metadata": {
        "id": "XrRgFO2MaO98",
        "colab_type": "code",
        "colab": {}
      },
      "source": [
        "cat_dataset = cat_dataset.drop(columns= 'Unnamed: 0')"
      ],
      "execution_count": 0,
      "outputs": []
    },
    {
      "cell_type": "code",
      "metadata": {
        "id": "qxTivmfX4SQX",
        "colab_type": "code",
        "outputId": "968b504c-b5b3-4de6-e80f-52bf27c9e89a",
        "colab": {
          "base_uri": "https://localhost:8080/",
          "height": 35
        }
      },
      "source": [
        "cat_dataset.shape"
      ],
      "execution_count": 40,
      "outputs": [
        {
          "output_type": "execute_result",
          "data": {
            "text/plain": [
              "(8972, 33)"
            ]
          },
          "metadata": {
            "tags": []
          },
          "execution_count": 40
        }
      ]
    },
    {
      "cell_type": "code",
      "metadata": {
        "id": "W4qunL845HQF",
        "colab_type": "code",
        "outputId": "6ce142fc-a0ad-4463-d847-63655135d6af",
        "colab": {
          "base_uri": "https://localhost:8080/",
          "height": 173
        }
      },
      "source": [
        "cat_dataset.columns"
      ],
      "execution_count": 41,
      "outputs": [
        {
          "output_type": "execute_result",
          "data": {
            "text/plain": [
              "Index(['business_id', 'categories', 'clean_categories', 'is_restaurants',\n",
              "       'is_food', 'is_fast_food', 'is_grocery', 'is_convenience_store',\n",
              "       'is_adult', 'is_bakeries', 'is_buffet', 'is_sushi_bar', 'is_alcohol',\n",
              "       'is_pizza', 'is_coffee_and_tea', 'is_ice_cream_deserts',\n",
              "       'is_sandwiches', 'is_burgers', 'is_vietnamese', 'is_japanese',\n",
              "       'is_thai', 'is_italian', 'is_korean', 'is_american', 'is_chinese',\n",
              "       'is_mexican', 'address_x', 'facility_id', 'location_name', 'name',\n",
              "       'restaurant_name', 'address', 'is_valid'],\n",
              "      dtype='object')"
            ]
          },
          "metadata": {
            "tags": []
          },
          "execution_count": 41
        }
      ]
    },
    {
      "cell_type": "code",
      "metadata": {
        "id": "sW-0tVKU4aVy",
        "colab_type": "code",
        "colab": {}
      },
      "source": [
        "cat_dataset=cat_dataset.drop(columns=['address_x', 'facility_id', 'location_name', 'name',\n",
        "       'restaurant_name', 'address', 'is_valid'])"
      ],
      "execution_count": 0,
      "outputs": []
    },
    {
      "cell_type": "code",
      "metadata": {
        "id": "FZnBL5KV48dU",
        "colab_type": "code",
        "colab": {}
      },
      "source": [
        "cat_dataset= cat_dataset.drop_duplicates()"
      ],
      "execution_count": 0,
      "outputs": []
    },
    {
      "cell_type": "code",
      "metadata": {
        "id": "FkE-kDtU31NU",
        "colab_type": "code",
        "outputId": "dd714a00-86b3-4726-a5d1-d9684387cda1",
        "colab": {
          "base_uri": "https://localhost:8080/",
          "height": 35
        }
      },
      "source": [
        "Dataset.shape"
      ],
      "execution_count": 44,
      "outputs": [
        {
          "output_type": "execute_result",
          "data": {
            "text/plain": [
              "(113390, 8)"
            ]
          },
          "metadata": {
            "tags": []
          },
          "execution_count": 44
        }
      ]
    },
    {
      "cell_type": "code",
      "metadata": {
        "id": "H4ueOk8zZ0Mo",
        "colab_type": "code",
        "colab": {}
      },
      "source": [
        "Dataset = pd.merge(Dataset,cat_dataset,how='inner',on='business_id')"
      ],
      "execution_count": 0,
      "outputs": []
    },
    {
      "cell_type": "code",
      "metadata": {
        "id": "tdbjpaU65W2I",
        "colab_type": "code",
        "outputId": "5c362e21-b3e4-4f4e-c39f-1af7170faf2c",
        "colab": {
          "base_uri": "https://localhost:8080/",
          "height": 35
        }
      },
      "source": [
        "Dataset.shape"
      ],
      "execution_count": 46,
      "outputs": [
        {
          "output_type": "execute_result",
          "data": {
            "text/plain": [
              "(113390, 33)"
            ]
          },
          "metadata": {
            "tags": []
          },
          "execution_count": 46
        }
      ]
    },
    {
      "cell_type": "code",
      "metadata": {
        "id": "mvZIcz4v8QTo",
        "colab_type": "code",
        "colab": {}
      },
      "source": [
        " Dataset['Date'] =  pd.to_datetime(Dataset.inspection_date)"
      ],
      "execution_count": 0,
      "outputs": []
    },
    {
      "cell_type": "code",
      "metadata": {
        "id": "7z983l938TA4",
        "colab_type": "code",
        "colab": {}
      },
      "source": [
        "Dataset['previous_grade']=Dataset.groupby('business_id')['inspection_grade'].apply(lambda x : x.shift(1))"
      ],
      "execution_count": 0,
      "outputs": []
    },
    {
      "cell_type": "code",
      "metadata": {
        "id": "MgtqJGtLEf0E",
        "colab_type": "code",
        "colab": {}
      },
      "source": [
        "Dataset['previous_grade2'] =Dataset.groupby('business_id')['inspection_grade'].apply(lambda x : x.shift(2))"
      ],
      "execution_count": 0,
      "outputs": []
    },
    {
      "cell_type": "code",
      "metadata": {
        "id": "CZ4Fa514FT7o",
        "colab_type": "code",
        "colab": {}
      },
      "source": [
        "Dataset['previous_grade3'] =Dataset.groupby('business_id')['inspection_grade'].apply(lambda x : x.shift(3))"
      ],
      "execution_count": 0,
      "outputs": []
    },
    {
      "cell_type": "code",
      "metadata": {
        "id": "1g8Vm0G5Em33",
        "colab_type": "code",
        "colab": {}
      },
      "source": [
        "Dataset.loc[Dataset.previous_grade2.isna(),'previous_grade2'] = 'NA'"
      ],
      "execution_count": 0,
      "outputs": []
    },
    {
      "cell_type": "code",
      "metadata": {
        "id": "Yz-5xoy78XUP",
        "colab_type": "code",
        "colab": {}
      },
      "source": [
        "Dataset.loc[Dataset.previous_grade.isna(),'previous_grade'] = 'NA'"
      ],
      "execution_count": 0,
      "outputs": []
    },
    {
      "cell_type": "code",
      "metadata": {
        "id": "2z7LGFP-FY5Y",
        "colab_type": "code",
        "colab": {}
      },
      "source": [
        "Dataset.loc[Dataset.previous_grade3.isna(),'previous_grade3'] = 'NA'"
      ],
      "execution_count": 0,
      "outputs": []
    },
    {
      "cell_type": "code",
      "metadata": {
        "id": "eIsFZNm38aYl",
        "colab_type": "code",
        "outputId": "11ebf511-dc3d-4dc8-cb83-b6e4ca1c8610",
        "colab": {
          "base_uri": "https://localhost:8080/",
          "height": 104
        }
      },
      "source": [
        "Dataset.previous_grade.value_counts()"
      ],
      "execution_count": 54,
      "outputs": [
        {
          "output_type": "execute_result",
          "data": {
            "text/plain": [
              "A     86923\n",
              "B     16344\n",
              "NA     5540\n",
              "C      4583\n",
              "Name: previous_grade, dtype: int64"
            ]
          },
          "metadata": {
            "tags": []
          },
          "execution_count": 54
        }
      ]
    },
    {
      "cell_type": "code",
      "metadata": {
        "id": "Rdz7NIIx8cuW",
        "colab_type": "code",
        "colab": {}
      },
      "source": [
        "Dataset= Dataset[Dataset.Date.dt.year >2012].reset_index(drop=True)"
      ],
      "execution_count": 0,
      "outputs": []
    },
    {
      "cell_type": "code",
      "metadata": {
        "id": "15QUWx_5e_9i",
        "colab_type": "code",
        "outputId": "89f9d47f-7818-4b10-e89d-e793bd8d93d1",
        "colab": {
          "base_uri": "https://localhost:8080/",
          "height": 35
        }
      },
      "source": [
        "max_Date = review_Dataset.date.max()\n",
        "max_Date"
      ],
      "execution_count": 56,
      "outputs": [
        {
          "output_type": "execute_result",
          "data": {
            "text/plain": [
              "Timestamp('2018-11-14 18:12:40')"
            ]
          },
          "metadata": {
            "tags": []
          },
          "execution_count": 56
        }
      ]
    },
    {
      "cell_type": "code",
      "metadata": {
        "id": "1WpJLBPdfROx",
        "colab_type": "code",
        "colab": {}
      },
      "source": [
        "Dataset = Dataset[Dataset.Date<max_Date]"
      ],
      "execution_count": 0,
      "outputs": []
    },
    {
      "cell_type": "code",
      "metadata": {
        "id": "inafAwd78fP0",
        "colab_type": "code",
        "colab": {}
      },
      "source": [
        "def get_rows(df,time_period,b_id,date_input):\n",
        "    temp_df = df[df.business_id == b_id]\n",
        "    date_min = date_input - \\\n",
        "       pd.offsets.DateOffset(months=time_period)\n",
        "    temp_df = temp_df[(temp_df['date'] < date_input) & (temp_df['date']>=date_min)].reset_index(drop = True)\n",
        "    return temp_df[[str(i) for i in range(100)]].mean()\n",
        "   "
      ],
      "execution_count": 0,
      "outputs": []
    },
    {
      "cell_type": "code",
      "metadata": {
        "id": "q2NgsqqWHNZb",
        "colab_type": "code",
        "colab": {}
      },
      "source": [
        "def get_ratings(df,time_period,b_id,date_input):\n",
        "    temp_df = df[df.business_id == b_id]\n",
        "    date_min = date_input - \\\n",
        "       pd.offsets.DateOffset(months=time_period)\n",
        "    temp_df = temp_df[(temp_df['date'] < date_input) & (temp_df['date']>=date_min)].reset_index(drop = True)\n",
        "    return temp_df['stars'].mean()"
      ],
      "execution_count": 0,
      "outputs": []
    },
    {
      "cell_type": "code",
      "metadata": {
        "id": "W6GAfaLHYTnC",
        "colab_type": "code",
        "colab": {}
      },
      "source": [
        "def get_sentimnet_Score(df,time_period,b_id,date_input):\n",
        "    temp_df = df[df.business_id == b_id]\n",
        "    date_min = date_input - \\\n",
        "       pd.offsets.DateOffset(months=time_period)\n",
        "    temp_df = temp_df[(temp_df['date'] < date_input) & (temp_df['date']>=date_min)].reset_index(drop = True)\n",
        "    temp_df['polarity_scores'] = temp_df.text.apply(lambda x:sid_obj.polarity_scores(x).get('compound'))\n",
        "    return temp_df['polarity_scores'].mean()"
      ],
      "execution_count": 0,
      "outputs": []
    },
    {
      "cell_type": "code",
      "metadata": {
        "id": "QOhGmkpnXdoD",
        "colab_type": "code",
        "outputId": "8e156637-41e8-44e3-8dd2-a30e2805dc88",
        "colab": {
          "base_uri": "https://localhost:8080/",
          "height": 35
        }
      },
      "source": [
        "get_sentimnet_Score(review_Dataset,12,Dataset.business_id[0],Dataset.Date[0])"
      ],
      "execution_count": 61,
      "outputs": [
        {
          "output_type": "execute_result",
          "data": {
            "text/plain": [
              "0.72482"
            ]
          },
          "metadata": {
            "tags": []
          },
          "execution_count": 61
        }
      ]
    },
    {
      "cell_type": "code",
      "metadata": {
        "id": "PYcbWVGVDQZU",
        "colab_type": "code",
        "colab": {}
      },
      "source": [
        "def get_features(b_id,date,y_file):\n",
        "    temp_df= y_file[y_file.business_id == b_id]\n",
        "    temp_df = temp_df[temp_df.inspection_date < date]\n",
        "    if(temp_df.empty):\n",
        "      return [None,0,None,None]\n",
        "    else:\n",
        "      return [temp_df.average_demerits.mean(),temp_df.average_demerits.count(),temp_df.average_demerits.max(),temp_df.average_demerits.min()]"
      ],
      "execution_count": 0,
      "outputs": []
    },
    {
      "cell_type": "code",
      "metadata": {
        "id": "zUof-JSu_vDe",
        "colab_type": "code",
        "colab": {}
      },
      "source": [
        "Dataset[list(range(100))] = Dataset.parallel_apply(lambda x : get_rows(review_Dataset,12,x['business_id'],x['Date']),axis=1,result_type ='expand')"
      ],
      "execution_count": 0,
      "outputs": []
    },
    {
      "cell_type": "code",
      "metadata": {
        "id": "aaL_eyXsHnMe",
        "colab_type": "code",
        "colab": {}
      },
      "source": [
        "Dataset['ratings'] = Dataset.parallel_apply(lambda x : get_ratings(review_Dataset,12,x['business_id'],x['Date']),axis=1)"
      ],
      "execution_count": 0,
      "outputs": []
    },
    {
      "cell_type": "code",
      "metadata": {
        "id": "YM2nMYmaao3g",
        "colab_type": "code",
        "colab": {}
      },
      "source": [
        "Dataset['sentiment_score'] = Dataset.parallel_apply(lambda x : get_sentimnet_Score(review_Dataset,12,x['business_id'],x['Date']),axis=1)"
      ],
      "execution_count": 0,
      "outputs": []
    },
    {
      "cell_type": "code",
      "metadata": {
        "id": "otJbFAJ4Jasp",
        "colab_type": "code",
        "colab": {}
      },
      "source": [
        "Dataset= Dataset[~Dataset.ratings.isna()]"
      ],
      "execution_count": 0,
      "outputs": []
    },
    {
      "cell_type": "code",
      "metadata": {
        "id": "maVDciCbBZyu",
        "colab_type": "code",
        "colab": {}
      },
      "source": [
        "Dataset[['previous_demerits_avg','no_of_inspections','previous_demerits_max','previous_demerits_min']]=Dataset.parallel_apply(lambda x : get_features(x['business_id'],x['inspection_date'],y_file),axis =1,result_type ='expand')"
      ],
      "execution_count": 0,
      "outputs": []
    },
    {
      "cell_type": "code",
      "metadata": {
        "id": "UFHhkj0uDahr",
        "colab_type": "code",
        "colab": {}
      },
      "source": [
        "def pass_fail(x):\n",
        "  if (x=='A'):\n",
        "    return (1)\n",
        "  else:\n",
        "    return  (0)"
      ],
      "execution_count": 0,
      "outputs": []
    },
    {
      "cell_type": "code",
      "metadata": {
        "id": "pkxwlKgrD3SU",
        "colab_type": "code",
        "colab": {}
      },
      "source": [
        "Dataset['pass'] = Dataset.inspection_grade.apply(lambda x:pass_fail(x))"
      ],
      "execution_count": 0,
      "outputs": []
    },
    {
      "cell_type": "code",
      "metadata": {
        "id": "ZWIyhHVdF25O",
        "colab_type": "code",
        "colab": {}
      },
      "source": [
        "Dataset[['previous_A','previous_B','previous_C']] = pd.get_dummies(Dataset.previous_grade).drop(columns = 'NA')"
      ],
      "execution_count": 0,
      "outputs": []
    },
    {
      "cell_type": "code",
      "metadata": {
        "id": "5PvgpDggEvtJ",
        "colab_type": "code",
        "colab": {}
      },
      "source": [
        "Dataset[['previous_A2','previous_B2','previous_C2']] = pd.get_dummies(Dataset.previous_grade2).drop(columns = 'NA')"
      ],
      "execution_count": 0,
      "outputs": []
    },
    {
      "cell_type": "code",
      "metadata": {
        "id": "uqbL6pjpFguZ",
        "colab_type": "code",
        "colab": {}
      },
      "source": [
        "Dataset[['previous_A3','previous_B3','previous_C3']] = pd.get_dummies(Dataset.previous_grade3).drop(columns = 'NA')"
      ],
      "execution_count": 0,
      "outputs": []
    },
    {
      "cell_type": "code",
      "metadata": {
        "id": "kwsVg_JQGvSZ",
        "colab_type": "code",
        "colab": {}
      },
      "source": [
        "Dataset.isna().sum()"
      ],
      "execution_count": 0,
      "outputs": []
    },
    {
      "cell_type": "code",
      "metadata": {
        "id": "-Po-cu5xjYL1",
        "colab_type": "code",
        "colab": {}
      },
      "source": [
        "Dataset['pass'].value_counts()"
      ],
      "execution_count": 0,
      "outputs": []
    },
    {
      "cell_type": "code",
      "metadata": {
        "id": "mm8oa_AHEOdW",
        "colab_type": "code",
        "colab": {}
      },
      "source": [
        "train,test = train_test_split(Dataset,test_size = 0.2,stratify = Dataset['pass'],random_state =100)"
      ],
      "execution_count": 0,
      "outputs": []
    },
    {
      "cell_type": "code",
      "metadata": {
        "id": "z9XJbsFagAl8",
        "colab_type": "code",
        "colab": {}
      },
      "source": [
        "train.loc[train['previous_demerits_avg'].isna(),['previous_demerits_avg','previous_demerits_max','previous_demerits_min']] = [train.previous_demerits_avg.median(),train.previous_demerits_max.median(),train.previous_demerits_min.median()]"
      ],
      "execution_count": 0,
      "outputs": []
    },
    {
      "cell_type": "code",
      "metadata": {
        "id": "oSsOMZW4ior1",
        "colab_type": "code",
        "colab": {}
      },
      "source": [
        "test.loc[test['previous_demerits_avg'].isna(),['previous_demerits_avg','previous_demerits_max','previous_demerits_min']] = [test.previous_demerits_avg.median(),test.previous_demerits_max.median(),test.previous_demerits_min.median()]"
      ],
      "execution_count": 0,
      "outputs": []
    },
    {
      "cell_type": "code",
      "metadata": {
        "id": "qcgn33xYjls-",
        "colab_type": "code",
        "colab": {}
      },
      "source": [
        "test['pass'].value_counts()"
      ],
      "execution_count": 0,
      "outputs": []
    },
    {
      "cell_type": "code",
      "metadata": {
        "id": "by3QwiGPog5i",
        "colab_type": "code",
        "colab": {}
      },
      "source": [
        ""
      ],
      "execution_count": 0,
      "outputs": []
    },
    {
      "cell_type": "code",
      "metadata": {
        "id": "7AqRmx-NFkoM",
        "colab_type": "code",
        "colab": {}
      },
      "source": [
        "X_train = train[list(range(100)) + ['is_restaurants',\n",
        "       'is_food', 'is_fast_food', 'is_grocery', 'is_convenience_store',\n",
        "       'is_adult', 'is_bakeries', 'is_buffet', 'is_sushi_bar', 'is_alcohol',\n",
        "       'is_pizza', 'is_coffee_and_tea', 'is_ice_cream_deserts',\n",
        "       'is_sandwiches', 'is_burgers', 'is_vietnamese', 'is_japanese',\n",
        "       'is_thai', 'is_italian', 'is_korean', 'is_american', 'is_chinese',\n",
        "       'is_mexican']+ ['sentiment_score'] +  ['ratings'] + ['previous_A','previous_B','previous_C']+['previous_A3','previous_B3','previous_C3']+['previous_A2','previous_B2','previous_C2']+['previous_demerits_avg','no_of_inspections','previous_demerits_max','previous_demerits_min']]\n",
        "X_test = test[ list(range(100)) + ['is_restaurants',\n",
        "       'is_food', 'is_fast_food', 'is_grocery', 'is_convenience_store',\n",
        "       'is_adult', 'is_bakeries', 'is_buffet', 'is_sushi_bar', 'is_alcohol',\n",
        "       'is_pizza', 'is_coffee_and_tea', 'is_ice_cream_deserts',\n",
        "       'is_sandwiches', 'is_burgers', 'is_vietnamese', 'is_japanese',\n",
        "       'is_thai', 'is_italian', 'is_korean', 'is_american', 'is_chinese',\n",
        "       'is_mexican'] + ['sentiment_score'] + ['ratings'] + ['previous_A','previous_B','previous_C']+['previous_A3','previous_B3','previous_C3']+['previous_A2','previous_B2','previous_C2']+['previous_demerits_avg','no_of_inspections','previous_demerits_max','previous_demerits_min']] "
      ],
      "execution_count": 0,
      "outputs": []
    },
    {
      "cell_type": "code",
      "metadata": {
        "id": "3LpIWNSNDCbS",
        "colab_type": "code",
        "colab": {}
      },
      "source": [
        "Y_train = train['pass']"
      ],
      "execution_count": 0,
      "outputs": []
    },
    {
      "cell_type": "code",
      "metadata": {
        "id": "9k3kK7ENDJVW",
        "colab_type": "code",
        "colab": {}
      },
      "source": [
        "Y_test = test['pass']"
      ],
      "execution_count": 0,
      "outputs": []
    },
    {
      "cell_type": "code",
      "metadata": {
        "id": "g4p7vwz5DOJt",
        "colab_type": "code",
        "colab": {}
      },
      "source": [
        "sc = StandardScaler()"
      ],
      "execution_count": 0,
      "outputs": []
    },
    {
      "cell_type": "code",
      "metadata": {
        "id": "T4H0p9bNJlQV",
        "colab_type": "code",
        "colab": {}
      },
      "source": [
        "rus = RandomUnderSampler(random_state=42)"
      ],
      "execution_count": 0,
      "outputs": []
    },
    {
      "cell_type": "code",
      "metadata": {
        "id": "bQ05YZTwJpa0",
        "colab_type": "code",
        "colab": {}
      },
      "source": [
        "X_train_under,Y_train_under= rus.fit_resample(X_train,Y_train)"
      ],
      "execution_count": 0,
      "outputs": []
    },
    {
      "cell_type": "code",
      "metadata": {
        "id": "s1troMqeDcnR",
        "colab_type": "code",
        "colab": {}
      },
      "source": [
        "X_train_fit = sc.fit_transform(X_train_under)"
      ],
      "execution_count": 0,
      "outputs": []
    },
    {
      "cell_type": "code",
      "metadata": {
        "id": "bc_S2qxtIrhN",
        "colab_type": "code",
        "colab": {}
      },
      "source": [
        "X_test_fit  = sc.fit_transform(X_test)"
      ],
      "execution_count": 0,
      "outputs": []
    },
    {
      "cell_type": "code",
      "metadata": {
        "id": "bWjhAlsxLhhw",
        "colab_type": "code",
        "colab": {}
      },
      "source": [
        "clf = RandomForestClassifier()"
      ],
      "execution_count": 0,
      "outputs": []
    },
    {
      "cell_type": "code",
      "metadata": {
        "id": "OfPz_UO5Ly6B",
        "colab_type": "code",
        "colab": {}
      },
      "source": [
        "parameters_rnf = {'n_estimators':[100,1000],'max_depth':[50,100,500]}"
      ],
      "execution_count": 0,
      "outputs": []
    },
    {
      "cell_type": "code",
      "metadata": {
        "id": "mAzrfZiZLBsq",
        "colab_type": "code",
        "colab": {}
      },
      "source": [
        "grid_clf = GridSearchCV(clf,parameters_rnf,scoring={'accuracy':'accuracy','recall_0':recall_0},refit=False)"
      ],
      "execution_count": 0,
      "outputs": []
    },
    {
      "cell_type": "code",
      "metadata": {
        "id": "74aBCLw7MVB3",
        "colab_type": "code",
        "colab": {}
      },
      "source": [
        "grid_clf.fit(X_train_fit,Y_train_under)"
      ],
      "execution_count": 0,
      "outputs": []
    },
    {
      "cell_type": "code",
      "metadata": {
        "id": "rmjkAphMNv9x",
        "colab_type": "code",
        "colab": {}
      },
      "source": [
        "grid_clf.cv_results_"
      ],
      "execution_count": 0,
      "outputs": []
    },
    {
      "cell_type": "code",
      "metadata": {
        "id": "tn7gAJH9VR6b",
        "colab_type": "code",
        "colab": {}
      },
      "source": [
        "clf = RandomForestClassifier(n_estimators=1000,max_depth=100)\n",
        "clf.fit(X_train_fit,Y_train_under)"
      ],
      "execution_count": 0,
      "outputs": []
    },
    {
      "cell_type": "code",
      "metadata": {
        "id": "XFiNAGb8I8eZ",
        "colab_type": "code",
        "colab": {}
      },
      "source": [
        "y_pred_rnf = clf.predict(X_test_fit )\n"
      ],
      "execution_count": 0,
      "outputs": []
    },
    {
      "cell_type": "code",
      "metadata": {
        "id": "hu4uU5tNI_RF",
        "colab_type": "code",
        "colab": {}
      },
      "source": [
        "accuracy_score(y_true=Y_test,y_pred=y_pred_rnf)"
      ],
      "execution_count": 0,
      "outputs": []
    },
    {
      "cell_type": "code",
      "metadata": {
        "id": "FPJX52B8JJuA",
        "colab_type": "code",
        "colab": {}
      },
      "source": [
        "print(classification_report(y_true=Y_test,y_pred=y_pred_rnf, target_names=['fail','pass']))"
      ],
      "execution_count": 0,
      "outputs": []
    },
    {
      "cell_type": "code",
      "metadata": {
        "id": "YXzV0zbAbeSW",
        "colab_type": "code",
        "colab": {}
      },
      "source": [
        "logreg = LogisticRegression()"
      ],
      "execution_count": 0,
      "outputs": []
    },
    {
      "cell_type": "code",
      "metadata": {
        "id": "MpWA91MicoZZ",
        "colab_type": "code",
        "colab": {}
      },
      "source": [
        "parameters_logreg = [{'C':[0.001,0.01,0.1,1,10],'penalty':['l2']},{'C':[0.001,0.01,0.1,1,10],'penalty':['l1'],'solver':['liblinear']},{'penalty':['elasticnet'],'solver':['saga'],'l1_ratio':[0.3,0.5,0.8]}]"
      ],
      "execution_count": 0,
      "outputs": []
    },
    {
      "cell_type": "code",
      "metadata": {
        "id": "z4hoOtWBcgf7",
        "colab_type": "code",
        "colab": {}
      },
      "source": [
        "grid_logreg = GridSearchCV(estimator=logreg,param_grid=parameters_logreg,scoring={'accuracy':'accuracy','recall_0':recall_0},refit=False)"
      ],
      "execution_count": 0,
      "outputs": []
    },
    {
      "cell_type": "code",
      "metadata": {
        "id": "XpsjMAbydRnt",
        "colab_type": "code",
        "colab": {}
      },
      "source": [
        "grid_logreg.fit(X_train_fit,Y_train_under)"
      ],
      "execution_count": 0,
      "outputs": []
    },
    {
      "cell_type": "code",
      "metadata": {
        "id": "OZwgFtaSdcTU",
        "colab_type": "code",
        "colab": {}
      },
      "source": [
        "grid_logreg.cv_results_"
      ],
      "execution_count": 0,
      "outputs": []
    },
    {
      "cell_type": "code",
      "metadata": {
        "id": "3OdUETQis5Uf",
        "colab_type": "code",
        "colab": {}
      },
      "source": [
        "logreg = LogisticRegression(C=0.5,random_state=100)\n",
        "logreg.fit(X_train_fit,Y_train_under)"
      ],
      "execution_count": 0,
      "outputs": []
    },
    {
      "cell_type": "code",
      "metadata": {
        "id": "6Uwbk_NGHH_3",
        "colab_type": "code",
        "colab": {}
      },
      "source": [
        "y_pred_logreg = logreg.predict(X_test_fit )"
      ],
      "execution_count": 0,
      "outputs": []
    },
    {
      "cell_type": "code",
      "metadata": {
        "id": "XqVwp4UvHTi-",
        "colab_type": "code",
        "colab": {}
      },
      "source": [
        "accuracy_score(y_true=Y_test,y_pred=y_pred_logreg)"
      ],
      "execution_count": 0,
      "outputs": []
    },
    {
      "cell_type": "code",
      "metadata": {
        "id": "MFmaAV3tHW3a",
        "colab_type": "code",
        "colab": {}
      },
      "source": [
        "print(classification_report(y_true=Y_test,y_pred=y_pred_logreg, target_names=['fail','pass']))"
      ],
      "execution_count": 0,
      "outputs": []
    },
    {
      "cell_type": "code",
      "metadata": {
        "id": "pzquviXUHmC4",
        "colab_type": "code",
        "colab": {}
      },
      "source": [
        "gb = GaussianNB()\n",
        "gb.fit(X_train_fit,Y_train_under)"
      ],
      "execution_count": 0,
      "outputs": []
    },
    {
      "cell_type": "code",
      "metadata": {
        "id": "1vkq5N_PH5Lc",
        "colab_type": "code",
        "colab": {}
      },
      "source": [
        "y_pred_gb = gb.predict(X_test_fit )"
      ],
      "execution_count": 0,
      "outputs": []
    },
    {
      "cell_type": "code",
      "metadata": {
        "id": "zVtuJ8FwIA7y",
        "colab_type": "code",
        "colab": {}
      },
      "source": [
        "accuracy_score(y_true=Y_test,y_pred=y_pred_gb)"
      ],
      "execution_count": 0,
      "outputs": []
    },
    {
      "cell_type": "code",
      "metadata": {
        "id": "4XZEaxp7IEQ3",
        "colab_type": "code",
        "colab": {
          "base_uri": "https://localhost:8080/",
          "height": 173
        },
        "outputId": "049350b5-b6fa-4248-f0e8-a0d30c00334e"
      },
      "source": [
        "print(classification_report(y_true=Y_test,y_pred=y_pred_gb, target_names=['fail','pass']))"
      ],
      "execution_count": 189,
      "outputs": [
        {
          "output_type": "stream",
          "text": [
            "              precision    recall  f1-score   support\n",
            "\n",
            "        fail       0.31      0.61      0.41      1946\n",
            "        pass       0.85      0.63      0.72      6883\n",
            "\n",
            "    accuracy                           0.62      8829\n",
            "   macro avg       0.58      0.62      0.57      8829\n",
            "weighted avg       0.73      0.62      0.65      8829\n",
            "\n"
          ],
          "name": "stdout"
        }
      ]
    },
    {
      "cell_type": "code",
      "metadata": {
        "id": "n3SLJudaII0X",
        "colab_type": "code",
        "colab": {
          "base_uri": "https://localhost:8080/",
          "height": 87
        },
        "outputId": "0078349d-345e-4584-9a5e-4d11c88a70e9"
      },
      "source": [
        "svc = SVC(C=1,kernel='linear')\n",
        "svc.fit(X_train_fit,Y_train_under)"
      ],
      "execution_count": 205,
      "outputs": [
        {
          "output_type": "execute_result",
          "data": {
            "text/plain": [
              "SVC(C=1, break_ties=False, cache_size=200, class_weight=None, coef0=0.0,\n",
              "    decision_function_shape='ovr', degree=3, gamma='scale', kernel='linear',\n",
              "    max_iter=-1, probability=False, random_state=None, shrinking=True,\n",
              "    tol=0.001, verbose=False)"
            ]
          },
          "metadata": {
            "tags": []
          },
          "execution_count": 205
        }
      ]
    },
    {
      "cell_type": "code",
      "metadata": {
        "id": "3tl6naTDInLh",
        "colab_type": "code",
        "colab": {}
      },
      "source": [
        "y_pred_svc = svc.predict(X_test_fit )"
      ],
      "execution_count": 0,
      "outputs": []
    },
    {
      "cell_type": "code",
      "metadata": {
        "id": "WntGjqxbI5ld",
        "colab_type": "code",
        "colab": {
          "base_uri": "https://localhost:8080/",
          "height": 35
        },
        "outputId": "d212d51a-ea3d-4245-a180-664228fcad85"
      },
      "source": [
        "accuracy_score(y_true=Y_test,y_pred=y_pred_svc)"
      ],
      "execution_count": 207,
      "outputs": [
        {
          "output_type": "execute_result",
          "data": {
            "text/plain": [
              "0.6399365726582852"
            ]
          },
          "metadata": {
            "tags": []
          },
          "execution_count": 207
        }
      ]
    },
    {
      "cell_type": "code",
      "metadata": {
        "id": "OwX1jqJlI_bx",
        "colab_type": "code",
        "colab": {
          "base_uri": "https://localhost:8080/",
          "height": 173
        },
        "outputId": "7c82daae-a611-4192-99a4-ff03bd1950e9"
      },
      "source": [
        "print(classification_report(y_true=Y_test,y_pred=y_pred_svc, target_names=['fail','pass']))"
      ],
      "execution_count": 208,
      "outputs": [
        {
          "output_type": "stream",
          "text": [
            "              precision    recall  f1-score   support\n",
            "\n",
            "        fail       0.34      0.65      0.44      1946\n",
            "        pass       0.87      0.64      0.73      6883\n",
            "\n",
            "    accuracy                           0.64      8829\n",
            "   macro avg       0.60      0.64      0.59      8829\n",
            "weighted avg       0.75      0.64      0.67      8829\n",
            "\n"
          ],
          "name": "stdout"
        }
      ]
    }
  ]
}