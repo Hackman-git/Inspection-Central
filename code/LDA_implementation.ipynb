{
  "nbformat": 4,
  "nbformat_minor": 0,
  "metadata": {
    "colab": {
      "name": "LDA_implementation",
      "provenance": [],
      "collapsed_sections": [],
      "machine_shape": "hm"
    },
    "kernelspec": {
      "name": "python3",
      "display_name": "Python 3"
    },
    "accelerator": "TPU"
  },
  "cells": [
    {
      "cell_type": "code",
      "metadata": {
        "id": "-cTyDT8jfAXn",
        "colab_type": "code",
        "outputId": "c328c149-7c33-41b7-85f7-5eb27719ad87",
        "colab": {
          "base_uri": "https://localhost:8080/",
          "height": 453
        }
      },
      "source": [
        "pip install gensim==3.4.0"
      ],
      "execution_count": 0,
      "outputs": [
        {
          "output_type": "stream",
          "text": [
            "Collecting gensim==3.4.0\n",
            "\u001b[?25l  Downloading https://files.pythonhosted.org/packages/33/33/df6cb7acdcec5677ed130f4800f67509d24dbec74a03c329fcbf6b0864f0/gensim-3.4.0-cp36-cp36m-manylinux1_x86_64.whl (22.6MB)\n",
            "\u001b[K     |████████████████████████████████| 22.6MB 1.5MB/s \n",
            "\u001b[?25hRequirement already satisfied: scipy>=0.18.1 in /usr/local/lib/python3.6/dist-packages (from gensim==3.4.0) (1.4.1)\n",
            "Requirement already satisfied: smart-open>=1.2.1 in /usr/local/lib/python3.6/dist-packages (from gensim==3.4.0) (1.11.1)\n",
            "Requirement already satisfied: six>=1.5.0 in /usr/local/lib/python3.6/dist-packages (from gensim==3.4.0) (1.12.0)\n",
            "Requirement already satisfied: numpy>=1.11.3 in /usr/local/lib/python3.6/dist-packages (from gensim==3.4.0) (1.18.3)\n",
            "Requirement already satisfied: boto in /usr/local/lib/python3.6/dist-packages (from smart-open>=1.2.1->gensim==3.4.0) (2.49.0)\n",
            "Requirement already satisfied: boto3 in /usr/local/lib/python3.6/dist-packages (from smart-open>=1.2.1->gensim==3.4.0) (1.12.43)\n",
            "Requirement already satisfied: requests in /usr/local/lib/python3.6/dist-packages (from smart-open>=1.2.1->gensim==3.4.0) (2.21.0)\n",
            "Requirement already satisfied: jmespath<1.0.0,>=0.7.1 in /usr/local/lib/python3.6/dist-packages (from boto3->smart-open>=1.2.1->gensim==3.4.0) (0.9.5)\n",
            "Requirement already satisfied: s3transfer<0.4.0,>=0.3.0 in /usr/local/lib/python3.6/dist-packages (from boto3->smart-open>=1.2.1->gensim==3.4.0) (0.3.3)\n",
            "Requirement already satisfied: botocore<1.16.0,>=1.15.43 in /usr/local/lib/python3.6/dist-packages (from boto3->smart-open>=1.2.1->gensim==3.4.0) (1.15.43)\n",
            "Requirement already satisfied: chardet<3.1.0,>=3.0.2 in /usr/local/lib/python3.6/dist-packages (from requests->smart-open>=1.2.1->gensim==3.4.0) (3.0.4)\n",
            "Requirement already satisfied: idna<2.9,>=2.5 in /usr/local/lib/python3.6/dist-packages (from requests->smart-open>=1.2.1->gensim==3.4.0) (2.8)\n",
            "Requirement already satisfied: urllib3<1.25,>=1.21.1 in /usr/local/lib/python3.6/dist-packages (from requests->smart-open>=1.2.1->gensim==3.4.0) (1.24.3)\n",
            "Requirement already satisfied: certifi>=2017.4.17 in /usr/local/lib/python3.6/dist-packages (from requests->smart-open>=1.2.1->gensim==3.4.0) (2020.4.5.1)\n",
            "Requirement already satisfied: python-dateutil<3.0.0,>=2.1 in /usr/local/lib/python3.6/dist-packages (from botocore<1.16.0,>=1.15.43->boto3->smart-open>=1.2.1->gensim==3.4.0) (2.8.1)\n",
            "Requirement already satisfied: docutils<0.16,>=0.10 in /usr/local/lib/python3.6/dist-packages (from botocore<1.16.0,>=1.15.43->boto3->smart-open>=1.2.1->gensim==3.4.0) (0.15.2)\n",
            "Installing collected packages: gensim\n",
            "  Found existing installation: gensim 3.6.0\n",
            "    Uninstalling gensim-3.6.0:\n",
            "      Successfully uninstalled gensim-3.6.0\n",
            "Successfully installed gensim-3.4.0\n"
          ],
          "name": "stdout"
        }
      ]
    },
    {
      "cell_type": "code",
      "metadata": {
        "id": "t74T3sNafKWn",
        "colab_type": "code",
        "outputId": "65f6846f-828d-44dd-9862-74c678e6e298",
        "colab": {
          "base_uri": "https://localhost:8080/",
          "height": 540
        }
      },
      "source": [
        "!sudo apt-get install python3-dev default-libmysqlclient-dev"
      ],
      "execution_count": 0,
      "outputs": [
        {
          "output_type": "stream",
          "text": [
            "Reading package lists... Done\n",
            "Building dependency tree       \n",
            "Reading state information... Done\n",
            "python3-dev is already the newest version (3.6.7-1~18.04).\n",
            "The following NEW packages will be installed:\n",
            "  default-libmysqlclient-dev libmysqlclient-dev\n",
            "0 upgraded, 2 newly installed, 0 to remove and 25 not upgraded.\n",
            "Need to get 996 kB of archives.\n",
            "After this operation, 6,022 kB of additional disk space will be used.\n",
            "Get:1 http://archive.ubuntu.com/ubuntu bionic-updates/main amd64 libmysqlclient-dev amd64 5.7.29-0ubuntu0.18.04.1 [992 kB]\n",
            "Get:2 http://archive.ubuntu.com/ubuntu bionic/main amd64 default-libmysqlclient-dev amd64 1.0.4 [3,736 B]\n",
            "Fetched 996 kB in 1s (1,059 kB/s)\n",
            "debconf: unable to initialize frontend: Dialog\n",
            "debconf: (No usable dialog-like program is installed, so the dialog based frontend cannot be used. at /usr/share/perl5/Debconf/FrontEnd/Dialog.pm line 76, <> line 2.)\n",
            "debconf: falling back to frontend: Readline\n",
            "debconf: unable to initialize frontend: Readline\n",
            "debconf: (This frontend requires a controlling tty.)\n",
            "debconf: falling back to frontend: Teletype\n",
            "dpkg-preconfigure: unable to re-open stdin: \n",
            "Selecting previously unselected package libmysqlclient-dev.\n",
            "(Reading database ... 144568 files and directories currently installed.)\n",
            "Preparing to unpack .../libmysqlclient-dev_5.7.29-0ubuntu0.18.04.1_amd64.deb ...\n",
            "Unpacking libmysqlclient-dev (5.7.29-0ubuntu0.18.04.1) ...\n",
            "Selecting previously unselected package default-libmysqlclient-dev:amd64.\n",
            "Preparing to unpack .../default-libmysqlclient-dev_1.0.4_amd64.deb ...\n",
            "Unpacking default-libmysqlclient-dev:amd64 (1.0.4) ...\n",
            "Setting up libmysqlclient-dev (5.7.29-0ubuntu0.18.04.1) ...\n",
            "Setting up default-libmysqlclient-dev:amd64 (1.0.4) ...\n",
            "Processing triggers for man-db (2.8.3-2ubuntu0.1) ...\n"
          ],
          "name": "stdout"
        }
      ]
    },
    {
      "cell_type": "code",
      "metadata": {
        "id": "fIUucdqpfUv_",
        "colab_type": "code",
        "outputId": "ae8f4d4a-e767-4e65-978f-233bb615ccbd",
        "colab": {
          "base_uri": "https://localhost:8080/",
          "height": 280
        }
      },
      "source": [
        "pip install PyDrive"
      ],
      "execution_count": 0,
      "outputs": [
        {
          "output_type": "stream",
          "text": [
            "Requirement already satisfied: PyDrive in /usr/local/lib/python3.6/dist-packages (1.3.1)\n",
            "Requirement already satisfied: google-api-python-client>=1.2 in /usr/local/lib/python3.6/dist-packages (from PyDrive) (1.7.12)\n",
            "Requirement already satisfied: oauth2client>=4.0.0 in /usr/local/lib/python3.6/dist-packages (from PyDrive) (4.1.3)\n",
            "Requirement already satisfied: PyYAML>=3.0 in /usr/local/lib/python3.6/dist-packages (from PyDrive) (3.13)\n",
            "Requirement already satisfied: google-auth-httplib2>=0.0.3 in /usr/local/lib/python3.6/dist-packages (from google-api-python-client>=1.2->PyDrive) (0.0.3)\n",
            "Requirement already satisfied: google-auth>=1.4.1 in /usr/local/lib/python3.6/dist-packages (from google-api-python-client>=1.2->PyDrive) (1.7.2)\n",
            "Requirement already satisfied: uritemplate<4dev,>=3.0.0 in /usr/local/lib/python3.6/dist-packages (from google-api-python-client>=1.2->PyDrive) (3.0.1)\n",
            "Requirement already satisfied: httplib2<1dev,>=0.17.0 in /usr/local/lib/python3.6/dist-packages (from google-api-python-client>=1.2->PyDrive) (0.17.3)\n",
            "Requirement already satisfied: six<2dev,>=1.6.1 in /usr/local/lib/python3.6/dist-packages (from google-api-python-client>=1.2->PyDrive) (1.12.0)\n",
            "Requirement already satisfied: pyasn1>=0.1.7 in /usr/local/lib/python3.6/dist-packages (from oauth2client>=4.0.0->PyDrive) (0.4.8)\n",
            "Requirement already satisfied: rsa>=3.1.4 in /usr/local/lib/python3.6/dist-packages (from oauth2client>=4.0.0->PyDrive) (4.0)\n",
            "Requirement already satisfied: pyasn1-modules>=0.0.5 in /usr/local/lib/python3.6/dist-packages (from oauth2client>=4.0.0->PyDrive) (0.2.8)\n",
            "Requirement already satisfied: cachetools<3.2,>=2.0.0 in /usr/local/lib/python3.6/dist-packages (from google-auth>=1.4.1->google-api-python-client>=1.2->PyDrive) (3.1.1)\n",
            "Requirement already satisfied: setuptools>=40.3.0 in /usr/local/lib/python3.6/dist-packages (from google-auth>=1.4.1->google-api-python-client>=1.2->PyDrive) (46.1.3)\n"
          ],
          "name": "stdout"
        }
      ]
    },
    {
      "cell_type": "code",
      "metadata": {
        "id": "z5U8v7i0fYGA",
        "colab_type": "code",
        "outputId": "63149699-2f26-469b-a3e5-ef5303d9a150",
        "colab": {
          "base_uri": "https://localhost:8080/",
          "height": 1000
        }
      },
      "source": [
        "\n",
        "!pip install --upgrade setuptools\n",
        "!pip install wheel\n",
        "!pip install pattern\n",
        "!pip install mysqlclient"
      ],
      "execution_count": 0,
      "outputs": [
        {
          "output_type": "stream",
          "text": [
            "Requirement already up-to-date: setuptools in /usr/local/lib/python3.6/dist-packages (46.1.3)\n",
            "Requirement already satisfied: wheel in /usr/local/lib/python3.6/dist-packages (0.34.2)\n",
            "Collecting pattern\n",
            "\u001b[?25l  Downloading https://files.pythonhosted.org/packages/1e/07/b0e61b6c818ed4b6145fe01d1c341223aa6cfbc3928538ad1f2b890924a3/Pattern-3.6.0.tar.gz (22.2MB)\n",
            "\u001b[K     |████████████████████████████████| 22.3MB 1.5MB/s \n",
            "\u001b[?25hRequirement already satisfied: future in /usr/local/lib/python3.6/dist-packages (from pattern) (0.16.0)\n",
            "Collecting backports.csv\n",
            "  Downloading https://files.pythonhosted.org/packages/8e/26/a6bd68f13e0f38fbb643d6e497fc3462be83a0b6c4d43425c78bb51a7291/backports.csv-1.0.7-py2.py3-none-any.whl\n",
            "Collecting mysqlclient\n",
            "\u001b[?25l  Downloading https://files.pythonhosted.org/packages/d0/97/7326248ac8d5049968bf4ec708a5d3d4806e412a42e74160d7f266a3e03a/mysqlclient-1.4.6.tar.gz (85kB)\n",
            "\u001b[K     |████████████████████████████████| 92kB 10.4MB/s \n",
            "\u001b[?25hRequirement already satisfied: beautifulsoup4 in /usr/local/lib/python3.6/dist-packages (from pattern) (4.6.3)\n",
            "Requirement already satisfied: lxml in /usr/local/lib/python3.6/dist-packages (from pattern) (4.2.6)\n",
            "Collecting feedparser\n",
            "\u001b[?25l  Downloading https://files.pythonhosted.org/packages/91/d8/7d37fec71ff7c9dbcdd80d2b48bcdd86d6af502156fc93846fb0102cb2c4/feedparser-5.2.1.tar.bz2 (192kB)\n",
            "\u001b[K     |████████████████████████████████| 194kB 61.0MB/s \n",
            "\u001b[?25hCollecting pdfminer.six\n",
            "\u001b[?25l  Downloading https://files.pythonhosted.org/packages/0b/04/f62d5834c2bdf90afcaeb23bb5241033c44e27000de64ad8472253daa4a8/pdfminer.six-20200402-py3-none-any.whl (5.6MB)\n",
            "\u001b[K     |████████████████████████████████| 5.6MB 30.2MB/s \n",
            "\u001b[?25hRequirement already satisfied: numpy in /usr/local/lib/python3.6/dist-packages (from pattern) (1.18.3)\n",
            "Requirement already satisfied: scipy in /usr/local/lib/python3.6/dist-packages (from pattern) (1.4.1)\n",
            "Requirement already satisfied: nltk in /usr/local/lib/python3.6/dist-packages (from pattern) (3.2.5)\n",
            "Collecting python-docx\n",
            "\u001b[?25l  Downloading https://files.pythonhosted.org/packages/e4/83/c66a1934ed5ed8ab1dbb9931f1779079f8bca0f6bbc5793c06c4b5e7d671/python-docx-0.8.10.tar.gz (5.5MB)\n",
            "\u001b[K     |████████████████████████████████| 5.5MB 48.7MB/s \n",
            "\u001b[?25hCollecting cherrypy\n",
            "\u001b[?25l  Downloading https://files.pythonhosted.org/packages/a8/f9/e11f893dcabe6bc222a1442bf5e14f0322a2d363c92910ed41947078a35a/CherryPy-18.6.0-py2.py3-none-any.whl (419kB)\n",
            "\u001b[K     |████████████████████████████████| 419kB 55.2MB/s \n",
            "\u001b[?25hRequirement already satisfied: requests in /usr/local/lib/python3.6/dist-packages (from pattern) (2.21.0)\n",
            "Requirement already satisfied: chardet; python_version > \"3.0\" in /usr/local/lib/python3.6/dist-packages (from pdfminer.six->pattern) (3.0.4)\n",
            "Requirement already satisfied: sortedcontainers in /usr/local/lib/python3.6/dist-packages (from pdfminer.six->pattern) (2.1.0)\n",
            "Collecting pycryptodome\n",
            "\u001b[?25l  Downloading https://files.pythonhosted.org/packages/af/16/da16a22d47bac9bf9db39f3b9af74e8eeed8855c0df96be20b580ef92fff/pycryptodome-3.9.7-cp36-cp36m-manylinux1_x86_64.whl (13.7MB)\n",
            "\u001b[K     |████████████████████████████████| 13.7MB 56.3MB/s \n",
            "\u001b[?25hRequirement already satisfied: six in /usr/local/lib/python3.6/dist-packages (from nltk->pattern) (1.12.0)\n",
            "Collecting portend>=2.1.1\n",
            "  Downloading https://files.pythonhosted.org/packages/d7/79/eee70a512bffe5ceb5008f8e3326581948f50ca393c3bcb4d557e4818bd1/portend-2.6-py2.py3-none-any.whl\n",
            "Collecting zc.lockfile\n",
            "  Downloading https://files.pythonhosted.org/packages/6c/2a/268389776288f0f26c7272c70c36c96dcc0bdb88ab6216ea18e19df1fadd/zc.lockfile-2.0-py2.py3-none-any.whl\n",
            "Collecting jaraco.collections\n",
            "  Downloading https://files.pythonhosted.org/packages/fe/06/a89652069f0a13a33701714c0c8e0cc8656bf6d21b7c6b85fde86cf06ff6/jaraco.collections-3.0.0-py2.py3-none-any.whl\n",
            "Requirement already satisfied: more-itertools in /usr/local/lib/python3.6/dist-packages (from cherrypy->pattern) (8.2.0)\n",
            "Collecting cheroot>=8.2.1\n",
            "\u001b[?25l  Downloading https://files.pythonhosted.org/packages/20/b0/4e156a205a624bc929673dfa6bcebe4aa6fa00b080dca4dc7b6b50850277/cheroot-8.3.0-py2.py3-none-any.whl (86kB)\n",
            "\u001b[K     |████████████████████████████████| 92kB 12.2MB/s \n",
            "\u001b[?25hRequirement already satisfied: idna<2.9,>=2.5 in /usr/local/lib/python3.6/dist-packages (from requests->pattern) (2.8)\n",
            "Requirement already satisfied: urllib3<1.25,>=1.21.1 in /usr/local/lib/python3.6/dist-packages (from requests->pattern) (1.24.3)\n",
            "Requirement already satisfied: certifi>=2017.4.17 in /usr/local/lib/python3.6/dist-packages (from requests->pattern) (2020.4.5.1)\n",
            "Collecting tempora>=1.8\n",
            "  Downloading https://files.pythonhosted.org/packages/df/da/b30f8af8b4aa63fed8d4979daf209494823a666235111e292c89256e91fb/tempora-3.0.0-py2.py3-none-any.whl\n",
            "Requirement already satisfied: setuptools in /usr/local/lib/python3.6/dist-packages (from zc.lockfile->cherrypy->pattern) (46.1.3)\n",
            "Collecting jaraco.classes\n",
            "  Downloading https://files.pythonhosted.org/packages/68/ce/8f43aa0d0f18120e687ae0192fe3168630040841a3e87bed93c5fe024dbe/jaraco.classes-3.1.0-py2.py3-none-any.whl\n",
            "Collecting jaraco.text\n",
            "  Downloading https://files.pythonhosted.org/packages/50/cd/6eda44738065e844bed8fae60a229b6c46f42d0ba8d48205e9fb57e254cd/jaraco.text-3.2.0-py2.py3-none-any.whl\n",
            "Collecting jaraco.functools\n",
            "  Downloading https://files.pythonhosted.org/packages/4f/2b/bbab94f3e461adaf3c7a3a25da0c67c91d8cf7a4ddae7096028601ff940f/jaraco.functools-3.0.1-py3-none-any.whl\n",
            "Requirement already satisfied: pytz in /usr/local/lib/python3.6/dist-packages (from tempora>=1.8->portend>=2.1.1->cherrypy->pattern) (2018.9)\n",
            "Collecting importlib-resources; python_version < \"3.7\"\n",
            "  Downloading https://files.pythonhosted.org/packages/7f/2d/88f166bcaadc09d9fdbf1c336ad118e01b7fe1155e15675e125be2ff1899/importlib_resources-1.5.0-py2.py3-none-any.whl\n",
            "Requirement already satisfied: zipp>=0.4; python_version < \"3.8\" in /usr/local/lib/python3.6/dist-packages (from importlib-resources; python_version < \"3.7\"->jaraco.text->jaraco.collections->cherrypy->pattern) (3.1.0)\n",
            "Requirement already satisfied: importlib-metadata; python_version < \"3.8\" in /usr/local/lib/python3.6/dist-packages (from importlib-resources; python_version < \"3.7\"->jaraco.text->jaraco.collections->cherrypy->pattern) (1.6.0)\n",
            "Building wheels for collected packages: pattern, mysqlclient, feedparser, python-docx\n",
            "  Building wheel for pattern (setup.py) ... \u001b[?25l\u001b[?25hdone\n",
            "  Created wheel for pattern: filename=Pattern-3.6-cp36-none-any.whl size=22332723 sha256=12ac5748acc1a719e11df674b3217fce745062b04321665b4ec61b72e89f8fc9\n",
            "  Stored in directory: /root/.cache/pip/wheels/dc/9a/0e/5fb1a603ed4e3aa8722a88e9cf4a82da7d1b63e3d2cc34bee5\n",
            "  Building wheel for mysqlclient (setup.py) ... \u001b[?25l\u001b[?25hdone\n",
            "  Created wheel for mysqlclient: filename=mysqlclient-1.4.6-cp36-cp36m-linux_x86_64.whl size=98412 sha256=14b885764fdc8427cbdf098f6c138b7f25381eac574ea7b7fa756f4620b84789\n",
            "  Stored in directory: /root/.cache/pip/wheels/37/3d/24/5327fa50817a65ed0ee4dc8809e5c39962b0dd5e078ebf4dc1\n",
            "  Building wheel for feedparser (setup.py) ... \u001b[?25l\u001b[?25hdone\n",
            "  Created wheel for feedparser: filename=feedparser-5.2.1-cp36-none-any.whl size=44940 sha256=c564bcfd3824249522706b960cf578b5f3ba87344ea1220f9ca3221c6cda12e2\n",
            "  Stored in directory: /root/.cache/pip/wheels/8c/69/b7/f52763c41c5471df57703a0ef718a32a5e81ee35dcf6d4f97f\n",
            "  Building wheel for python-docx (setup.py) ... \u001b[?25l\u001b[?25hdone\n",
            "  Created wheel for python-docx: filename=python_docx-0.8.10-cp36-none-any.whl size=184491 sha256=c18917495b828ffd5fc45fa48f7ff982663d2f29574688c97cf8d6c88d389a7d\n",
            "  Stored in directory: /root/.cache/pip/wheels/18/0b/a0/1dd62ff812c857c9e487f27d80d53d2b40531bec1acecfa47b\n",
            "Successfully built pattern mysqlclient feedparser python-docx\n",
            "Installing collected packages: backports.csv, mysqlclient, feedparser, pycryptodome, pdfminer.six, python-docx, jaraco.functools, tempora, portend, zc.lockfile, jaraco.classes, importlib-resources, jaraco.text, jaraco.collections, cheroot, cherrypy, pattern\n",
            "Successfully installed backports.csv-1.0.7 cheroot-8.3.0 cherrypy-18.6.0 feedparser-5.2.1 importlib-resources-1.5.0 jaraco.classes-3.1.0 jaraco.collections-3.0.0 jaraco.functools-3.0.1 jaraco.text-3.2.0 mysqlclient-1.4.6 pattern-3.6 pdfminer.six-20200402 portend-2.6 pycryptodome-3.9.7 python-docx-0.8.10 tempora-3.0.0 zc.lockfile-2.0\n",
            "Requirement already satisfied: mysqlclient in /usr/local/lib/python3.6/dist-packages (1.4.6)\n"
          ],
          "name": "stdout"
        }
      ]
    },
    {
      "cell_type": "code",
      "metadata": {
        "id": "ITWVxyn-gTpM",
        "colab_type": "code",
        "outputId": "3c5d32f9-f232-4b01-ef79-02d5c5321141",
        "colab": {
          "base_uri": "https://localhost:8080/",
          "height": 211
        }
      },
      "source": [
        "!pip install pandarallel"
      ],
      "execution_count": 0,
      "outputs": [
        {
          "output_type": "stream",
          "text": [
            "Collecting pandarallel\n",
            "  Downloading https://files.pythonhosted.org/packages/99/06/bd582106766c483d6da51c05b0cdd7cb61894bb843c7ecc4789032232327/pandarallel-1.4.8.tar.gz\n",
            "Requirement already satisfied: dill in /usr/local/lib/python3.6/dist-packages (from pandarallel) (0.3.1.1)\n",
            "Building wheels for collected packages: pandarallel\n",
            "  Building wheel for pandarallel (setup.py) ... \u001b[?25l\u001b[?25hdone\n",
            "  Created wheel for pandarallel: filename=pandarallel-1.4.8-cp36-none-any.whl size=16112 sha256=11d1922cd2773cdc27dc38b3a5a002f4afe717cb290e13dba75684f52a0f3ec7\n",
            "  Stored in directory: /root/.cache/pip/wheels/75/a2/85/b45be2e86d86e9ec5da6d05c4b994d18c81abe76e3f39415aa\n",
            "Successfully built pandarallel\n",
            "Installing collected packages: pandarallel\n",
            "Successfully installed pandarallel-1.4.8\n"
          ],
          "name": "stdout"
        }
      ]
    },
    {
      "cell_type": "code",
      "metadata": {
        "id": "8qU9uGfafiEZ",
        "colab_type": "code",
        "outputId": "6147610c-b583-403e-9290-a6e76578facb",
        "colab": {
          "base_uri": "https://localhost:8080/",
          "height": 87
        }
      },
      "source": [
        "import numpy as np\n",
        "import re\n",
        "import pandas as pd\n",
        "import gensim\n",
        "import nltk\n",
        "nltk.download('stopwords')\n",
        "from nltk.corpus import stopwords\n",
        "from nltk import word_tokenize\n",
        "stop_words = set(stopwords.words('english'))\n",
        "from gensim.models import LdaModel, LdaMulticore\n",
        "import gensim.downloader as api\n",
        "from gensim.utils import  lemmatize\n",
        "from nltk.corpus import stopwords\n",
        "import re\n",
        "import logging\n",
        "nltk.download('punkt')\n",
        "logging.basicConfig(format='%(asctime)s : %(levelname)s : %(message)s')\n",
        "logging.root.setLevel(level=logging.INFO)\n",
        "stop_words = stopwords.words('english')\n",
        "stop_words.extend(['restaurant','food','place','las','vegas','hotel'])"
      ],
      "execution_count": 0,
      "outputs": [
        {
          "output_type": "stream",
          "text": [
            "[nltk_data] Downloading package stopwords to /root/nltk_data...\n",
            "[nltk_data]   Unzipping corpora/stopwords.zip.\n",
            "[nltk_data] Downloading package punkt to /root/nltk_data...\n",
            "[nltk_data]   Unzipping tokenizers/punkt.zip.\n"
          ],
          "name": "stdout"
        }
      ]
    },
    {
      "cell_type": "code",
      "metadata": {
        "id": "tae7-fW2fnjM",
        "colab_type": "code",
        "colab": {}
      },
      "source": [
        "from gensim.models.phrases import Phrases, Phraser\n",
        "import multiprocessing\n",
        "import tqdm\n",
        "from sklearn import utils\n",
        "from sklearn.linear_model import LogisticRegression\n",
        "import ast\n",
        "from sklearn.preprocessing import  StandardScaler"
      ],
      "execution_count": 0,
      "outputs": []
    },
    {
      "cell_type": "code",
      "metadata": {
        "id": "lzGHEt-VfqGh",
        "colab_type": "code",
        "colab": {}
      },
      "source": [
        "from gensim import corpora\n",
        "from pandarallel import pandarallel"
      ],
      "execution_count": 0,
      "outputs": []
    },
    {
      "cell_type": "code",
      "metadata": {
        "id": "uvIfN9ZTfsFM",
        "colab_type": "code",
        "colab": {}
      },
      "source": [
        "from pydrive.auth import GoogleAuth\n",
        "from pydrive.drive import GoogleDrive\n",
        "from google.colab import auth\n",
        "from oauth2client.client import GoogleCredentials\n",
        "from google.colab import drive"
      ],
      "execution_count": 0,
      "outputs": []
    },
    {
      "cell_type": "code",
      "metadata": {
        "id": "lNaotiUHfxuR",
        "colab_type": "code",
        "outputId": "568533e5-26be-474f-ddc6-3a104860ed80",
        "colab": {
          "base_uri": "https://localhost:8080/",
          "height": 124
        }
      },
      "source": [
        "drive.mount('/content/drive')"
      ],
      "execution_count": 0,
      "outputs": [
        {
          "output_type": "stream",
          "text": [
            "Go to this URL in a browser: https://accounts.google.com/o/oauth2/auth?client_id=947318989803-6bn6qk8qdgf4n4g3pfee6491hc0brc4i.apps.googleusercontent.com&redirect_uri=urn%3aietf%3awg%3aoauth%3a2.0%3aoob&response_type=code&scope=email%20https%3a%2f%2fwww.googleapis.com%2fauth%2fdocs.test%20https%3a%2f%2fwww.googleapis.com%2fauth%2fdrive%20https%3a%2f%2fwww.googleapis.com%2fauth%2fdrive.photos.readonly%20https%3a%2f%2fwww.googleapis.com%2fauth%2fpeopleapi.readonly\n",
            "\n",
            "Enter your authorization code:\n",
            "··········\n",
            "Mounted at /content/drive\n"
          ],
          "name": "stdout"
        }
      ]
    },
    {
      "cell_type": "code",
      "metadata": {
        "id": "Q05Up29Tgj_o",
        "colab_type": "code",
        "colab": {}
      },
      "source": [
        "import ast"
      ],
      "execution_count": 0,
      "outputs": []
    },
    {
      "cell_type": "code",
      "metadata": {
        "id": "nC9V0rK_f14W",
        "colab_type": "code",
        "colab": {}
      },
      "source": [
        "review_dataset = pd.read_csv('/content/drive/Shared drives/DPA Final Project/review_data_final.csv',converters={10:ast.literal_eval})"
      ],
      "execution_count": 0,
      "outputs": []
    },
    {
      "cell_type": "code",
      "metadata": {
        "id": "HyHxb8ZCg4oh",
        "colab_type": "code",
        "outputId": "20f41a29-4758-48c4-867c-a3c6f5fe21b4",
        "colab": {
          "base_uri": "https://localhost:8080/",
          "height": 69
        }
      },
      "source": [
        "review_dataset.columns"
      ],
      "execution_count": 0,
      "outputs": [
        {
          "output_type": "execute_result",
          "data": {
            "text/plain": [
              "Index(['Unnamed: 0', 'review_id', 'user_id', 'business_id', 'stars', 'useful',\n",
              "       'funny', 'cool', 'text', 'date', 'text_list'],\n",
              "      dtype='object')"
            ]
          },
          "metadata": {
            "tags": []
          },
          "execution_count": 14
        }
      ]
    },
    {
      "cell_type": "code",
      "metadata": {
        "id": "i5vXlNWnNvcw",
        "colab_type": "code",
        "outputId": "1dc77d96-6791-4ee9-d48b-97ac7056ed74",
        "colab": {
          "base_uri": "https://localhost:8080/",
          "height": 166
        }
      },
      "source": [
        "y_file.shape"
      ],
      "execution_count": 0,
      "outputs": [
        {
          "output_type": "error",
          "ename": "NameError",
          "evalue": "ignored",
          "traceback": [
            "\u001b[0;31m---------------------------------------------------------------------------\u001b[0m",
            "\u001b[0;31mNameError\u001b[0m                                 Traceback (most recent call last)",
            "\u001b[0;32m<ipython-input-36-a3b313622765>\u001b[0m in \u001b[0;36m<module>\u001b[0;34m()\u001b[0m\n\u001b[0;32m----> 1\u001b[0;31m \u001b[0my_file\u001b[0m\u001b[0;34m.\u001b[0m\u001b[0mshape\u001b[0m\u001b[0;34m\u001b[0m\u001b[0;34m\u001b[0m\u001b[0m\n\u001b[0m",
            "\u001b[0;31mNameError\u001b[0m: name 'y_file' is not defined"
          ]
        }
      ]
    },
    {
      "cell_type": "code",
      "metadata": {
        "id": "g7e3V6IKg9HZ",
        "colab_type": "code",
        "colab": {}
      },
      "source": [
        "review_dataset = review_dataset.drop(columns='Unnamed: 0')"
      ],
      "execution_count": 0,
      "outputs": []
    },
    {
      "cell_type": "code",
      "metadata": {
        "id": "hFeAxdOlgz1y",
        "colab_type": "code",
        "outputId": "2c3c53a0-c006-4212-f008-a016ad52ac58",
        "colab": {
          "base_uri": "https://localhost:8080/",
          "height": 1000
        }
      },
      "source": [
        "dct = corpora.Dictionary(review_dataset.text_list)\n",
        "corpus = [dct.doc2bow(doc) for doc in review_dataset.text_list]"
      ],
      "execution_count": 0,
      "outputs": [
        {
          "output_type": "stream",
          "text": [
            "2020-04-23 08:52:28,946 : INFO : adding document #0 to Dictionary(0 unique tokens: [])\n",
            "2020-04-23 08:52:29,336 : INFO : adding document #10000 to Dictionary(24210 unique tokens: ['always', 'bar', 'better', 'cashier', 'choice']...)\n",
            "2020-04-23 08:52:29,733 : INFO : adding document #20000 to Dictionary(34420 unique tokens: ['always', 'bar', 'better', 'cashier', 'choice']...)\n",
            "2020-04-23 08:52:30,136 : INFO : adding document #30000 to Dictionary(42269 unique tokens: ['always', 'bar', 'better', 'cashier', 'choice']...)\n",
            "2020-04-23 08:52:30,539 : INFO : adding document #40000 to Dictionary(48394 unique tokens: ['always', 'bar', 'better', 'cashier', 'choice']...)\n",
            "2020-04-23 08:52:30,931 : INFO : adding document #50000 to Dictionary(53354 unique tokens: ['always', 'bar', 'better', 'cashier', 'choice']...)\n",
            "2020-04-23 08:52:31,335 : INFO : adding document #60000 to Dictionary(57959 unique tokens: ['always', 'bar', 'better', 'cashier', 'choice']...)\n",
            "2020-04-23 08:52:31,744 : INFO : adding document #70000 to Dictionary(62101 unique tokens: ['always', 'bar', 'better', 'cashier', 'choice']...)\n",
            "2020-04-23 08:52:32,151 : INFO : adding document #80000 to Dictionary(65984 unique tokens: ['always', 'bar', 'better', 'cashier', 'choice']...)\n",
            "2020-04-23 08:52:32,560 : INFO : adding document #90000 to Dictionary(70241 unique tokens: ['always', 'bar', 'better', 'cashier', 'choice']...)\n",
            "2020-04-23 08:52:32,963 : INFO : adding document #100000 to Dictionary(73961 unique tokens: ['always', 'bar', 'better', 'cashier', 'choice']...)\n",
            "2020-04-23 08:52:33,370 : INFO : adding document #110000 to Dictionary(77236 unique tokens: ['always', 'bar', 'better', 'cashier', 'choice']...)\n",
            "2020-04-23 08:52:33,774 : INFO : adding document #120000 to Dictionary(80283 unique tokens: ['always', 'bar', 'better', 'cashier', 'choice']...)\n",
            "2020-04-23 08:52:34,185 : INFO : adding document #130000 to Dictionary(83033 unique tokens: ['always', 'bar', 'better', 'cashier', 'choice']...)\n",
            "2020-04-23 08:52:34,598 : INFO : adding document #140000 to Dictionary(85838 unique tokens: ['always', 'bar', 'better', 'cashier', 'choice']...)\n",
            "2020-04-23 08:52:35,011 : INFO : adding document #150000 to Dictionary(88476 unique tokens: ['always', 'bar', 'better', 'cashier', 'choice']...)\n",
            "2020-04-23 08:52:35,430 : INFO : adding document #160000 to Dictionary(90911 unique tokens: ['always', 'bar', 'better', 'cashier', 'choice']...)\n",
            "2020-04-23 08:52:35,844 : INFO : adding document #170000 to Dictionary(93399 unique tokens: ['always', 'bar', 'better', 'cashier', 'choice']...)\n",
            "2020-04-23 08:52:36,267 : INFO : adding document #180000 to Dictionary(96177 unique tokens: ['always', 'bar', 'better', 'cashier', 'choice']...)\n",
            "2020-04-23 08:52:36,690 : INFO : adding document #190000 to Dictionary(98571 unique tokens: ['always', 'bar', 'better', 'cashier', 'choice']...)\n",
            "2020-04-23 08:52:37,114 : INFO : adding document #200000 to Dictionary(100838 unique tokens: ['always', 'bar', 'better', 'cashier', 'choice']...)\n",
            "2020-04-23 08:52:37,541 : INFO : adding document #210000 to Dictionary(102835 unique tokens: ['always', 'bar', 'better', 'cashier', 'choice']...)\n",
            "2020-04-23 08:52:37,967 : INFO : adding document #220000 to Dictionary(104871 unique tokens: ['always', 'bar', 'better', 'cashier', 'choice']...)\n",
            "2020-04-23 08:52:38,407 : INFO : adding document #230000 to Dictionary(106654 unique tokens: ['always', 'bar', 'better', 'cashier', 'choice']...)\n",
            "2020-04-23 08:52:38,845 : INFO : adding document #240000 to Dictionary(108526 unique tokens: ['always', 'bar', 'better', 'cashier', 'choice']...)\n",
            "2020-04-23 08:52:39,277 : INFO : adding document #250000 to Dictionary(110264 unique tokens: ['always', 'bar', 'better', 'cashier', 'choice']...)\n",
            "2020-04-23 08:52:39,722 : INFO : adding document #260000 to Dictionary(112055 unique tokens: ['always', 'bar', 'better', 'cashier', 'choice']...)\n",
            "2020-04-23 08:52:40,168 : INFO : adding document #270000 to Dictionary(113895 unique tokens: ['always', 'bar', 'better', 'cashier', 'choice']...)\n",
            "2020-04-23 08:52:40,592 : INFO : adding document #280000 to Dictionary(115939 unique tokens: ['always', 'bar', 'better', 'cashier', 'choice']...)\n",
            "2020-04-23 08:52:40,992 : INFO : adding document #290000 to Dictionary(117760 unique tokens: ['always', 'bar', 'better', 'cashier', 'choice']...)\n",
            "2020-04-23 08:52:41,400 : INFO : adding document #300000 to Dictionary(119553 unique tokens: ['always', 'bar', 'better', 'cashier', 'choice']...)\n",
            "2020-04-23 08:52:41,804 : INFO : adding document #310000 to Dictionary(121138 unique tokens: ['always', 'bar', 'better', 'cashier', 'choice']...)\n",
            "2020-04-23 08:52:42,206 : INFO : adding document #320000 to Dictionary(122569 unique tokens: ['always', 'bar', 'better', 'cashier', 'choice']...)\n",
            "2020-04-23 08:52:42,609 : INFO : adding document #330000 to Dictionary(124109 unique tokens: ['always', 'bar', 'better', 'cashier', 'choice']...)\n",
            "2020-04-23 08:52:43,021 : INFO : adding document #340000 to Dictionary(125605 unique tokens: ['always', 'bar', 'better', 'cashier', 'choice']...)\n",
            "2020-04-23 08:52:43,437 : INFO : adding document #350000 to Dictionary(127026 unique tokens: ['always', 'bar', 'better', 'cashier', 'choice']...)\n",
            "2020-04-23 08:52:43,861 : INFO : adding document #360000 to Dictionary(128567 unique tokens: ['always', 'bar', 'better', 'cashier', 'choice']...)\n",
            "2020-04-23 08:52:44,286 : INFO : adding document #370000 to Dictionary(130474 unique tokens: ['always', 'bar', 'better', 'cashier', 'choice']...)\n",
            "2020-04-23 08:52:44,705 : INFO : adding document #380000 to Dictionary(132118 unique tokens: ['always', 'bar', 'better', 'cashier', 'choice']...)\n",
            "2020-04-23 08:52:45,139 : INFO : adding document #390000 to Dictionary(133581 unique tokens: ['always', 'bar', 'better', 'cashier', 'choice']...)\n",
            "2020-04-23 08:52:45,570 : INFO : adding document #400000 to Dictionary(135019 unique tokens: ['always', 'bar', 'better', 'cashier', 'choice']...)\n",
            "2020-04-23 08:52:45,990 : INFO : adding document #410000 to Dictionary(136440 unique tokens: ['always', 'bar', 'better', 'cashier', 'choice']...)\n",
            "2020-04-23 08:52:46,422 : INFO : adding document #420000 to Dictionary(138016 unique tokens: ['always', 'bar', 'better', 'cashier', 'choice']...)\n",
            "2020-04-23 08:52:46,867 : INFO : adding document #430000 to Dictionary(139447 unique tokens: ['always', 'bar', 'better', 'cashier', 'choice']...)\n",
            "2020-04-23 08:52:47,303 : INFO : adding document #440000 to Dictionary(141010 unique tokens: ['always', 'bar', 'better', 'cashier', 'choice']...)\n",
            "2020-04-23 08:52:47,698 : INFO : adding document #450000 to Dictionary(142468 unique tokens: ['always', 'bar', 'better', 'cashier', 'choice']...)\n",
            "2020-04-23 08:52:48,096 : INFO : adding document #460000 to Dictionary(143719 unique tokens: ['always', 'bar', 'better', 'cashier', 'choice']...)\n",
            "2020-04-23 08:52:48,496 : INFO : adding document #470000 to Dictionary(144962 unique tokens: ['always', 'bar', 'better', 'cashier', 'choice']...)\n",
            "2020-04-23 08:52:48,896 : INFO : adding document #480000 to Dictionary(146129 unique tokens: ['always', 'bar', 'better', 'cashier', 'choice']...)\n",
            "2020-04-23 08:52:49,296 : INFO : adding document #490000 to Dictionary(147361 unique tokens: ['always', 'bar', 'better', 'cashier', 'choice']...)\n",
            "2020-04-23 08:52:49,711 : INFO : adding document #500000 to Dictionary(148506 unique tokens: ['always', 'bar', 'better', 'cashier', 'choice']...)\n",
            "2020-04-23 08:52:50,118 : INFO : adding document #510000 to Dictionary(149669 unique tokens: ['always', 'bar', 'better', 'cashier', 'choice']...)\n",
            "2020-04-23 08:52:50,532 : INFO : adding document #520000 to Dictionary(150817 unique tokens: ['always', 'bar', 'better', 'cashier', 'choice']...)\n",
            "2020-04-23 08:52:50,937 : INFO : adding document #530000 to Dictionary(152184 unique tokens: ['always', 'bar', 'better', 'cashier', 'choice']...)\n",
            "2020-04-23 08:52:51,340 : INFO : adding document #540000 to Dictionary(153344 unique tokens: ['always', 'bar', 'better', 'cashier', 'choice']...)\n",
            "2020-04-23 08:52:51,743 : INFO : adding document #550000 to Dictionary(154450 unique tokens: ['always', 'bar', 'better', 'cashier', 'choice']...)\n",
            "2020-04-23 08:52:52,140 : INFO : adding document #560000 to Dictionary(155389 unique tokens: ['always', 'bar', 'better', 'cashier', 'choice']...)\n",
            "2020-04-23 08:52:52,543 : INFO : adding document #570000 to Dictionary(156391 unique tokens: ['always', 'bar', 'better', 'cashier', 'choice']...)\n",
            "2020-04-23 08:52:52,939 : INFO : adding document #580000 to Dictionary(157465 unique tokens: ['always', 'bar', 'better', 'cashier', 'choice']...)\n",
            "2020-04-23 08:52:53,343 : INFO : adding document #590000 to Dictionary(158492 unique tokens: ['always', 'bar', 'better', 'cashier', 'choice']...)\n",
            "2020-04-23 08:52:53,742 : INFO : adding document #600000 to Dictionary(159505 unique tokens: ['always', 'bar', 'better', 'cashier', 'choice']...)\n",
            "2020-04-23 08:52:54,151 : INFO : adding document #610000 to Dictionary(160451 unique tokens: ['always', 'bar', 'better', 'cashier', 'choice']...)\n",
            "2020-04-23 08:52:54,574 : INFO : adding document #620000 to Dictionary(161841 unique tokens: ['always', 'bar', 'better', 'cashier', 'choice']...)\n",
            "2020-04-23 08:52:55,006 : INFO : adding document #630000 to Dictionary(163307 unique tokens: ['always', 'bar', 'better', 'cashier', 'choice']...)\n",
            "2020-04-23 08:52:55,455 : INFO : adding document #640000 to Dictionary(164633 unique tokens: ['always', 'bar', 'better', 'cashier', 'choice']...)\n",
            "2020-04-23 08:52:55,891 : INFO : adding document #650000 to Dictionary(165994 unique tokens: ['always', 'bar', 'better', 'cashier', 'choice']...)\n",
            "2020-04-23 08:52:56,322 : INFO : adding document #660000 to Dictionary(167185 unique tokens: ['always', 'bar', 'better', 'cashier', 'choice']...)\n",
            "2020-04-23 08:52:56,756 : INFO : adding document #670000 to Dictionary(168281 unique tokens: ['always', 'bar', 'better', 'cashier', 'choice']...)\n",
            "2020-04-23 08:52:57,196 : INFO : adding document #680000 to Dictionary(169462 unique tokens: ['always', 'bar', 'better', 'cashier', 'choice']...)\n",
            "2020-04-23 08:52:57,639 : INFO : adding document #690000 to Dictionary(170633 unique tokens: ['always', 'bar', 'better', 'cashier', 'choice']...)\n",
            "2020-04-23 08:52:58,077 : INFO : adding document #700000 to Dictionary(171750 unique tokens: ['always', 'bar', 'better', 'cashier', 'choice']...)\n",
            "2020-04-23 08:52:58,528 : INFO : adding document #710000 to Dictionary(172934 unique tokens: ['always', 'bar', 'better', 'cashier', 'choice']...)\n",
            "2020-04-23 08:52:58,955 : INFO : adding document #720000 to Dictionary(174219 unique tokens: ['always', 'bar', 'better', 'cashier', 'choice']...)\n",
            "2020-04-23 08:52:59,402 : INFO : adding document #730000 to Dictionary(175444 unique tokens: ['always', 'bar', 'better', 'cashier', 'choice']...)\n",
            "2020-04-23 08:52:59,833 : INFO : adding document #740000 to Dictionary(176558 unique tokens: ['always', 'bar', 'better', 'cashier', 'choice']...)\n",
            "2020-04-23 08:53:00,270 : INFO : adding document #750000 to Dictionary(177740 unique tokens: ['always', 'bar', 'better', 'cashier', 'choice']...)\n",
            "2020-04-23 08:53:00,711 : INFO : adding document #760000 to Dictionary(178784 unique tokens: ['always', 'bar', 'better', 'cashier', 'choice']...)\n",
            "2020-04-23 08:53:01,160 : INFO : adding document #770000 to Dictionary(179859 unique tokens: ['always', 'bar', 'better', 'cashier', 'choice']...)\n",
            "2020-04-23 08:53:01,607 : INFO : adding document #780000 to Dictionary(180866 unique tokens: ['always', 'bar', 'better', 'cashier', 'choice']...)\n",
            "2020-04-23 08:53:02,057 : INFO : adding document #790000 to Dictionary(181943 unique tokens: ['always', 'bar', 'better', 'cashier', 'choice']...)\n",
            "2020-04-23 08:53:02,488 : INFO : adding document #800000 to Dictionary(183210 unique tokens: ['always', 'bar', 'better', 'cashier', 'choice']...)\n",
            "2020-04-23 08:53:02,924 : INFO : adding document #810000 to Dictionary(184327 unique tokens: ['always', 'bar', 'better', 'cashier', 'choice']...)\n",
            "2020-04-23 08:53:03,363 : INFO : adding document #820000 to Dictionary(185390 unique tokens: ['always', 'bar', 'better', 'cashier', 'choice']...)\n",
            "2020-04-23 08:53:03,792 : INFO : adding document #830000 to Dictionary(186346 unique tokens: ['always', 'bar', 'better', 'cashier', 'choice']...)\n",
            "2020-04-23 08:53:04,214 : INFO : adding document #840000 to Dictionary(187318 unique tokens: ['always', 'bar', 'better', 'cashier', 'choice']...)\n",
            "2020-04-23 08:53:04,644 : INFO : adding document #850000 to Dictionary(188338 unique tokens: ['always', 'bar', 'better', 'cashier', 'choice']...)\n",
            "2020-04-23 08:53:05,069 : INFO : adding document #860000 to Dictionary(189289 unique tokens: ['always', 'bar', 'better', 'cashier', 'choice']...)\n",
            "2020-04-23 08:53:05,517 : INFO : adding document #870000 to Dictionary(190449 unique tokens: ['always', 'bar', 'better', 'cashier', 'choice']...)\n",
            "2020-04-23 08:53:05,953 : INFO : adding document #880000 to Dictionary(191438 unique tokens: ['always', 'bar', 'better', 'cashier', 'choice']...)\n",
            "2020-04-23 08:53:06,409 : INFO : adding document #890000 to Dictionary(192495 unique tokens: ['always', 'bar', 'better', 'cashier', 'choice']...)\n",
            "2020-04-23 08:53:06,675 : INFO : built Dictionary(193091 unique tokens: ['always', 'bar', 'better', 'cashier', 'choice']...) from 895694 documents (total 31119337 corpus positions)\n"
          ],
          "name": "stderr"
        }
      ]
    },
    {
      "cell_type": "code",
      "metadata": {
        "id": "TfGcTGPngw8T",
        "colab_type": "code",
        "outputId": "3ba18d7e-8e8b-41ab-85a0-7996ee7c4963",
        "colab": {
          "base_uri": "https://localhost:8080/",
          "height": 228
        }
      },
      "source": [
        "lda = LdaModel.load('/content/drive/Shared drives/DPA Final Project/lda_model_final.model')"
      ],
      "execution_count": 0,
      "outputs": [
        {
          "output_type": "stream",
          "text": [
            "2020-04-27 19:31:30,224 : INFO : loading LdaModel object from /content/drive/Shared drives/DPA Final Project/lda_model_final.model\n",
            "/usr/local/lib/python3.6/dist-packages/smart_open/smart_open_lib.py:253: UserWarning: This function is deprecated, use smart_open.open instead. See the migration notes for details: https://github.com/RaRe-Technologies/smart_open/blob/master/README.rst#migrating-to-the-new-open-function\n",
            "  'See the migration notes for details: %s' % _MIGRATION_NOTES_URL\n",
            "2020-04-27 19:31:31,277 : INFO : loading expElogbeta from /content/drive/Shared drives/DPA Final Project/lda_model_final.model.expElogbeta.npy with mmap=None\n",
            "2020-04-27 19:31:32,269 : INFO : setting ignored attribute state to None\n",
            "2020-04-27 19:31:32,271 : INFO : setting ignored attribute id2word to None\n",
            "2020-04-27 19:31:32,271 : INFO : setting ignored attribute dispatcher to None\n",
            "2020-04-27 19:31:32,271 : INFO : loaded /content/drive/Shared drives/DPA Final Project/lda_model_final.model\n",
            "2020-04-27 19:31:32,272 : INFO : loading LdaState object from /content/drive/Shared drives/DPA Final Project/lda_model_final.model.state\n",
            "2020-04-27 19:31:32,615 : INFO : loading sstats from /content/drive/Shared drives/DPA Final Project/lda_model_final.model.state.sstats.npy with mmap=None\n",
            "2020-04-27 19:31:33,430 : INFO : loaded /content/drive/Shared drives/DPA Final Project/lda_model_final.model.state\n"
          ],
          "name": "stderr"
        }
      ]
    },
    {
      "cell_type": "code",
      "metadata": {
        "id": "GuWVSqwFfhv5",
        "colab_type": "code",
        "outputId": "9f68103d-cb5d-4751-e914-30c0d0975bef",
        "colab": {
          "base_uri": "https://localhost:8080/",
          "height": 1000
        }
      },
      "source": [
        "lda.show_topics(num_topics=100,num_words=15)"
      ],
      "execution_count": 0,
      "outputs": [
        {
          "output_type": "execute_result",
          "data": {
            "text/plain": [
              "[(0,\n",
              "  '0.038*\"great\" + 0.023*\"service\" + 0.020*\"good\" + 0.016*\"time\" + 0.014*\"amazing\" + 0.013*\"friendly\" + 0.013*\"always\" + 0.013*\"back\" + 0.012*\"staff\" + 0.012*\"best\" + 0.010*\"delicious\" + 0.010*\"definitely\" + 0.009*\"nice\" + 0.008*\"really\" + 0.007*\"awesome\"'),\n",
              " (1,\n",
              "  '0.015*\"time\" + 0.013*\"order\" + 0.011*\"room\" + 0.010*\"service\" + 0.009*\"back\" + 0.009*\"person\" + 0.008*\"minute\" + 0.008*\"never\" + 0.008*\"table\" + 0.007*\"good\" + 0.006*\"even\" + 0.005*\"drink\" + 0.005*\"really\" + 0.005*\"location\" + 0.005*\"first\"'),\n",
              " (2,\n",
              "  '0.029*\"good\" + 0.020*\"chicken\" + 0.014*\"thai\" + 0.013*\"noodle\" + 0.012*\"chinese\" + 0.012*\"soup\" + 0.011*\"dish\" + 0.011*\"rice\" + 0.010*\"service\" + 0.009*\"great\" + 0.009*\"beef\" + 0.008*\"spicy\" + 0.008*\"price\" + 0.007*\"lunch\" + 0.007*\"also\"'),\n",
              " (3,\n",
              "  '0.111*\"pizza\" + 0.046*\"wing\" + 0.019*\"dog\" + 0.016*\"great\" + 0.013*\"good\" + 0.012*\"best\" + 0.011*\"crepe\" + 0.010*\"hot_dog\" + 0.009*\"delivery\" + 0.009*\"order\" + 0.007*\"hot\" + 0.007*\"always\" + 0.006*\"delicious\" + 0.006*\"time\" + 0.006*\"also\"'),\n",
              " (4,\n",
              "  '0.005*\"great\" + 0.005*\"good\" + 0.004*\"zaytoon\" + 0.003*\"best\" + 0.002*\"service\" + 0.002*\"bobo\" + 0.002*\"cincy_chili\" + 0.002*\"pizza\" + 0.002*\"delicious\" + 0.002*\"also\" + 0.002*\"better\" + 0.002*\"friendly\" + 0.002*\"try\" + 0.002*\"nice\" + 0.002*\"order\"'),\n",
              " (5,\n",
              "  '0.005*\"mex\" + 0.004*\"great\" + 0.004*\"moe\" + 0.004*\"service\" + 0.003*\"good\" + 0.002*\"time\" + 0.002*\"fucken\" + 0.002*\"drink\" + 0.002*\"order\" + 0.002*\"best\" + 0.002*\"verry\" + 0.002*\"nice\" + 0.002*\"jr\" + 0.002*\"amazing\" + 0.002*\"definitely\"'),\n",
              " (6,\n",
              "  '0.017*\"blizzard\" + 0.010*\"dq\" + 0.006*\"good\" + 0.005*\"dairy_queen\" + 0.004*\"great\" + 0.003*\"time\" + 0.003*\"ice_cream\" + 0.003*\"service\" + 0.003*\"really\" + 0.002*\"also\" + 0.002*\"always\" + 0.002*\"chicken\" + 0.002*\"cone\" + 0.002*\"smog\" + 0.002*\"snowcone\"'),\n",
              " (7,\n",
              "  '0.003*\"good\" + 0.003*\"adobado\" + 0.002*\"service\" + 0.002*\"best\" + 0.002*\"great\" + 0.001*\"really\" + 0.001*\"nice\" + 0.001*\"also\" + 0.001*\"amazing\" + 0.001*\"order\" + 0.001*\"try\" + 0.001*\"chicken\" + 0.001*\"delicious\" + 0.001*\"time\" + 0.001*\"ever\"'),\n",
              " (8,\n",
              "  '0.013*\"bass\" + 0.011*\"good\" + 0.010*\"chilean_sea\" + 0.006*\"sushi_samba\" + 0.005*\"sea_bass\" + 0.005*\"great\" + 0.005*\"rex\" + 0.004*\"sushisamba\" + 0.004*\"beppo\" + 0.004*\"samba\" + 0.004*\"buca_di\" + 0.003*\"sushi\" + 0.003*\"therapy\" + 0.003*\"peruvian\" + 0.003*\"target\"'),\n",
              " (9,\n",
              "  '0.002*\"fuckin\" + 0.002*\"time\" + 0.002*\"great\" + 0.001*\"service\" + 0.001*\"good\" + 0.001*\"table\" + 0.001*\"best\" + 0.001*\"asf\" + 0.001*\"really\" + 0.001*\"drink\" + 0.001*\"everything\" + 0.001*\"super\" + 0.001*\"back\" + 0.001*\"day\" + 0.001*\"pizza\"'),\n",
              " (10,\n",
              "  '0.007*\"great\" + 0.004*\"good\" + 0.003*\"service\" + 0.003*\"back\" + 0.003*\"stinky_tofu\" + 0.003*\"time\" + 0.002*\"also\" + 0.002*\"friendly\" + 0.002*\"samuel\" + 0.002*\"order\" + 0.002*\"definitely\" + 0.002*\"hippie_chick\" + 0.002*\"fresh\" + 0.002*\"delicious\" + 0.001*\"well\"'),\n",
              " (11,\n",
              "  '0.007*\"barcelona\" + 0.003*\"paula\" + 0.003*\"pokemon\" + 0.003*\"good\" + 0.003*\"great\" + 0.002*\"time\" + 0.002*\"service\" + 0.002*\"always\" + 0.002*\"back\" + 0.002*\"well\" + 0.001*\"blan\" + 0.001*\"delicious\" + 0.001*\"staff\" + 0.001*\"hannah\" + 0.001*\"amazing\"'),\n",
              " (12,\n",
              "  '0.020*\"buffet\" + 0.019*\"bar\" + 0.019*\"drink\" + 0.010*\"good\" + 0.009*\"time\" + 0.009*\"beer\" + 0.008*\"great\" + 0.008*\"fun\" + 0.007*\"bartender\" + 0.006*\"night\" + 0.006*\"person\" + 0.006*\"strip\" + 0.006*\"really\" + 0.006*\"also\" + 0.006*\"friend\"'),\n",
              " (13,\n",
              "  '0.005*\"great\" + 0.004*\"ichiban\" + 0.003*\"jg\" + 0.002*\"purple_penguin\" + 0.002*\"service\" + 0.002*\"burger\" + 0.002*\"sister_law\" + 0.002*\"always\" + 0.002*\"best\" + 0.002*\"order\" + 0.002*\"back\" + 0.002*\"good\" + 0.002*\"time\" + 0.001*\"person\" + 0.001*\"definitely\"'),\n",
              " (14,\n",
              "  '0.006*\"zuma\" + 0.004*\"service\" + 0.003*\"good\" + 0.003*\"gritz\" + 0.003*\"great\" + 0.003*\"time\" + 0.002*\"goldilock\" + 0.002*\"café_berlin\" + 0.002*\"back\" + 0.002*\"rosie\" + 0.002*\"chicken\" + 0.002*\"hotcake\" + 0.002*\"server\" + 0.002*\"http_hrid\" + 0.002*\"delicious\"'),\n",
              " (15,\n",
              "  '0.129*\"raman\" + 0.050*\"boba\" + 0.032*\"broth\" + 0.024*\"noodle\" + 0.015*\"milk_tea\" + 0.013*\"bowl\" + 0.007*\"monta\" + 0.006*\"gyoza\" + 0.006*\"good\" + 0.006*\"neg_raman\" + 0.005*\"miso_raman\" + 0.005*\"japan\" + 0.005*\"spicy\" + 0.005*\"spicy_miso\" + 0.005*\"raman_sora\"'),\n",
              " (16,\n",
              "  '0.017*\"matcha\" + 0.007*\"good\" + 0.006*\"gordita\" + 0.006*\"time\" + 0.004*\"panchos\" + 0.004*\"really\" + 0.003*\"great\" + 0.003*\"service\" + 0.003*\"order\" + 0.002*\"back\" + 0.002*\"felix\" + 0.002*\"buffet\" + 0.002*\"neg_matcha\" + 0.002*\"matcha_soft\" + 0.002*\"bad\"'),\n",
              " (17,\n",
              "  '0.001*\"good\" + 0.001*\"best\" + 0.001*\"service\" + 0.001*\"back\" + 0.001*\"time\" + 0.001*\"great\" + 0.001*\"berger\" + 0.001*\"order\" + 0.001*\"amazing\" + 0.001*\"much\" + 0.001*\"always\" + 0.000*\"never\" + 0.000*\"fry\" + 0.000*\"meal\" + 0.000*\"also\"'),\n",
              " (18,\n",
              "  '0.005*\"kronut\" + 0.003*\"scooter\" + 0.003*\"coffee_hunter\" + 0.002*\"sno\" + 0.002*\"niner\" + 0.002*\"great\" + 0.002*\"good\" + 0.002*\"time\" + 0.001*\"back\" + 0.001*\"service\" + 0.001*\"bar\" + 0.001*\"always\" + 0.001*\"try\" + 0.001*\"amazing\" + 0.001*\"order\"'),\n",
              " (19,\n",
              "  '0.001*\"time\" + 0.001*\"great\" + 0.001*\"service\" + 0.001*\"try\" + 0.001*\"kady\" + 0.001*\"good\" + 0.001*\"staff\" + 0.001*\"really\" + 0.001*\"table\" + 0.001*\"buffet\" + 0.001*\"always\" + 0.001*\"back\" + 0.001*\"person\" + 0.001*\"hothead\" + 0.001*\"order\"'),\n",
              " (20,\n",
              "  '0.016*\"good\" + 0.009*\"time\" + 0.008*\"also\" + 0.007*\"really\" + 0.007*\"chicken\" + 0.007*\"menu\" + 0.006*\"sauce\" + 0.006*\"flavor\" + 0.006*\"great\" + 0.006*\"try\" + 0.006*\"order\" + 0.006*\"service\" + 0.006*\"back\" + 0.005*\"delicious\" + 0.005*\"little\"'),\n",
              " (21,\n",
              "  '0.004*\"simply_pure\" + 0.003*\"back\" + 0.003*\"great\" + 0.002*\"time\" + 0.002*\"chef_stacey\" + 0.002*\"delicious\" + 0.002*\"nice\" + 0.002*\"staff\" + 0.002*\"good\" + 0.002*\"always\" + 0.002*\"order\" + 0.001*\"service\" + 0.001*\"definitely\" + 0.001*\"friendly\" + 0.001*\"person\"'),\n",
              " (22,\n",
              "  '0.014*\"burger\" + 0.010*\"pupusa\" + 0.008*\"good\" + 0.006*\"freddy\" + 0.006*\"great\" + 0.006*\"heart_attack\" + 0.005*\"fry\" + 0.005*\"service\" + 0.004*\"chili\" + 0.004*\"order\" + 0.004*\"milkshake\" + 0.004*\"back\" + 0.004*\"really\" + 0.003*\"tapas\" + 0.003*\"time\"'),\n",
              " (23,\n",
              "  '0.004*\"great\" + 0.002*\"oodle_noodle\" + 0.002*\"service\" + 0.002*\"acye\" + 0.001*\"bubby\" + 0.001*\"good\" + 0.001*\"time\" + 0.001*\"always\" + 0.001*\"menu\" + 0.001*\"also\" + 0.001*\"order\" + 0.001*\"nice\" + 0.001*\"well\" + 0.001*\"best\" + 0.001*\"drink\"'),\n",
              " (24,\n",
              "  '0.003*\"great\" + 0.002*\"service\" + 0.002*\"chuy\" + 0.002*\"good\" + 0.002*\"godzilla\" + 0.002*\"flavor\" + 0.002*\"delicious\" + 0.002*\"little\" + 0.002*\"time\" + 0.002*\"best\" + 0.001*\"try\" + 0.001*\"back\" + 0.001*\"halo\" + 0.001*\"nice\" + 0.001*\"burger\"'),\n",
              " (25,\n",
              "  '0.003*\"good\" + 0.002*\"time\" + 0.002*\"back\" + 0.002*\"great\" + 0.001*\"service\" + 0.001*\"order\" + 0.001*\"drink\" + 0.001*\"nice\" + 0.001*\"somewhat_sketchy\" + 0.001*\"felipitos\" + 0.001*\"friendly\" + 0.001*\"server\" + 0.001*\"pretty\" + 0.001*\"amazing\" + 0.001*\"definitely\"'),\n",
              " (26,\n",
              "  '0.022*\"burger\" + 0.020*\"good\" + 0.015*\"fry\" + 0.013*\"sandwich\" + 0.011*\"pizza\" + 0.009*\"cheese\" + 0.008*\"sauce\" + 0.008*\"salad\" + 0.008*\"chicken\" + 0.007*\"also\" + 0.006*\"time\" + 0.006*\"really\" + 0.006*\"side\" + 0.006*\"meat\" + 0.006*\"try\"'),\n",
              " (27,\n",
              "  '0.006*\"crack_pie\" + 0.004*\"great\" + 0.003*\"pierogis\" + 0.003*\"good\" + 0.002*\"time\" + 0.002*\"felafel\" + 0.002*\"service\" + 0.002*\"order\" + 0.002*\"really\" + 0.002*\"mandi\" + 0.002*\"back\" + 0.001*\"menu\" + 0.001*\"try\" + 0.001*\"pierogi_cafe\" + 0.001*\"definitely\"'),\n",
              " (28,\n",
              "  '0.004*\"doug\" + 0.004*\"time\" + 0.003*\"great\" + 0.003*\"good\" + 0.003*\"grate\" + 0.003*\"papusa\" + 0.003*\"back\" + 0.003*\"really\" + 0.003*\"service\" + 0.002*\"phó\" + 0.002*\"definitely\" + 0.002*\"nice\" + 0.002*\"try\" + 0.002*\"blanco\" + 0.002*\"fresco\"'),\n",
              " (29,\n",
              "  '0.002*\"janice\" + 0.002*\"time\" + 0.002*\"good\" + 0.001*\"buffet\" + 0.001*\"service\" + 0.001*\"order\" + 0.001*\"great\" + 0.001*\"columbian\" + 0.001*\"burger\" + 0.001*\"back\" + 0.001*\"ino\" + 0.001*\"eat\" + 0.001*\"always\" + 0.001*\"really\" + 0.001*\"omellette\"'),\n",
              " (30,\n",
              "  '0.004*\"dave\" + 0.004*\"good\" + 0.003*\"time\" + 0.002*\"service\" + 0.002*\"goulash\" + 0.002*\"well\" + 0.002*\"really\" + 0.002*\"great\" + 0.002*\"try\" + 0.002*\"back\" + 0.002*\"always\" + 0.002*\"het\" + 0.001*\"meal\" + 0.001*\"delicious\" + 0.001*\"drink\"'),\n",
              " (31,\n",
              "  '0.007*\"portuguese\" + 0.002*\"great\" + 0.002*\"jayde\" + 0.002*\"kho\" + 0.002*\"canh_chua\" + 0.002*\"service\" + 0.001*\"good\" + 0.001*\"time\" + 0.001*\"vila\" + 0.001*\"tappas\" + 0.001*\"order\" + 0.001*\"back\" + 0.001*\"brandt\" + 0.001*\"jerome\" + 0.001*\"portugal\"'),\n",
              " (32,\n",
              "  '0.005*\"frappe\" + 0.002*\"excellant\" + 0.002*\"christie\" + 0.002*\"good\" + 0.002*\"lj\" + 0.002*\"great\" + 0.002*\"time\" + 0.002*\"always\" + 0.002*\"gelato\" + 0.002*\"also\" + 0.002*\"really\" + 0.001*\"flavor\" + 0.001*\"drink\" + 0.001*\"first\" + 0.001*\"cake\"'),\n",
              " (33,\n",
              "  '0.003*\"mint_mojito\" + 0.003*\"nekter\" + 0.002*\"really\" + 0.002*\"good\" + 0.002*\"time\" + 0.002*\"back\" + 0.001*\"service\" + 0.001*\"great\" + 0.001*\"best\" + 0.001*\"isaac\" + 0.001*\"order\" + 0.001*\"buffet\" + 0.001*\"sauce\" + 0.001*\"first\" + 0.001*\"eat\"'),\n",
              " (34,\n",
              "  '0.007*\"mcmullan\" + 0.005*\"hrc\" + 0.002*\"good\" + 0.002*\"service\" + 0.002*\"sheridan\" + 0.002*\"back\" + 0.002*\"time\" + 0.002*\"trivium\" + 0.002*\"order\" + 0.002*\"great\" + 0.001*\"also\" + 0.001*\"drink\" + 0.001*\"really\" + 0.001*\"definitely\" + 0.001*\"always\"'),\n",
              " (35,\n",
              "  '0.005*\"good\" + 0.003*\"great\" + 0.002*\"op\" + 0.002*\"service\" + 0.002*\"time\" + 0.001*\"pretty\" + 0.001*\"cg\" + 0.001*\"really\" + 0.001*\"also\" + 0.001*\"star\" + 0.001*\"menu\" + 0.001*\"price\" + 0.001*\"nice\" + 0.001*\"never\" + 0.001*\"staff\"'),\n",
              " (36,\n",
              "  '0.005*\"good\" + 0.004*\"debbie\" + 0.004*\"time\" + 0.003*\"service\" + 0.003*\"bec\" + 0.003*\"great\" + 0.002*\"casey\" + 0.002*\"chicken\" + 0.002*\"order\" + 0.002*\"also\" + 0.002*\"table\" + 0.002*\"menu\" + 0.002*\"best\" + 0.002*\"back\" + 0.002*\"try\"'),\n",
              " (37,\n",
              "  '0.029*\"le\" + 0.009*\"et\" + 0.008*\"tire\" + 0.007*\"du\" + 0.007*\"pour\" + 0.006*\"ce\" + 0.005*\"galette\" + 0.004*\"parfait\" + 0.004*\"en\" + 0.004*\"de\" + 0.004*\"robuchon\" + 0.003*\"service\" + 0.003*\"good\" + 0.003*\"langoustine\" + 0.003*\"france\"'),\n",
              " (38,\n",
              "  '0.008*\"mo\" + 0.004*\"sa\" + 0.003*\"kaya\" + 0.003*\"ozzy_ozzy\" + 0.003*\"ko\" + 0.002*\"ng\" + 0.002*\"masarap\" + 0.001*\"pauline\" + 0.001*\"sarap\" + 0.001*\"lang\" + 0.001*\"yun\" + 0.001*\"pa\" + 0.001*\"juniper\" + 0.001*\"naman\" + 0.001*\"good\"'),\n",
              " (39,\n",
              "  '0.002*\"service\" + 0.002*\"great\" + 0.001*\"back\" + 0.001*\"always\" + 0.001*\"good\" + 0.001*\"really\" + 0.001*\"friendly\" + 0.001*\"time\" + 0.001*\"flamin_hot\" + 0.001*\"delicious\" + 0.001*\"definitely\" + 0.001*\"order\" + 0.001*\"amazing\" + 0.001*\"person\" + 0.001*\"staff\"'),\n",
              " (40,\n",
              "  '0.002*\"grad\" + 0.001*\"great\" + 0.001*\"good\" + 0.001*\"back\" + 0.001*\"time\" + 0.001*\"wilmer\" + 0.001*\"service\" + 0.001*\"really\" + 0.001*\"nice\" + 0.001*\"menu\" + 0.001*\"table\" + 0.001*\"chocalate\" + 0.001*\"well\" + 0.001*\"definitely\" + 0.001*\"also\"'),\n",
              " (41,\n",
              "  '0.003*\"joseph\" + 0.002*\"good\" + 0.001*\"always\" + 0.001*\"time\" + 0.001*\"rosy\" + 0.001*\"really\" + 0.001*\"service\" + 0.001*\"bar\" + 0.001*\"great\" + 0.001*\"buffet\" + 0.001*\"friendly\" + 0.001*\"never\" + 0.001*\"person\" + 0.001*\"try\" + 0.001*\"menu\"'),\n",
              " (42,\n",
              "  '0.002*\"assad\" + 0.001*\"back\" + 0.001*\"good\" + 0.001*\"time\" + 0.001*\"really\" + 0.001*\"service\" + 0.001*\"star\" + 0.001*\"great\" + 0.001*\"sauce\" + 0.001*\"little\" + 0.001*\"try\" + 0.001*\"buffet\" + 0.001*\"well\" + 0.001*\"delicious\" + 0.001*\"also\"'),\n",
              " (43,\n",
              "  '0.002*\"great\" + 0.001*\"good\" + 0.001*\"polvoron\" + 0.001*\"price\" + 0.001*\"bar\" + 0.001*\"foodie_paradise\" + 0.001*\"time\" + 0.001*\"bún\" + 0.001*\"service\" + 0.001*\"back\" + 0.001*\"neg_chin\" + 0.001*\"delicious\" + 0.001*\"try\" + 0.001*\"burger\" + 0.001*\"better\"'),\n",
              " (44,\n",
              "  '0.001*\"great\" + 0.001*\"really\" + 0.001*\"chicken\" + 0.001*\"mak\" + 0.001*\"time\" + 0.001*\"back\" + 0.001*\"bom\" + 0.001*\"nice\" + 0.001*\"service\" + 0.001*\"flavor\" + 0.001*\"better\" + 0.001*\"good\" + 0.001*\"also\" + 0.001*\"order\" + 0.001*\"definitely\"'),\n",
              " (45,\n",
              "  '0.002*\"lvl\" + 0.002*\"good\" + 0.001*\"great\" + 0.001*\"neg_decaf\" + 0.001*\"flavor\" + 0.001*\"service\" + 0.001*\"back\" + 0.001*\"sauce\" + 0.001*\"neg_particularly_neg_outstanding\" + 0.000*\"time\" + 0.000*\"taco\" + 0.000*\"definitely\" + 0.000*\"neg_total_neg_waste\" + 0.000*\"drink\" + 0.000*\"thing\"'),\n",
              " (46,\n",
              "  '0.010*\"arby\" + 0.009*\"david\" + 0.008*\"carbone\" + 0.007*\"crêpe\" + 0.007*\"great\" + 0.004*\"time\" + 0.003*\"service\" + 0.003*\"deni\" + 0.003*\"good\" + 0.002*\"gr\" + 0.002*\"best\" + 0.002*\"spicy_rigatoni\" + 0.002*\"back\" + 0.002*\"always\" + 0.002*\"kakuni\"'),\n",
              " (47,\n",
              "  '0.005*\"good\" + 0.004*\"great\" + 0.004*\"irene\" + 0.004*\"time\" + 0.002*\"order\" + 0.002*\"mula\" + 0.002*\"taco\" + 0.002*\"service\" + 0.002*\"yanni\" + 0.002*\"alpastor\" + 0.002*\"phö\" + 0.001*\"really\" + 0.001*\"drink\" + 0.001*\"back\" + 0.001*\"chirashi_bowl\"'),\n",
              " (48,\n",
              "  '0.001*\"buffet\" + 0.001*\"really\" + 0.001*\"back\" + 0.001*\"time\" + 0.001*\"great\" + 0.001*\"good\" + 0.001*\"service\" + 0.001*\"zomg\" + 0.001*\"first\" + 0.001*\"order\" + 0.001*\"thing\" + 0.001*\"definitely\" + 0.001*\"pretty\" + 0.001*\"person\" + 0.001*\"much\"'),\n",
              " (49,\n",
              "  '0.004*\"time\" + 0.003*\"bowlology\" + 0.003*\"great\" + 0.002*\"back\" + 0.002*\"good\" + 0.002*\"clutch\" + 0.002*\"order\" + 0.002*\"also\" + 0.002*\"service\" + 0.002*\"person\" + 0.001*\"really\" + 0.001*\"staff\" + 0.001*\"nice\" + 0.001*\"definitely\" + 0.001*\"pizza\"'),\n",
              " (50,\n",
              "  '0.002*\"shay\" + 0.002*\"time\" + 0.002*\"great\" + 0.002*\"order\" + 0.002*\"bm\" + 0.002*\"good\" + 0.001*\"drink\" + 0.001*\"service\" + 0.001*\"friend\" + 0.001*\"chicken\" + 0.001*\"try\" + 0.001*\"table\" + 0.001*\"well\" + 0.001*\"back\" + 0.001*\"amazing\"'),\n",
              " (51,\n",
              "  '0.003*\"great\" + 0.003*\"good\" + 0.002*\"always\" + 0.002*\"service\" + 0.002*\"back\" + 0.002*\"really\" + 0.002*\"time\" + 0.001*\"also\" + 0.001*\"drink\" + 0.001*\"never\" + 0.001*\"best\" + 0.001*\"try\" + 0.001*\"well\" + 0.001*\"delicious\" + 0.001*\"amazing\"'),\n",
              " (52,\n",
              "  '0.002*\"good\" + 0.002*\"macha\" + 0.001*\"really\" + 0.001*\"whit\" + 0.001*\"best\" + 0.001*\"sauce\" + 0.001*\"order\" + 0.001*\"service\" + 0.001*\"iran\" + 0.001*\"pizza\" + 0.001*\"amazing\" + 0.001*\"also\" + 0.001*\"great\" + 0.001*\"avalanche\" + 0.001*\"back\"'),\n",
              " (53,\n",
              "  '0.002*\"good\" + 0.002*\"service\" + 0.001*\"great\" + 0.001*\"always\" + 0.001*\"person\" + 0.001*\"time\" + 0.001*\"anne\" + 0.001*\"best\" + 0.001*\"amazing\" + 0.001*\"price\" + 0.001*\"location\" + 0.001*\"even\" + 0.001*\"friendly\" + 0.001*\"fresh\" + 0.001*\"staff\"'),\n",
              " (54,\n",
              "  '0.031*\"da\" + 0.008*\"den\" + 0.007*\"war\" + 0.006*\"man\" + 0.006*\"von\" + 0.006*\"nicht\" + 0.005*\"mit\" + 0.005*\"es\" + 0.004*\"für\" + 0.004*\"auch\" + 0.004*\"hat\" + 0.004*\"gut\" + 0.004*\"hier\" + 0.003*\"dem\" + 0.003*\"waren\"'),\n",
              " (55,\n",
              "  '0.005*\"volunteer\" + 0.004*\"great\" + 0.003*\"good\" + 0.002*\"service\" + 0.002*\"time\" + 0.002*\"really\" + 0.001*\"try\" + 0.001*\"chicken\" + 0.001*\"chorizo_sope\" + 0.001*\"sauce\" + 0.001*\"also\" + 0.001*\"riverium\" + 0.001*\"back\" + 0.001*\"pampano\" + 0.001*\"sultani\"'),\n",
              " (56,\n",
              "  '0.002*\"time\" + 0.001*\"good\" + 0.001*\"chicken\" + 0.001*\"also\" + 0.001*\"great\" + 0.001*\"try\" + 0.001*\"fresh\" + 0.001*\"sighting\" + 0.001*\"server\" + 0.001*\"price\" + 0.001*\"order\" + 0.001*\"best\" + 0.001*\"steak\" + 0.001*\"neg_moreover\" + 0.001*\"back\"'),\n",
              " (57,\n",
              "  '0.003*\"taco_tijuana\" + 0.003*\"bite_squad\" + 0.002*\"back\" + 0.002*\"time\" + 0.002*\"service\" + 0.002*\"good\" + 0.002*\"great\" + 0.001*\"sc\" + 0.001*\"delicious\" + 0.001*\"bridgette\" + 0.001*\"taco\" + 0.001*\"kelli\" + 0.001*\"meal\" + 0.001*\"order\" + 0.001*\"always\"'),\n",
              " (58,\n",
              "  '0.001*\"kristie\" + 0.001*\"good\" + 0.001*\"service\" + 0.001*\"time\" + 0.001*\"change_smog\" + 0.000*\"really\" + 0.000*\"even\" + 0.000*\"back\" + 0.000*\"great\" + 0.000*\"cebu\" + 0.000*\"bad\" + 0.000*\"buffet\" + 0.000*\"cake\" + 0.000*\"dinner\" + 0.000*\"well\"'),\n",
              " (59,\n",
              "  '0.006*\"colombian\" + 0.003*\"good\" + 0.002*\"barbeque\" + 0.002*\"time\" + 0.001*\"great\" + 0.001*\"service\" + 0.001*\"back\" + 0.001*\"sauce\" + 0.001*\"really\" + 0.001*\"neg_barbeque\" + 0.001*\"well\" + 0.001*\"order\" + 0.001*\"menu\" + 0.001*\"also\" + 0.001*\"person\"'),\n",
              " (60,\n",
              "  '0.013*\"og\" + 0.005*\"som\" + 0.003*\"hade\" + 0.003*\"en\" + 0.003*\"på\" + 0.003*\"var\" + 0.002*\"vi\" + 0.002*\"man\" + 0.002*\"det\" + 0.002*\"av\" + 0.002*\"är\" + 0.001*\"om\" + 0.001*\"du\" + 0.001*\"af\" + 0.001*\"så\"'),\n",
              " (61,\n",
              "  '0.003*\"pan_dulce\" + 0.001*\"neg_relleno\" + 0.001*\"good\" + 0.001*\"mario_batali\" + 0.001*\"hitachino\" + 0.001*\"nim\" + 0.001*\"service\" + 0.001*\"lunch\" + 0.001*\"hive\" + 0.001*\"menu\" + 0.001*\"breakfast\" + 0.001*\"roll\" + 0.001*\"location\" + 0.001*\"time\" + 0.001*\"great\"'),\n",
              " (62,\n",
              "  '0.001*\"buffet\" + 0.001*\"good\" + 0.001*\"gud\" + 0.001*\"time\" + 0.001*\"service\" + 0.001*\"sushi\" + 0.001*\"gurl\" + 0.001*\"srsly\" + 0.001*\"jerrick\" + 0.001*\"vaughn\" + 0.001*\"dessert\" + 0.001*\"staff\" + 0.000*\"first\" + 0.000*\"still\" + 0.000*\"back\"'),\n",
              " (63,\n",
              "  '0.144*\"sushi\" + 0.048*\"roll\" + 0.014*\"fajita\" + 0.013*\"ayce\" + 0.011*\"good\" + 0.010*\"ayce_sushi\" + 0.009*\"jjanga\" + 0.007*\"halo_halo\" + 0.007*\"chef\" + 0.007*\"nigiri\" + 0.006*\"juan\" + 0.006*\"sashimi\" + 0.006*\"neg_sushi\" + 0.005*\"leticia\" + 0.005*\"great\"'),\n",
              " (64,\n",
              "  '0.003*\"nanny\" + 0.003*\"yucca_fry\" + 0.003*\"good\" + 0.002*\"fresno\" + 0.002*\"time\" + 0.002*\"service\" + 0.002*\"flavor\" + 0.002*\"great\" + 0.001*\"well\" + 0.001*\"really\" + 0.001*\"back\" + 0.001*\"happy_hr\" + 0.001*\"menu\" + 0.001*\"nice\" + 0.001*\"sauce\"'),\n",
              " (65,\n",
              "  '0.018*\"ube\" + 0.003*\"ube_french\" + 0.002*\"cake\" + 0.002*\"red_ribbon\" + 0.002*\"good\" + 0.001*\"lvcc\" + 0.001*\"great\" + 0.001*\"halohalo\" + 0.001*\"time\" + 0.001*\"drink\" + 0.001*\"neg_ube\" + 0.001*\"flavor\" + 0.001*\"boston_dream\" + 0.001*\"cristina\" + 0.001*\"ube_pancake\"'),\n",
              " (66,\n",
              "  '0.002*\"good_dayumm\" + 0.002*\"fkn_dope\" + 0.002*\"scale_bw\" + 0.002*\"basura_garbage\" + 0.002*\"neg_bs_neg_experience\" + 0.001*\"service\" + 0.001*\"doughnut_doughnut\" + 0.001*\"good\" + 0.001*\"try\" + 0.001*\"great\" + 0.001*\"even\" + 0.001*\"glaze_doughnut\" + 0.001*\"fresh\" + 0.001*\"delicious\" + 0.001*\"amazing\"'),\n",
              " (67,\n",
              "  '0.016*\"starbuck\" + 0.004*\"canter\" + 0.003*\"time\" + 0.002*\"great\" + 0.002*\"good\" + 0.001*\"batista\" + 0.001*\"bar\" + 0.001*\"pumpkin_spice\" + 0.001*\"first\" + 0.001*\"best\" + 0.001*\"service\" + 0.001*\"albino\" + 0.001*\"person\" + 0.001*\"location\" + 0.001*\"drink\"'),\n",
              " (68,\n",
              "  '0.002*\"good\" + 0.002*\"time\" + 0.002*\"great\" + 0.002*\"back\" + 0.001*\"minute\" + 0.001*\"service\" + 0.001*\"also\" + 0.001*\"pizza\" + 0.001*\"order\" + 0.001*\"always\" + 0.001*\"drink\" + 0.001*\"chicken\" + 0.001*\"asade\" + 0.001*\"northbound\" + 0.001*\"never\"'),\n",
              " (69,\n",
              "  '0.003*\"good\" + 0.002*\"great\" + 0.002*\"service\" + 0.001*\"isabela\" + 0.001*\"pineapple_mojito\" + 0.001*\"frito_pie\" + 0.001*\"time\" + 0.001*\"also\" + 0.001*\"enchalada\" + 0.001*\"well\" + 0.001*\"really\" + 0.001*\"order\" + 0.001*\"violet\" + 0.001*\"always\" + 0.001*\"messina\"'),\n",
              " (70,\n",
              "  '0.002*\"egg_plant\" + 0.002*\"good\" + 0.001*\"back\" + 0.001*\"lv_nv\" + 0.001*\"time\" + 0.001*\"great\" + 0.001*\"service\" + 0.001*\"really\" + 0.001*\"also\" + 0.001*\"pecan_praline\" + 0.001*\"buffet\" + 0.001*\"try\" + 0.001*\"move_neg_review\" + 0.001*\"long_dormant\" + 0.001*\"neg_room_neg_schlepping\"'),\n",
              " (71,\n",
              "  '0.003*\"di\" + 0.002*\"good\" + 0.002*\"che\" + 0.002*\"time\" + 0.002*\"il\" + 0.001*\"molto\" + 0.001*\"service\" + 0.001*\"ci\" + 0.001*\"riserva\" + 0.001*\"nice\" + 0.001*\"sono\" + 0.001*\"also\" + 0.001*\"really\" + 0.001*\"well\" + 0.001*\"table\"'),\n",
              " (72,\n",
              "  '0.022*\"shabu_shabu\" + 0.012*\"sukiyaki\" + 0.010*\"shabu\" + 0.009*\"good\" + 0.007*\"taiyaki\" + 0.007*\"hue\" + 0.006*\"bun_bo\" + 0.004*\"also\" + 0.004*\"time\" + 0.003*\"great\" + 0.003*\"bungalow\" + 0.003*\"back\" + 0.003*\"friend\" + 0.003*\"yojie\" + 0.003*\"service\"'),\n",
              " (73,\n",
              "  '0.003*\"good\" + 0.002*\"great\" + 0.002*\"nice\" + 0.002*\"service\" + 0.001*\"back\" + 0.001*\"menu\" + 0.001*\"table\" + 0.001*\"paris_brest\" + 0.001*\"try\" + 0.001*\"order\" + 0.001*\"time\" + 0.001*\"staff\" + 0.001*\"hibiki\" + 0.001*\"little\" + 0.001*\"better\"'),\n",
              " (74,\n",
              "  '0.005*\"time\" + 0.003*\"sandwitch\" + 0.002*\"order\" + 0.001*\"first\" + 0.001*\"good\" + 0.001*\"back\" + 0.001*\"service\" + 0.001*\"always\" + 0.001*\"bussiness\" + 0.001*\"great\" + 0.001*\"thing\" + 0.001*\"flavor\" + 0.001*\"star\" + 0.001*\"person\" + 0.001*\"table\"'),\n",
              " (75,\n",
              "  '0.002*\"dragon_fruit\" + 0.002*\"good\" + 0.001*\"time\" + 0.001*\"goji\" + 0.001*\"also\" + 0.001*\"back\" + 0.001*\"jb\" + 0.001*\"service\" + 0.001*\"pokémon\" + 0.001*\"order\" + 0.001*\"drink\" + 0.001*\"great\" + 0.001*\"mojito_pitcher\" + 0.001*\"definitely\" + 0.001*\"person\"'),\n",
              " (76,\n",
              "  '0.006*\"good\" + 0.004*\"great\" + 0.003*\"salvadorian\" + 0.003*\"time\" + 0.002*\"service\" + 0.002*\"back\" + 0.002*\"menu\" + 0.001*\"order\" + 0.001*\"firkin\" + 0.001*\"pizza\" + 0.001*\"really\" + 0.001*\"even\" + 0.001*\"banh_xeo\" + 0.001*\"friendly\" + 0.001*\"definitely\"'),\n",
              " (77,\n",
              "  '0.003*\"good\" + 0.002*\"time\" + 0.002*\"beeper\" + 0.002*\"wahlburger\" + 0.001*\"order\" + 0.001*\"service\" + 0.001*\"also\" + 0.001*\"great\" + 0.001*\"person\" + 0.001*\"makai_bowl\" + 0.001*\"eat\" + 0.001*\"chicken\" + 0.001*\"really\" + 0.001*\"definitely\" + 0.001*\"menu\"'),\n",
              " (78,\n",
              "  '0.001*\"twist_tie\" + 0.000*\"really\" + 0.000*\"back\" + 0.000*\"good\" + 0.000*\"great\" + 0.000*\"time\" + 0.000*\"service\" + 0.000*\"meat\" + 0.000*\"definitely\" + 0.000*\"amazing\" + 0.000*\"nice\" + 0.000*\"và\" + 0.000*\"owner\" + 0.000*\"first\" + 0.000*\"friendly\"'),\n",
              " (79,\n",
              "  '0.002*\"good\" + 0.002*\"sofrita\" + 0.002*\"afghan\" + 0.002*\"el_paso\" + 0.001*\"time\" + 0.001*\"pizza\" + 0.001*\"order\" + 0.001*\"best\" + 0.001*\"eat\" + 0.001*\"bar\" + 0.001*\"small\" + 0.001*\"service\" + 0.001*\"great\" + 0.001*\"cho\" + 0.001*\"even\"'),\n",
              " (80,\n",
              "  '0.005*\"time\" + 0.005*\"great\" + 0.004*\"fro\" + 0.002*\"back\" + 0.002*\"service\" + 0.002*\"good\" + 0.002*\"aussie\" + 0.002*\"first\" + 0.001*\"also\" + 0.001*\"coldstone\" + 0.001*\"person\" + 0.001*\"friendly\" + 0.001*\"flavor\" + 0.001*\"really\" + 0.001*\"amazing\"'),\n",
              " (81,\n",
              "  '0.003*\"good\" + 0.002*\"time\" + 0.002*\"service\" + 0.002*\"great\" + 0.002*\"pitaya\" + 0.002*\"back\" + 0.002*\"freind\" + 0.001*\"order\" + 0.001*\"way\" + 0.001*\"drink\" + 0.001*\"never\" + 0.001*\"first\" + 0.001*\"https_https\" + 0.001*\"fry\" + 0.001*\"sandwich\"'),\n",
              " (82,\n",
              "  '0.017*\"chayo\" + 0.005*\"grub_hub\" + 0.005*\"great\" + 0.003*\"sophia\" + 0.003*\"back\" + 0.003*\"order\" + 0.003*\"slushee\" + 0.003*\"time\" + 0.003*\"jared\" + 0.003*\"good\" + 0.002*\"drink\" + 0.002*\"vega\" + 0.002*\"dr_pepper\" + 0.002*\"really\" + 0.002*\"bar\"'),\n",
              " (83,\n",
              "  '0.003*\"time\" + 0.003*\"great\" + 0.003*\"good\" + 0.003*\"brianna\" + 0.002*\"laurie\" + 0.002*\"back\" + 0.002*\"service\" + 0.002*\"hav\" + 0.002*\"order\" + 0.002*\"yer\" + 0.001*\"menu\" + 0.001*\"flavor\" + 0.001*\"even\" + 0.001*\"nice\" + 0.001*\"really\"'),\n",
              " (84,\n",
              "  '0.002*\"good\" + 0.002*\"really\" + 0.001*\"cruller\" + 0.001*\"service\" + 0.001*\"great\" + 0.001*\"time\" + 0.001*\"delicious\" + 0.001*\"nice\" + 0.001*\"always\" + 0.001*\"best\" + 0.001*\"also\" + 0.001*\"order\" + 0.001*\"staff\" + 0.001*\"server\" + 0.001*\"menu\"'),\n",
              " (85,\n",
              "  '0.001*\"really\" + 0.001*\"soulfood\" + 0.001*\"great\" + 0.001*\"delicious\" + 0.001*\"omakaze\" + 0.001*\"fabiola\" + 0.001*\"always\" + 0.001*\"time\" + 0.001*\"good\" + 0.001*\"favorite\" + 0.001*\"best\" + 0.001*\"dinner\" + 0.001*\"drink\" + 0.001*\"experience\" + 0.001*\"back\"'),\n",
              " (86,\n",
              "  '0.003*\"pura_vida\" + 0.003*\"good\" + 0.002*\"time\" + 0.002*\"great\" + 0.001*\"definitely\" + 0.001*\"service\" + 0.001*\"semen\" + 0.001*\"winchell\" + 0.001*\"also\" + 0.001*\"really\" + 0.001*\"pretty\" + 0.001*\"try\" + 0.001*\"back\" + 0.001*\"order\" + 0.001*\"first\"'),\n",
              " (87,\n",
              "  '0.004*\"poboy\" + 0.001*\"rocio\" + 0.001*\"good\" + 0.001*\"shrimp_poboy\" + 0.001*\"sauce\" + 0.001*\"sno_cone\" + 0.001*\"service\" + 0.001*\"delicious\" + 0.001*\"time\" + 0.001*\"neg_responsibility_neg_nobody\" + 0.001*\"great\" + 0.000*\"flavor\" + 0.000*\"ani\" + 0.000*\"way\" + 0.000*\"south_louisiana\"'),\n",
              " (88,\n",
              "  '0.015*\"ethiopian\" + 0.007*\"good\" + 0.003*\"injera\" + 0.003*\"chef_mayra\" + 0.003*\"really\" + 0.002*\"great\" + 0.002*\"time\" + 0.002*\"service\" + 0.002*\"ethiopia\" + 0.002*\"price\" + 0.002*\"back\" + 0.002*\"pan_roast\" + 0.002*\"kitfo\" + 0.002*\"also\" + 0.001*\"little\"'),\n",
              " (89,\n",
              "  '0.002*\"karina\" + 0.001*\"service\" + 0.001*\"ste\" + 0.001*\"good\" + 0.001*\"becky\" + 0.001*\"also\" + 0.001*\"great\" + 0.001*\"taco\" + 0.001*\"time\" + 0.001*\"goddaughter\" + 0.001*\"always\" + 0.001*\"back\" + 0.001*\"kirsten\" + 0.001*\"pizza\" + 0.001*\"papa_murphy\"'),\n",
              " (90,\n",
              "  '0.016*\"taco\" + 0.012*\"el\" + 0.012*\"al\" + 0.008*\"los\" + 0.008*\"con\" + 0.007*\"en\" + 0.006*\"del\" + 0.005*\"taco_el\" + 0.005*\"comida\" + 0.005*\"mi\" + 0.005*\"pollo\" + 0.005*\"gordo\" + 0.004*\"asada\" + 0.004*\"es\" + 0.004*\"mexico\"'),\n",
              " (91,\n",
              "  '0.004*\"service\" + 0.003*\"good\" + 0.003*\"great\" + 0.003*\"time\" + 0.001*\"person\" + 0.001*\"order\" + 0.001*\"mad_max\" + 0.001*\"breakfast\" + 0.001*\"steak\" + 0.001*\"dinner\" + 0.001*\"best\" + 0.001*\"never\" + 0.001*\"nice\" + 0.001*\"brad_scramble\" + 0.001*\"friendly\"'),\n",
              " (92,\n",
              "  '0.002*\"good\" + 0.001*\"miranda\" + 0.001*\"barb\" + 0.001*\"time\" + 0.001*\"service\" + 0.001*\"soup\" + 0.001*\"even\" + 0.001*\"always\" + 0.001*\"nuf\" + 0.001*\"lunch\" + 0.001*\"try\" + 0.001*\"great\" + 0.001*\"pizza\" + 0.001*\"fry\" + 0.001*\"delicious\"'),\n",
              " (93,\n",
              "  '0.002*\"good\" + 0.002*\"great\" + 0.001*\"service\" + 0.001*\"always\" + 0.001*\"time\" + 0.001*\"clothe_smell\" + 0.001*\"menu\" + 0.001*\"chada_street\" + 0.001*\"smart_final\" + 0.001*\"best\" + 0.001*\"really\" + 0.001*\"nice\" + 0.001*\"back\" + 0.001*\"definitely\" + 0.001*\"friendly\"'),\n",
              " (94,\n",
              "  '0.002*\"good\" + 0.002*\"texmex\" + 0.002*\"service\" + 0.001*\"great\" + 0.001*\"order\" + 0.001*\"back\" + 0.001*\"burger\" + 0.001*\"fresh\" + 0.001*\"sauce\" + 0.001*\"taco\" + 0.001*\"friend\" + 0.001*\"cat_fish\" + 0.001*\"also\" + 0.001*\"little\" + 0.001*\"chicken\"'),\n",
              " (95,\n",
              "  '0.006*\"patrick\" + 0.003*\"good\" + 0.002*\"buffet\" + 0.001*\"service\" + 0.001*\"tjs\" + 0.001*\"lunch\" + 0.001*\"also\" + 0.001*\"really\" + 0.001*\"nice\" + 0.001*\"time\" + 0.001*\"back\" + 0.001*\"sushi\" + 0.001*\"well\" + 0.001*\"great\" + 0.001*\"dessert\"'),\n",
              " (96,\n",
              "  '0.002*\"shaun\" + 0.001*\"really\" + 0.001*\"great\" + 0.001*\"back\" + 0.001*\"good\" + 0.000*\"thing\" + 0.000*\"time\" + 0.000*\"neg_waist_neg_money\" + 0.000*\"best\" + 0.000*\"person\" + 0.000*\"service\" + 0.000*\"item\" + 0.000*\"order\" + 0.000*\"nice\" + 0.000*\"always\"'),\n",
              " (97,\n",
              "  '0.085*\"bagel\" + 0.012*\"cream\" + 0.009*\"russian\" + 0.006*\"cheese\" + 0.006*\"good\" + 0.005*\"lox\" + 0.005*\"great\" + 0.005*\"einstein\" + 0.004*\"neg_bagel\" + 0.004*\"gluten\" + 0.004*\"napoleon\" + 0.003*\"sandwich\" + 0.003*\"celiac\" + 0.003*\"service\" + 0.002*\"also\"'),\n",
              " (98,\n",
              "  '0.001*\"service\" + 0.001*\"good\" + 0.001*\"delicious\" + 0.001*\"burger\" + 0.001*\"best\" + 0.001*\"great\" + 0.000*\"drink\" + 0.000*\"back\" + 0.000*\"everything\" + 0.000*\"even\" + 0.000*\"technician\" + 0.000*\"try\" + 0.000*\"also\" + 0.000*\"time\" + 0.000*\"table\"'),\n",
              " (99,\n",
              "  '0.002*\"good\" + 0.002*\"burger\" + 0.001*\"grownup\" + 0.001*\"best\" + 0.001*\"really\" + 0.001*\"great\" + 0.000*\"try\" + 0.000*\"service\" + 0.000*\"neg_colorado\" + 0.000*\"back\" + 0.000*\"person\" + 0.000*\"chicken\" + 0.000*\"amazing\" + 0.000*\"everything\" + 0.000*\"sauce\"')]"
            ]
          },
          "metadata": {
            "tags": []
          },
          "execution_count": 12
        }
      ]
    },
    {
      "cell_type": "code",
      "metadata": {
        "id": "JXaNZwgQf6s1",
        "colab_type": "code",
        "outputId": "e4eba8fd-5035-4a95-f777-cc251f0a1be9",
        "colab": {
          "base_uri": "https://localhost:8080/",
          "height": 415
        }
      },
      "source": [
        "pd.DataFrame(np.array(lda.get_topic_terms(1,topn=100))).sort_values(1,ascending = False)"
      ],
      "execution_count": 0,
      "outputs": [
        {
          "output_type": "execute_result",
          "data": {
            "text/html": [
              "<div>\n",
              "<style scoped>\n",
              "    .dataframe tbody tr th:only-of-type {\n",
              "        vertical-align: middle;\n",
              "    }\n",
              "\n",
              "    .dataframe tbody tr th {\n",
              "        vertical-align: top;\n",
              "    }\n",
              "\n",
              "    .dataframe thead th {\n",
              "        text-align: right;\n",
              "    }\n",
              "</style>\n",
              "<table border=\"1\" class=\"dataframe\">\n",
              "  <thead>\n",
              "    <tr style=\"text-align: right;\">\n",
              "      <th></th>\n",
              "      <th>0</th>\n",
              "      <th>1</th>\n",
              "    </tr>\n",
              "  </thead>\n",
              "  <tbody>\n",
              "    <tr>\n",
              "      <th>0</th>\n",
              "      <td>83.0</td>\n",
              "      <td>0.015412</td>\n",
              "    </tr>\n",
              "    <tr>\n",
              "      <th>1</th>\n",
              "      <td>14.0</td>\n",
              "      <td>0.013475</td>\n",
              "    </tr>\n",
              "    <tr>\n",
              "      <th>2</th>\n",
              "      <td>147.0</td>\n",
              "      <td>0.010639</td>\n",
              "    </tr>\n",
              "    <tr>\n",
              "      <th>3</th>\n",
              "      <td>58.0</td>\n",
              "      <td>0.009729</td>\n",
              "    </tr>\n",
              "    <tr>\n",
              "      <th>4</th>\n",
              "      <td>37.0</td>\n",
              "      <td>0.008952</td>\n",
              "    </tr>\n",
              "    <tr>\n",
              "      <th>...</th>\n",
              "      <td>...</td>\n",
              "      <td>...</td>\n",
              "    </tr>\n",
              "    <tr>\n",
              "      <th>95</th>\n",
              "      <td>1073.0</td>\n",
              "      <td>0.001749</td>\n",
              "    </tr>\n",
              "    <tr>\n",
              "      <th>96</th>\n",
              "      <td>92.0</td>\n",
              "      <td>0.001747</td>\n",
              "    </tr>\n",
              "    <tr>\n",
              "      <th>97</th>\n",
              "      <td>189.0</td>\n",
              "      <td>0.001729</td>\n",
              "    </tr>\n",
              "    <tr>\n",
              "      <th>98</th>\n",
              "      <td>826.0</td>\n",
              "      <td>0.001718</td>\n",
              "    </tr>\n",
              "    <tr>\n",
              "      <th>99</th>\n",
              "      <td>86.0</td>\n",
              "      <td>0.001709</td>\n",
              "    </tr>\n",
              "  </tbody>\n",
              "</table>\n",
              "<p>100 rows × 2 columns</p>\n",
              "</div>"
            ],
            "text/plain": [
              "         0         1\n",
              "0     83.0  0.015412\n",
              "1     14.0  0.013475\n",
              "2    147.0  0.010639\n",
              "3     58.0  0.009729\n",
              "4     37.0  0.008952\n",
              "..     ...       ...\n",
              "95  1073.0  0.001749\n",
              "96    92.0  0.001747\n",
              "97   189.0  0.001729\n",
              "98   826.0  0.001718\n",
              "99    86.0  0.001709\n",
              "\n",
              "[100 rows x 2 columns]"
            ]
          },
          "metadata": {
            "tags": []
          },
          "execution_count": 21
        }
      ]
    },
    {
      "cell_type": "code",
      "metadata": {
        "id": "mYE03I8bgU-p",
        "colab_type": "code",
        "colab": {}
      },
      "source": [
        " t = lda.id2word"
      ],
      "execution_count": 0,
      "outputs": []
    },
    {
      "cell_type": "code",
      "metadata": {
        "id": "eUF_FWvRJJLi",
        "colab_type": "code",
        "colab": {}
      },
      "source": [
        ""
      ],
      "execution_count": 0,
      "outputs": []
    },
    {
      "cell_type": "code",
      "metadata": {
        "id": "p99woQYjJOqj",
        "colab_type": "code",
        "outputId": "028ca581-6631-481d-aafe-13431bea86c0",
        "colab": {
          "base_uri": "https://localhost:8080/",
          "height": 225
        }
      },
      "source": [
        "temp_df[1]"
      ],
      "execution_count": 0,
      "outputs": [
        {
          "output_type": "execute_result",
          "data": {
            "text/plain": [
              "0     0.038303\n",
              "1     0.022884\n",
              "2     0.020430\n",
              "3     0.015718\n",
              "4     0.013601\n",
              "        ...   \n",
              "95    0.001938\n",
              "96    0.001883\n",
              "97    0.001882\n",
              "98    0.001875\n",
              "99    0.001859\n",
              "Name: 1, Length: 100, dtype: float64"
            ]
          },
          "metadata": {
            "tags": []
          },
          "execution_count": 31
        }
      ]
    },
    {
      "cell_type": "code",
      "metadata": {
        "id": "OxaL_bo-gmqy",
        "colab_type": "code",
        "outputId": "7a826de0-ae50-408a-9283-9b754fd75661",
        "colab": {
          "base_uri": "https://localhost:8080/",
          "height": 1000
        }
      },
      "source": [
        "temp_df = pd.DataFrame(np.array(lda.get_topic_terms(2,topn=100))).sort_values(1,ascending = False)\n",
        "for k in temp_df[0]:\n",
        "   print (t[k])"
      ],
      "execution_count": 0,
      "outputs": [
        {
          "output_type": "stream",
          "text": [
            "good\n",
            "chicken\n",
            "thai\n",
            "noodle\n",
            "chinese\n",
            "soup\n",
            "dish\n",
            "rice\n",
            "service\n",
            "great\n",
            "beef\n",
            "spicy\n",
            "price\n",
            "lunch\n",
            "also\n",
            "best\n",
            "fried_rice\n",
            "meat\n",
            "delicious\n",
            "pork\n",
            "really\n",
            "shrimp\n",
            "try\n",
            "definitely\n",
            "dim_sum\n",
            "favorite\n",
            "buffet\n",
            "back\n",
            "taste\n",
            "bbq\n",
            "indian\n",
            "better\n",
            "korean\n",
            "authentic\n",
            "pretty\n",
            "pad_thai\n",
            "order\n",
            "lot\n",
            "nice\n",
            "time\n",
            "well\n",
            "eat\n",
            "flavor\n",
            "restaurant\n",
            "quality\n",
            "always\n",
            "tasty\n",
            "place\n",
            "portion\n",
            "fried\n",
            "menu\n",
            "excellent\n",
            "lunch_special\n",
            "everything\n",
            "decent\n",
            "asian\n",
            "item\n",
            "dinner\n",
            "clean\n",
            "much\n",
            "little\n",
            "tofu\n",
            "star\n",
            "noodle_soup\n",
            "side\n",
            "sauce\n",
            "fresh\n",
            "amazing\n",
            "hot\n",
            "dumpling\n",
            "person\n",
            "korean_bbq\n",
            "friendly\n",
            "craving\n",
            "thing\n",
            "family\n",
            "vegetable\n",
            "small\n",
            "fast\n",
            "overall\n",
            "seafood\n",
            "even\n",
            "style\n",
            "filipino\n",
            "duck\n",
            "many\n",
            "meal\n",
            "bit\n",
            "spice\n",
            "strip\n",
            "town\n",
            "plate\n",
            "cheap\n",
            "delivery\n",
            "hawaiian\n",
            "quick\n",
            "worth\n",
            "spot\n",
            "still\n",
            "vegetarian\n"
          ],
          "name": "stdout"
        }
      ]
    },
    {
      "cell_type": "code",
      "metadata": {
        "id": "vKXzHjayPT5M",
        "colab_type": "code",
        "colab": {}
      },
      "source": [
        "def get_arr(x):\n",
        "    feature_df = pd.DataFrame(columns=list(range(100)))\n",
        "    k =lda.get_document_topics(dct.doc2bow(x))\n",
        "    if (not k):\n",
        "      p = [0]*100\n",
        "      return p\n",
        "    else:\n",
        "      p = pd.DataFrame(data=np.array(k).T[1:,0:],columns = np.array(k).T[0,0:].astype(int))\n",
        "      feature_df = pd.concat([feature_df,p])\n",
        "      return (feature_df.to_numpy(dtype=float).flatten().tolist())"
      ],
      "execution_count": 0,
      "outputs": []
    },
    {
      "cell_type": "code",
      "metadata": {
        "id": "qzLKstRdP8e7",
        "colab_type": "code",
        "outputId": "55fb385a-1ee0-4d55-a84e-c50c9a8ff5b2",
        "colab": {
          "base_uri": "https://localhost:8080/",
          "height": 104
        }
      },
      "source": [
        "!pip install pandarallel\n",
        "from pandarallel import pandarallel\n",
        "pandarallel.initialize(20)"
      ],
      "execution_count": 0,
      "outputs": [
        {
          "output_type": "stream",
          "text": [
            "Requirement already satisfied: pandarallel in /usr/local/lib/python3.6/dist-packages (1.4.8)\n",
            "Requirement already satisfied: dill in /usr/local/lib/python3.6/dist-packages (from pandarallel) (0.3.1.1)\n",
            "WARNING: `shm_size_mb` is a deprecated argument. It will be removed in `pandarallel 2.0.0`.\n",
            "INFO: Pandarallel will run on 40 workers.\n",
            "INFO: Pandarallel will use Memory file system to transfer data between the main process and workers.\n"
          ],
          "name": "stdout"
        }
      ]
    },
    {
      "cell_type": "code",
      "metadata": {
        "id": "OuY1ll3QO4qz",
        "colab_type": "code",
        "colab": {}
      },
      "source": [
        "result2 = review_dataset.text_list.parallel_apply(lambda x: get_arr(x))"
      ],
      "execution_count": 0,
      "outputs": []
    },
    {
      "cell_type": "code",
      "metadata": {
        "id": "aNNm2zN8QVkw",
        "colab_type": "code",
        "colab": {}
      },
      "source": [
        "review_dataset[list(range(100))] =pd.DataFrame(np.vstack(result2)).fillna(0)"
      ],
      "execution_count": 0,
      "outputs": []
    },
    {
      "cell_type": "code",
      "metadata": {
        "id": "nFZd3boOYaBw",
        "colab_type": "code",
        "colab": {}
      },
      "source": [
        "review_dataset.to_csv('/content/drive/Shared drives/DPA Final Project/review_dataset_features.csv')"
      ],
      "execution_count": 0,
      "outputs": []
    }
  ]
}